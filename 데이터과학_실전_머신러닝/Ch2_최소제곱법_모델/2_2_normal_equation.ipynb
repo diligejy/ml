{
 "cells": [
  {
   "cell_type": "code",
   "execution_count": 1,
   "metadata": {},
   "outputs": [],
   "source": [
    "import numpy as np \n",
    "from sklearn.datasets import load_diabetes \n",
    "from sklearn.model_selection import train_test_split\n",
    "\n",
    "X, y = load_diabetes(return_X_y=True, as_frame=False)\n",
    "\n",
    "X_train, X_test, y_train, y_test = train_test_split(X, y, test_size=0.33, random_state=1234)\n",
    "\n",
    "y_train = y_train.reshape(-1, 1)\n",
    "y_test = y_test.reshape(-1, 1)\n",
    "\n",
    "n_train, n_test = X_train.shape[0], X_test.shape[0]"
   ]
  },
  {
   "cell_type": "code",
   "execution_count": 3,
   "metadata": {},
   "outputs": [],
   "source": [
    "# 절편 추가\n",
    "\n",
    "X_train = np.append(np.ones((n_train, 1)), X_train, axis = 1)"
   ]
  },
  {
   "cell_type": "code",
   "execution_count": 4,
   "metadata": {},
   "outputs": [],
   "source": [
    "# 정규방정식 (X^T X)^-1 X^T y \n",
    "# @는 np.matmul과 같음\n",
    "w = np.linalg.inv(X_train.T @ X_train)@ X_train.T @ y_train "
   ]
  },
  {
   "cell_type": "code",
   "execution_count": 6,
   "metadata": {},
   "outputs": [
    {
     "name": "stdout",
     "output_type": "stream",
     "text": [
      "학습 데이터셋 MAE:  43.549\n",
      "테스트 데이터셋 MAE:  42.618\n"
     ]
    }
   ],
   "source": [
    "y_pred_train = X_train @ w \n",
    "print(f'학습 데이터셋 MAE: {np.abs(y_pred_train - y_train).mean(): .3f}')\n",
    "\n",
    "X_test = np.append(np.ones((n_test, 1)), X_test, axis=1)\n",
    "y_pred = X_test @ w \n",
    "print(f'테스트 데이터셋 MAE: {np.abs(y_pred - y_test).mean(): .3f}')"
   ]
  },
  {
   "cell_type": "code",
   "execution_count": null,
   "metadata": {},
   "outputs": [],
   "source": []
  }
 ],
 "metadata": {
  "kernelspec": {
   "display_name": "base",
   "language": "python",
   "name": "python3"
  },
  "language_info": {
   "codemirror_mode": {
    "name": "ipython",
    "version": 3
   },
   "file_extension": ".py",
   "mimetype": "text/x-python",
   "name": "python",
   "nbconvert_exporter": "python",
   "pygments_lexer": "ipython3",
   "version": "3.9.13"
  },
  "orig_nbformat": 4
 },
 "nbformat": 4,
 "nbformat_minor": 2
}
