{
 "cells": [
  {
   "cell_type": "code",
   "execution_count": 3,
   "metadata": {},
   "outputs": [],
   "source": [
    "import pandas as pd\n",
    "import numpy as np\n",
    "import matplotlib.pyplot as plt\n",
    "from matplotlib import rc, font_manager\n",
    "import seaborn as sns"
   ]
  },
  {
   "cell_type": "markdown",
   "metadata": {},
   "source": [
    "# [1] 표준 선형 회귀"
   ]
  },
  {
   "cell_type": "markdown",
   "metadata": {},
   "source": [
    "## 1) 종속변수 분포 확인 및 로그 변환"
   ]
  },
  {
   "cell_type": "code",
   "execution_count": 4,
   "metadata": {},
   "outputs": [],
   "source": [
    "df = pd.read_csv('../rawdata/Ashopping.csv', engine = 'python')"
   ]
  },
  {
   "cell_type": "code",
   "execution_count": 5,
   "metadata": {},
   "outputs": [],
   "source": [
    "plt.rcParams['font.family'] = 'Malgun Gothic'"
   ]
  },
  {
   "cell_type": "code",
   "execution_count": 6,
   "metadata": {},
   "outputs": [
    {
     "data": {
      "text/plain": [
       "<AxesSubplot:xlabel='평균 구매주기', ylabel='Count'>"
      ]
     },
     "execution_count": 6,
     "metadata": {},
     "output_type": "execute_result"
    },
    {
     "data": {
      "image/png": "[encoded data removed]",
      "text/plain": [
       "<Figure size 432x288 with 1 Axes>"
      ]
     },
     "metadata": {
      "needs_background": "light"
     },
     "output_type": "display_data"
    }
   ],
   "source": [
    "sns.histplot(df['평균 구매주기'])"
   ]
  },
  {
   "cell_type": "code",
   "execution_count": 7,
   "metadata": {},
   "outputs": [
    {
     "name": "stderr",
     "output_type": "stream",
     "text": [
      "C:\\ProgramData\\Anaconda3\\lib\\site-packages\\seaborn\\distributions.py:2551: FutureWarning: `distplot` is a deprecated function and will be removed in a future version. Please adapt your code to use either `displot` (a figure-level function with similar flexibility) or `histplot` (an axes-level function for histograms).\n",
      "  warnings.warn(msg, FutureWarning)\n"
     ]
    },
    {
     "data": {
      "text/plain": [
       "<AxesSubplot:title={'center':'로그 변환 후 평균 구매주기'}, xlabel='평균 구매주기', ylabel='Density'>"
      ]
     },
     "execution_count": 7,
     "metadata": {},
     "output_type": "execute_result"
    },
    {
     "data": {
      "image/png": "[encoded data removed]",
      "text/plain": [
       "<Figure size 432x288 with 1 Axes>"
      ]
     },
     "metadata": {
      "needs_background": "light"
     },
     "output_type": "display_data"
    }
   ],
   "source": [
    "plt.title('로그 변환 후 평균 구매주기')\n",
    "df['평균 구매주기'] = np.log1p(df['평균 구매주기'])\n",
    "sns.distplot(df['평균 구매주기'])"
   ]
  },
  {
   "cell_type": "markdown",
   "metadata": {},
   "source": [
    "## 2) 변수 지정 및 전처리"
   ]
  },
  {
   "cell_type": "code",
   "execution_count": 8,
   "metadata": {},
   "outputs": [],
   "source": [
    "from sklearn.model_selection import train_test_split\n",
    "from sklearn.compose import ColumnTransformer\n",
    "from sklearn.preprocessing import StandardScaler\n",
    "from sklearn.preprocessing import OneHotEncoder\n",
    "\n",
    "# 변수 지정\n",
    "num = ['총매출액', '1회 평균매출액', '할인권 사용 횟수', '총 할인 금액', '구매카테고리수', 'Recency', 'Frequency', 'Monetary']\n",
    "cg = ['구매금액대', '고객등급', '구매유형', '클레임접수여부', '거주지역', '성별', '고객 나이대', '할인민감여부']\n",
    "X = df[df['이탈여부'] == 0][num+cg]\n",
    "Y = df[df['이탈여부'] == 0]['평균 구매주기']"
   ]
  },
  {
   "cell_type": "code",
   "execution_count": 9,
   "metadata": {},
   "outputs": [],
   "source": [
    "# 데이터 분할\n",
    "X_train, X_test, Y_train, Y_test = train_test_split(X, Y, test_size=0.3, random_state=0)"
   ]
  },
  {
   "cell_type": "code",
   "execution_count": 10,
   "metadata": {},
   "outputs": [
    {
     "name": "stdout",
     "output_type": "stream",
     "text": [
      "[[-0.53725651  0.04580948 -1.79440286 ...  0.          0.\n",
      "   1.        ]\n",
      " [-0.66706251 -0.71082683  0.96301741 ...  0.          1.\n",
      "   0.        ]\n",
      " [-0.58369934 -0.62647461 -0.83530016 ...  0.          1.\n",
      "   0.        ]\n",
      " ...\n",
      " [-0.57329751 -0.25822514 -0.83530016 ...  0.          1.\n",
      "   0.        ]\n",
      " [-0.01653812  0.36419142  0.48346606 ...  0.          0.\n",
      "   1.        ]\n",
      " [-0.61557684 -0.78930529  0.96301741 ...  0.          1.\n",
      "   0.        ]]\n"
     ]
    }
   ],
   "source": [
    "# 표준화 및 원핫 인코딩\n",
    "ct = ColumnTransformer([('scaling', StandardScaler(), num), ('onehot', OneHotEncoder(sparse=False), cg)])\n",
    "ct.fit(X_train)\n",
    "X_train = ct.transform(X_train)\n",
    "X_test = ct.transform(X_test)\n",
    "print(X_test)"
   ]
  },
  {
   "cell_type": "markdown",
   "metadata": {},
   "source": [
    "### 3) 모형 학습 및 예측"
   ]
  },
  {
   "cell_type": "code",
   "execution_count": 11,
   "metadata": {},
   "outputs": [],
   "source": [
    "from sklearn.linear_model import LinearRegression"
   ]
  },
  {
   "cell_type": "code",
   "execution_count": 12,
   "metadata": {},
   "outputs": [],
   "source": [
    "lr = LinearRegression().fit(X_train, Y_train)"
   ]
  },
  {
   "cell_type": "code",
   "execution_count": 14,
   "metadata": {},
   "outputs": [
    {
     "name": "stdout",
     "output_type": "stream",
     "text": [
      "평가용 데이터 세트에 대한 예측값\n",
      " [6.13427734 5.34570312 5.32861328 6.48486328 4.86376953 5.97412109\n",
      " 4.46679688 3.81494141 5.14892578 5.74462891 5.58691406 3.38378906\n",
      " 4.33447266 5.32763672 5.76416016 4.95117188 5.31787109 5.72412109\n",
      " 5.42919922 5.34375    5.63818359 5.16455078 5.59130859 5.17822266\n",
      " 4.60107422 5.50244141 5.73095703 4.13134766 4.53173828 5.38818359\n",
      " 5.48828125 5.60546875 5.15087891 5.81396484 5.49560547 5.47119141\n",
      " 5.14599609 5.68701172 5.36572266 6.51806641 5.32666016 4.26025391\n",
      " 4.72412109 4.27783203 4.91943359 6.02685547 4.82470703 5.39160156\n",
      " 5.42724609 5.96728516 5.57958984 6.25585938 4.77978516 4.75634766\n",
      " 5.37207031 5.24365234 5.10253906 5.60498047 4.14404297 5.00097656\n",
      " 5.22851562 4.90576172 4.34814453 5.68505859 4.62646484 5.59179688\n",
      " 5.59619141 4.88378906 5.52978516 3.26318359 5.50244141 4.97167969\n",
      " 5.17041016 4.91845703 4.03271484 5.75732422 5.78027344 5.42333984\n",
      " 4.00048828 4.99121094 4.93212891 5.56738281 5.39501953 4.57177734\n",
      " 5.60644531 5.09716797 5.13085938 5.42871094 4.02148438 5.63183594\n",
      " 5.39599609 5.42919922 5.07861328 5.26806641 4.75683594 6.25732422\n",
      " 5.70556641 4.64404297 5.61865234 3.72314453 4.29980469 5.18261719\n",
      " 5.59326172 5.42138672 5.54101562 4.64404297 5.43896484 5.31054688\n",
      " 5.46044922 4.55664062 5.70507812 5.38037109 5.73242188 5.92822266\n",
      " 5.51660156 4.58496094 4.96337891 5.28466797 4.72998047 4.87255859\n",
      " 5.171875   5.5234375  5.32666016 4.91113281 5.21484375 5.52734375\n",
      " 4.91748047 4.05273438 5.17871094 4.67089844 3.42041016 5.17919922\n",
      " 5.92724609 5.31298828 5.37158203 5.23486328 4.40185547 5.51318359\n",
      " 4.94580078 4.89648438 5.578125   5.89794922 5.17236328 5.35107422\n",
      " 4.69726562 5.74560547 5.48291016 5.88818359 3.73486328 5.31884766\n",
      " 4.55029297 4.92138672 5.22607422 4.68505859 6.22363281 5.0234375\n",
      " 3.50048828 7.20019531 5.18798828 5.40185547 5.34716797 5.76123047\n",
      " 6.04638672 4.43505859 4.88769531 5.33056641 5.66455078 4.85302734\n",
      " 5.58154297 5.19140625 3.06201172 5.45654297 4.77832031 6.07421875\n",
      " 4.30712891 5.29833984 7.40136719 4.40087891 5.63232422 4.43505859\n",
      " 7.39746094 6.13232422 5.97460938 5.67529297 5.50927734 5.35986328\n",
      " 5.42236328 5.50439453 4.25244141 5.47021484 5.68994141 5.21240234\n",
      " 6.04541016 3.71972656 5.24511719 5.45410156 5.48974609 4.54541016\n",
      " 5.35888672 4.34033203 6.43994141 3.80517578 5.33007812 5.38769531\n",
      " 5.25048828 4.52294922 5.08935547 5.66162109 5.69189453 5.07226562]\n"
     ]
    }
   ],
   "source": [
    "# 모형 예측\n",
    "Y_pred = lr.predict(X_test)\n",
    "print('평가용 데이터 세트에 대한 예측값\\n', Y_pred)"
   ]
  },
  {
   "cell_type": "markdown",
   "metadata": {},
   "source": [
    "### 4) 모형 평가"
   ]
  },
  {
   "cell_type": "code",
   "execution_count": 15,
   "metadata": {},
   "outputs": [
    {
     "name": "stdout",
     "output_type": "stream",
     "text": [
      "학습용 데이터 세트 결정계수: 0.742\n",
      "평가용 데이터 세트 결정계수: 0.726\n"
     ]
    }
   ],
   "source": [
    "# 결정계수 평가\n",
    "print('학습용 데이터 세트 결정계수: {:.3f}'.format(lr.score(X_train, Y_train)))\n",
    "print('평가용 데이터 세트 결정계수: {:.3f}'.format(lr.score(X_test, Y_test)))"
   ]
  },
  {
   "cell_type": "code",
   "execution_count": 16,
   "metadata": {},
   "outputs": [
    {
     "name": "stdout",
     "output_type": "stream",
     "text": [
      "RMSE: 0.384\n"
     ]
    }
   ],
   "source": [
    "# RMSE\n",
    "from sklearn.metrics import mean_squared_error\n",
    "from math import sqrt\n",
    "\n",
    "rmse = sqrt(mean_squared_error(Y_test, Y_pred))\n",
    "print('RMSE: {:.3f}'.format(rmse))"
   ]
  },
  {
   "cell_type": "markdown",
   "metadata": {},
   "source": [
    "### 5) 절편 및 가중치 출력"
   ]
  },
  {
   "cell_type": "code",
   "execution_count": 17,
   "metadata": {},
   "outputs": [
    {
     "name": "stdout",
     "output_type": "stream",
     "text": [
      "절편: -3837995730865.842\n"
     ]
    }
   ],
   "source": [
    "print('절편:', np.round(lr.intercept_, 3))"
   ]
  },
  {
   "cell_type": "code",
   "execution_count": 18,
   "metadata": {},
   "outputs": [
    {
     "name": "stdout",
     "output_type": "stream",
     "text": [
      "가중치: [-1.64000000e-01  3.86000000e-01 -1.50000000e-02 -8.00000000e-03\n",
      "  5.40000000e-02 -9.00000000e-03 -3.06000000e-01  1.30000000e-02\n",
      "  1.06710460e+12  1.06710460e+12  1.06710460e+12  8.82074325e+10\n",
      "  8.82074325e+10  9.41335214e+11  9.41335214e+11  9.41335214e+11\n",
      "  9.41335214e+11  6.94058294e+11  6.94058294e+11  7.46089318e+11\n",
      "  7.46089318e+11  7.46089318e+11  7.46089318e+11  7.46089318e+11\n",
      "  7.46089318e+11  7.46089318e+11 -9.57819542e+10 -9.57819542e+10\n",
      "  1.02822474e+11  1.02822474e+11  1.02822474e+11  1.02822474e+11\n",
      "  1.02822474e+11  1.02822474e+11  2.94160354e+11  2.94160354e+11]\n"
     ]
    }
   ],
   "source": [
    "print('가중치:', np.round(lr.coef_, 3))"
   ]
  },
  {
   "cell_type": "markdown",
   "metadata": {},
   "source": [
    "## [2] 릿지 선형 회귀모형"
   ]
  },
  {
   "cell_type": "markdown",
   "metadata": {},
   "source": [
    "### 1) 모형 학습 및 예측"
   ]
  },
  {
   "cell_type": "code",
   "execution_count": 19,
   "metadata": {},
   "outputs": [
    {
     "name": "stdout",
     "output_type": "stream",
     "text": [
      "평가용 데이터 세트에 대한 예측값\n",
      " [6.13503174 5.35122868 5.3348788  6.48808354 4.86546971 5.97985706\n",
      " 4.47093419 3.82226064 5.15240472 5.74497716 5.5890913  3.36695845\n",
      " 4.33827463 5.32562703 5.7681992  4.9500171  5.31215907 5.71774994\n",
      " 5.43204398 5.23252744 5.63545283 5.15950252 5.59772127 5.17306471\n",
      " 4.60781568 5.50059069 5.73311864 4.13965277 4.53229514 5.38740546\n",
      " 5.48563923 5.59746635 5.14742521 5.81249319 5.50218793 5.47445221\n",
      " 5.15624358 5.68405625 5.3613745  6.5231375  5.32735496 4.27044768\n",
      " 4.7258389  4.28608802 4.91887257 6.02842429 4.83198226 5.38907175\n",
      " 5.42221914 5.96313468 5.57875414 6.25284098 4.77962028 4.75905506\n",
      " 5.36542399 5.24613873 5.10468003 5.60449406 4.1587125  4.9981494\n",
      " 5.22082494 4.90776094 4.34980286 5.68680208 4.62471399 5.58577228\n",
      " 5.59217393 4.88246197 5.53965379 3.2733976  5.50197961 4.97205304\n",
      " 5.1710552  4.92826425 4.03720676 5.76231538 5.78279785 5.42317097\n",
      " 4.00829467 5.00283367 4.93457925 5.56371633 5.40395771 4.56753535\n",
      " 5.6055676  5.09546666 5.12637565 5.42836816 4.02778859 5.6301685\n",
      " 5.39322428 5.43688177 5.07749492 5.27714656 4.76864461 6.26190345\n",
      " 5.70300732 4.64244448 5.61659327 3.72746454 4.31165156 5.17677933\n",
      " 5.59171963 5.42143124 5.54604272 4.64632641 5.41429668 5.30881323\n",
      " 5.4572897  4.55860056 5.70700676 5.38111362 5.72725985 5.9264962\n",
      " 5.51707742 4.59204703 4.96202513 5.28400078 4.73687027 4.87100111\n",
      " 5.17262466 5.51928135 5.32094769 4.90954129 5.21555572 5.52442562\n",
      " 4.92019468 4.05805802 5.17894335 4.68418801 3.42656095 5.17666391\n",
      " 5.9194946  5.3146291  5.36992884 5.23470061 4.40164632 5.51324134\n",
      " 4.9525605  4.90749547 5.57870704 5.87460524 5.17836036 5.35164179\n",
      " 4.69162267 5.74727471 5.47862106 5.88946093 3.72585257 5.31837563\n",
      " 4.5488038  4.9245473  5.23267127 4.68889146 6.22410932 5.02383153\n",
      " 3.50100784 7.19556638 5.20065199 5.39438812 5.34922572 5.76216821\n",
      " 6.0414825  4.43373826 4.88629938 5.33140624 5.66126794 4.85464305\n",
      " 5.57636801 5.1658069  3.07904596 5.45225554 4.78004011 6.07127226\n",
      " 4.31488008 5.29547937 7.39623967 4.40610878 5.62916949 4.43374353\n",
      " 7.3981861  6.13470282 5.97066436 5.67459563 5.51098761 5.35643316\n",
      " 5.41937946 5.50106778 4.26100039 5.46746262 5.68904637 5.20834598\n",
      " 6.03899141 3.72015432 5.24597364 5.45066728 5.495362   4.54319159\n",
      " 5.35891286 4.3440162  6.43849275 3.80240281 5.33427433 5.38575421\n",
      " 5.24613479 4.52352857 5.0917006  5.65989683 5.68905068 5.07491017]\n"
     ]
    }
   ],
   "source": [
    "from sklearn.linear_model import Ridge\n",
    "\n",
    "Rr = Ridge(random_state=0).fit(X_train, Y_train)\n",
    "Y_pred = Rr.predict(X_test)\n",
    "\n",
    "print('평가용 데이터 세트에 대한 예측값\\n', Y_pred)"
   ]
  },
  {
   "cell_type": "markdown",
   "metadata": {},
   "source": [
    "### 2) 모형 평가"
   ]
  },
  {
   "cell_type": "code",
   "execution_count": 20,
   "metadata": {},
   "outputs": [
    {
     "name": "stdout",
     "output_type": "stream",
     "text": [
      "학습용 데이터 세트 결정계수: 0.742\n",
      "평가용 데이터 세트 결정계수: 0.728\n"
     ]
    }
   ],
   "source": [
    "# 결정계수 평가\n",
    "print('학습용 데이터 세트 결정계수: {:.3f}'.format(Rr.score(X_train, Y_train)))\n",
    "print('평가용 데이터 세트 결정계수: {:.3f}'.format(Rr.score(X_test, Y_test)))"
   ]
  },
  {
   "cell_type": "code",
   "execution_count": 21,
   "metadata": {},
   "outputs": [
    {
     "name": "stdout",
     "output_type": "stream",
     "text": [
      "RMSE: 0.382\n"
     ]
    }
   ],
   "source": [
    "# RMSE 평가\n",
    "rmse = sqrt(mean_squared_error(Y_test, Y_pred))\n",
    "print('RMSE: {:.3f}'.format(rmse))"
   ]
  },
  {
   "cell_type": "markdown",
   "metadata": {},
   "source": [
    "### 3) 절편 및 가중치 출력"
   ]
  },
  {
   "cell_type": "code",
   "execution_count": 22,
   "metadata": {},
   "outputs": [
    {
     "name": "stdout",
     "output_type": "stream",
     "text": [
      "절편: 5.186\n",
      "가중치: [-0.167  0.386 -0.014 -0.009  0.052 -0.009 -0.304  0.013  0.318  0.021\n",
      " -0.339  0.016 -0.016  0.034  0.028  0.013 -0.075 -0.071  0.071  0.334\n",
      " -0.069 -0.042 -0.16  -0.011 -0.067  0.014 -0.057  0.057 -0.364  0.001\n",
      "  0.055  0.048  0.059  0.201 -0.109  0.109]\n"
     ]
    }
   ],
   "source": [
    "print('절편:', np.round(Rr.intercept_, 3))\n",
    "print('가중치:', np.round(Rr.coef_, 3))"
   ]
  },
  {
   "cell_type": "code",
   "execution_count": null,
   "metadata": {},
   "outputs": [],
   "source": []
  },
  {
   "cell_type": "code",
   "execution_count": null,
   "metadata": {},
   "outputs": [],
   "source": []
  },
  {
   "cell_type": "code",
   "execution_count": null,
   "metadata": {},
   "outputs": [],
   "source": []
  },
  {
   "cell_type": "code",
   "execution_count": null,
   "metadata": {},
   "outputs": [],
   "source": []
  },
  {
   "cell_type": "code",
   "execution_count": null,
   "metadata": {},
   "outputs": [],
   "source": []
  },
  {
   "cell_type": "code",
   "execution_count": null,
   "metadata": {},
   "outputs": [],
   "source": []
  }
 ],
 "metadata": {
  "kernelspec": {
   "display_name": "Python 3",
   "language": "python",
   "name": "python3"
  },
  "language_info": {
   "codemirror_mode": {
    "name": "ipython",
    "version": 3
   },
   "file_extension": ".py",
   "mimetype": "text/x-python",
   "name": "python",
   "nbconvert_exporter": "python",
   "pygments_lexer": "ipython3",
   "version": "3.8.5"
  }
 },
 "nbformat": 4,
 "nbformat_minor": 4
}
