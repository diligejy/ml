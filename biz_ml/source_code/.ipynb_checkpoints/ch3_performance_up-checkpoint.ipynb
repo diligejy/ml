{
 "cells": [
  {
   "cell_type": "code",
   "execution_count": 34,
   "metadata": {},
   "outputs": [],
   "source": [
    "import pandas as pd\n",
    "import numpy as np\n",
    "import matplotlib.pyplot as plt\n",
    "from sklearn.model_selection import train_test_split\n",
    "from sklearn.neighbors import KNeighborsRegressor\n",
    "from sklearn.model_selection import cross_val_score\n",
    "%matplotlib inline"
   ]
  },
  {
   "cell_type": "code",
   "execution_count": 35,
   "metadata": {},
   "outputs": [],
   "source": [
    "df = pd.read_csv('../rawdata/Ashopping.csv', engine='python')"
   ]
  },
  {
   "cell_type": "code",
   "execution_count": 36,
   "metadata": {},
   "outputs": [
    {
     "data": {
      "text/plain": [
       "Index(['고객ID', '이탈여부', '총매출액', '구매금액대', '방문빈도', '1회 평균매출액', '할인권 사용 횟수',\n",
       "       '총 할인 금액', '고객등급', '구매유형', '클레임접수여부', '구매카테고리수', '거주지역', '성별', '고객 나이대',\n",
       "       '거래기간', '할인민감여부', 'Recency', 'Frequency', 'Monetary', '평균 구매주기'],\n",
       "      dtype='object')"
      ]
     },
     "execution_count": 36,
     "metadata": {},
     "output_type": "execute_result"
    }
   ],
   "source": [
    "df.columns"
   ]
  },
  {
   "cell_type": "code",
   "execution_count": 37,
   "metadata": {},
   "outputs": [
    {
     "data": {
      "text/html": [
       "<div>\n",
       "<style scoped>\n",
       "    .dataframe tbody tr th:only-of-type {\n",
       "        vertical-align: middle;\n",
       "    }\n",
       "\n",
       "    .dataframe tbody tr th {\n",
       "        vertical-align: top;\n",
       "    }\n",
       "\n",
       "    .dataframe thead th {\n",
       "        text-align: right;\n",
       "    }\n",
       "</style>\n",
       "<table border=\"1\" class=\"dataframe\">\n",
       "  <thead>\n",
       "    <tr style=\"text-align: right;\">\n",
       "      <th></th>\n",
       "      <th>고객ID</th>\n",
       "      <th>이탈여부</th>\n",
       "      <th>총매출액</th>\n",
       "      <th>구매금액대</th>\n",
       "      <th>방문빈도</th>\n",
       "      <th>1회 평균매출액</th>\n",
       "      <th>할인권 사용 횟수</th>\n",
       "      <th>총 할인 금액</th>\n",
       "      <th>고객등급</th>\n",
       "      <th>구매유형</th>\n",
       "      <th>...</th>\n",
       "      <th>구매카테고리수</th>\n",
       "      <th>거주지역</th>\n",
       "      <th>성별</th>\n",
       "      <th>고객 나이대</th>\n",
       "      <th>거래기간</th>\n",
       "      <th>할인민감여부</th>\n",
       "      <th>Recency</th>\n",
       "      <th>Frequency</th>\n",
       "      <th>Monetary</th>\n",
       "      <th>평균 구매주기</th>\n",
       "    </tr>\n",
       "  </thead>\n",
       "  <tbody>\n",
       "    <tr>\n",
       "      <th>count</th>\n",
       "      <td>1000.000000</td>\n",
       "      <td>1000.000000</td>\n",
       "      <td>1.000000e+03</td>\n",
       "      <td>1000.000000</td>\n",
       "      <td>1000.00000</td>\n",
       "      <td>1.000000e+03</td>\n",
       "      <td>1000.000000</td>\n",
       "      <td>1000.000000</td>\n",
       "      <td>1000.000000</td>\n",
       "      <td>1000.000000</td>\n",
       "      <td>...</td>\n",
       "      <td>1000.000000</td>\n",
       "      <td>1000.000000</td>\n",
       "      <td>1000.000000</td>\n",
       "      <td>1000.000000</td>\n",
       "      <td>1000.000000</td>\n",
       "      <td>1000.000000</td>\n",
       "      <td>1000.000000</td>\n",
       "      <td>1000.000000</td>\n",
       "      <td>1000.000000</td>\n",
       "      <td>1000.000000</td>\n",
       "    </tr>\n",
       "    <tr>\n",
       "      <th>mean</th>\n",
       "      <td>500.500000</td>\n",
       "      <td>0.300000</td>\n",
       "      <td>5.858013e+06</td>\n",
       "      <td>0.700000</td>\n",
       "      <td>22.91100</td>\n",
       "      <td>3.521024e+05</td>\n",
       "      <td>16.027000</td>\n",
       "      <td>292371.670000</td>\n",
       "      <td>1.546000</td>\n",
       "      <td>2.656000</td>\n",
       "      <td>...</td>\n",
       "      <td>5.217000</td>\n",
       "      <td>5.147000</td>\n",
       "      <td>0.189000</td>\n",
       "      <td>3.964000</td>\n",
       "      <td>3495.891000</td>\n",
       "      <td>0.400000</td>\n",
       "      <td>4.925000</td>\n",
       "      <td>2.289000</td>\n",
       "      <td>4.129000</td>\n",
       "      <td>266.880824</td>\n",
       "    </tr>\n",
       "    <tr>\n",
       "      <th>std</th>\n",
       "      <td>288.819436</td>\n",
       "      <td>0.458487</td>\n",
       "      <td>5.812815e+06</td>\n",
       "      <td>0.781416</td>\n",
       "      <td>19.08217</td>\n",
       "      <td>3.124636e+05</td>\n",
       "      <td>8.341334</td>\n",
       "      <td>111937.501042</td>\n",
       "      <td>0.498129</td>\n",
       "      <td>1.046307</td>\n",
       "      <td>...</td>\n",
       "      <td>2.224153</td>\n",
       "      <td>1.169084</td>\n",
       "      <td>0.391705</td>\n",
       "      <td>1.078827</td>\n",
       "      <td>965.966194</td>\n",
       "      <td>0.490143</td>\n",
       "      <td>1.744253</td>\n",
       "      <td>1.669811</td>\n",
       "      <td>1.560383</td>\n",
       "      <td>254.077398</td>\n",
       "    </tr>\n",
       "    <tr>\n",
       "      <th>min</th>\n",
       "      <td>1.000000</td>\n",
       "      <td>0.000000</td>\n",
       "      <td>1.886100e+06</td>\n",
       "      <td>0.000000</td>\n",
       "      <td>1.00000</td>\n",
       "      <td>2.708200e+04</td>\n",
       "      <td>1.000000</td>\n",
       "      <td>3750.000000</td>\n",
       "      <td>1.000000</td>\n",
       "      <td>1.000000</td>\n",
       "      <td>...</td>\n",
       "      <td>1.000000</td>\n",
       "      <td>1.000000</td>\n",
       "      <td>0.000000</td>\n",
       "      <td>2.000000</td>\n",
       "      <td>827.000000</td>\n",
       "      <td>0.000000</td>\n",
       "      <td>1.000000</td>\n",
       "      <td>1.000000</td>\n",
       "      <td>1.000000</td>\n",
       "      <td>13.980645</td>\n",
       "    </tr>\n",
       "    <tr>\n",
       "      <th>25%</th>\n",
       "      <td>250.750000</td>\n",
       "      <td>0.000000</td>\n",
       "      <td>2.815905e+06</td>\n",
       "      <td>0.000000</td>\n",
       "      <td>10.75000</td>\n",
       "      <td>1.631242e+05</td>\n",
       "      <td>9.000000</td>\n",
       "      <td>261686.250000</td>\n",
       "      <td>1.000000</td>\n",
       "      <td>2.000000</td>\n",
       "      <td>...</td>\n",
       "      <td>3.000000</td>\n",
       "      <td>4.000000</td>\n",
       "      <td>0.000000</td>\n",
       "      <td>3.000000</td>\n",
       "      <td>2871.000000</td>\n",
       "      <td>0.000000</td>\n",
       "      <td>4.000000</td>\n",
       "      <td>1.000000</td>\n",
       "      <td>3.000000</td>\n",
       "      <td>111.957671</td>\n",
       "    </tr>\n",
       "    <tr>\n",
       "      <th>50%</th>\n",
       "      <td>500.500000</td>\n",
       "      <td>0.000000</td>\n",
       "      <td>4.092145e+06</td>\n",
       "      <td>0.500000</td>\n",
       "      <td>18.00000</td>\n",
       "      <td>2.582080e+05</td>\n",
       "      <td>17.000000</td>\n",
       "      <td>347500.000000</td>\n",
       "      <td>2.000000</td>\n",
       "      <td>2.000000</td>\n",
       "      <td>...</td>\n",
       "      <td>5.000000</td>\n",
       "      <td>5.000000</td>\n",
       "      <td>0.000000</td>\n",
       "      <td>4.000000</td>\n",
       "      <td>3836.000000</td>\n",
       "      <td>0.000000</td>\n",
       "      <td>5.000000</td>\n",
       "      <td>2.000000</td>\n",
       "      <td>4.000000</td>\n",
       "      <td>191.469697</td>\n",
       "    </tr>\n",
       "    <tr>\n",
       "      <th>75%</th>\n",
       "      <td>750.250000</td>\n",
       "      <td>1.000000</td>\n",
       "      <td>6.545392e+06</td>\n",
       "      <td>1.000000</td>\n",
       "      <td>28.00000</td>\n",
       "      <td>4.268310e+05</td>\n",
       "      <td>23.000000</td>\n",
       "      <td>365400.000000</td>\n",
       "      <td>2.000000</td>\n",
       "      <td>4.000000</td>\n",
       "      <td>...</td>\n",
       "      <td>7.000000</td>\n",
       "      <td>6.000000</td>\n",
       "      <td>0.000000</td>\n",
       "      <td>5.000000</td>\n",
       "      <td>4207.250000</td>\n",
       "      <td>1.000000</td>\n",
       "      <td>7.000000</td>\n",
       "      <td>3.000000</td>\n",
       "      <td>6.000000</td>\n",
       "      <td>324.386218</td>\n",
       "    </tr>\n",
       "    <tr>\n",
       "      <th>max</th>\n",
       "      <td>1000.000000</td>\n",
       "      <td>1.000000</td>\n",
       "      <td>6.759576e+07</td>\n",
       "      <td>2.000000</td>\n",
       "      <td>155.00000</td>\n",
       "      <td>2.798500e+06</td>\n",
       "      <td>30.000000</td>\n",
       "      <td>400600.000000</td>\n",
       "      <td>2.000000</td>\n",
       "      <td>4.000000</td>\n",
       "      <td>...</td>\n",
       "      <td>9.000000</td>\n",
       "      <td>7.000000</td>\n",
       "      <td>1.000000</td>\n",
       "      <td>7.000000</td>\n",
       "      <td>5334.000000</td>\n",
       "      <td>1.000000</td>\n",
       "      <td>7.000000</td>\n",
       "      <td>7.000000</td>\n",
       "      <td>7.000000</td>\n",
       "      <td>1956.000000</td>\n",
       "    </tr>\n",
       "  </tbody>\n",
       "</table>\n",
       "<p>8 rows × 21 columns</p>\n",
       "</div>"
      ],
      "text/plain": [
       "              고객ID         이탈여부          총매출액        구매금액대        방문빈도  \\\n",
       "count  1000.000000  1000.000000  1.000000e+03  1000.000000  1000.00000   \n",
       "mean    500.500000     0.300000  5.858013e+06     0.700000    22.91100   \n",
       "std     288.819436     0.458487  5.812815e+06     0.781416    19.08217   \n",
       "min       1.000000     0.000000  1.886100e+06     0.000000     1.00000   \n",
       "25%     250.750000     0.000000  2.815905e+06     0.000000    10.75000   \n",
       "50%     500.500000     0.000000  4.092145e+06     0.500000    18.00000   \n",
       "75%     750.250000     1.000000  6.545392e+06     1.000000    28.00000   \n",
       "max    1000.000000     1.000000  6.759576e+07     2.000000   155.00000   \n",
       "\n",
       "           1회 평균매출액    할인권 사용 횟수        총 할인 금액         고객등급         구매유형  \\\n",
       "count  1.000000e+03  1000.000000    1000.000000  1000.000000  1000.000000   \n",
       "mean   3.521024e+05    16.027000  292371.670000     1.546000     2.656000   \n",
       "std    3.124636e+05     8.341334  111937.501042     0.498129     1.046307   \n",
       "min    2.708200e+04     1.000000    3750.000000     1.000000     1.000000   \n",
       "25%    1.631242e+05     9.000000  261686.250000     1.000000     2.000000   \n",
       "50%    2.582080e+05    17.000000  347500.000000     2.000000     2.000000   \n",
       "75%    4.268310e+05    23.000000  365400.000000     2.000000     4.000000   \n",
       "max    2.798500e+06    30.000000  400600.000000     2.000000     4.000000   \n",
       "\n",
       "       ...      구매카테고리수         거주지역           성별       고객 나이대         거래기간  \\\n",
       "count  ...  1000.000000  1000.000000  1000.000000  1000.000000  1000.000000   \n",
       "mean   ...     5.217000     5.147000     0.189000     3.964000  3495.891000   \n",
       "std    ...     2.224153     1.169084     0.391705     1.078827   965.966194   \n",
       "min    ...     1.000000     1.000000     0.000000     2.000000   827.000000   \n",
       "25%    ...     3.000000     4.000000     0.000000     3.000000  2871.000000   \n",
       "50%    ...     5.000000     5.000000     0.000000     4.000000  3836.000000   \n",
       "75%    ...     7.000000     6.000000     0.000000     5.000000  4207.250000   \n",
       "max    ...     9.000000     7.000000     1.000000     7.000000  5334.000000   \n",
       "\n",
       "            할인민감여부      Recency    Frequency     Monetary      평균 구매주기  \n",
       "count  1000.000000  1000.000000  1000.000000  1000.000000  1000.000000  \n",
       "mean      0.400000     4.925000     2.289000     4.129000   266.880824  \n",
       "std       0.490143     1.744253     1.669811     1.560383   254.077398  \n",
       "min       0.000000     1.000000     1.000000     1.000000    13.980645  \n",
       "25%       0.000000     4.000000     1.000000     3.000000   111.957671  \n",
       "50%       0.000000     5.000000     2.000000     4.000000   191.469697  \n",
       "75%       1.000000     7.000000     3.000000     6.000000   324.386218  \n",
       "max       1.000000     7.000000     7.000000     7.000000  1956.000000  \n",
       "\n",
       "[8 rows x 21 columns]"
      ]
     },
     "execution_count": 37,
     "metadata": {},
     "output_type": "execute_result"
    }
   ],
   "source": [
    "df.describe()"
   ]
  },
  {
   "cell_type": "code",
   "execution_count": 38,
   "metadata": {},
   "outputs": [
    {
     "data": {
      "text/html": [
       "<div>\n",
       "<style scoped>\n",
       "    .dataframe tbody tr th:only-of-type {\n",
       "        vertical-align: middle;\n",
       "    }\n",
       "\n",
       "    .dataframe tbody tr th {\n",
       "        vertical-align: top;\n",
       "    }\n",
       "\n",
       "    .dataframe thead th {\n",
       "        text-align: right;\n",
       "    }\n",
       "</style>\n",
       "<table border=\"1\" class=\"dataframe\">\n",
       "  <thead>\n",
       "    <tr style=\"text-align: right;\">\n",
       "      <th></th>\n",
       "      <th>고객ID</th>\n",
       "      <th>이탈여부</th>\n",
       "      <th>총매출액</th>\n",
       "      <th>구매금액대</th>\n",
       "      <th>방문빈도</th>\n",
       "      <th>1회 평균매출액</th>\n",
       "      <th>할인권 사용 횟수</th>\n",
       "      <th>총 할인 금액</th>\n",
       "      <th>고객등급</th>\n",
       "      <th>구매유형</th>\n",
       "      <th>...</th>\n",
       "      <th>구매카테고리수</th>\n",
       "      <th>거주지역</th>\n",
       "      <th>성별</th>\n",
       "      <th>고객 나이대</th>\n",
       "      <th>거래기간</th>\n",
       "      <th>할인민감여부</th>\n",
       "      <th>Recency</th>\n",
       "      <th>Frequency</th>\n",
       "      <th>Monetary</th>\n",
       "      <th>평균 구매주기</th>\n",
       "    </tr>\n",
       "  </thead>\n",
       "  <tbody>\n",
       "    <tr>\n",
       "      <th>0</th>\n",
       "      <td>1</td>\n",
       "      <td>1</td>\n",
       "      <td>4963160</td>\n",
       "      <td>1</td>\n",
       "      <td>22</td>\n",
       "      <td>225598</td>\n",
       "      <td>1</td>\n",
       "      <td>5445</td>\n",
       "      <td>1</td>\n",
       "      <td>3</td>\n",
       "      <td>...</td>\n",
       "      <td>7</td>\n",
       "      <td>6</td>\n",
       "      <td>1</td>\n",
       "      <td>6</td>\n",
       "      <td>3303</td>\n",
       "      <td>0</td>\n",
       "      <td>3</td>\n",
       "      <td>2</td>\n",
       "      <td>1</td>\n",
       "      <td>149.136364</td>\n",
       "    </tr>\n",
       "    <tr>\n",
       "      <th>1</th>\n",
       "      <td>2</td>\n",
       "      <td>1</td>\n",
       "      <td>2271520</td>\n",
       "      <td>0</td>\n",
       "      <td>38</td>\n",
       "      <td>59777</td>\n",
       "      <td>22</td>\n",
       "      <td>350995</td>\n",
       "      <td>1</td>\n",
       "      <td>1</td>\n",
       "      <td>...</td>\n",
       "      <td>5</td>\n",
       "      <td>4</td>\n",
       "      <td>0</td>\n",
       "      <td>2</td>\n",
       "      <td>3129</td>\n",
       "      <td>0</td>\n",
       "      <td>5</td>\n",
       "      <td>3</td>\n",
       "      <td>4</td>\n",
       "      <td>81.342105</td>\n",
       "    </tr>\n",
       "    <tr>\n",
       "      <th>2</th>\n",
       "      <td>3</td>\n",
       "      <td>1</td>\n",
       "      <td>2484250</td>\n",
       "      <td>0</td>\n",
       "      <td>2</td>\n",
       "      <td>1242125</td>\n",
       "      <td>6</td>\n",
       "      <td>186045</td>\n",
       "      <td>1</td>\n",
       "      <td>2</td>\n",
       "      <td>...</td>\n",
       "      <td>4</td>\n",
       "      <td>6</td>\n",
       "      <td>0</td>\n",
       "      <td>3</td>\n",
       "      <td>3636</td>\n",
       "      <td>0</td>\n",
       "      <td>4</td>\n",
       "      <td>1</td>\n",
       "      <td>4</td>\n",
       "      <td>1817.000000</td>\n",
       "    </tr>\n",
       "    <tr>\n",
       "      <th>3</th>\n",
       "      <td>4</td>\n",
       "      <td>1</td>\n",
       "      <td>2778850</td>\n",
       "      <td>0</td>\n",
       "      <td>9</td>\n",
       "      <td>308761</td>\n",
       "      <td>1</td>\n",
       "      <td>5195</td>\n",
       "      <td>2</td>\n",
       "      <td>4</td>\n",
       "      <td>...</td>\n",
       "      <td>4</td>\n",
       "      <td>5</td>\n",
       "      <td>0</td>\n",
       "      <td>4</td>\n",
       "      <td>3637</td>\n",
       "      <td>0</td>\n",
       "      <td>7</td>\n",
       "      <td>4</td>\n",
       "      <td>6</td>\n",
       "      <td>403.111111</td>\n",
       "    </tr>\n",
       "    <tr>\n",
       "      <th>4</th>\n",
       "      <td>5</td>\n",
       "      <td>1</td>\n",
       "      <td>4437610</td>\n",
       "      <td>1</td>\n",
       "      <td>10</td>\n",
       "      <td>443761</td>\n",
       "      <td>9</td>\n",
       "      <td>246350</td>\n",
       "      <td>2</td>\n",
       "      <td>4</td>\n",
       "      <td>...</td>\n",
       "      <td>6</td>\n",
       "      <td>6</td>\n",
       "      <td>0</td>\n",
       "      <td>4</td>\n",
       "      <td>3638</td>\n",
       "      <td>0</td>\n",
       "      <td>5</td>\n",
       "      <td>1</td>\n",
       "      <td>4</td>\n",
       "      <td>362.800000</td>\n",
       "    </tr>\n",
       "  </tbody>\n",
       "</table>\n",
       "<p>5 rows × 21 columns</p>\n",
       "</div>"
      ],
      "text/plain": [
       "   고객ID  이탈여부     총매출액  구매금액대  방문빈도  1회 평균매출액  할인권 사용 횟수  총 할인 금액  고객등급  구매유형  \\\n",
       "0     1     1  4963160      1    22    225598          1     5445     1     3   \n",
       "1     2     1  2271520      0    38     59777         22   350995     1     1   \n",
       "2     3     1  2484250      0     2   1242125          6   186045     1     2   \n",
       "3     4     1  2778850      0     9    308761          1     5195     2     4   \n",
       "4     5     1  4437610      1    10    443761          9   246350     2     4   \n",
       "\n",
       "   ...  구매카테고리수  거주지역  성별  고객 나이대  거래기간  할인민감여부  Recency  Frequency  Monetary  \\\n",
       "0  ...        7     6   1       6  3303       0        3          2         1   \n",
       "1  ...        5     4   0       2  3129       0        5          3         4   \n",
       "2  ...        4     6   0       3  3636       0        4          1         4   \n",
       "3  ...        4     5   0       4  3637       0        7          4         6   \n",
       "4  ...        6     6   0       4  3638       0        5          1         4   \n",
       "\n",
       "       평균 구매주기  \n",
       "0   149.136364  \n",
       "1    81.342105  \n",
       "2  1817.000000  \n",
       "3   403.111111  \n",
       "4   362.800000  \n",
       "\n",
       "[5 rows x 21 columns]"
      ]
     },
     "execution_count": 38,
     "metadata": {},
     "output_type": "execute_result"
    }
   ],
   "source": [
    "df.head()"
   ]
  },
  {
   "cell_type": "code",
   "execution_count": 39,
   "metadata": {},
   "outputs": [
    {
     "name": "stdout",
     "output_type": "stream",
     "text": [
      "<class 'pandas.core.frame.DataFrame'>\n",
      "RangeIndex: 1000 entries, 0 to 999\n",
      "Data columns (total 21 columns):\n",
      " #   Column     Non-Null Count  Dtype  \n",
      "---  ------     --------------  -----  \n",
      " 0   고객ID       1000 non-null   int64  \n",
      " 1   이탈여부       1000 non-null   int64  \n",
      " 2   총매출액       1000 non-null   int64  \n",
      " 3   구매금액대      1000 non-null   int64  \n",
      " 4   방문빈도       1000 non-null   int64  \n",
      " 5   1회 평균매출액   1000 non-null   int64  \n",
      " 6   할인권 사용 횟수  1000 non-null   int64  \n",
      " 7   총 할인 금액    1000 non-null   int64  \n",
      " 8   고객등급       1000 non-null   int64  \n",
      " 9   구매유형       1000 non-null   int64  \n",
      " 10  클레임접수여부    1000 non-null   int64  \n",
      " 11  구매카테고리수    1000 non-null   int64  \n",
      " 12  거주지역       1000 non-null   int64  \n",
      " 13  성별         1000 non-null   int64  \n",
      " 14  고객 나이대     1000 non-null   int64  \n",
      " 15  거래기간       1000 non-null   int64  \n",
      " 16  할인민감여부     1000 non-null   int64  \n",
      " 17  Recency    1000 non-null   int64  \n",
      " 18  Frequency  1000 non-null   int64  \n",
      " 19  Monetary   1000 non-null   int64  \n",
      " 20  평균 구매주기    1000 non-null   float64\n",
      "dtypes: float64(1), int64(20)\n",
      "memory usage: 164.2 KB\n"
     ]
    }
   ],
   "source": [
    "df.info()"
   ]
  },
  {
   "cell_type": "code",
   "execution_count": 40,
   "metadata": {},
   "outputs": [],
   "source": [
    "X = df[['총매출액', '1회 평균매출액', '할인권 사용 횟수']]\n",
    "Y = df['평균 구매주기']"
   ]
  },
  {
   "cell_type": "code",
   "execution_count": 41,
   "metadata": {},
   "outputs": [],
   "source": [
    "X_train, X_test, Y_train, Y_test = train_test_split(X, Y, test_size=0.3, random_state=0)"
   ]
  },
  {
   "cell_type": "code",
   "execution_count": 42,
   "metadata": {},
   "outputs": [],
   "source": [
    "model = KNeighborsRegressor()"
   ]
  },
  {
   "cell_type": "code",
   "execution_count": 43,
   "metadata": {},
   "outputs": [],
   "source": [
    "scores = cross_val_score(model, X_train, Y_train, cv=5)"
   ]
  },
  {
   "cell_type": "code",
   "execution_count": 44,
   "metadata": {},
   "outputs": [
    {
     "name": "stdout",
     "output_type": "stream",
     "text": [
      "교차검증 점수 [0.65777511 0.71775927 0.61704877 0.64648606 0.77413476]\n"
     ]
    }
   ],
   "source": [
    "print('교차검증 점수', scores)"
   ]
  },
  {
   "cell_type": "markdown",
   "metadata": {},
   "source": [
    "## Stratified K-Fold Cross Validation"
   ]
  },
  {
   "cell_type": "code",
   "execution_count": 45,
   "metadata": {},
   "outputs": [],
   "source": [
    "from sklearn.neighbors import KNeighborsClassifier\n",
    "from sklearn.model_selection import StratifiedKFold"
   ]
  },
  {
   "cell_type": "code",
   "execution_count": 46,
   "metadata": {},
   "outputs": [],
   "source": [
    "X = df[['총매출액', '거래기간', '방문빈도']]\n",
    "Y = df['이탈여부']"
   ]
  },
  {
   "cell_type": "code",
   "execution_count": 47,
   "metadata": {},
   "outputs": [],
   "source": [
    "X_train, X_test, Y_train, Y_test = train_test_split(X, Y, test_size=0.3, random_state=0)\n",
    "\n",
    "model = KNeighborsClassifier()"
   ]
  },
  {
   "cell_type": "code",
   "execution_count": 48,
   "metadata": {},
   "outputs": [
    {
     "name": "stdout",
     "output_type": "stream",
     "text": [
      "층화 교차검증 점수: [0.64285714 0.7        0.67857143 0.67142857 0.70714286]\n"
     ]
    }
   ],
   "source": [
    "skf = StratifiedKFold(n_splits=5, shuffle=True, random_state=0)\n",
    "scores = cross_val_score(model, X_train, Y_train, cv=skf)\n",
    "print('층화 교차검증 점수:', scores)"
   ]
  },
  {
   "cell_type": "markdown",
   "metadata": {},
   "source": [
    "## 변수선택"
   ]
  },
  {
   "cell_type": "markdown",
   "metadata": {},
   "source": [
    "### 1) 일변량 통계기반 선택"
   ]
  },
  {
   "cell_type": "code",
   "execution_count": 49,
   "metadata": {},
   "outputs": [],
   "source": [
    "# 모듈 및 함수 불러오기\n",
    "from sklearn.feature_selection import SelectKBest, chi2"
   ]
  },
  {
   "cell_type": "code",
   "execution_count": 50,
   "metadata": {},
   "outputs": [],
   "source": [
    "# 변수 지정\n",
    "X = df.drop(['고객ID', '이탈여부'], axis=1)\n",
    "Y = df['이탈여부']"
   ]
  },
  {
   "cell_type": "code",
   "execution_count": 51,
   "metadata": {},
   "outputs": [],
   "source": [
    "# 데이터 분할\n",
    "X_train, X_test, Y_train, Y_test = train_test_split(X, Y, test_size=0.3, random_state=0)"
   ]
  },
  {
   "cell_type": "code",
   "execution_count": 52,
   "metadata": {},
   "outputs": [
    {
     "data": {
      "text/plain": [
       "SelectKBest(score_func=<function chi2 at 0x000001BCFD112160>)"
      ]
     },
     "execution_count": 52,
     "metadata": {},
     "output_type": "execute_result"
    }
   ],
   "source": [
    "# 일변량 통계기반 변수 선택\n",
    "feat_selector = SelectKBest(chi2)\n",
    "feat_selector.fit(X_train, Y_train)"
   ]
  },
  {
   "cell_type": "code",
   "execution_count": 53,
   "metadata": {},
   "outputs": [
    {
     "data": {
      "text/html": [
       "<div>\n",
       "<style scoped>\n",
       "    .dataframe tbody tr th:only-of-type {\n",
       "        vertical-align: middle;\n",
       "    }\n",
       "\n",
       "    .dataframe tbody tr th {\n",
       "        vertical-align: top;\n",
       "    }\n",
       "\n",
       "    .dataframe thead th {\n",
       "        text-align: right;\n",
       "    }\n",
       "</style>\n",
       "<table border=\"1\" class=\"dataframe\">\n",
       "  <thead>\n",
       "    <tr style=\"text-align: right;\">\n",
       "      <th></th>\n",
       "      <th>Chi-squared stats</th>\n",
       "      <th>P Value</th>\n",
       "      <th>Support</th>\n",
       "      <th>Attribute</th>\n",
       "    </tr>\n",
       "  </thead>\n",
       "  <tbody>\n",
       "    <tr>\n",
       "      <th>0</th>\n",
       "      <td>5.823528e+07</td>\n",
       "      <td>0.000000e+00</td>\n",
       "      <td>True</td>\n",
       "      <td>총매출액</td>\n",
       "    </tr>\n",
       "    <tr>\n",
       "      <th>1</th>\n",
       "      <td>1.779863e+01</td>\n",
       "      <td>2.455599e-05</td>\n",
       "      <td>True</td>\n",
       "      <td>구매금액대</td>\n",
       "    </tr>\n",
       "    <tr>\n",
       "      <th>2</th>\n",
       "      <td>5.962933e+02</td>\n",
       "      <td>1.071593e-131</td>\n",
       "      <td>True</td>\n",
       "      <td>방문빈도</td>\n",
       "    </tr>\n",
       "    <tr>\n",
       "      <th>3</th>\n",
       "      <td>8.186325e+06</td>\n",
       "      <td>0.000000e+00</td>\n",
       "      <td>True</td>\n",
       "      <td>1회 평균매출액</td>\n",
       "    </tr>\n",
       "    <tr>\n",
       "      <th>5</th>\n",
       "      <td>1.425263e+03</td>\n",
       "      <td>0.000000e+00</td>\n",
       "      <td>True</td>\n",
       "      <td>총 할인 금액</td>\n",
       "    </tr>\n",
       "    <tr>\n",
       "      <th>11</th>\n",
       "      <td>9.683742e+00</td>\n",
       "      <td>1.859056e-03</td>\n",
       "      <td>True</td>\n",
       "      <td>성별</td>\n",
       "    </tr>\n",
       "    <tr>\n",
       "      <th>13</th>\n",
       "      <td>1.459119e+04</td>\n",
       "      <td>0.000000e+00</td>\n",
       "      <td>True</td>\n",
       "      <td>거래기간</td>\n",
       "    </tr>\n",
       "    <tr>\n",
       "      <th>14</th>\n",
       "      <td>4.657066e+01</td>\n",
       "      <td>8.837358e-12</td>\n",
       "      <td>True</td>\n",
       "      <td>할인민감여부</td>\n",
       "    </tr>\n",
       "    <tr>\n",
       "      <th>16</th>\n",
       "      <td>7.904040e+00</td>\n",
       "      <td>4.932450e-03</td>\n",
       "      <td>True</td>\n",
       "      <td>Frequency</td>\n",
       "    </tr>\n",
       "    <tr>\n",
       "      <th>18</th>\n",
       "      <td>8.628299e+03</td>\n",
       "      <td>0.000000e+00</td>\n",
       "      <td>True</td>\n",
       "      <td>평균 구매주기</td>\n",
       "    </tr>\n",
       "  </tbody>\n",
       "</table>\n",
       "</div>"
      ],
      "text/plain": [
       "    Chi-squared stats        P Value  Support  Attribute\n",
       "0        5.823528e+07   0.000000e+00     True       총매출액\n",
       "1        1.779863e+01   2.455599e-05     True      구매금액대\n",
       "2        5.962933e+02  1.071593e-131     True       방문빈도\n",
       "3        8.186325e+06   0.000000e+00     True   1회 평균매출액\n",
       "5        1.425263e+03   0.000000e+00     True    총 할인 금액\n",
       "11       9.683742e+00   1.859056e-03     True         성별\n",
       "13       1.459119e+04   0.000000e+00     True       거래기간\n",
       "14       4.657066e+01   8.837358e-12     True     할인민감여부\n",
       "16       7.904040e+00   4.932450e-03     True  Frequency\n",
       "18       8.628299e+03   0.000000e+00     True    평균 구매주기"
      ]
     },
     "execution_count": 53,
     "metadata": {},
     "output_type": "execute_result"
    }
   ],
   "source": [
    "# 선택된 변수 출력\n",
    "feat_scores = pd.DataFrame()\n",
    "feat_scores['Chi-squared stats'] = feat_selector.scores_\n",
    "feat_scores['P Value'] = feat_selector.pvalues_\n",
    "feat_scores['Support'] = feat_selector.get_support()\n",
    "feat_scores['Attribute'] = X_train.columns\n",
    "feat_scores[feat_scores['Support'] == True]"
   ]
  },
  {
   "cell_type": "markdown",
   "metadata": {},
   "source": [
    "### 2) 모형기반 선택"
   ]
  },
  {
   "cell_type": "code",
   "execution_count": 54,
   "metadata": {},
   "outputs": [],
   "source": [
    "# 모듈 및 함수 불러오기\n",
    "from sklearn.feature_selection import SelectFromModel\n",
    "from sklearn.ensemble import RandomForestClassifier"
   ]
  },
  {
   "cell_type": "code",
   "execution_count": 55,
   "metadata": {},
   "outputs": [
    {
     "data": {
      "text/plain": [
       "SelectFromModel(estimator=RandomForestClassifier(random_state=0),\n",
       "                threshold='median')"
      ]
     },
     "execution_count": 55,
     "metadata": {},
     "output_type": "execute_result"
    }
   ],
   "source": [
    "# 모형 기반 변수 선택\n",
    "feat_selector = SelectFromModel(RandomForestClassifier(n_estimators=100, random_state=0), threshold='median')\n",
    "feat_selector.fit(X_train, Y_train)"
   ]
  },
  {
   "cell_type": "code",
   "execution_count": 56,
   "metadata": {},
   "outputs": [
    {
     "data": {
      "text/html": [
       "<div>\n",
       "<style scoped>\n",
       "    .dataframe tbody tr th:only-of-type {\n",
       "        vertical-align: middle;\n",
       "    }\n",
       "\n",
       "    .dataframe tbody tr th {\n",
       "        vertical-align: top;\n",
       "    }\n",
       "\n",
       "    .dataframe thead th {\n",
       "        text-align: right;\n",
       "    }\n",
       "</style>\n",
       "<table border=\"1\" class=\"dataframe\">\n",
       "  <thead>\n",
       "    <tr style=\"text-align: right;\">\n",
       "      <th></th>\n",
       "      <th>Attribute</th>\n",
       "      <th>Support</th>\n",
       "    </tr>\n",
       "  </thead>\n",
       "  <tbody>\n",
       "    <tr>\n",
       "      <th>0</th>\n",
       "      <td>총매출액</td>\n",
       "      <td>True</td>\n",
       "    </tr>\n",
       "    <tr>\n",
       "      <th>2</th>\n",
       "      <td>방문빈도</td>\n",
       "      <td>True</td>\n",
       "    </tr>\n",
       "    <tr>\n",
       "      <th>3</th>\n",
       "      <td>1회 평균매출액</td>\n",
       "      <td>True</td>\n",
       "    </tr>\n",
       "    <tr>\n",
       "      <th>4</th>\n",
       "      <td>할인권 사용 횟수</td>\n",
       "      <td>True</td>\n",
       "    </tr>\n",
       "    <tr>\n",
       "      <th>5</th>\n",
       "      <td>총 할인 금액</td>\n",
       "      <td>True</td>\n",
       "    </tr>\n",
       "    <tr>\n",
       "      <th>10</th>\n",
       "      <td>거주지역</td>\n",
       "      <td>True</td>\n",
       "    </tr>\n",
       "    <tr>\n",
       "      <th>12</th>\n",
       "      <td>고객 나이대</td>\n",
       "      <td>True</td>\n",
       "    </tr>\n",
       "    <tr>\n",
       "      <th>13</th>\n",
       "      <td>거래기간</td>\n",
       "      <td>True</td>\n",
       "    </tr>\n",
       "    <tr>\n",
       "      <th>14</th>\n",
       "      <td>할인민감여부</td>\n",
       "      <td>True</td>\n",
       "    </tr>\n",
       "    <tr>\n",
       "      <th>18</th>\n",
       "      <td>평균 구매주기</td>\n",
       "      <td>True</td>\n",
       "    </tr>\n",
       "  </tbody>\n",
       "</table>\n",
       "</div>"
      ],
      "text/plain": [
       "    Attribute  Support\n",
       "0        총매출액     True\n",
       "2        방문빈도     True\n",
       "3    1회 평균매출액     True\n",
       "4   할인권 사용 횟수     True\n",
       "5     총 할인 금액     True\n",
       "10       거주지역     True\n",
       "12     고객 나이대     True\n",
       "13       거래기간     True\n",
       "14     할인민감여부     True\n",
       "18    평균 구매주기     True"
      ]
     },
     "execution_count": 56,
     "metadata": {},
     "output_type": "execute_result"
    }
   ],
   "source": [
    "# 선택된 변수 출력\n",
    "feat_scores = pd.DataFrame()\n",
    "feat_scores['Attribute'] = X_train.columns\n",
    "feat_scores['Support'] = feat_selector.get_support()\n",
    "feat_scores[feat_scores['Support'] == True]"
   ]
  },
  {
   "cell_type": "markdown",
   "metadata": {},
   "source": [
    "### 3) 반복적 변수 선택"
   ]
  },
  {
   "cell_type": "code",
   "execution_count": 57,
   "metadata": {},
   "outputs": [],
   "source": [
    "# 모듈 및 함수 불러오기\n",
    "from sklearn.feature_selection import RFE"
   ]
  },
  {
   "cell_type": "code",
   "execution_count": 58,
   "metadata": {},
   "outputs": [
    {
     "data": {
      "text/plain": [
       "RFE(estimator=RandomForestClassifier(random_state=0))"
      ]
     },
     "execution_count": 58,
     "metadata": {},
     "output_type": "execute_result"
    }
   ],
   "source": [
    "# 반복적 변수 선택\n",
    "select = RFE(RandomForestClassifier(n_estimators=100, random_state=0))\n",
    "select.fit(X_train, Y_train)"
   ]
  },
  {
   "cell_type": "code",
   "execution_count": 59,
   "metadata": {},
   "outputs": [
    {
     "name": "stdout",
     "output_type": "stream",
     "text": [
      "['총매출액' '방문빈도' '1회 평균매출액' '할인권 사용 횟수' '총 할인 금액' '고객 나이대' '거래기간' '할인민감여부'\n",
      " '평균 구매주기']\n"
     ]
    }
   ],
   "source": [
    "# 선택된 변수 출력\n",
    "features_bool = np.array(select.get_support())\n",
    "features = np.array(X.columns)\n",
    "result = features[features_bool]\n",
    "print(result)"
   ]
  },
  {
   "cell_type": "code",
   "execution_count": null,
   "metadata": {},
   "outputs": [],
   "source": []
  },
  {
   "cell_type": "code",
   "execution_count": null,
   "metadata": {},
   "outputs": [],
   "source": []
  },
  {
   "cell_type": "code",
   "execution_count": null,
   "metadata": {},
   "outputs": [],
   "source": []
  },
  {
   "cell_type": "code",
   "execution_count": null,
   "metadata": {},
   "outputs": [],
   "source": []
  },
  {
   "cell_type": "code",
   "execution_count": null,
   "metadata": {},
   "outputs": [],
   "source": []
  },
  {
   "cell_type": "code",
   "execution_count": null,
   "metadata": {},
   "outputs": [],
   "source": []
  },
  {
   "cell_type": "code",
   "execution_count": null,
   "metadata": {},
   "outputs": [],
   "source": []
  },
  {
   "cell_type": "code",
   "execution_count": null,
   "metadata": {},
   "outputs": [],
   "source": []
  },
  {
   "cell_type": "code",
   "execution_count": null,
   "metadata": {},
   "outputs": [],
   "source": []
  },
  {
   "cell_type": "code",
   "execution_count": null,
   "metadata": {},
   "outputs": [],
   "source": []
  },
  {
   "cell_type": "code",
   "execution_count": null,
   "metadata": {},
   "outputs": [],
   "source": []
  },
  {
   "cell_type": "code",
   "execution_count": null,
   "metadata": {},
   "outputs": [],
   "source": []
  },
  {
   "cell_type": "code",
   "execution_count": null,
   "metadata": {},
   "outputs": [],
   "source": []
  }
 ],
 "metadata": {
  "kernelspec": {
   "display_name": "Python 3",
   "language": "python",
   "name": "python3"
  },
  "language_info": {
   "codemirror_mode": {
    "name": "ipython",
    "version": 3
   },
   "file_extension": ".py",
   "mimetype": "text/x-python",
   "name": "python",
   "nbconvert_exporter": "python",
   "pygments_lexer": "ipython3",
   "version": "3.8.5"
  }
 },
 "nbformat": 4,
 "nbformat_minor": 4
}
