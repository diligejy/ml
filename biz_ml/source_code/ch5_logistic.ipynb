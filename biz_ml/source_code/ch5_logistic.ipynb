{
 "cells": [
  {
   "cell_type": "markdown",
   "metadata": {},
   "source": [
    "## [1] 이항 분류 예측 실습"
   ]
  },
  {
   "cell_type": "markdown",
   "metadata": {},
   "source": [
    "### 1) 변수 지정 및 전처리"
   ]
  },
  {
   "cell_type": "code",
   "execution_count": 1,
   "metadata": {},
   "outputs": [],
   "source": [
    "import pandas as pd\n",
    "from sklearn.model_selection import train_test_split\n",
    "from sklearn.preprocessing import StandardScaler"
   ]
  },
  {
   "cell_type": "code",
   "execution_count": 3,
   "metadata": {},
   "outputs": [],
   "source": [
    "df = pd.read_csv(\"../rawdata/Ashopping.csv\", engine='python')"
   ]
  },
  {
   "cell_type": "code",
   "execution_count": 4,
   "metadata": {},
   "outputs": [],
   "source": [
    "X = df[['총매출액', '거래기간', '방문빈도']]\n",
    "Y = df['이탈여부']"
   ]
  },
  {
   "cell_type": "code",
   "execution_count": 5,
   "metadata": {},
   "outputs": [],
   "source": [
    "X_train, X_test, Y_train, Y_test = train_test_split(X, Y, test_size=0.3, random_state=0)"
   ]
  },
  {
   "cell_type": "code",
   "execution_count": 6,
   "metadata": {},
   "outputs": [
    {
     "name": "stdout",
     "output_type": "stream",
     "text": [
      "[[ 0.69336175  0.22690456  0.03475125]\n",
      " [-0.225208   -0.02778804 -0.17540748]\n",
      " [-0.52055725  0.61729402  0.98046554]\n",
      " ...\n",
      " [-0.60960507  0.55779616 -0.01778844]\n",
      " [-0.02842033 -0.64468689 -0.22794717]\n",
      " [-0.30394592  0.83127755 -0.70080431]]\n"
     ]
    }
   ],
   "source": [
    "scaler = StandardScaler()\n",
    "scaler.fit(X_train)\n",
    "X_test = scaler.transform(X_test)\n",
    "X_train = scaler.transform(X_train)\n",
    "print(X_train)"
   ]
  },
  {
   "cell_type": "code",
   "execution_count": 7,
   "metadata": {},
   "outputs": [],
   "source": [
    "from imblearn.over_sampling import SMOTE\n",
    "from collections import Counter"
   ]
  },
  {
   "cell_type": "code",
   "execution_count": 8,
   "metadata": {},
   "outputs": [],
   "source": [
    "smote = SMOTE(random_state=0)\n",
    "X_train_over, Y_train_over = smote.fit_sample(X_train, Y_train)"
   ]
  },
  {
   "cell_type": "code",
   "execution_count": 9,
   "metadata": {},
   "outputs": [
    {
     "name": "stdout",
     "output_type": "stream",
     "text": [
      "Original dataset shape Counter({0: 700, 1: 300})\n",
      "Sampled dataset shape Counter({0: 481, 1: 219})\n",
      "Resampled dataset shape Counter({1: 481, 0: 481})\n"
     ]
    }
   ],
   "source": [
    "print('Original dataset shape %s' % Counter(Y))\n",
    "print('Sampled dataset shape %s' % Counter(Y_train))\n",
    "print('Resampled dataset shape %s' % Counter(Y_train_over))"
   ]
  },
  {
   "cell_type": "markdown",
   "metadata": {},
   "source": [
    "### 2) 모형 학습 및 예측"
   ]
  },
  {
   "cell_type": "code",
   "execution_count": 10,
   "metadata": {},
   "outputs": [],
   "source": [
    "from sklearn.linear_model import LogisticRegression"
   ]
  },
  {
   "cell_type": "code",
   "execution_count": 11,
   "metadata": {},
   "outputs": [],
   "source": [
    "model = LogisticRegression(C=1, random_state=0)"
   ]
  },
  {
   "cell_type": "code",
   "execution_count": 12,
   "metadata": {},
   "outputs": [
    {
     "name": "stdout",
     "output_type": "stream",
     "text": [
      "평가용 데이터 세트에 대한 예측값\n",
      " [1 0 1 0 0 0 1 1 0 0 1 1 0 1 0 1 0 1 1 1 1 0 1 0 0 0 1 1 1 0 0 0 0 0 0 0 0\n",
      " 1 0 0 1 0 0 0 1 0 0 1 1 1 0 1 1 1 0 0 1 1 0 0 1 0 0 1 0 1 1 0 1 0 0 1 1 0\n",
      " 0 1 0 1 1 0 1 1 1 0 0 0 1 0 0 0 0 1 1 1 0 0 0 0 0 0 0 0 0 0 1 0 0 1 0 1 1\n",
      " 0 0 1 0 1 0 0 0 1 0 1 1 0 0 0 1 1 0 0 1 1 0 0 0 0 0 1 1 0 1 1 0 1 1 0 1 1\n",
      " 1 1 1 0 0 1 1 0 0 1 1 1 1 0 1 1 0 1 0 0 1 0 0 0 0 0 1 0 1 1 0 1 1 1 0 0 0\n",
      " 1 1 1 0 1 1 0 1 1 0 0 0 1 0 1 1 0 0 0 0 1 0 0 0 0 0 1 1 0 1 0 1 0 1 0 0 0\n",
      " 0 0 0 1 0 1 1 0 0 1 1 1 1 1 1 1 1 1 0 0 1 1 0 0 0 1 1 0 1 0 1 1 1 0 0 1 0\n",
      " 0 0 0 0 0 1 0 1 1 0 1 1 0 1 1 0 0 0 1 0 1 0 0 1 0 1 1 0 1 1 1 0 1 0 0 0 1\n",
      " 0 1 0 1]\n"
     ]
    }
   ],
   "source": [
    "model.fit(X_train_over, Y_train_over)\n",
    "Y_pred = model.predict(X_test)\n",
    "print('평가용 데이터 세트에 대한 예측값\\n', Y_pred)"
   ]
  },
  {
   "cell_type": "markdown",
   "metadata": {},
   "source": [
    "### 3) 모형 평가"
   ]
  },
  {
   "cell_type": "code",
   "execution_count": 13,
   "metadata": {},
   "outputs": [
    {
     "name": "stdout",
     "output_type": "stream",
     "text": [
      "학습용 데이터 세트 정확도: 0.710\n",
      "평가용 데이터 세트 정확도: 0.703\n"
     ]
    }
   ],
   "source": [
    "# 정확도 평가\n",
    "print('학습용 데이터 세트 정확도: {:.3f}'.format(model.score(X_train_over, Y_train_over)))\n",
    "print('평가용 데이터 세트 정확도: {:.3f}'.format(model.score(X_test, Y_test)))"
   ]
  },
  {
   "cell_type": "code",
   "execution_count": 14,
   "metadata": {},
   "outputs": [
    {
     "name": "stdout",
     "output_type": "stream",
     "text": [
      "              precision    recall  f1-score   support\n",
      "\n",
      "           0       0.91      0.66      0.77       219\n",
      "           1       0.47      0.81      0.60        81\n",
      "\n",
      "    accuracy                           0.70       300\n",
      "   macro avg       0.69      0.74      0.68       300\n",
      "weighted avg       0.79      0.70      0.72       300\n",
      "\n"
     ]
    }
   ],
   "source": [
    "# 정밀도, 재현율, F1스코어 평가\n",
    "from sklearn.metrics import classification_report\n",
    "print(classification_report(Y_test, Y_pred))"
   ]
  },
  {
   "cell_type": "markdown",
   "metadata": {},
   "source": [
    "### 4) 이항 로지스틱 회귀계수 출력"
   ]
  },
  {
   "cell_type": "code",
   "execution_count": 15,
   "metadata": {},
   "outputs": [
    {
     "name": "stdout",
     "output_type": "stream",
     "text": [
      "총매출액 회귀계수: -0.107, 거래기간 회귀계수: -0.584, 방문빈도 회귀계수: -0.479\n"
     ]
    }
   ],
   "source": [
    "print('총매출액 회귀계수: {0:.3f}, 거래기간 회귀계수: {1:.3f}, 방문빈도 회귀계수: {2:.3f}'.format(model.coef_[0, 0], model.coef_[0, 1], model.coef_[0, 2]))"
   ]
  },
  {
   "cell_type": "markdown",
   "metadata": {},
   "source": [
    "## [2] 다항분류 예측 실습"
   ]
  },
  {
   "cell_type": "markdown",
   "metadata": {},
   "source": [
    "### 1) 변수 지정 및 전처리"
   ]
  },
  {
   "cell_type": "code",
   "execution_count": 16,
   "metadata": {},
   "outputs": [],
   "source": [
    "from sklearn.compose import ColumnTransformer\n",
    "from sklearn.preprocessing import OneHotEncoder"
   ]
  },
  {
   "cell_type": "code",
   "execution_count": 17,
   "metadata": {},
   "outputs": [],
   "source": [
    "X = df[['방문빈도', '총 할인 금액', '거래기간', '할인민감여부']]\n",
    "Y = df['구매금액대']\n",
    "X_train, X_test, Y_train, Y_test = train_test_split(X, Y, test_size=0.3, random_state=0)"
   ]
  },
  {
   "cell_type": "code",
   "execution_count": 19,
   "metadata": {},
   "outputs": [
    {
     "data": {
      "text/plain": [
       "array([[-0.4381059 ,  0.52039092, -0.72610502,  0.        ,  1.        ],\n",
       "       [ 0.03475125,  0.6181886 , -0.57683846,  0.        ,  1.        ],\n",
       "       [-0.96350273,  0.8044049 ,  0.42836222,  1.        ,  0.        ],\n",
       "       ...,\n",
       "       [-0.28048685,  0.67190908, -1.04760222,  1.        ,  0.        ],\n",
       "       [ 0.24490998, -2.47210367, -0.37224933,  1.        ,  0.        ],\n",
       "       [-0.28048685,  0.80004562, -2.15614129,  1.        ,  0.        ]])"
      ]
     },
     "execution_count": 19,
     "metadata": {},
     "output_type": "execute_result"
    }
   ],
   "source": [
    "ct = ColumnTransformer([('scaling', StandardScaler(), ['방문빈도', '총 할인 금액', '거래기간']), ('onehot', OneHotEncoder(sparse=False), ['할인민감여부'])])\n",
    "ct.fit(X_train)\n",
    "X_train = ct.transform(X_train)\n",
    "X_test = ct.transform(X_test)\n",
    "X_test"
   ]
  },
  {
   "cell_type": "markdown",
   "metadata": {},
   "source": [
    "### 2) 모형 학습 및 예측"
   ]
  },
  {
   "cell_type": "code",
   "execution_count": 20,
   "metadata": {},
   "outputs": [],
   "source": [
    "model = LogisticRegression(random_state=0, C=0.1, solver='newton-cg', multi_class='multinomial')"
   ]
  },
  {
   "cell_type": "code",
   "execution_count": 21,
   "metadata": {},
   "outputs": [
    {
     "name": "stdout",
     "output_type": "stream",
     "text": [
      "평가용 데이터 세트에 대한 예측값\n",
      " [0 2 0 2 2 2 1 0 0 0 0 0 1 0 2 0 0 0 0 0 0 0 0 0 0 0 0 0 0 1 2 1 0 2 0 0 0\n",
      " 0 2 0 0 0 0 0 0 1 0 0 0 1 2 0 0 0 2 0 0 0 2 2 0 2 0 0 0 0 2 0 0 1 2 0 0 0\n",
      " 0 0 0 0 0 0 0 0 0 0 2 0 0 0 0 1 0 0 0 0 0 2 2 1 0 0 1 0 0 2 0 2 2 2 2 0 0\n",
      " 2 0 0 0 0 0 2 0 0 0 0 0 0 0 1 0 0 1 0 0 0 0 2 0 2 0 0 0 0 0 0 0 0 0 0 0 0\n",
      " 2 0 0 0 0 0 0 0 0 0 0 0 0 0 0 0 0 0 0 2 0 1 0 0 1 0 0 0 0 0 2 0 2 0 0 0 0\n",
      " 0 0 2 0 0 0 0 0 0 0 1 2 0 0 0 0 1 0 1 2 1 2 0 0 0 1 0 0 0 0 0 0 0 0 0 2 0\n",
      " 1 0 0 2 0 0 0 2 0 0 0 0 0 0 2 0 0 2 0 2 0 0 2 1 2 0 2 0 0 0 0 0 0 0 0 0 0\n",
      " 0 2 1 1 1 0 0 0 0 2 0 2 0 0 0 0 1 0 0 0 0 0 2 0 0 0 0 2 0 0 0 0 0 0 0 0 0\n",
      " 0 0 0 0]\n"
     ]
    }
   ],
   "source": [
    "model.fit(X_train, Y_train)\n",
    "Y_pred = model.predict(X_test)\n",
    "print('평가용 데이터 세트에 대한 예측값\\n', Y_pred)"
   ]
  },
  {
   "cell_type": "markdown",
   "metadata": {},
   "source": [
    "### 3) 모형 평가"
   ]
  },
  {
   "cell_type": "code",
   "execution_count": 22,
   "metadata": {},
   "outputs": [
    {
     "name": "stdout",
     "output_type": "stream",
     "text": [
      "학습용 데이터 세트 정확도: 0.606\n",
      "평가용 데이터 세트 정확도: 0.607\n"
     ]
    }
   ],
   "source": [
    "print('학습용 데이터 세트 정확도: {:.3f}'.format(model.score(X_train, Y_train)))\n",
    "print('평가용 데이터 세트 정확도: {:.3f}'.format(model.score(X_test, Y_test)))"
   ]
  },
  {
   "cell_type": "code",
   "execution_count": 23,
   "metadata": {},
   "outputs": [
    {
     "name": "stdout",
     "output_type": "stream",
     "text": [
      "              precision    recall  f1-score   support\n",
      "\n",
      "           0       0.61      0.89      0.72       154\n",
      "           1       0.40      0.12      0.19        82\n",
      "           2       0.71      0.55      0.62        64\n",
      "\n",
      "    accuracy                           0.61       300\n",
      "   macro avg       0.57      0.52      0.51       300\n",
      "weighted avg       0.57      0.61      0.55       300\n",
      "\n"
     ]
    }
   ],
   "source": [
    "# 정밀도, 재현율, F1스코어\n",
    "print(classification_report(Y_test, Y_pred))"
   ]
  },
  {
   "cell_type": "markdown",
   "metadata": {},
   "source": [
    "### 4) 다항 로지스틱 회귀계수 출력"
   ]
  },
  {
   "cell_type": "code",
   "execution_count": 24,
   "metadata": {},
   "outputs": [
    {
     "name": "stdout",
     "output_type": "stream",
     "text": [
      "---구매금액대 0의 회귀계수---\n",
      "방문빈도 회귀계수: -0.632, 총 할인 금액 회귀계수: -0.037, 거래기간: 0.113, 할인민감여부_1: 0.435\n"
     ]
    }
   ],
   "source": [
    "print('---구매금액대 0의 회귀계수---')\n",
    "print('방문빈도 회귀계수: {0:.3f}, 총 할인 금액 회귀계수: {1:.3f}, 거래기간: {2:.3f}, 할인민감여부_1: {3:.3f}'.format(model.coef_[0, 0], model.coef_[0, 1], model.coef_[0, 2], model.coef_[0, 3]))"
   ]
  },
  {
   "cell_type": "code",
   "execution_count": 25,
   "metadata": {},
   "outputs": [
    {
     "name": "stdout",
     "output_type": "stream",
     "text": [
      "---구매금액대 1의 회귀계수---\n",
      "방문빈도 회귀계수: 0.089, 총 할인 금액 회귀계수: 0.013, 거래기간: 0.088, 할인민감여부_1: 0.223\n"
     ]
    }
   ],
   "source": [
    "print('---구매금액대 1의 회귀계수---')\n",
    "print('방문빈도 회귀계수: {0:.3f}, 총 할인 금액 회귀계수: {1:.3f}, 거래기간: {2:.3f}, 할인민감여부_1: {3:.3f}'.format(model.coef_[1, 0], model.coef_[1, 1], model.coef_[1, 2], model.coef_[1, 3]))"
   ]
  },
  {
   "cell_type": "code",
   "execution_count": 27,
   "metadata": {},
   "outputs": [
    {
     "name": "stdout",
     "output_type": "stream",
     "text": [
      "---구매금액대 2의 회귀계수---\n",
      "방문빈도 회귀계수: 0.543, 총 할인 금액 회귀계수: 0.024, 거래기간: -0.201, 할인민감여부_1: -0.658\n"
     ]
    }
   ],
   "source": [
    "print('---구매금액대 2의 회귀계수---')\n",
    "print('방문빈도 회귀계수: {0:.3f}, 총 할인 금액 회귀계수: {1:.3f}, 거래기간: {2:.3f}, 할인민감여부_1: {3:.3f}'.format(model.coef_[2, 0], model.coef_[2, 1], model.coef_[2, 2], model.coef_[2, 3]))"
   ]
  },
  {
   "cell_type": "code",
   "execution_count": null,
   "metadata": {},
   "outputs": [],
   "source": []
  },
  {
   "cell_type": "code",
   "execution_count": null,
   "metadata": {},
   "outputs": [],
   "source": []
  },
  {
   "cell_type": "code",
   "execution_count": null,
   "metadata": {},
   "outputs": [],
   "source": []
  },
  {
   "cell_type": "code",
   "execution_count": null,
   "metadata": {},
   "outputs": [],
   "source": []
  },
  {
   "cell_type": "code",
   "execution_count": null,
   "metadata": {},
   "outputs": [],
   "source": []
  },
  {
   "cell_type": "code",
   "execution_count": null,
   "metadata": {},
   "outputs": [],
   "source": []
  },
  {
   "cell_type": "code",
   "execution_count": null,
   "metadata": {},
   "outputs": [],
   "source": []
  },
  {
   "cell_type": "code",
   "execution_count": null,
   "metadata": {},
   "outputs": [],
   "source": []
  },
  {
   "cell_type": "code",
   "execution_count": null,
   "metadata": {},
   "outputs": [],
   "source": []
  },
  {
   "cell_type": "code",
   "execution_count": null,
   "metadata": {},
   "outputs": [],
   "source": []
  }
 ],
 "metadata": {
  "kernelspec": {
   "display_name": "Python 3",
   "language": "python",
   "name": "python3"
  },
  "language_info": {
   "codemirror_mode": {
    "name": "ipython",
    "version": 3
   },
   "file_extension": ".py",
   "mimetype": "text/x-python",
   "name": "python",
   "nbconvert_exporter": "python",
   "pygments_lexer": "ipython3",
   "version": "3.8.5"
  }
 },
 "nbformat": 4,
 "nbformat_minor": 4
}
