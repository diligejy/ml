{
 "cells": [
  {
   "cell_type": "markdown",
   "metadata": {},
   "source": [
    "## 이 노트북은 평가 지표의 하나인 AUC와 ROC에 관해 설명한다."
   ]
  },
  {
   "cell_type": "code",
   "execution_count": 1,
   "metadata": {},
   "outputs": [
    {
     "name": "stdout",
     "output_type": "stream",
     "text": [
      "Password:\n",
      "sudo: a password is required\n",
      "Password:\n",
      "sudo: a password is required\n"
     ]
    },
    {
     "name": "stderr",
     "output_type": "stream",
     "text": [
      "Exception ignored in: <function _releaseLock at 0x7fdec8150b80>\n",
      "Traceback (most recent call last):\n",
      "  File \"/Users/jinyoung/opt/anaconda3/lib/python3.8/logging/__init__.py\", line 223, in _releaseLock\n",
      "    def _releaseLock():\n",
      "KeyboardInterrupt: \n"
     ]
    },
    {
     "name": "stdout",
     "output_type": "stream",
     "text": [
      "rm: /Users/jinyoung/.cache/matplotlib: No such file or directory\n",
      "rm: -rf: No such file or directory\n"
     ]
    }
   ],
   "source": [
    "# 이 셀은 한글 폰트 설치시에만 실행하며,\n",
    "# 실행 후 런타임을 다시 시작합니다.\n",
    "!sudo apt-get install -y fonts-nanum\n",
    "!sudo fc-cache -fv\n",
    "!rm ~/.cache/matplotlib -rf"
   ]
  },
  {
   "cell_type": "code",
   "execution_count": 1,
   "metadata": {},
   "outputs": [
    {
     "name": "stdout",
     "output_type": "stream",
     "text": [
      "[0.         0.         0.         0.16666667 0.16666667 0.5\n",
      " 0.5        1.        ]\n",
      "[0.   0.25 0.5  0.5  0.75 0.75 1.   1.  ]\n",
      "[1.95 0.95 0.85 0.8  0.7  0.5  0.45 0.1 ]\n"
     ]
    }
   ],
   "source": [
    "from sklearn.metrics import roc_curve\n",
    "\n",
    "y_pass = [0, 0, 0, 1, 0, 0, 1, 0, 1, 1]\n",
    "y_score = [0.1, 0.2, 0.4, 0.45, 0.5, 0.65, 0.7, 0.8, 0.85, 0.95]\n",
    "\n",
    "fpr, tpr, thresholds = roc_curve(y_pass, y_score)\n",
    "\n",
    "print(fpr)\n",
    "print(tpr)\n",
    "print(thresholds)"
   ]
  },
  {
   "cell_type": "markdown",
   "metadata": {},
   "source": [
    "matplotlib을 사용해 ROC곡선을 표시한다."
   ]
  },
  {
   "cell_type": "code",
   "execution_count": 2,
   "metadata": {},
   "outputs": [
    {
     "name": "stderr",
     "output_type": "stream",
     "text": [
      "findfont: Font family ['NanumBarunGothic'] not found. Falling back to DejaVu Sans.\n",
      "/Users/jinyoung/opt/anaconda3/lib/python3.8/site-packages/matplotlib/backends/backend_agg.py:238: RuntimeWarning: Glyph 44144 missing from current font.\n",
      "  font.set_text(s, 0.0, flags=flags)\n",
      "/Users/jinyoung/opt/anaconda3/lib/python3.8/site-packages/matplotlib/backends/backend_agg.py:238: RuntimeWarning: Glyph 51667 missing from current font.\n",
      "  font.set_text(s, 0.0, flags=flags)\n",
      "/Users/jinyoung/opt/anaconda3/lib/python3.8/site-packages/matplotlib/backends/backend_agg.py:238: RuntimeWarning: Glyph 50577 missing from current font.\n",
      "  font.set_text(s, 0.0, flags=flags)\n",
      "/Users/jinyoung/opt/anaconda3/lib/python3.8/site-packages/matplotlib/backends/backend_agg.py:238: RuntimeWarning: Glyph 49457 missing from current font.\n",
      "  font.set_text(s, 0.0, flags=flags)\n",
      "/Users/jinyoung/opt/anaconda3/lib/python3.8/site-packages/matplotlib/backends/backend_agg.py:238: RuntimeWarning: Glyph 50984 missing from current font.\n",
      "  font.set_text(s, 0.0, flags=flags)\n",
      "/Users/jinyoung/opt/anaconda3/lib/python3.8/site-packages/matplotlib/backends/backend_agg.py:238: RuntimeWarning: Glyph 52280 missing from current font.\n",
      "  font.set_text(s, 0.0, flags=flags)\n",
      "/Users/jinyoung/opt/anaconda3/lib/python3.8/site-packages/matplotlib/backends/backend_agg.py:201: RuntimeWarning: Glyph 44144 missing from current font.\n",
      "  font.set_text(s, 0, flags=flags)\n",
      "/Users/jinyoung/opt/anaconda3/lib/python3.8/site-packages/matplotlib/backends/backend_agg.py:201: RuntimeWarning: Glyph 51667 missing from current font.\n",
      "  font.set_text(s, 0, flags=flags)\n",
      "/Users/jinyoung/opt/anaconda3/lib/python3.8/site-packages/matplotlib/backends/backend_agg.py:201: RuntimeWarning: Glyph 50577 missing from current font.\n",
      "  font.set_text(s, 0, flags=flags)\n",
      "/Users/jinyoung/opt/anaconda3/lib/python3.8/site-packages/matplotlib/backends/backend_agg.py:201: RuntimeWarning: Glyph 49457 missing from current font.\n",
      "  font.set_text(s, 0, flags=flags)\n",
      "/Users/jinyoung/opt/anaconda3/lib/python3.8/site-packages/matplotlib/backends/backend_agg.py:201: RuntimeWarning: Glyph 50984 missing from current font.\n",
      "  font.set_text(s, 0, flags=flags)\n",
      "/Users/jinyoung/opt/anaconda3/lib/python3.8/site-packages/matplotlib/backends/backend_agg.py:201: RuntimeWarning: Glyph 52280 missing from current font.\n",
      "  font.set_text(s, 0, flags=flags)\n"
     ]
    },
    {
     "data": {
      "image/png": "[encoded data removed]",
      "text/plain": [
       "<Figure size 432x288 with 1 Axes>"
      ]
     },
     "metadata": {
      "needs_background": "light"
     },
     "output_type": "display_data"
    }
   ],
   "source": [
    "import matplotlib.pyplot as plt\n",
    "plt.rc('font', family='NanumBarunGothic')\n",
    "\n",
    "plt.plot(fpr, tpr, marker='o')\n",
    "plt.xlabel('거짓 양성율(FPR)')\n",
    "plt.ylabel('참 양성율(TPR)')\n",
    "plt.grid()\n",
    "plt.show()"
   ]
  },
  {
   "cell_type": "markdown",
   "metadata": {},
   "source": [
    "사이킷런에서는 AUC값을 구할 수 있다,\n",
    "\n",
    "ROC 곡선을 그릴 때는 fpr과 tpr을 auc 함수로 입력하고, ROC 곡선을 그리지 않을 때도 참 합격자의 계열 y_pass와 그 점수의 계열 y_score를 roc_auc_score에 입력해서 구할 수 있다,"
   ]
  },
  {
   "cell_type": "code",
   "execution_count": 3,
   "metadata": {},
   "outputs": [
    {
     "name": "stdout",
     "output_type": "stream",
     "text": [
      "AUC (auc func): 0.8333333333333333\n",
      "AUC (roc_auc_score): 0.8333333333333333\n"
     ]
    }
   ],
   "source": [
    "from sklearn.metrics import auc, roc_auc_score\n",
    "\n",
    "print(f\"AUC (auc func): {auc(fpr, tpr)}\")\n",
    "print(f\"AUC (roc_auc_score): {roc_auc_score(y_pass, y_score)}\")"
   ]
  },
  {
   "cell_type": "markdown",
   "metadata": {},
   "source": [
    "AUC가 1이 되는 경우를 표시한다."
   ]
  },
  {
   "cell_type": "code",
   "execution_count": 4,
   "metadata": {},
   "outputs": [
    {
     "name": "stderr",
     "output_type": "stream",
     "text": [
      "/Users/jinyoung/opt/anaconda3/lib/python3.8/site-packages/matplotlib/backends/backend_agg.py:238: RuntimeWarning: Glyph 44144 missing from current font.\n",
      "  font.set_text(s, 0.0, flags=flags)\n",
      "/Users/jinyoung/opt/anaconda3/lib/python3.8/site-packages/matplotlib/backends/backend_agg.py:238: RuntimeWarning: Glyph 51667 missing from current font.\n",
      "  font.set_text(s, 0.0, flags=flags)\n",
      "/Users/jinyoung/opt/anaconda3/lib/python3.8/site-packages/matplotlib/backends/backend_agg.py:238: RuntimeWarning: Glyph 50577 missing from current font.\n",
      "  font.set_text(s, 0.0, flags=flags)\n",
      "/Users/jinyoung/opt/anaconda3/lib/python3.8/site-packages/matplotlib/backends/backend_agg.py:238: RuntimeWarning: Glyph 49457 missing from current font.\n",
      "  font.set_text(s, 0.0, flags=flags)\n",
      "/Users/jinyoung/opt/anaconda3/lib/python3.8/site-packages/matplotlib/backends/backend_agg.py:238: RuntimeWarning: Glyph 50984 missing from current font.\n",
      "  font.set_text(s, 0.0, flags=flags)\n",
      "/Users/jinyoung/opt/anaconda3/lib/python3.8/site-packages/matplotlib/backends/backend_agg.py:238: RuntimeWarning: Glyph 52280 missing from current font.\n",
      "  font.set_text(s, 0.0, flags=flags)\n",
      "/Users/jinyoung/opt/anaconda3/lib/python3.8/site-packages/matplotlib/backends/backend_agg.py:201: RuntimeWarning: Glyph 44144 missing from current font.\n",
      "  font.set_text(s, 0, flags=flags)\n",
      "/Users/jinyoung/opt/anaconda3/lib/python3.8/site-packages/matplotlib/backends/backend_agg.py:201: RuntimeWarning: Glyph 51667 missing from current font.\n",
      "  font.set_text(s, 0, flags=flags)\n",
      "/Users/jinyoung/opt/anaconda3/lib/python3.8/site-packages/matplotlib/backends/backend_agg.py:201: RuntimeWarning: Glyph 50577 missing from current font.\n",
      "  font.set_text(s, 0, flags=flags)\n",
      "/Users/jinyoung/opt/anaconda3/lib/python3.8/site-packages/matplotlib/backends/backend_agg.py:201: RuntimeWarning: Glyph 49457 missing from current font.\n",
      "  font.set_text(s, 0, flags=flags)\n",
      "/Users/jinyoung/opt/anaconda3/lib/python3.8/site-packages/matplotlib/backends/backend_agg.py:201: RuntimeWarning: Glyph 50984 missing from current font.\n",
      "  font.set_text(s, 0, flags=flags)\n",
      "/Users/jinyoung/opt/anaconda3/lib/python3.8/site-packages/matplotlib/backends/backend_agg.py:201: RuntimeWarning: Glyph 52280 missing from current font.\n",
      "  font.set_text(s, 0, flags=flags)\n"
     ]
    },
    {
     "data": {
      "image/png": "[encoded data removed]",
      "text/plain": [
       "<Figure size 432x288 with 1 Axes>"
      ]
     },
     "metadata": {
      "needs_background": "light"
     },
     "output_type": "display_data"
    },
    {
     "name": "stdout",
     "output_type": "stream",
     "text": [
      "AUC (perfect): 1.0\n"
     ]
    }
   ],
   "source": [
    "y_perfect = [0, 0, 0, 0, 1, 1, 1, 1, 1, 1]\n",
    "y_score_perfect = [0.1, 0.2, 0.3, 0.4, 0.5, 0.6, 0.7, 0.8, 0.9]\n",
    "\n",
    "fpr, tpr, _ = roc_curve(y_perfect, y_score)\n",
    "\n",
    "plt.plot(fpr, tpr, marker='o')\n",
    "plt.xlabel('거짓 양성율(FPR)')\n",
    "plt.ylabel('참 양성율(TPR)')\n",
    "plt.grid()\n",
    "plt.show()\n",
    "\n",
    "print(f\"AUC (perfect): {roc_auc_score(y_perfect, y_score)}\")"
   ]
  },
  {
   "cell_type": "code",
   "execution_count": null,
   "metadata": {},
   "outputs": [],
   "source": []
  },
  {
   "cell_type": "code",
   "execution_count": null,
   "metadata": {},
   "outputs": [],
   "source": []
  }
 ],
 "metadata": {
  "interpreter": {
   "hash": "b6a62c77e8796f496c5f2f4a43e67e9484e0e592519ab75ae8585aadbfeb3fc7"
  },
  "kernelspec": {
   "display_name": "Python 3",
   "language": "python",
   "name": "python3"
  },
  "language_info": {
   "codemirror_mode": {
    "name": "ipython",
    "version": 3
   },
   "file_extension": ".py",
   "mimetype": "text/x-python",
   "name": "python",
   "nbconvert_exporter": "python",
   "pygments_lexer": "ipython3",
   "version": "3.8.8"
  }
 },
 "nbformat": 4,
 "nbformat_minor": 4
}
