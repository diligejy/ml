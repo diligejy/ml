{
  "nbformat": 4,
  "nbformat_minor": 0,
  "metadata": {
    "colab": {
      "name": "IMDB_MovieReview_part2.ipynb",
      "version": "0.3.2",
      "provenance": []
    },
    "kernelspec": {
      "name": "python3",
      "display_name": "Python 3"
    },
    "accelerator": "GPU"
  },
  "cells": [
    {
      "cell_type": "code",
      "metadata": {
        "id": "kz25aKKJEs-H",
        "colab_type": "code",
        "outputId": "2d9b7b6f-13c7-4862-eb4c-0db8944520d1",
        "colab": {
          "base_uri": "https://localhost:8080/",
          "height": 34
        }
      },
      "source": [
        "from google.colab import drive\n",
        "drive.mount('/content/drive')"
      ],
      "execution_count": 4,
      "outputs": [
        {
          "output_type": "stream",
          "text": [
            "Drive already mounted at /content/drive; to attempt to forcibly remount, call drive.mount(\"/content/drive\", force_remount=True).\n"
          ],
          "name": "stdout"
        }
      ]
    },
    {
      "cell_type": "code",
      "metadata": {
        "id": "8JJYEjFBGAfF",
        "colab_type": "code",
        "colab": {}
      },
      "source": [
        "import pandas as pd\n",
        "import numpy as np\n",
        "import seaborn as sns\n",
        "import matplotlib as mpl\n",
        "import matplotlib.pyplot as plt\n",
        "from scipy import stats\n",
        "\n",
        "# 노트북 안에 그래프를 그리기 위해\n",
        "%matplotlib inline\n",
        " \n",
        "# 그래프에서 격자로 숫자 범위가 눈에 잘 띄도록 ggplot 스타일을 사용\n",
        "plt.style.use('ggplot')\n",
        "\n",
        "# 그래프에서 마이너스 폰트 깨지는 문제에 대한 대처\n",
        "mpl.rcParams['axes.unicode_minus'] = False"
      ],
      "execution_count": 0,
      "outputs": []
    },
    {
      "cell_type": "markdown",
      "metadata": {
        "id": "GSveqRObVHzI",
        "colab_type": "text"
      },
      "source": [
        "\n",
        "# Bag of Words Meets Bags of Popcorn\n",
        "##튜토리얼 파트 2 Word Vectors \n",
        "- 딥러닝 기법인 Word2Vec을 통해 단어를 벡터화 해본다.\n",
        "- t-SNE를 통해 벡터화 한 데이터를 시각화 해본다.\n",
        "- 딥러닝과 지도학습의 랜덤포레스트를 사용하는 하이브리드 방식을 사용한다.\n",
        "## Word2Vec(Word Embedding to Vector)\n",
        "\n",
        "컴퓨터는 숫자만 인식할 수 있고 한글, 이미지는 바이너리 코드로 저장 된다. 튜토리얼 파트1에서는 Bag of Word라는 개념을 사용해서 문자를 벡터화 하여 머신러닝 알고리즘이 이해할 수 있도록 벡터화 해주는 작업을 하였다.\n",
        "\n",
        "- one hot encoding(예 [0000001000]) 혹은 Bag of Word에서 vector size가 매우 크고 sparse 하므로 neural net 성능이 잘 나오지 않는다.\n",
        "- 주위 단어가 비슷하면 해당 단어의 의미는 유사하다 라는 아이디어\n",
        "- 단어를 트레이닝 시킬 때 주위 단어를 label로 매치하여 최적화\n",
        "- 단어를 의미를 내포한 dense vector로 매칭 시키는 것\n",
        "- Word2Vec은 분산 된 텍스트 표현을 사용하여 개념 간 유사성을 본다. 예를 들어, 파리와 프랑스가 베를린과 독일이 (수도와 나라) 같은 방식으로 관련되어 있음을 이해한다.\n",
        "\n",
        "\n",
        "Bag of Words Meets Bags of Popcorn\n",
        "튜토리얼 파트 2 Word Vectors\n",
        "딥러닝 기법인 Word2Vec을 통해 단어를 벡터화 해본다.\n",
        "t-SNE를 통해 벡터화 한 데이터를 시각화 해본다.\n",
        "딥러닝과 지도학습의 랜덤포레스트를 사용하는 하이브리드 방식을 사용한다.\n",
        "Word2Vec(Word Embedding to Vector)\n",
        "컴퓨터는 숫자만 인식할 수 있고 한글, 이미지는 바이너리 코드로 저장 된다. 튜토리얼 파트1에서는 Bag of Word라는 개념을 사용해서 문자를 벡터화 하여 머신러닝 알고리즘이 이해할 수 있도록 벡터화 해주는 작업을 하였다.\n",
        "\n",
        "one hot encoding(예 [0000001000]) 혹은 Bag of Word에서 vector size가 매우 크고 sparse 하므로 neural net 성능이 잘 나오지 않는다.\n",
        "주위 단어가 비슷하면 해당 단어의 의미는 유사하다 라는 아이디어\n",
        "단어를 트레이닝 시킬 때 주위 단어를 label로 매치하여 최적화\n",
        "단어를 의미를 내포한 dense vector로 매칭 시키는 것\n",
        "\n",
        "Word2Vec은 분산 된 텍스트 표현을 사용하여 개념 간 유사성을 본다. 예를 들어, 파리와 프랑스가 베를린과 독일이 (수도와 나라) 같은 방식으로 관련되어 있음을 이해한다.\n",
        "\n",
        "word2vec 이미지 출처 : https://opensource.googleblog.com/2013/08/learning-meaning-behind-words.html\n",
        "\n",
        "단어의 임베딩과정을 실시간으로 시각화 : word embedding visual inspector\n",
        "CBOW와 Skip-Gram 출처 : https://arxiv.org/pdf/1301.3781.pdf Tomas Mikolov, Ilya Sutskever, Kai Chen, Greg Corrado, and Jeffrey Dean. Distributed Representations of Words and Phrases and their Compositionality. In Proceedings of NIPS, 2013.\n",
        "\n",
        "- CBOW와 Skip-Gram기법이 있다.\n",
        "\n",
        "- CBOW(continuous bag-of-words)는 전체 텍스트로 하나의 단어를 예측하기 때문에 작은 데이터셋일 수록 유리하다.\n",
        "아래 예제에서 __ 에 들어갈 단어를 예측한다.\n",
        "\n",
        "    1) __가 맛있다. \n",
        "\n",
        "    2) __를 타는 것이 재미있다. \n",
        "\n",
        "    3) 평소보다 두 __로 많이 먹어서 __가 아프다.\n",
        "\n",
        "- Skip-Gram은 타겟 단어들로부터 원본 단어를 역으로 예측하는 것이다. CBOW와는 반대로 컨텍스트-타겟 쌍을 새로운 발견으로 처리하고 큰 규모의 데이터셋을 가질 때 유리하다.\n",
        "\n",
        "- 배라는 단어 주변에 올 수 있는 단어를 예측한다.\n",
        "\n",
        "    1) *배*가 맛있다. \n",
        "\n",
        "    2) *배*를 타는 것이 재미있다. \n",
        "\n",
        "    3) 평소보다 두 *배*로 많이 먹어서 *배*가 아프다.\n",
        "\n",
        "## Word2Vec 참고자료\n",
        "- [word2vec 모델 · 텐서플로우 문서 한글 번역본](https://tensorflowkorea.gitbooks.io/tensorflow-kr/g3doc/tutorials/word2vec/)\n",
        "- [Word2Vec으로 문장 분류하기 · ratsgo's blog](https://ratsgo.github.io/natural%20language%20processing/2017/03/08/word2vec/)\n",
        "\n",
        "- [Efficient Estimation of Word Representations in Vector Space](https://arxiv.org/pdf/1301.3781v3.pdf)\n",
        "\n",
        "- [Distributed Representations of Words and Phrases and their Compositionality](http://papers.nips.cc/paper/5021-distributed-representations-of-words-and-phrases-and-their-compositionality.pdf)\n",
        "- [CS224n: Natural Language Processing with Deep Learning](http://web.stanford.edu/class/cs224n/syllabus.html)\n",
        "- [Word2Vec Tutorial - The Skip-Gram Model · Chris McCormick](http://mccormickml.com/2016/04/19/word2vec-tutorial-the-skip-gram-model/)\n",
        "## Gensim\n",
        "- [gensim: models.word2vec – Deep learning with word2vec](https://radimrehurek.com/gensim/models/word2vec.html)\n",
        "- [gensim: Tutorials](https://radimrehurek.com/gensim/tutorial.html)\n",
        "- [한국어와 NLTK, Gensim의 만남 - PyCon Korea 2015](https://www.lucypark.kr/docs/2015-pyconkr/)"
      ]
    },
    {
      "cell_type": "code",
      "metadata": {
        "id": "DbGi-xX9GM-F",
        "colab_type": "code",
        "outputId": "246ce35c-b6a3-4cd1-d34a-fee005f02901",
        "colab": {
          "base_uri": "https://localhost:8080/",
          "height": 122
        }
      },
      "source": [
        "train = pd.read_csv('/content/drive/My Drive/ML/word2vec_nlp_tutorial/labeledTrainData.tsv', header=0, delimiter='\\t', quoting=3)\n",
        "test = pd.read_csv('/content/drive/My Drive/ML/word2vec_nlp_tutorial/testData.tsv', header=0, delimiter='\\t', quoting=3)\n",
        "unlabeled_train = pd.read_csv('/content/drive/My Drive/ML/word2vec_nlp_tutorial/unlabeledTrainData.tsv',header=0, delimiter='\\t', quoting=3)\n",
        "\n",
        "print(train.shape)\n",
        "print(test.shape)\n",
        "print(unlabeled_train.shape)\n",
        "\n",
        "print(train['review'].size)\n",
        "print(test['review'].size)\n",
        "print(unlabeled_train['review'].size)"
      ],
      "execution_count": 6,
      "outputs": [
        {
          "output_type": "stream",
          "text": [
            "(25000, 3)\n",
            "(25000, 2)\n",
            "(50000, 2)\n",
            "25000\n",
            "25000\n",
            "50000\n"
          ],
          "name": "stdout"
        }
      ]
    },
    {
      "cell_type": "code",
      "metadata": {
        "id": "eQuAttTia--y",
        "colab_type": "code",
        "colab": {
          "base_uri": "https://localhost:8080/",
          "height": 195
        },
        "outputId": "0edd4d05-ce47-4656-f4e2-31d6ae77d9b3"
      },
      "source": [
        "train.head()\n"
      ],
      "execution_count": 7,
      "outputs": [
        {
          "output_type": "execute_result",
          "data": {
            "text/html": [
              "<div>\n",
              "<style scoped>\n",
              "    .dataframe tbody tr th:only-of-type {\n",
              "        vertical-align: middle;\n",
              "    }\n",
              "\n",
              "    .dataframe tbody tr th {\n",
              "        vertical-align: top;\n",
              "    }\n",
              "\n",
              "    .dataframe thead th {\n",
              "        text-align: right;\n",
              "    }\n",
              "</style>\n",
              "<table border=\"1\" class=\"dataframe\">\n",
              "  <thead>\n",
              "    <tr style=\"text-align: right;\">\n",
              "      <th></th>\n",
              "      <th>id</th>\n",
              "      <th>sentiment</th>\n",
              "      <th>review</th>\n",
              "    </tr>\n",
              "  </thead>\n",
              "  <tbody>\n",
              "    <tr>\n",
              "      <th>0</th>\n",
              "      <td>\"5814_8\"</td>\n",
              "      <td>1</td>\n",
              "      <td>\"With all this stuff going down at the moment ...</td>\n",
              "    </tr>\n",
              "    <tr>\n",
              "      <th>1</th>\n",
              "      <td>\"2381_9\"</td>\n",
              "      <td>1</td>\n",
              "      <td>\"\\\"The Classic War of the Worlds\\\" by Timothy ...</td>\n",
              "    </tr>\n",
              "    <tr>\n",
              "      <th>2</th>\n",
              "      <td>\"7759_3\"</td>\n",
              "      <td>0</td>\n",
              "      <td>\"The film starts with a manager (Nicholas Bell...</td>\n",
              "    </tr>\n",
              "    <tr>\n",
              "      <th>3</th>\n",
              "      <td>\"3630_4\"</td>\n",
              "      <td>0</td>\n",
              "      <td>\"It must be assumed that those who praised thi...</td>\n",
              "    </tr>\n",
              "    <tr>\n",
              "      <th>4</th>\n",
              "      <td>\"9495_8\"</td>\n",
              "      <td>1</td>\n",
              "      <td>\"Superbly trashy and wondrously unpretentious ...</td>\n",
              "    </tr>\n",
              "  </tbody>\n",
              "</table>\n",
              "</div>"
            ],
            "text/plain": [
              "         id  sentiment                                             review\n",
              "0  \"5814_8\"          1  \"With all this stuff going down at the moment ...\n",
              "1  \"2381_9\"          1  \"\\\"The Classic War of the Worlds\\\" by Timothy ...\n",
              "2  \"7759_3\"          0  \"The film starts with a manager (Nicholas Bell...\n",
              "3  \"3630_4\"          0  \"It must be assumed that those who praised thi...\n",
              "4  \"9495_8\"          1  \"Superbly trashy and wondrously unpretentious ..."
            ]
          },
          "metadata": {
            "tags": []
          },
          "execution_count": 7
        }
      ]
    },
    {
      "cell_type": "code",
      "metadata": {
        "id": "SOrWDOpGEzLz",
        "colab_type": "code",
        "colab": {
          "base_uri": "https://localhost:8080/",
          "height": 195
        },
        "outputId": "636d2b99-5483-4726-a083-eac837e6b40d"
      },
      "source": [
        "# train에 있는 평점정보인 sentiment가 없다.\n",
        "test.head()"
      ],
      "execution_count": 8,
      "outputs": [
        {
          "output_type": "execute_result",
          "data": {
            "text/html": [
              "<div>\n",
              "<style scoped>\n",
              "    .dataframe tbody tr th:only-of-type {\n",
              "        vertical-align: middle;\n",
              "    }\n",
              "\n",
              "    .dataframe tbody tr th {\n",
              "        vertical-align: top;\n",
              "    }\n",
              "\n",
              "    .dataframe thead th {\n",
              "        text-align: right;\n",
              "    }\n",
              "</style>\n",
              "<table border=\"1\" class=\"dataframe\">\n",
              "  <thead>\n",
              "    <tr style=\"text-align: right;\">\n",
              "      <th></th>\n",
              "      <th>id</th>\n",
              "      <th>review</th>\n",
              "    </tr>\n",
              "  </thead>\n",
              "  <tbody>\n",
              "    <tr>\n",
              "      <th>0</th>\n",
              "      <td>\"12311_10\"</td>\n",
              "      <td>\"Naturally in a film who's main themes are of ...</td>\n",
              "    </tr>\n",
              "    <tr>\n",
              "      <th>1</th>\n",
              "      <td>\"8348_2\"</td>\n",
              "      <td>\"This movie is a disaster within a disaster fi...</td>\n",
              "    </tr>\n",
              "    <tr>\n",
              "      <th>2</th>\n",
              "      <td>\"5828_4\"</td>\n",
              "      <td>\"All in all, this is a movie for kids. We saw ...</td>\n",
              "    </tr>\n",
              "    <tr>\n",
              "      <th>3</th>\n",
              "      <td>\"7186_2\"</td>\n",
              "      <td>\"Afraid of the Dark left me with the impressio...</td>\n",
              "    </tr>\n",
              "    <tr>\n",
              "      <th>4</th>\n",
              "      <td>\"12128_7\"</td>\n",
              "      <td>\"A very accurate depiction of small time mob l...</td>\n",
              "    </tr>\n",
              "  </tbody>\n",
              "</table>\n",
              "</div>"
            ],
            "text/plain": [
              "           id                                             review\n",
              "0  \"12311_10\"  \"Naturally in a film who's main themes are of ...\n",
              "1    \"8348_2\"  \"This movie is a disaster within a disaster fi...\n",
              "2    \"5828_4\"  \"All in all, this is a movie for kids. We saw ...\n",
              "3    \"7186_2\"  \"Afraid of the Dark left me with the impressio...\n",
              "4   \"12128_7\"  \"A very accurate depiction of small time mob l..."
            ]
          },
          "metadata": {
            "tags": []
          },
          "execution_count": 8
        }
      ]
    },
    {
      "cell_type": "code",
      "metadata": {
        "id": "bPZbHcRIHzy7",
        "colab_type": "code",
        "colab": {
          "resources": {
            "http://localhost:8080/nbextensions/google.colab/files.js": {
              "data": "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",
              "ok": true,
              "headers": [
                [
                  "content-type",
                  "application/javascript"
                ]
              ],
              "status": 200,
              "status_text": ""
            }
          },
          "base_uri": "https://localhost:8080/",
          "height": 115
        },
        "outputId": "4dfd6f90-9e3a-439f-8f29-ac064b9815f6"
      },
      "source": [
        "from google.colab import files\n",
        "files.upload()"
      ],
      "execution_count": 10,
      "outputs": [
        {
          "output_type": "display_data",
          "data": {
            "text/html": [
              "\n",
              "     <input type=\"file\" id=\"files-694858f3-ff43-49bc-9107-638e37c30177\" name=\"files[]\" multiple disabled />\n",
              "     <output id=\"result-694858f3-ff43-49bc-9107-638e37c30177\">\n",
              "      Upload widget is only available when the cell has been executed in the\n",
              "      current browser session. Please rerun this cell to enable.\n",
              "      </output>\n",
              "      <script src=\"/nbextensions/google.colab/files.js\"></script> "
            ],
            "text/plain": [
              "<IPython.core.display.HTML object>"
            ]
          },
          "metadata": {
            "tags": []
          }
        },
        {
          "output_type": "stream",
          "text": [
            "Saving KaggleWord2VecUtility.py to KaggleWord2VecUtility.py\n"
          ],
          "name": "stdout"
        },
        {
          "output_type": "execute_result",
          "data": {
            "text/plain": [
              "{'KaggleWord2VecUtility.py': b'import re\\r\\nimport nltk\\r\\n\\r\\nimport pandas as pd\\r\\nimport numpy as np\\r\\n\\r\\nfrom bs4 import BeautifulSoup\\r\\nfrom nltk.corpus import stopwords\\r\\nfrom nltk.stem.snowball import SnowballStemmer\\r\\n\\r\\nfrom multiprocessing import Pool\\r\\n\\r\\nclass KaggleWord2VecUtility(object):\\r\\n\\r\\n    @staticmethod\\r\\n    def review_to_wordlist(review, remove_stopwords=False):\\r\\n        # 1. HTML \\xec\\xa0\\x9c\\xea\\xb1\\xb0\\r\\n        review_text = BeautifulSoup(review, \"html.parser\").get_text()\\r\\n        # 2. \\xed\\x8a\\xb9\\xec\\x88\\x98\\xeb\\xac\\xb8\\xec\\x9e\\x90\\xeb\\xa5\\xbc \\xea\\xb3\\xb5\\xeb\\xb0\\xb1\\xec\\x9c\\xbc\\xeb\\xa1\\x9c \\xeb\\xb0\\x94\\xea\\xbf\\x94\\xec\\xa4\\x8c\\r\\n        review_text = re.sub(\\'[^a-zA-Z]\\', \\' \\', review_text)\\r\\n        # 3. \\xec\\x86\\x8c\\xeb\\xac\\xb8\\xec\\x9e\\x90\\xeb\\xa1\\x9c \\xeb\\xb3\\x80\\xed\\x99\\x98 \\xed\\x9b\\x84 \\xeb\\x82\\x98\\xeb\\x88\\x88\\xeb\\x8b\\xa4.\\r\\n        words = review_text.lower().split()\\r\\n        # 4. \\xeb\\xb6\\x88\\xec\\x9a\\xa9\\xec\\x96\\xb4 \\xec\\xa0\\x9c\\xea\\xb1\\xb0\\r\\n        if remove_stopwords:\\r\\n            stops = set(stopwords.words(\\'english\\'))\\r\\n            words = [w for w in words if not w in stops]\\r\\n        # 5. \\xec\\x96\\xb4\\xea\\xb0\\x84\\xec\\xb6\\x94\\xec\\xb6\\x9c\\r\\n        stemmer = SnowballStemmer(\\'english\\')\\r\\n        words = [stemmer.stem(w) for w in words]\\r\\n        # 6. \\xeb\\xa6\\xac\\xec\\x8a\\xa4\\xed\\x8a\\xb8 \\xed\\x98\\x95\\xed\\x83\\x9c\\xeb\\xa1\\x9c \\xeb\\xb0\\x98\\xed\\x99\\x98\\r\\n        return(words)\\r\\n\\r\\n    @staticmethod\\r\\n    def review_to_join_words( review, remove_stopwords=False ):\\r\\n        words = KaggleWord2VecUtility.review_to_wordlist(\\\\\\r\\n            review, remove_stopwords=False)\\r\\n        join_words = \\' \\'.join(words)\\r\\n        return join_words\\r\\n\\r\\n    @staticmethod\\r\\n    def review_to_sentences( review, remove_stopwords=False ):\\r\\n        # punkt tokenizer\\xeb\\xa5\\xbc \\xeb\\xa1\\x9c\\xeb\\x93\\x9c\\xed\\x95\\x9c\\xeb\\x8b\\xa4.\\r\\n        \"\"\"\\r\\n        \\xec\\x9d\\xb4 \\xeb\\x95\\x8c, pickle\\xec\\x9d\\x84 \\xec\\x82\\xac\\xec\\x9a\\xa9\\xed\\x95\\x98\\xeb\\x8a\\x94\\xeb\\x8d\\xb0\\r\\n        pickle\\xec\\x9d\\x84 \\xed\\x86\\xb5\\xed\\x95\\xb4 \\xea\\xb0\\x92\\xec\\x9d\\x84 \\xec\\xa0\\x80\\xec\\x9e\\xa5\\xed\\x95\\x98\\xeb\\xa9\\xb4 \\xec\\x9b\\x90\\xeb\\x9e\\x98 \\xeb\\xb3\\x80\\xec\\x88\\x98\\xec\\x97\\x90 \\xec\\x97\\xb0\\xea\\xb2\\xb0 \\xeb\\x90\\x9c \\xec\\xb0\\xb8\\xec\\xa1\\xb0\\xea\\xb0\\x92 \\xec\\x97\\xad\\xec\\x8b\\x9c \\xec\\xa0\\x80\\xec\\x9e\\xa5\\xeb\\x90\\x9c\\xeb\\x8b\\xa4.\\r\\n        \\xec\\xa0\\x80\\xec\\x9e\\xa5\\xeb\\x90\\x9c pickle\\xec\\x9d\\x84 \\xeb\\x8b\\xa4\\xec\\x8b\\x9c \\xec\\x9d\\xbd\\xec\\x9c\\xbc\\xeb\\xa9\\xb4 \\xeb\\xb3\\x80\\xec\\x88\\x98\\xec\\x97\\x90 \\xec\\x97\\xb0\\xea\\xb2\\xb0\\xeb\\x90\\x98\\xec\\x97\\x88\\xeb\\x8d\\x98\\r\\n        \\xeb\\xaa\\xa8\\xeb\\x93\\xa0 \\xeb\\xa0\\x88\\xed\\x8d\\xbc\\xeb\\x9f\\xb0\\xec\\x8a\\xa4\\xea\\xb0\\x80 \\xea\\xb3\\x84\\xec\\x86\\x8d \\xec\\xb0\\xb8\\xec\\xa1\\xb0 \\xec\\x83\\x81\\xed\\x83\\x9c\\xeb\\xa5\\xbc \\xec\\x9c\\xa0\\xec\\xa7\\x80\\xed\\x95\\x9c\\xeb\\x8b\\xa4.\\r\\n        \"\"\"\\r\\n        tokenizer = nltk.data.load(\\'tokenizers/punkt/english.pickle\\')\\r\\n        # 1. nltk tokenizer\\xeb\\xa5\\xbc \\xec\\x82\\xac\\xec\\x9a\\xa9\\xed\\x95\\xb4\\xec\\x84\\x9c \\xeb\\x8b\\xa8\\xec\\x96\\xb4\\xeb\\xa1\\x9c \\xed\\x86\\xa0\\xed\\x81\\xb0\\xed\\x99\\x94 \\xed\\x95\\x98\\xea\\xb3\\xa0 \\xea\\xb3\\xb5\\xeb\\xb0\\xb1 \\xeb\\x93\\xb1\\xec\\x9d\\x84 \\xec\\xa0\\x9c\\xea\\xb1\\xb0\\xed\\x95\\x9c\\xeb\\x8b\\xa4.\\r\\n        raw_sentences = tokenizer.tokenize(review.strip())\\r\\n        # 2. \\xea\\xb0\\x81 \\xeb\\xac\\xb8\\xec\\x9e\\xa5\\xec\\x9d\\x84 \\xec\\x88\\x9c\\xed\\x9a\\x8c\\xed\\x95\\x9c\\xeb\\x8b\\xa4.\\r\\n        sentences = []\\r\\n        for raw_sentence in raw_sentences:\\r\\n            # \\xeb\\xb9\\x84\\xec\\x96\\xb4\\xec\\x9e\\x88\\xeb\\x8b\\xa4\\xeb\\xa9\\xb4 skip\\r\\n            if len(raw_sentence) > 0:\\r\\n                # \\xed\\x83\\x9c\\xea\\xb7\\xb8\\xec\\xa0\\x9c\\xea\\xb1\\xb0, \\xec\\x95\\x8c\\xed\\x8c\\x8c\\xeb\\xb2\\xb3\\xeb\\xac\\xb8\\xec\\x9e\\x90\\xea\\xb0\\x80 \\xec\\x95\\x84\\xeb\\x8b\\x8c \\xea\\xb2\\x83\\xec\\x9d\\x80 \\xea\\xb3\\xb5\\xeb\\xb0\\xb1\\xec\\x9c\\xbc\\xeb\\xa1\\x9c \\xec\\xb9\\x98\\xed\\x99\\x98, \\xeb\\xb6\\x88\\xec\\x9a\\xa9\\xec\\x96\\xb4\\xec\\xa0\\x9c\\xea\\xb1\\xb0\\r\\n                sentences.append(\\\\\\r\\n                    KaggleWord2VecUtility.review_to_wordlist(\\\\\\r\\n                    raw_sentence, remove_stopwords))\\r\\n        return sentences\\r\\n\\r\\n\\r\\n    # \\xec\\xb0\\xb8\\xea\\xb3\\xa0 : https://gist.github.com/yong27/7869662\\r\\n    # http://www.racketracer.com/2016/07/06/pandas-in-parallel/\\r\\n    # \\xec\\x86\\x8d\\xeb\\x8f\\x84 \\xea\\xb0\\x9c\\xec\\x84\\xa0\\xec\\x9d\\x84 \\xec\\x9c\\x84\\xed\\x95\\xb4 \\xeb\\xa9\\x80\\xed\\x8b\\xb0 \\xec\\x8a\\xa4\\xeb\\xa0\\x88\\xeb\\x93\\x9c\\xeb\\xa1\\x9c \\xec\\x9e\\x91\\xec\\x97\\x85\\xed\\x95\\x98\\xeb\\x8f\\x84\\xeb\\xa1\\x9d\\r\\n    @staticmethod\\r\\n    def _apply_df(args):\\r\\n        df, func, kwargs = args\\r\\n        return df.apply(func, **kwargs)\\r\\n\\r\\n    @staticmethod\\r\\n    def apply_by_multiprocessing(df, func, **kwargs):\\r\\n        # \\xed\\x82\\xa4\\xec\\x9b\\x8c\\xeb\\x93\\x9c \\xed\\x95\\xad\\xeb\\xaa\\xa9 \\xec\\xa4\\x91 workers \\xed\\x8c\\x8c\\xeb\\x9d\\xbc\\xeb\\xa9\\x94\\xed\\x84\\xb0\\xeb\\xa5\\xbc \\xea\\xba\\xbc\\xeb\\x83\\x84\\r\\n        workers = kwargs.pop(\\'workers\\')\\r\\n        # \\xec\\x9c\\x84\\xec\\x97\\x90\\xec\\x84\\x9c \\xea\\xb0\\x80\\xec\\xa0\\xb8\\xec\\x98\\xa8 workers \\xec\\x88\\x98\\xeb\\xa1\\x9c \\xed\\x94\\x84\\xeb\\xa1\\x9c\\xec\\x84\\xb8\\xec\\x8a\\xa4 \\xed\\x92\\x80\\xec\\x9d\\x84 \\xec\\xa0\\x95\\xec\\x9d\\x98\\r\\n        pool = Pool(processes=workers)\\r\\n        # \\xec\\x8b\\xa4\\xed\\x96\\x89\\xed\\x95\\xa0 \\xed\\x95\\xa8\\xec\\x88\\x98\\xec\\x99\\x80 \\xeb\\x8d\\xb0\\xec\\x9d\\xb4\\xed\\x84\\xb0\\xed\\x94\\x84\\xeb\\xa0\\x88\\xec\\x9e\\x84\\xec\\x9d\\x84 \\xec\\x9b\\x8c\\xec\\xbb\\xa4\\xec\\x9d\\x98 \\xec\\x88\\x98 \\xeb\\xa7\\x8c\\xed\\x81\\xbc \\xeb\\x82\\x98\\xeb\\x88\\xa0 \\xec\\x9e\\x91\\xec\\x97\\x85\\r\\n        result = pool.map(KaggleWord2VecUtility._apply_df, [(d, func, kwargs)\\r\\n                for d in np.array_split(df, workers)])\\r\\n        pool.close()\\r\\n        # \\xec\\x9e\\x91\\xec\\x97\\x85 \\xea\\xb2\\xb0\\xea\\xb3\\xbc\\xeb\\xa5\\xbc \\xed\\x95\\xa9\\xec\\xb3\\x90\\xec\\x84\\x9c \\xeb\\xb0\\x98\\xed\\x99\\x98\\r\\n        return pd.concat(result)'}"
            ]
          },
          "metadata": {
            "tags": []
          },
          "execution_count": 10
        }
      ]
    },
    {
      "cell_type": "code",
      "metadata": {
        "id": "8gStXPSTH17J",
        "colab_type": "code",
        "colab": {}
      },
      "source": [
        "from KaggleWord2VecUtility import KaggleWord2VecUtility\n"
      ],
      "execution_count": 0,
      "outputs": []
    },
    {
      "cell_type": "code",
      "metadata": {
        "id": "iMWMNOzII2yy",
        "colab_type": "code",
        "colab": {}
      },
      "source": [
        ""
      ],
      "execution_count": 0,
      "outputs": []
    }
  ]
}