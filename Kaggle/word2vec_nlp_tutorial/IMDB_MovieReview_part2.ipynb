{
  "nbformat": 4,
  "nbformat_minor": 0,
  "metadata": {
    "colab": {
      "name": "IMDB_MovieReview_part2.ipynb",
      "version": "0.3.2",
      "provenance": [],
      "collapsed_sections": []
    },
    "kernelspec": {
      "name": "python3",
      "display_name": "Python 3"
    },
    "accelerator": "GPU"
  },
  "cells": [
    {
      "cell_type": "code",
      "metadata": {
        "id": "kz25aKKJEs-H",
        "colab_type": "code",
        "outputId": "2cd5175d-a15d-46dc-dc51-f81991116ad8",
        "colab": {
          "base_uri": "https://localhost:8080/",
          "height": 54
        }
      },
      "source": [
        "from google.colab import drive\n",
        "drive.mount('/content/drive')"
      ],
      "execution_count": 0,
      "outputs": [
        {
          "output_type": "stream",
          "text": [
            "Drive already mounted at /content/drive; to attempt to forcibly remount, call drive.mount(\"/content/drive\", force_remount=True).\n"
          ],
          "name": "stdout"
        }
      ]
    },
    {
      "cell_type": "code",
      "metadata": {
        "id": "8JJYEjFBGAfF",
        "colab_type": "code",
        "colab": {}
      },
      "source": [
        "import pandas as pd\n",
        "import numpy as np\n",
        "import seaborn as sns\n",
        "import matplotlib as mpl\n",
        "import matplotlib.pyplot as plt\n",
        "from scipy import stats\n",
        "\n",
        "# 노트북 안에 그래프를 그리기 위해\n",
        "%matplotlib inline\n",
        " \n",
        "# 그래프에서 격자로 숫자 범위가 눈에 잘 띄도록 ggplot 스타일을 사용\n",
        "plt.style.use('ggplot')\n",
        "\n",
        "# 그래프에서 마이너스 폰트 깨지는 문제에 대한 대처\n",
        "mpl.rcParams['axes.unicode_minus'] = False"
      ],
      "execution_count": 0,
      "outputs": []
    },
    {
      "cell_type": "markdown",
      "metadata": {
        "id": "GSveqRObVHzI",
        "colab_type": "text"
      },
      "source": [
        "\n",
        "# Bag of Words Meets Bags of Popcorn\n",
        "##튜토리얼 파트 2 Word Vectors \n",
        "- 딥러닝 기법인 Word2Vec을 통해 단어를 벡터화 해본다.\n",
        "- t-SNE를 통해 벡터화 한 데이터를 시각화 해본다.\n",
        "- 딥러닝과 지도학습의 랜덤포레스트를 사용하는 하이브리드 방식을 사용한다.\n",
        "## Word2Vec(Word Embedding to Vector)\n",
        "\n",
        "컴퓨터는 숫자만 인식할 수 있고 한글, 이미지는 바이너리 코드로 저장 된다. 튜토리얼 파트1에서는 Bag of Word라는 개념을 사용해서 문자를 벡터화 하여 머신러닝 알고리즘이 이해할 수 있도록 벡터화 해주는 작업을 하였다.\n",
        "\n",
        "- one hot encoding(예 [0000001000]) 혹은 Bag of Word에서 vector size가 매우 크고 sparse 하므로 neural net 성능이 잘 나오지 않는다.\n",
        "- 주위 단어가 비슷하면 해당 단어의 의미는 유사하다 라는 아이디어\n",
        "- 단어를 트레이닝 시킬 때 주위 단어를 label로 매치하여 최적화\n",
        "- 단어를 의미를 내포한 dense vector로 매칭 시키는 것\n",
        "- Word2Vec은 분산 된 텍스트 표현을 사용하여 개념 간 유사성을 본다. 예를 들어, 파리와 프랑스가 베를린과 독일이 (수도와 나라) 같은 방식으로 관련되어 있음을 이해한다.\n",
        "\n",
        "\n",
        "Bag of Words Meets Bags of Popcorn\n",
        "튜토리얼 파트 2 Word Vectors\n",
        "딥러닝 기법인 Word2Vec을 통해 단어를 벡터화 해본다.\n",
        "t-SNE를 통해 벡터화 한 데이터를 시각화 해본다.\n",
        "딥러닝과 지도학습의 랜덤포레스트를 사용하는 하이브리드 방식을 사용한다.\n",
        "Word2Vec(Word Embedding to Vector)\n",
        "컴퓨터는 숫자만 인식할 수 있고 한글, 이미지는 바이너리 코드로 저장 된다. 튜토리얼 파트1에서는 Bag of Word라는 개념을 사용해서 문자를 벡터화 하여 머신러닝 알고리즘이 이해할 수 있도록 벡터화 해주는 작업을 하였다.\n",
        "\n",
        "one hot encoding(예 [0000001000]) 혹은 Bag of Word에서 vector size가 매우 크고 sparse 하므로 neural net 성능이 잘 나오지 않는다.\n",
        "주위 단어가 비슷하면 해당 단어의 의미는 유사하다 라는 아이디어\n",
        "단어를 트레이닝 시킬 때 주위 단어를 label로 매치하여 최적화\n",
        "단어를 의미를 내포한 dense vector로 매칭 시키는 것\n",
        "\n",
        "Word2Vec은 분산 된 텍스트 표현을 사용하여 개념 간 유사성을 본다. 예를 들어, 파리와 프랑스가 베를린과 독일이 (수도와 나라) 같은 방식으로 관련되어 있음을 이해한다.\n",
        "\n",
        "word2vec 이미지 출처 : https://opensource.googleblog.com/2013/08/learning-meaning-behind-words.html\n",
        "\n",
        "단어의 임베딩과정을 실시간으로 시각화 : word embedding visual inspector\n",
        "CBOW와 Skip-Gram 출처 : https://arxiv.org/pdf/1301.3781.pdf Tomas Mikolov, Ilya Sutskever, Kai Chen, Greg Corrado, and Jeffrey Dean. Distributed Representations of Words and Phrases and their Compositionality. In Proceedings of NIPS, 2013.\n",
        "\n",
        "- CBOW와 Skip-Gram기법이 있다.\n",
        "\n",
        "- CBOW(continuous bag-of-words)는 전체 텍스트로 하나의 단어를 예측하기 때문에 작은 데이터셋일 수록 유리하다.\n",
        "아래 예제에서 __ 에 들어갈 단어를 예측한다.\n",
        "\n",
        "    1) __가 맛있다. \n",
        "\n",
        "    2) __를 타는 것이 재미있다. \n",
        "\n",
        "    3) 평소보다 두 __로 많이 먹어서 __가 아프다.\n",
        "\n",
        "- Skip-Gram은 타겟 단어들로부터 원본 단어를 역으로 예측하는 것이다. CBOW와는 반대로 컨텍스트-타겟 쌍을 새로운 발견으로 처리하고 큰 규모의 데이터셋을 가질 때 유리하다.\n",
        "\n",
        "- 배라는 단어 주변에 올 수 있는 단어를 예측한다.\n",
        "\n",
        "    1) *배*가 맛있다. \n",
        "\n",
        "    2) *배*를 타는 것이 재미있다. \n",
        "\n",
        "    3) 평소보다 두 *배*로 많이 먹어서 *배*가 아프다.\n",
        "\n",
        "## Word2Vec 참고자료\n",
        "- [word2vec 모델 · 텐서플로우 문서 한글 번역본](https://tensorflowkorea.gitbooks.io/tensorflow-kr/g3doc/tutorials/word2vec/)\n",
        "- [Word2Vec으로 문장 분류하기 · ratsgo's blog](https://ratsgo.github.io/natural%20language%20processing/2017/03/08/word2vec/)\n",
        "\n",
        "- [Efficient Estimation of Word Representations in Vector Space](https://arxiv.org/pdf/1301.3781v3.pdf)\n",
        "\n",
        "- [Distributed Representations of Words and Phrases and their Compositionality](http://papers.nips.cc/paper/5021-distributed-representations-of-words-and-phrases-and-their-compositionality.pdf)\n",
        "- [CS224n: Natural Language Processing with Deep Learning](http://web.stanford.edu/class/cs224n/syllabus.html)\n",
        "- [Word2Vec Tutorial - The Skip-Gram Model · Chris McCormick](http://mccormickml.com/2016/04/19/word2vec-tutorial-the-skip-gram-model/)\n",
        "## Gensim\n",
        "- [gensim: models.word2vec – Deep learning with word2vec](https://radimrehurek.com/gensim/models/word2vec.html)\n",
        "- [gensim: Tutorials](https://radimrehurek.com/gensim/tutorial.html)\n",
        "- [한국어와 NLTK, Gensim의 만남 - PyCon Korea 2015](https://www.lucypark.kr/docs/2015-pyconkr/)"
      ]
    },
    {
      "cell_type": "code",
      "metadata": {
        "id": "DbGi-xX9GM-F",
        "colab_type": "code",
        "outputId": "31f25e8c-e34e-4288-952c-fefb054b7583",
        "colab": {
          "base_uri": "https://localhost:8080/",
          "height": 122
        }
      },
      "source": [
        "train = pd.read_csv('/content/drive/My Drive/ML/word2vec_nlp_tutorial/labeledTrainData.tsv', header=0, delimiter='\\t', quoting=3)\n",
        "test = pd.read_csv('/content/drive/My Drive/ML/word2vec_nlp_tutorial/testData.tsv', header=0, delimiter='\\t', quoting=3)\n",
        "unlabeled_train = pd.read_csv('/content/drive/My Drive/ML/word2vec_nlp_tutorial/unlabeledTrainData.tsv',header=0, delimiter='\\t', quoting=3)\n",
        "\n",
        "print(train.shape)\n",
        "print(test.shape)\n",
        "print(unlabeled_train.shape)\n",
        "\n",
        "print(train['review'].size)\n",
        "print(test['review'].size)\n",
        "print(unlabeled_train['review'].size)"
      ],
      "execution_count": 0,
      "outputs": [
        {
          "output_type": "stream",
          "text": [
            "(25000, 3)\n",
            "(25000, 2)\n",
            "(50000, 2)\n",
            "25000\n",
            "25000\n",
            "50000\n"
          ],
          "name": "stdout"
        }
      ]
    },
    {
      "cell_type": "code",
      "metadata": {
        "id": "eQuAttTia--y",
        "colab_type": "code",
        "outputId": "1e06e667-7f1c-484d-a83f-c7065ff67671",
        "colab": {
          "base_uri": "https://localhost:8080/",
          "height": 195
        }
      },
      "source": [
        "train.head()\n"
      ],
      "execution_count": 0,
      "outputs": [
        {
          "output_type": "execute_result",
          "data": {
            "text/html": [
              "<div>\n",
              "<style scoped>\n",
              "    .dataframe tbody tr th:only-of-type {\n",
              "        vertical-align: middle;\n",
              "    }\n",
              "\n",
              "    .dataframe tbody tr th {\n",
              "        vertical-align: top;\n",
              "    }\n",
              "\n",
              "    .dataframe thead th {\n",
              "        text-align: right;\n",
              "    }\n",
              "</style>\n",
              "<table border=\"1\" class=\"dataframe\">\n",
              "  <thead>\n",
              "    <tr style=\"text-align: right;\">\n",
              "      <th></th>\n",
              "      <th>id</th>\n",
              "      <th>sentiment</th>\n",
              "      <th>review</th>\n",
              "    </tr>\n",
              "  </thead>\n",
              "  <tbody>\n",
              "    <tr>\n",
              "      <th>0</th>\n",
              "      <td>\"5814_8\"</td>\n",
              "      <td>1</td>\n",
              "      <td>\"With all this stuff going down at the moment ...</td>\n",
              "    </tr>\n",
              "    <tr>\n",
              "      <th>1</th>\n",
              "      <td>\"2381_9\"</td>\n",
              "      <td>1</td>\n",
              "      <td>\"\\\"The Classic War of the Worlds\\\" by Timothy ...</td>\n",
              "    </tr>\n",
              "    <tr>\n",
              "      <th>2</th>\n",
              "      <td>\"7759_3\"</td>\n",
              "      <td>0</td>\n",
              "      <td>\"The film starts with a manager (Nicholas Bell...</td>\n",
              "    </tr>\n",
              "    <tr>\n",
              "      <th>3</th>\n",
              "      <td>\"3630_4\"</td>\n",
              "      <td>0</td>\n",
              "      <td>\"It must be assumed that those who praised thi...</td>\n",
              "    </tr>\n",
              "    <tr>\n",
              "      <th>4</th>\n",
              "      <td>\"9495_8\"</td>\n",
              "      <td>1</td>\n",
              "      <td>\"Superbly trashy and wondrously unpretentious ...</td>\n",
              "    </tr>\n",
              "  </tbody>\n",
              "</table>\n",
              "</div>"
            ],
            "text/plain": [
              "         id  sentiment                                             review\n",
              "0  \"5814_8\"          1  \"With all this stuff going down at the moment ...\n",
              "1  \"2381_9\"          1  \"\\\"The Classic War of the Worlds\\\" by Timothy ...\n",
              "2  \"7759_3\"          0  \"The film starts with a manager (Nicholas Bell...\n",
              "3  \"3630_4\"          0  \"It must be assumed that those who praised thi...\n",
              "4  \"9495_8\"          1  \"Superbly trashy and wondrously unpretentious ..."
            ]
          },
          "metadata": {
            "tags": []
          },
          "execution_count": 4
        }
      ]
    },
    {
      "cell_type": "code",
      "metadata": {
        "id": "SOrWDOpGEzLz",
        "colab_type": "code",
        "outputId": "03f443ab-5c1e-43ae-eed2-31ceac643ac5",
        "colab": {
          "base_uri": "https://localhost:8080/",
          "height": 195
        }
      },
      "source": [
        "# train에 있는 평점정보인 sentiment가 없다.\n",
        "test.head()"
      ],
      "execution_count": 0,
      "outputs": [
        {
          "output_type": "execute_result",
          "data": {
            "text/html": [
              "<div>\n",
              "<style scoped>\n",
              "    .dataframe tbody tr th:only-of-type {\n",
              "        vertical-align: middle;\n",
              "    }\n",
              "\n",
              "    .dataframe tbody tr th {\n",
              "        vertical-align: top;\n",
              "    }\n",
              "\n",
              "    .dataframe thead th {\n",
              "        text-align: right;\n",
              "    }\n",
              "</style>\n",
              "<table border=\"1\" class=\"dataframe\">\n",
              "  <thead>\n",
              "    <tr style=\"text-align: right;\">\n",
              "      <th></th>\n",
              "      <th>id</th>\n",
              "      <th>review</th>\n",
              "    </tr>\n",
              "  </thead>\n",
              "  <tbody>\n",
              "    <tr>\n",
              "      <th>0</th>\n",
              "      <td>\"12311_10\"</td>\n",
              "      <td>\"Naturally in a film who's main themes are of ...</td>\n",
              "    </tr>\n",
              "    <tr>\n",
              "      <th>1</th>\n",
              "      <td>\"8348_2\"</td>\n",
              "      <td>\"This movie is a disaster within a disaster fi...</td>\n",
              "    </tr>\n",
              "    <tr>\n",
              "      <th>2</th>\n",
              "      <td>\"5828_4\"</td>\n",
              "      <td>\"All in all, this is a movie for kids. We saw ...</td>\n",
              "    </tr>\n",
              "    <tr>\n",
              "      <th>3</th>\n",
              "      <td>\"7186_2\"</td>\n",
              "      <td>\"Afraid of the Dark left me with the impressio...</td>\n",
              "    </tr>\n",
              "    <tr>\n",
              "      <th>4</th>\n",
              "      <td>\"12128_7\"</td>\n",
              "      <td>\"A very accurate depiction of small time mob l...</td>\n",
              "    </tr>\n",
              "  </tbody>\n",
              "</table>\n",
              "</div>"
            ],
            "text/plain": [
              "           id                                             review\n",
              "0  \"12311_10\"  \"Naturally in a film who's main themes are of ...\n",
              "1    \"8348_2\"  \"This movie is a disaster within a disaster fi...\n",
              "2    \"5828_4\"  \"All in all, this is a movie for kids. We saw ...\n",
              "3    \"7186_2\"  \"Afraid of the Dark left me with the impressio...\n",
              "4   \"12128_7\"  \"A very accurate depiction of small time mob l..."
            ]
          },
          "metadata": {
            "tags": []
          },
          "execution_count": 5
        }
      ]
    },
    {
      "cell_type": "code",
      "metadata": {
        "id": "bPZbHcRIHzy7",
        "colab_type": "code",
        "outputId": "4a342804-f91b-466f-aa68-16c78aa63216",
        "colab": {
          "resources": {
            "http://localhost:8080/nbextensions/google.colab/files.js": {
              "data": "Ly8gQ29weXJpZ2h0IDIwMTcgR29vZ2xlIExMQwovLwovLyBMaWNlbnNlZCB1bmRlciB0aGUgQXBhY2hlIExpY2Vuc2UsIFZlcnNpb24gMi4wICh0aGUgIkxpY2Vuc2UiKTsKLy8geW91IG1heSBub3QgdXNlIHRoaXMgZmlsZSBleGNlcHQgaW4gY29tcGxpYW5jZSB3aXRoIHRoZSBMaWNlbnNlLgovLyBZb3UgbWF5IG9idGFpbiBhIGNvcHkgb2YgdGhlIExpY2Vuc2UgYXQKLy8KLy8gICAgICBodHRwOi8vd3d3LmFwYWNoZS5vcmcvbGljZW5zZXMvTElDRU5TRS0yLjAKLy8KLy8gVW5sZXNzIHJlcXVpcmVkIGJ5IGFwcGxpY2FibGUgbGF3IG9yIGFncmVlZCB0byBpbiB3cml0aW5nLCBzb2Z0d2FyZQovLyBkaXN0cmlidXRlZCB1bmRlciB0aGUgTGljZW5zZSBpcyBkaXN0cmlidXRlZCBvbiBhbiAiQVMgSVMiIEJBU0lTLAovLyBXSVRIT1VUIFdBUlJBTlRJRVMgT1IgQ09ORElUSU9OUyBPRiBBTlkgS0lORCwgZWl0aGVyIGV4cHJlc3Mgb3IgaW1wbGllZC4KLy8gU2VlIHRoZSBMaWNlbnNlIGZvciB0aGUgc3BlY2lmaWMgbGFuZ3VhZ2UgZ292ZXJuaW5nIHBlcm1pc3Npb25zIGFuZAovLyBsaW1pdGF0aW9ucyB1bmRlciB0aGUgTGljZW5zZS4KCi8qKgogKiBAZmlsZW92ZXJ2aWV3IEhlbHBlcnMgZm9yIGdvb2dsZS5jb2xhYiBQeXRob24gbW9kdWxlLgogKi8KKGZ1bmN0aW9uKHNjb3BlKSB7CmZ1bmN0aW9uIHNwYW4odGV4dCwgc3R5bGVBdHRyaWJ1dGVzID0ge30pIHsKICBjb25zdCBlbGVtZW50ID0gZG9jdW1lbnQuY3JlYXRlRWxlbWVudCgnc3BhbicpOwogIGVsZW1lbnQudGV4dENvbnRlbnQgPSB0ZXh0OwogIGZvciAoY29uc3Qga2V5IG9mIE9iamVjdC5rZXlzKHN0eWxlQXR0cmlidXRlcykpIHsKICAgIGVsZW1lbnQuc3R5bGVba2V5XSA9IHN0eWxlQXR0cmlidXRlc1trZXldOwogIH0KICByZXR1cm4gZWxlbWVudDsKfQoKLy8gTWF4IG51bWJlciBvZiBieXRlcyB3aGljaCB3aWxsIGJlIHVwbG9hZGVkIGF0IGEgdGltZS4KY29uc3QgTUFYX1BBWUxPQURfU0laRSA9IDEwMCAqIDEwMjQ7Ci8vIE1heCBhbW91bnQgb2YgdGltZSB0byBibG9jayB3YWl0aW5nIGZvciB0aGUgdXNlci4KY29uc3QgRklMRV9DSEFOR0VfVElNRU9VVF9NUyA9IDMwICogMTAwMDsKCmZ1bmN0aW9uIF91cGxvYWRGaWxlcyhpbnB1dElkLCBvdXRwdXRJZCkgewogIGNvbnN0IHN0ZXBzID0gdXBsb2FkRmlsZXNTdGVwKGlucHV0SWQsIG91dHB1dElkKTsKICBjb25zdCBvdXRwdXRFbGVtZW50ID0gZG9jdW1lbnQuZ2V0RWxlbWVudEJ5SWQob3V0cHV0SWQpOwogIC8vIENhY2hlIHN0ZXBzIG9uIHRoZSBvdXRwdXRFbGVtZW50IHRvIG1ha2UgaXQgYXZhaWxhYmxlIGZvciB0aGUgbmV4dCBjYWxsCiAgLy8gdG8gdXBsb2FkRmlsZXNDb250aW51ZSBmcm9tIFB5dGhvbi4KICBvdXRwdXRFbGVtZW50LnN0ZXBzID0gc3RlcHM7CgogIHJldHVybiBfdXBsb2FkRmlsZXNDb250aW51ZShvdXRwdXRJZCk7Cn0KCi8vIFRoaXMgaXMgcm91Z2hseSBhbiBhc3luYyBnZW5lcmF0b3IgKG5vdCBzdXBwb3J0ZWQgaW4gdGhlIGJyb3dzZXIgeWV0KSwKLy8gd2hlcmUgdGhlcmUgYXJlIG11bHRpcGxlIGFzeW5jaHJvbm91cyBzdGVwcyBhbmQgdGhlIFB5dGhvbiBzaWRlIGlzIGdvaW5nCi8vIHRvIHBvbGwgZm9yIGNvbXBsZXRpb24gb2YgZWFjaCBzdGVwLgovLyBUaGlzIHVzZXMgYSBQcm9taXNlIHRvIGJsb2NrIHRoZSBweXRob24gc2lkZSBvbiBjb21wbGV0aW9uIG9mIGVhY2ggc3RlcCwKLy8gdGhlbiBwYXNzZXMgdGhlIHJlc3VsdCBvZiB0aGUgcHJldmlvdXMgc3RlcCBhcyB0aGUgaW5wdXQgdG8gdGhlIG5leHQgc3RlcC4KZnVuY3Rpb24gX3VwbG9hZEZpbGVzQ29udGludWUob3V0cHV0SWQpIHsKICBjb25zdCBvdXRwdXRFbGVtZW50ID0gZG9jdW1lbnQuZ2V0RWxlbWVudEJ5SWQob3V0cHV0SWQpOwogIGNvbnN0IHN0ZXBzID0gb3V0cHV0RWxlbWVudC5zdGVwczsKCiAgY29uc3QgbmV4dCA9IHN0ZXBzLm5leHQob3V0cHV0RWxlbWVudC5sYXN0UHJvbWlzZVZhbHVlKTsKICByZXR1cm4gUHJvbWlzZS5yZXNvbHZlKG5leHQudmFsdWUucHJvbWlzZSkudGhlbigodmFsdWUpID0+IHsKICAgIC8vIENhY2hlIHRoZSBsYXN0IHByb21pc2UgdmFsdWUgdG8gbWFrZSBpdCBhdmFpbGFibGUgdG8gdGhlIG5leHQKICAgIC8vIHN0ZXAgb2YgdGhlIGdlbmVyYXRvci4KICAgIG91dHB1dEVsZW1lbnQubGFzdFByb21pc2VWYWx1ZSA9IHZhbHVlOwogICAgcmV0dXJuIG5leHQudmFsdWUucmVzcG9uc2U7CiAgfSk7Cn0KCi8qKgogKiBHZW5lcmF0b3IgZnVuY3Rpb24gd2hpY2ggaXMgY2FsbGVkIGJldHdlZW4gZWFjaCBhc3luYyBzdGVwIG9mIHRoZSB1cGxvYWQKICogcHJvY2Vzcy4KICogQHBhcmFtIHtzdHJpbmd9IGlucHV0SWQgRWxlbWVudCBJRCBvZiB0aGUgaW5wdXQgZmlsZSBwaWNrZXIgZWxlbWVudC4KICogQHBhcmFtIHtzdHJpbmd9IG91dHB1dElkIEVsZW1lbnQgSUQgb2YgdGhlIG91dHB1dCBkaXNwbGF5LgogKiBAcmV0dXJuIHshSXRlcmFibGU8IU9iamVjdD59IEl0ZXJhYmxlIG9mIG5leHQgc3RlcHMuCiAqLwpmdW5jdGlvbiogdXBsb2FkRmlsZXNTdGVwKGlucHV0SWQsIG91dHB1dElkKSB7CiAgY29uc3QgaW5wdXRFbGVtZW50ID0gZG9jdW1lbnQuZ2V0RWxlbWVudEJ5SWQoaW5wdXRJZCk7CiAgaW5wdXRFbGVtZW50LmRpc2FibGVkID0gZmFsc2U7CgogIGNvbnN0IG91dHB1dEVsZW1lbnQgPSBkb2N1bWVudC5nZXRFbGVtZW50QnlJZChvdXRwdXRJZCk7CiAgb3V0cHV0RWxlbWVudC5pbm5lckhUTUwgPSAnJzsKCiAgY29uc3QgcGlja2VkUHJvbWlzZSA9IG5ldyBQcm9taXNlKChyZXNvbHZlKSA9PiB7CiAgICBpbnB1dEVsZW1lbnQuYWRkRXZlbnRMaXN0ZW5lcignY2hhbmdlJywgKGUpID0+IHsKICAgICAgcmVzb2x2ZShlLnRhcmdldC5maWxlcyk7CiAgICB9KTsKICB9KTsKCiAgY29uc3QgY2FuY2VsID0gZG9jdW1lbnQuY3JlYXRlRWxlbWVudCgnYnV0dG9uJyk7CiAgaW5wdXRFbGVtZW50LnBhcmVudEVsZW1lbnQuYXBwZW5kQ2hpbGQoY2FuY2VsKTsKICBjYW5jZWwudGV4dENvbnRlbnQgPSAnQ2FuY2VsIHVwbG9hZCc7CiAgY29uc3QgY2FuY2VsUHJvbWlzZSA9IG5ldyBQcm9taXNlKChyZXNvbHZlKSA9PiB7CiAgICBjYW5jZWwub25jbGljayA9ICgpID0+IHsKICAgICAgcmVzb2x2ZShudWxsKTsKICAgIH07CiAgfSk7CgogIC8vIENhbmNlbCB1cGxvYWQgaWYgdXNlciBoYXNuJ3QgcGlja2VkIGFueXRoaW5nIGluIHRpbWVvdXQuCiAgY29uc3QgdGltZW91dFByb21pc2UgPSBuZXcgUHJvbWlzZSgocmVzb2x2ZSkgPT4gewogICAgc2V0VGltZW91dCgoKSA9PiB7CiAgICAgIHJlc29sdmUobnVsbCk7CiAgICB9LCBGSUxFX0NIQU5HRV9USU1FT1VUX01TKTsKICB9KTsKCiAgLy8gV2FpdCBmb3IgdGhlIHVzZXIgdG8gcGljayB0aGUgZmlsZXMuCiAgY29uc3QgZmlsZXMgPSB5aWVsZCB7CiAgICBwcm9taXNlOiBQcm9taXNlLnJhY2UoW3BpY2tlZFByb21pc2UsIHRpbWVvdXRQcm9taXNlLCBjYW5jZWxQcm9taXNlXSksCiAgICByZXNwb25zZTogewogICAgICBhY3Rpb246ICdzdGFydGluZycsCiAgICB9CiAgfTsKCiAgaWYgKCFmaWxlcykgewogICAgcmV0dXJuIHsKICAgICAgcmVzcG9uc2U6IHsKICAgICAgICBhY3Rpb246ICdjb21wbGV0ZScsCiAgICAgIH0KICAgIH07CiAgfQoKICBjYW5jZWwucmVtb3ZlKCk7CgogIC8vIERpc2FibGUgdGhlIGlucHV0IGVsZW1lbnQgc2luY2UgZnVydGhlciBwaWNrcyBhcmUgbm90IGFsbG93ZWQuCiAgaW5wdXRFbGVtZW50LmRpc2FibGVkID0gdHJ1ZTsKCiAgZm9yIChjb25zdCBmaWxlIG9mIGZpbGVzKSB7CiAgICBjb25zdCBsaSA9IGRvY3VtZW50LmNyZWF0ZUVsZW1lbnQoJ2xpJyk7CiAgICBsaS5hcHBlbmQoc3BhbihmaWxlLm5hbWUsIHtmb250V2VpZ2h0OiAnYm9sZCd9KSk7CiAgICBsaS5hcHBlbmQoc3BhbigKICAgICAgICBgKCR7ZmlsZS50eXBlIHx8ICduL2EnfSkgLSAke2ZpbGUuc2l6ZX0gYnl0ZXMsIGAgKwogICAgICAgIGBsYXN0IG1vZGlmaWVkOiAkewogICAgICAgICAgICBmaWxlLmxhc3RNb2RpZmllZERhdGUgPyBmaWxlLmxhc3RNb2RpZmllZERhdGUudG9Mb2NhbGVEYXRlU3RyaW5nKCkgOgogICAgICAgICAgICAgICAgICAgICAgICAgICAgICAgICAgICAnbi9hJ30gLSBgKSk7CiAgICBjb25zdCBwZXJjZW50ID0gc3BhbignMCUgZG9uZScpOwogICAgbGkuYXBwZW5kQ2hpbGQocGVyY2VudCk7CgogICAgb3V0cHV0RWxlbWVudC5hcHBlbmRDaGlsZChsaSk7CgogICAgY29uc3QgZmlsZURhdGFQcm9taXNlID0gbmV3IFByb21pc2UoKHJlc29sdmUpID0+IHsKICAgICAgY29uc3QgcmVhZGVyID0gbmV3IEZpbGVSZWFkZXIoKTsKICAgICAgcmVhZGVyLm9ubG9hZCA9IChlKSA9PiB7CiAgICAgICAgcmVzb2x2ZShlLnRhcmdldC5yZXN1bHQpOwogICAgICB9OwogICAgICByZWFkZXIucmVhZEFzQXJyYXlCdWZmZXIoZmlsZSk7CiAgICB9KTsKICAgIC8vIFdhaXQgZm9yIHRoZSBkYXRhIHRvIGJlIHJlYWR5LgogICAgbGV0IGZpbGVEYXRhID0geWllbGQgewogICAgICBwcm9taXNlOiBmaWxlRGF0YVByb21pc2UsCiAgICAgIHJlc3BvbnNlOiB7CiAgICAgICAgYWN0aW9uOiAnY29udGludWUnLAogICAgICB9CiAgICB9OwoKICAgIC8vIFVzZSBhIGNodW5rZWQgc2VuZGluZyB0byBhdm9pZCBtZXNzYWdlIHNpemUgbGltaXRzLiBTZWUgYi82MjExNTY2MC4KICAgIGxldCBwb3NpdGlvbiA9IDA7CiAgICB3aGlsZSAocG9zaXRpb24gPCBmaWxlRGF0YS5ieXRlTGVuZ3RoKSB7CiAgICAgIGNvbnN0IGxlbmd0aCA9IE1hdGgubWluKGZpbGVEYXRhLmJ5dGVMZW5ndGggLSBwb3NpdGlvbiwgTUFYX1BBWUxPQURfU0laRSk7CiAgICAgIGNvbnN0IGNodW5rID0gbmV3IFVpbnQ4QXJyYXkoZmlsZURhdGEsIHBvc2l0aW9uLCBsZW5ndGgpOwogICAgICBwb3NpdGlvbiArPSBsZW5ndGg7CgogICAgICBjb25zdCBiYXNlNjQgPSBidG9hKFN0cmluZy5mcm9tQ2hhckNvZGUuYXBwbHkobnVsbCwgY2h1bmspKTsKICAgICAgeWllbGQgewogICAgICAgIHJlc3BvbnNlOiB7CiAgICAgICAgICBhY3Rpb246ICdhcHBlbmQnLAogICAgICAgICAgZmlsZTogZmlsZS5uYW1lLAogICAgICAgICAgZGF0YTogYmFzZTY0LAogICAgICAgIH0sCiAgICAgIH07CiAgICAgIHBlcmNlbnQudGV4dENvbnRlbnQgPQogICAgICAgICAgYCR7TWF0aC5yb3VuZCgocG9zaXRpb24gLyBmaWxlRGF0YS5ieXRlTGVuZ3RoKSAqIDEwMCl9JSBkb25lYDsKICAgIH0KICB9CgogIC8vIEFsbCBkb25lLgogIHlpZWxkIHsKICAgIHJlc3BvbnNlOiB7CiAgICAgIGFjdGlvbjogJ2NvbXBsZXRlJywKICAgIH0KICB9Owp9CgpzY29wZS5nb29nbGUgPSBzY29wZS5nb29nbGUgfHwge307CnNjb3BlLmdvb2dsZS5jb2xhYiA9IHNjb3BlLmdvb2dsZS5jb2xhYiB8fCB7fTsKc2NvcGUuZ29vZ2xlLmNvbGFiLl9maWxlcyA9IHsKICBfdXBsb2FkRmlsZXMsCiAgX3VwbG9hZEZpbGVzQ29udGludWUsCn07Cn0pKHNlbGYpOwo=",
              "ok": true,
              "headers": [
                [
                  "content-type",
                  "application/javascript"
                ]
              ],
              "status": 200,
              "status_text": ""
            }
          },
          "base_uri": "https://localhost:8080/",
          "height": 115
        }
      },
      "source": [
        "from google.colab import files\n",
        "files.upload()"
      ],
      "execution_count": 0,
      "outputs": [
        {
          "output_type": "display_data",
          "data": {
            "text/html": [
              "\n",
              "     <input type=\"file\" id=\"files-9554a2fa-8156-4ea8-b8d6-89824ac8a739\" name=\"files[]\" multiple disabled />\n",
              "     <output id=\"result-9554a2fa-8156-4ea8-b8d6-89824ac8a739\">\n",
              "      Upload widget is only available when the cell has been executed in the\n",
              "      current browser session. Please rerun this cell to enable.\n",
              "      </output>\n",
              "      <script src=\"/nbextensions/google.colab/files.js\"></script> "
            ],
            "text/plain": [
              "<IPython.core.display.HTML object>"
            ]
          },
          "metadata": {
            "tags": []
          }
        },
        {
          "output_type": "stream",
          "text": [
            "Saving KaggleWord2VecUtility.py to KaggleWord2VecUtility (1).py\n"
          ],
          "name": "stdout"
        },
        {
          "output_type": "execute_result",
          "data": {
            "text/plain": [
              "{'KaggleWord2VecUtility.py': b'import re\\r\\nimport nltk\\r\\n\\r\\nimport pandas as pd\\r\\nimport numpy as np\\r\\n\\r\\nfrom bs4 import BeautifulSoup\\r\\nfrom nltk.corpus import stopwords\\r\\nfrom nltk.stem.snowball import SnowballStemmer\\r\\n\\r\\nfrom multiprocessing import Pool\\r\\n\\r\\nclass KaggleWord2VecUtility(object):\\r\\n\\r\\n    @staticmethod\\r\\n    def review_to_wordlist(review, remove_stopwords=False):\\r\\n        # 1. HTML \\xec\\xa0\\x9c\\xea\\xb1\\xb0\\r\\n        review_text = BeautifulSoup(review, \"html.parser\").get_text()\\r\\n        # 2. \\xed\\x8a\\xb9\\xec\\x88\\x98\\xeb\\xac\\xb8\\xec\\x9e\\x90\\xeb\\xa5\\xbc \\xea\\xb3\\xb5\\xeb\\xb0\\xb1\\xec\\x9c\\xbc\\xeb\\xa1\\x9c \\xeb\\xb0\\x94\\xea\\xbf\\x94\\xec\\xa4\\x8c\\r\\n        review_text = re.sub(\\'[^a-zA-Z]\\', \\' \\', review_text)\\r\\n        # 3. \\xec\\x86\\x8c\\xeb\\xac\\xb8\\xec\\x9e\\x90\\xeb\\xa1\\x9c \\xeb\\xb3\\x80\\xed\\x99\\x98 \\xed\\x9b\\x84 \\xeb\\x82\\x98\\xeb\\x88\\x88\\xeb\\x8b\\xa4.\\r\\n        words = review_text.lower().split()\\r\\n        # 4. \\xeb\\xb6\\x88\\xec\\x9a\\xa9\\xec\\x96\\xb4 \\xec\\xa0\\x9c\\xea\\xb1\\xb0\\r\\n        if remove_stopwords:\\r\\n            stops = set(stopwords.words(\\'english\\'))\\r\\n            words = [w for w in words if not w in stops]\\r\\n        # 5. \\xec\\x96\\xb4\\xea\\xb0\\x84\\xec\\xb6\\x94\\xec\\xb6\\x9c\\r\\n        stemmer = SnowballStemmer(\\'english\\')\\r\\n        words = [stemmer.stem(w) for w in words]\\r\\n        # 6. \\xeb\\xa6\\xac\\xec\\x8a\\xa4\\xed\\x8a\\xb8 \\xed\\x98\\x95\\xed\\x83\\x9c\\xeb\\xa1\\x9c \\xeb\\xb0\\x98\\xed\\x99\\x98\\r\\n        return(words)\\r\\n\\r\\n    @staticmethod\\r\\n    def review_to_join_words( review, remove_stopwords=False ):\\r\\n        words = KaggleWord2VecUtility.review_to_wordlist(\\\\\\r\\n            review, remove_stopwords=False)\\r\\n        join_words = \\' \\'.join(words)\\r\\n        return join_words\\r\\n\\r\\n    @staticmethod\\r\\n    def review_to_sentences( review, remove_stopwords=False ):\\r\\n        # punkt tokenizer\\xeb\\xa5\\xbc \\xeb\\xa1\\x9c\\xeb\\x93\\x9c\\xed\\x95\\x9c\\xeb\\x8b\\xa4.\\r\\n        \"\"\"\\r\\n        \\xec\\x9d\\xb4 \\xeb\\x95\\x8c, pickle\\xec\\x9d\\x84 \\xec\\x82\\xac\\xec\\x9a\\xa9\\xed\\x95\\x98\\xeb\\x8a\\x94\\xeb\\x8d\\xb0\\r\\n        pickle\\xec\\x9d\\x84 \\xed\\x86\\xb5\\xed\\x95\\xb4 \\xea\\xb0\\x92\\xec\\x9d\\x84 \\xec\\xa0\\x80\\xec\\x9e\\xa5\\xed\\x95\\x98\\xeb\\xa9\\xb4 \\xec\\x9b\\x90\\xeb\\x9e\\x98 \\xeb\\xb3\\x80\\xec\\x88\\x98\\xec\\x97\\x90 \\xec\\x97\\xb0\\xea\\xb2\\xb0 \\xeb\\x90\\x9c \\xec\\xb0\\xb8\\xec\\xa1\\xb0\\xea\\xb0\\x92 \\xec\\x97\\xad\\xec\\x8b\\x9c \\xec\\xa0\\x80\\xec\\x9e\\xa5\\xeb\\x90\\x9c\\xeb\\x8b\\xa4.\\r\\n        \\xec\\xa0\\x80\\xec\\x9e\\xa5\\xeb\\x90\\x9c pickle\\xec\\x9d\\x84 \\xeb\\x8b\\xa4\\xec\\x8b\\x9c \\xec\\x9d\\xbd\\xec\\x9c\\xbc\\xeb\\xa9\\xb4 \\xeb\\xb3\\x80\\xec\\x88\\x98\\xec\\x97\\x90 \\xec\\x97\\xb0\\xea\\xb2\\xb0\\xeb\\x90\\x98\\xec\\x97\\x88\\xeb\\x8d\\x98\\r\\n        \\xeb\\xaa\\xa8\\xeb\\x93\\xa0 \\xeb\\xa0\\x88\\xed\\x8d\\xbc\\xeb\\x9f\\xb0\\xec\\x8a\\xa4\\xea\\xb0\\x80 \\xea\\xb3\\x84\\xec\\x86\\x8d \\xec\\xb0\\xb8\\xec\\xa1\\xb0 \\xec\\x83\\x81\\xed\\x83\\x9c\\xeb\\xa5\\xbc \\xec\\x9c\\xa0\\xec\\xa7\\x80\\xed\\x95\\x9c\\xeb\\x8b\\xa4.\\r\\n        \"\"\"\\r\\n        tokenizer = nltk.data.load(\\'tokenizers/punkt/english.pickle\\')\\r\\n        # 1. nltk tokenizer\\xeb\\xa5\\xbc \\xec\\x82\\xac\\xec\\x9a\\xa9\\xed\\x95\\xb4\\xec\\x84\\x9c \\xeb\\x8b\\xa8\\xec\\x96\\xb4\\xeb\\xa1\\x9c \\xed\\x86\\xa0\\xed\\x81\\xb0\\xed\\x99\\x94 \\xed\\x95\\x98\\xea\\xb3\\xa0 \\xea\\xb3\\xb5\\xeb\\xb0\\xb1 \\xeb\\x93\\xb1\\xec\\x9d\\x84 \\xec\\xa0\\x9c\\xea\\xb1\\xb0\\xed\\x95\\x9c\\xeb\\x8b\\xa4.\\r\\n        raw_sentences = tokenizer.tokenize(review.strip())\\r\\n        # 2. \\xea\\xb0\\x81 \\xeb\\xac\\xb8\\xec\\x9e\\xa5\\xec\\x9d\\x84 \\xec\\x88\\x9c\\xed\\x9a\\x8c\\xed\\x95\\x9c\\xeb\\x8b\\xa4.\\r\\n        sentences = []\\r\\n        for raw_sentence in raw_sentences:\\r\\n            # \\xeb\\xb9\\x84\\xec\\x96\\xb4\\xec\\x9e\\x88\\xeb\\x8b\\xa4\\xeb\\xa9\\xb4 skip\\r\\n            if len(raw_sentence) > 0:\\r\\n                # \\xed\\x83\\x9c\\xea\\xb7\\xb8\\xec\\xa0\\x9c\\xea\\xb1\\xb0, \\xec\\x95\\x8c\\xed\\x8c\\x8c\\xeb\\xb2\\xb3\\xeb\\xac\\xb8\\xec\\x9e\\x90\\xea\\xb0\\x80 \\xec\\x95\\x84\\xeb\\x8b\\x8c \\xea\\xb2\\x83\\xec\\x9d\\x80 \\xea\\xb3\\xb5\\xeb\\xb0\\xb1\\xec\\x9c\\xbc\\xeb\\xa1\\x9c \\xec\\xb9\\x98\\xed\\x99\\x98, \\xeb\\xb6\\x88\\xec\\x9a\\xa9\\xec\\x96\\xb4\\xec\\xa0\\x9c\\xea\\xb1\\xb0\\r\\n                sentences.append(\\\\\\r\\n                    KaggleWord2VecUtility.review_to_wordlist(\\\\\\r\\n                    raw_sentence, remove_stopwords))\\r\\n        return sentences\\r\\n\\r\\n\\r\\n    # \\xec\\xb0\\xb8\\xea\\xb3\\xa0 : https://gist.github.com/yong27/7869662\\r\\n    # http://www.racketracer.com/2016/07/06/pandas-in-parallel/\\r\\n    # \\xec\\x86\\x8d\\xeb\\x8f\\x84 \\xea\\xb0\\x9c\\xec\\x84\\xa0\\xec\\x9d\\x84 \\xec\\x9c\\x84\\xed\\x95\\xb4 \\xeb\\xa9\\x80\\xed\\x8b\\xb0 \\xec\\x8a\\xa4\\xeb\\xa0\\x88\\xeb\\x93\\x9c\\xeb\\xa1\\x9c \\xec\\x9e\\x91\\xec\\x97\\x85\\xed\\x95\\x98\\xeb\\x8f\\x84\\xeb\\xa1\\x9d\\r\\n    @staticmethod\\r\\n    def _apply_df(args):\\r\\n        df, func, kwargs = args\\r\\n        return df.apply(func, **kwargs)\\r\\n\\r\\n    @staticmethod\\r\\n    def apply_by_multiprocessing(df, func, **kwargs):\\r\\n        # \\xed\\x82\\xa4\\xec\\x9b\\x8c\\xeb\\x93\\x9c \\xed\\x95\\xad\\xeb\\xaa\\xa9 \\xec\\xa4\\x91 workers \\xed\\x8c\\x8c\\xeb\\x9d\\xbc\\xeb\\xa9\\x94\\xed\\x84\\xb0\\xeb\\xa5\\xbc \\xea\\xba\\xbc\\xeb\\x83\\x84\\r\\n        workers = kwargs.pop(\\'workers\\')\\r\\n        # \\xec\\x9c\\x84\\xec\\x97\\x90\\xec\\x84\\x9c \\xea\\xb0\\x80\\xec\\xa0\\xb8\\xec\\x98\\xa8 workers \\xec\\x88\\x98\\xeb\\xa1\\x9c \\xed\\x94\\x84\\xeb\\xa1\\x9c\\xec\\x84\\xb8\\xec\\x8a\\xa4 \\xed\\x92\\x80\\xec\\x9d\\x84 \\xec\\xa0\\x95\\xec\\x9d\\x98\\r\\n        pool = Pool(processes=workers)\\r\\n        # \\xec\\x8b\\xa4\\xed\\x96\\x89\\xed\\x95\\xa0 \\xed\\x95\\xa8\\xec\\x88\\x98\\xec\\x99\\x80 \\xeb\\x8d\\xb0\\xec\\x9d\\xb4\\xed\\x84\\xb0\\xed\\x94\\x84\\xeb\\xa0\\x88\\xec\\x9e\\x84\\xec\\x9d\\x84 \\xec\\x9b\\x8c\\xec\\xbb\\xa4\\xec\\x9d\\x98 \\xec\\x88\\x98 \\xeb\\xa7\\x8c\\xed\\x81\\xbc \\xeb\\x82\\x98\\xeb\\x88\\xa0 \\xec\\x9e\\x91\\xec\\x97\\x85\\r\\n        result = pool.map(KaggleWord2VecUtility._apply_df, [(d, func, kwargs)\\r\\n                for d in np.array_split(df, workers)])\\r\\n        pool.close()\\r\\n        # \\xec\\x9e\\x91\\xec\\x97\\x85 \\xea\\xb2\\xb0\\xea\\xb3\\xbc\\xeb\\xa5\\xbc \\xed\\x95\\xa9\\xec\\xb3\\x90\\xec\\x84\\x9c \\xeb\\xb0\\x98\\xed\\x99\\x98\\r\\n        return pd.concat(result)'}"
            ]
          },
          "metadata": {
            "tags": []
          },
          "execution_count": 6
        }
      ]
    },
    {
      "cell_type": "code",
      "metadata": {
        "id": "8gStXPSTH17J",
        "colab_type": "code",
        "colab": {}
      },
      "source": [
        "from KaggleWord2VecUtility import KaggleWord2VecUtility\n"
      ],
      "execution_count": 0,
      "outputs": []
    },
    {
      "cell_type": "code",
      "metadata": {
        "id": "iMWMNOzII2yy",
        "colab_type": "code",
        "outputId": "a66e705e-74b3-4ad4-fdde-b8335bcbb24d",
        "colab": {
          "base_uri": "https://localhost:8080/",
          "height": 34
        }
      },
      "source": [
        "KaggleWord2VecUtility.review_to_wordlist(train['review'][0])[:10]\n"
      ],
      "execution_count": 0,
      "outputs": [
        {
          "output_type": "execute_result",
          "data": {
            "text/plain": [
              "['with', 'all', 'this', 'stuff', 'go', 'down', 'at', 'the', 'moment', 'with']"
            ]
          },
          "metadata": {
            "tags": []
          },
          "execution_count": 8
        }
      ]
    },
    {
      "cell_type": "code",
      "metadata": {
        "id": "ozBtrTW1KMuj",
        "colab_type": "code",
        "outputId": "4245769d-7582-4be3-b176-49d44849ca60",
        "colab": {
          "base_uri": "https://localhost:8080/",
          "height": 142
        }
      },
      "source": [
        "import nltk\n",
        "nltk.download('punkt')\n",
        "sentences = []\n",
        "for review in train[\"review\"]:\n",
        "    sentences += KaggleWord2VecUtility.review_to_sentences(review, remove_stopwords=False)"
      ],
      "execution_count": 0,
      "outputs": [
        {
          "output_type": "stream",
          "text": [
            "[nltk_data] Downloading package punkt to /root/nltk_data...\n",
            "[nltk_data]   Package punkt is already up-to-date!\n"
          ],
          "name": "stdout"
        },
        {
          "output_type": "stream",
          "text": [
            "/usr/local/lib/python3.6/dist-packages/bs4/__init__.py:273: UserWarning: \"b'.'\" looks like a filename, not markup. You should probably open this file and pass the filehandle into Beautiful Soup.\n",
            "  ' Beautiful Soup.' % markup)\n",
            "/usr/local/lib/python3.6/dist-packages/bs4/__init__.py:336: UserWarning: \"http://www.happierabroad.com\"\" looks like a URL. Beautiful Soup is not an HTTP client. You should probably use an HTTP client like requests to get the document behind the URL, and feed that document to Beautiful Soup.\n",
            "  ' that document to Beautiful Soup.' % decoded_markup\n"
          ],
          "name": "stderr"
        }
      ]
    },
    {
      "cell_type": "code",
      "metadata": {
        "id": "T94O_8r3Kjns",
        "colab_type": "code",
        "outputId": "2ec13bab-82f0-4d0e-9a18-bad941196d1d",
        "colab": {
          "base_uri": "https://localhost:8080/",
          "height": 283
        }
      },
      "source": [
        "for review in unlabeled_train[\"review\"]:\n",
        "    sentences += KaggleWord2VecUtility.review_to_sentences(\n",
        "        review, remove_stopwords=False)"
      ],
      "execution_count": 0,
      "outputs": [
        {
          "output_type": "stream",
          "text": [
            "/usr/local/lib/python3.6/dist-packages/bs4/__init__.py:273: UserWarning: \"b'.'\" looks like a filename, not markup. You should probably open this file and pass the filehandle into Beautiful Soup.\n",
            "  ' Beautiful Soup.' % markup)\n",
            "/usr/local/lib/python3.6/dist-packages/bs4/__init__.py:336: UserWarning: \"http://www.archive.org/details/LovefromaStranger\"\" looks like a URL. Beautiful Soup is not an HTTP client. You should probably use an HTTP client like requests to get the document behind the URL, and feed that document to Beautiful Soup.\n",
            "  ' that document to Beautiful Soup.' % decoded_markup\n",
            "/usr/local/lib/python3.6/dist-packages/bs4/__init__.py:336: UserWarning: \"http://www.loosechangeguide.com/LooseChangeGuide.html\"\" looks like a URL. Beautiful Soup is not an HTTP client. You should probably use an HTTP client like requests to get the document behind the URL, and feed that document to Beautiful Soup.\n",
            "  ' that document to Beautiful Soup.' % decoded_markup\n",
            "/usr/local/lib/python3.6/dist-packages/bs4/__init__.py:336: UserWarning: \"http://www.msnbc.msn.com/id/4972055/site/newsweek/\"\" looks like a URL. Beautiful Soup is not an HTTP client. You should probably use an HTTP client like requests to get the document behind the URL, and feed that document to Beautiful Soup.\n",
            "  ' that document to Beautiful Soup.' % decoded_markup\n",
            "/usr/local/lib/python3.6/dist-packages/bs4/__init__.py:273: UserWarning: \"b'..'\" looks like a filename, not markup. You should probably open this file and pass the filehandle into Beautiful Soup.\n",
            "  ' Beautiful Soup.' % markup)\n",
            "/usr/local/lib/python3.6/dist-packages/bs4/__init__.py:336: UserWarning: \"http://www.youtube.com/watch?v=a0KSqelmgN8\"\" looks like a URL. Beautiful Soup is not an HTTP client. You should probably use an HTTP client like requests to get the document behind the URL, and feed that document to Beautiful Soup.\n",
            "  ' that document to Beautiful Soup.' % decoded_markup\n",
            "/usr/local/lib/python3.6/dist-packages/bs4/__init__.py:336: UserWarning: \"http://jake-weird.blogspot.com/2007/08/beneath.html\"\" looks like a URL. Beautiful Soup is not an HTTP client. You should probably use an HTTP client like requests to get the document behind the URL, and feed that document to Beautiful Soup.\n",
            "  ' that document to Beautiful Soup.' % decoded_markup\n"
          ],
          "name": "stderr"
        }
      ]
    },
    {
      "cell_type": "code",
      "metadata": {
        "id": "vVlDHxiELMCV",
        "colab_type": "code",
        "outputId": "bebe2024-5430-4bb9-a6d3-7ba66a52b05c",
        "colab": {
          "base_uri": "https://localhost:8080/",
          "height": 34
        }
      },
      "source": [
        "len(sentences)\n"
      ],
      "execution_count": 0,
      "outputs": [
        {
          "output_type": "execute_result",
          "data": {
            "text/plain": [
              "795538"
            ]
          },
          "metadata": {
            "tags": []
          },
          "execution_count": 11
        }
      ]
    },
    {
      "cell_type": "code",
      "metadata": {
        "id": "mXTvBxWjMxiy",
        "colab_type": "code",
        "outputId": "58d67813-ef84-423e-8481-f4819e0d9712",
        "colab": {
          "base_uri": "https://localhost:8080/",
          "height": 34
        }
      },
      "source": [
        "sentences[0][:10]\n"
      ],
      "execution_count": 0,
      "outputs": [
        {
          "output_type": "execute_result",
          "data": {
            "text/plain": [
              "['with', 'all', 'this', 'stuff', 'go', 'down', 'at', 'the', 'moment', 'with']"
            ]
          },
          "metadata": {
            "tags": []
          },
          "execution_count": 12
        }
      ]
    },
    {
      "cell_type": "code",
      "metadata": {
        "id": "xAWvMmfrNOiQ",
        "colab_type": "code",
        "outputId": "7014485d-50cf-4312-b928-eb0aa2a1027e",
        "colab": {
          "base_uri": "https://localhost:8080/",
          "height": 34
        }
      },
      "source": [
        "sentences[1][:10]\n"
      ],
      "execution_count": 0,
      "outputs": [
        {
          "output_type": "execute_result",
          "data": {
            "text/plain": [
              "['mayb', 'i', 'just', 'want', 'to', 'get', 'a', 'certain', 'insight', 'into']"
            ]
          },
          "metadata": {
            "tags": []
          },
          "execution_count": 13
        }
      ]
    },
    {
      "cell_type": "markdown",
      "metadata": {
        "id": "jpN0FyLNNco5",
        "colab_type": "text"
      },
      "source": [
        "## Word2Vec 모델을 학습\n",
        "전처리를 거쳐 파싱된 문장의 목록으로 모델을 학습시킬 준비가 되었다.\n",
        "\n",
        "## Gensim\n",
        "[gensim: models.word2vec – Deep learning with word2vec](https://radimrehurek.com/gensim/models/word2vec.html)\n",
        "## Word2Vec 모델의 파라메터\n",
        "- 아키텍처 : 아키텍처 옵션은 skip-gram (default) 또는 CBOW 모델이다. skip-gram (default)은 느리지 만 더 나은 결과를 낸다.\n",
        "\n",
        "- 학습 알고리즘 : Hierarchical softmax (default) 또는 negative 샘플링. 여기에서는 기본값이 잘 동작한다.\n",
        "\n",
        "- 빈번하게 등장하는 단어에 대한 다운 샘플링 : Google 문서는 .00001에서 .001 사이의 값을 권장한다. 여기에서는 0.001에 가까운 값이 최종 모델의 정확도를 높이는 것으로 보여진다.\n",
        "\n",
        "- 단어 벡터 차원 : 많은 feature를 사용한다고 항상 좋은 것은 아니지만 대체적으로 좀 더 나은 모델이 된다. 합리적인 값은 수십에서 수백 개가 될 수 있고 여기에서는 300으로 지정했다.\n",
        "\n",
        "- 컨텍스트 / 창 크기 : 학습 알고리즘이 고려해야하는 컨텍스트의 단어 수는 얼마나 될까? hierarchical softmax 를 위해 좀 더 큰 수가 좋지만 10 정도가 적당하다.\n",
        "\n",
        "- Worker threads : 실행할 병렬 프로세스의 수로 컴퓨터마다 다르지만 대부분의 시스템에서 4에서 6 사이의 값을 사용하다.\n",
        "\n",
        "- 최소 단어 수 : 어휘의 크기를 의미있는 단어로 제한하는 데 도움이 된다. 모든 문서에서이 여러 번 발생하지 않는 단어는 무시된다. 10에서 100 사이가 적당하며, 이 경진대회의 데이터는 각 영화가 30개씩의 리뷰가 있기 때문에 개별 영화 제목에 너무 많은 중요성이 붙는 것을 피하기 위해 최소 단어 수를 40으로 설정한다. 그 결과 전체 어휘 크기는 약 15,000 단어가 된다. 높은 값은 제한 된 실행시간에 도움이 된다."
      ]
    },
    {
      "cell_type": "code",
      "metadata": {
        "id": "0LkF40uONZeN",
        "colab_type": "code",
        "colab": {}
      },
      "source": [
        "import logging\n",
        "logging.basicConfig(\n",
        "    format='%(asctime)s : %(levelname)s : %(message)s', \n",
        "    level=logging.INFO)"
      ],
      "execution_count": 0,
      "outputs": []
    },
    {
      "cell_type": "code",
      "metadata": {
        "id": "Rl9MkQVHOBhj",
        "colab_type": "code",
        "outputId": "f1f6ba31-8849-4f53-e4ef-a5cfdfeb11ef",
        "colab": {
          "base_uri": "https://localhost:8080/",
          "height": 1000
        }
      },
      "source": [
        "# 파라메터값 지정\n",
        "num_features = 300 # 문자 벡터 차원 수\n",
        "min_word_count = 40 # 최소 문자 수\n",
        "num_workers = 4 # 병렬 처리 스레드 수\n",
        "context = 10 # 문자열 창 크기\n",
        "downsampling = 1e-3 # 문자 빈도 수 Downsample\n",
        "\n",
        "# 초기화 및 모델 학습\n",
        "from gensim.models import word2vec\n",
        "\n",
        "# 모델 학습\n",
        "model = word2vec.Word2Vec(sentences, \n",
        "                          workers=num_workers, \n",
        "                          size=num_features, \n",
        "                          min_count=min_word_count,\n",
        "                          window=context,\n",
        "                          sample=downsampling)\n",
        "model"
      ],
      "execution_count": 0,
      "outputs": [
        {
          "output_type": "stream",
          "text": [
            "2019-08-26 07:36:23,186 : INFO : 'pattern' package not found; tag filters are not available for English\n",
            "2019-08-26 07:36:23,191 : INFO : collecting all words and their counts\n",
            "2019-08-26 07:36:23,192 : INFO : PROGRESS: at sentence #0, processed 0 words, keeping 0 word types\n",
            "2019-08-26 07:36:23,238 : INFO : PROGRESS: at sentence #10000, processed 225803 words, keeping 12465 word types\n",
            "2019-08-26 07:36:23,282 : INFO : PROGRESS: at sentence #20000, processed 451892 words, keeping 17070 word types\n",
            "2019-08-26 07:36:23,326 : INFO : PROGRESS: at sentence #30000, processed 671314 words, keeping 20370 word types\n",
            "2019-08-26 07:36:23,369 : INFO : PROGRESS: at sentence #40000, processed 897814 words, keeping 23125 word types\n",
            "2019-08-26 07:36:23,413 : INFO : PROGRESS: at sentence #50000, processed 1116962 words, keeping 25365 word types\n",
            "2019-08-26 07:36:23,461 : INFO : PROGRESS: at sentence #60000, processed 1338403 words, keeping 27283 word types\n",
            "2019-08-26 07:36:23,507 : INFO : PROGRESS: at sentence #70000, processed 1561579 words, keeping 29024 word types\n",
            "2019-08-26 07:36:23,550 : INFO : PROGRESS: at sentence #80000, processed 1780886 words, keeping 30603 word types\n",
            "2019-08-26 07:36:23,595 : INFO : PROGRESS: at sentence #90000, processed 2004995 words, keeping 32223 word types\n",
            "2019-08-26 07:36:23,637 : INFO : PROGRESS: at sentence #100000, processed 2226966 words, keeping 33579 word types\n",
            "2019-08-26 07:36:23,679 : INFO : PROGRESS: at sentence #110000, processed 2446580 words, keeping 34827 word types\n",
            "2019-08-26 07:36:23,724 : INFO : PROGRESS: at sentence #120000, processed 2668775 words, keeping 36183 word types\n",
            "2019-08-26 07:36:23,770 : INFO : PROGRESS: at sentence #130000, processed 2894303 words, keeping 37353 word types\n",
            "2019-08-26 07:36:23,814 : INFO : PROGRESS: at sentence #140000, processed 3107005 words, keeping 38376 word types\n",
            "2019-08-26 07:36:23,862 : INFO : PROGRESS: at sentence #150000, processed 3332627 words, keeping 39556 word types\n",
            "2019-08-26 07:36:23,910 : INFO : PROGRESS: at sentence #160000, processed 3555315 words, keeping 40629 word types\n",
            "2019-08-26 07:36:23,958 : INFO : PROGRESS: at sentence #170000, processed 3778655 words, keeping 41628 word types\n",
            "2019-08-26 07:36:24,002 : INFO : PROGRESS: at sentence #180000, processed 3999236 words, keeping 42599 word types\n",
            "2019-08-26 07:36:24,046 : INFO : PROGRESS: at sentence #190000, processed 4224449 words, keeping 43461 word types\n",
            "2019-08-26 07:36:24,093 : INFO : PROGRESS: at sentence #200000, processed 4448603 words, keeping 44301 word types\n",
            "2019-08-26 07:36:24,136 : INFO : PROGRESS: at sentence #210000, processed 4669967 words, keeping 45212 word types\n",
            "2019-08-26 07:36:24,185 : INFO : PROGRESS: at sentence #220000, processed 4894968 words, keeping 46134 word types\n",
            "2019-08-26 07:36:24,229 : INFO : PROGRESS: at sentence #230000, processed 5117546 words, keeping 46986 word types\n",
            "2019-08-26 07:36:24,277 : INFO : PROGRESS: at sentence #240000, processed 5345051 words, keeping 47854 word types\n",
            "2019-08-26 07:36:24,319 : INFO : PROGRESS: at sentence #250000, processed 5559166 words, keeping 48699 word types\n",
            "2019-08-26 07:36:24,362 : INFO : PROGRESS: at sentence #260000, processed 5779147 words, keeping 49469 word types\n",
            "2019-08-26 07:36:24,404 : INFO : PROGRESS: at sentence #270000, processed 6000436 words, keeping 50416 word types\n",
            "2019-08-26 07:36:24,455 : INFO : PROGRESS: at sentence #280000, processed 6226315 words, keeping 51640 word types\n",
            "2019-08-26 07:36:24,500 : INFO : PROGRESS: at sentence #290000, processed 6449475 words, keeping 52754 word types\n",
            "2019-08-26 07:36:24,544 : INFO : PROGRESS: at sentence #300000, processed 6674078 words, keeping 53755 word types\n",
            "2019-08-26 07:36:24,587 : INFO : PROGRESS: at sentence #310000, processed 6899392 words, keeping 54734 word types\n",
            "2019-08-26 07:36:24,631 : INFO : PROGRESS: at sentence #320000, processed 7124279 words, keeping 55770 word types\n",
            "2019-08-26 07:36:24,674 : INFO : PROGRESS: at sentence #330000, processed 7346022 words, keeping 56687 word types\n",
            "2019-08-26 07:36:24,719 : INFO : PROGRESS: at sentence #340000, processed 7575534 words, keeping 57629 word types\n",
            "2019-08-26 07:36:24,765 : INFO : PROGRESS: at sentence #350000, processed 7798804 words, keeping 58485 word types\n",
            "2019-08-26 07:36:24,809 : INFO : PROGRESS: at sentence #360000, processed 8019467 words, keeping 59345 word types\n",
            "2019-08-26 07:36:24,852 : INFO : PROGRESS: at sentence #370000, processed 8246659 words, keeping 60161 word types\n",
            "2019-08-26 07:36:24,901 : INFO : PROGRESS: at sentence #380000, processed 8471806 words, keeping 61069 word types\n",
            "2019-08-26 07:36:24,945 : INFO : PROGRESS: at sentence #390000, processed 8701556 words, keeping 61810 word types\n",
            "2019-08-26 07:36:24,988 : INFO : PROGRESS: at sentence #400000, processed 8924505 words, keeping 62546 word types\n",
            "2019-08-26 07:36:25,032 : INFO : PROGRESS: at sentence #410000, processed 9145855 words, keeping 63263 word types\n",
            "2019-08-26 07:36:25,076 : INFO : PROGRESS: at sentence #420000, processed 9366935 words, keeping 64024 word types\n",
            "2019-08-26 07:36:25,120 : INFO : PROGRESS: at sentence #430000, processed 9594472 words, keeping 64795 word types\n",
            "2019-08-26 07:36:25,164 : INFO : PROGRESS: at sentence #440000, processed 9821225 words, keeping 65539 word types\n",
            "2019-08-26 07:36:25,209 : INFO : PROGRESS: at sentence #450000, processed 10044987 words, keeping 66378 word types\n",
            "2019-08-26 07:36:25,254 : INFO : PROGRESS: at sentence #460000, processed 10277747 words, keeping 67158 word types\n",
            "2019-08-26 07:36:25,298 : INFO : PROGRESS: at sentence #470000, processed 10505672 words, keeping 67775 word types\n",
            "2019-08-26 07:36:25,341 : INFO : PROGRESS: at sentence #480000, processed 10726056 words, keeping 68500 word types\n",
            "2019-08-26 07:36:25,388 : INFO : PROGRESS: at sentence #490000, processed 10952800 words, keeping 69256 word types\n",
            "2019-08-26 07:36:25,431 : INFO : PROGRESS: at sentence #500000, processed 11174456 words, keeping 69892 word types\n",
            "2019-08-26 07:36:25,475 : INFO : PROGRESS: at sentence #510000, processed 11399731 words, keeping 70593 word types\n",
            "2019-08-26 07:36:25,520 : INFO : PROGRESS: at sentence #520000, processed 11623082 words, keeping 71267 word types\n",
            "2019-08-26 07:36:25,564 : INFO : PROGRESS: at sentence #530000, processed 11847480 words, keeping 71877 word types\n",
            "2019-08-26 07:36:25,607 : INFO : PROGRESS: at sentence #540000, processed 12072095 words, keeping 72537 word types\n",
            "2019-08-26 07:36:25,652 : INFO : PROGRESS: at sentence #550000, processed 12297646 words, keeping 73212 word types\n",
            "2019-08-26 07:36:25,696 : INFO : PROGRESS: at sentence #560000, processed 12518936 words, keeping 73861 word types\n",
            "2019-08-26 07:36:25,744 : INFO : PROGRESS: at sentence #570000, processed 12748083 words, keeping 74431 word types\n",
            "2019-08-26 07:36:25,789 : INFO : PROGRESS: at sentence #580000, processed 12969579 words, keeping 75087 word types\n",
            "2019-08-26 07:36:25,834 : INFO : PROGRESS: at sentence #590000, processed 13195103 words, keeping 75734 word types\n",
            "2019-08-26 07:36:25,877 : INFO : PROGRESS: at sentence #600000, processed 13417301 words, keeping 76295 word types\n",
            "2019-08-26 07:36:25,927 : INFO : PROGRESS: at sentence #610000, processed 13638324 words, keeping 76953 word types\n",
            "2019-08-26 07:36:25,970 : INFO : PROGRESS: at sentence #620000, processed 13864649 words, keeping 77504 word types\n",
            "2019-08-26 07:36:26,016 : INFO : PROGRESS: at sentence #630000, processed 14088935 words, keeping 78067 word types\n",
            "2019-08-26 07:36:26,062 : INFO : PROGRESS: at sentence #640000, processed 14309718 words, keeping 78693 word types\n",
            "2019-08-26 07:36:26,106 : INFO : PROGRESS: at sentence #650000, processed 14535474 words, keeping 79296 word types\n",
            "2019-08-26 07:36:26,150 : INFO : PROGRESS: at sentence #660000, processed 14758264 words, keeping 79865 word types\n",
            "2019-08-26 07:36:26,195 : INFO : PROGRESS: at sentence #670000, processed 14981657 words, keeping 80382 word types\n",
            "2019-08-26 07:36:26,240 : INFO : PROGRESS: at sentence #680000, processed 15206489 words, keeping 80913 word types\n",
            "2019-08-26 07:36:26,283 : INFO : PROGRESS: at sentence #690000, processed 15428682 words, keeping 81483 word types\n",
            "2019-08-26 07:36:26,329 : INFO : PROGRESS: at sentence #700000, processed 15657388 words, keeping 82075 word types\n",
            "2019-08-26 07:36:26,375 : INFO : PROGRESS: at sentence #710000, processed 15880377 words, keeping 82561 word types\n",
            "2019-08-26 07:36:26,419 : INFO : PROGRESS: at sentence #720000, processed 16105664 words, keeping 83037 word types\n",
            "2019-08-26 07:36:26,463 : INFO : PROGRESS: at sentence #730000, processed 16332045 words, keeping 83572 word types\n",
            "2019-08-26 07:36:26,506 : INFO : PROGRESS: at sentence #740000, processed 16553078 words, keeping 84128 word types\n",
            "2019-08-26 07:36:26,549 : INFO : PROGRESS: at sentence #750000, processed 16771405 words, keeping 84600 word types\n",
            "2019-08-26 07:36:26,591 : INFO : PROGRESS: at sentence #760000, processed 16990809 words, keeping 85069 word types\n",
            "2019-08-26 07:36:26,635 : INFO : PROGRESS: at sentence #770000, processed 17217946 words, keeping 85645 word types\n",
            "2019-08-26 07:36:26,683 : INFO : PROGRESS: at sentence #780000, processed 17448092 words, keeping 86161 word types\n",
            "2019-08-26 07:36:26,728 : INFO : PROGRESS: at sentence #790000, processed 17675168 words, keeping 86666 word types\n",
            "2019-08-26 07:36:26,754 : INFO : collected 86997 word types from a corpus of 17798269 raw words and 795538 sentences\n",
            "2019-08-26 07:36:26,755 : INFO : Loading a fresh vocabulary\n",
            "2019-08-26 07:36:26,810 : INFO : effective_min_count=40 retains 11986 unique words (13% of original 86997, drops 75011)\n",
            "2019-08-26 07:36:26,811 : INFO : effective_min_count=40 leaves 17434031 word corpus (97% of original 17798269, drops 364238)\n",
            "2019-08-26 07:36:26,844 : INFO : deleting the raw counts dictionary of 86997 items\n",
            "2019-08-26 07:36:26,850 : INFO : sample=0.001 downsamples 50 most-common words\n",
            "2019-08-26 07:36:26,851 : INFO : downsampling leaves estimated 12872362 word corpus (73.8% of prior 17434031)\n",
            "2019-08-26 07:36:26,877 : INFO : estimated required memory for 11986 words and 300 dimensions: 34759400 bytes\n",
            "2019-08-26 07:36:26,878 : INFO : resetting layer weights\n",
            "2019-08-26 07:36:27,013 : INFO : training model with 4 workers on 11986 vocabulary and 300 features, using sg=0 hs=0 sample=0.001 negative=5 window=10\n",
            "2019-08-26 07:36:28,035 : INFO : EPOCH 1 - PROGRESS: at 3.19% examples, 405960 words/s, in_qsize 8, out_qsize 1\n",
            "2019-08-26 07:36:29,040 : INFO : EPOCH 1 - PROGRESS: at 6.56% examples, 418148 words/s, in_qsize 7, out_qsize 0\n",
            "2019-08-26 07:36:30,048 : INFO : EPOCH 1 - PROGRESS: at 9.69% examples, 410247 words/s, in_qsize 7, out_qsize 0\n",
            "2019-08-26 07:36:31,076 : INFO : EPOCH 1 - PROGRESS: at 12.92% examples, 407838 words/s, in_qsize 7, out_qsize 0\n",
            "2019-08-26 07:36:32,093 : INFO : EPOCH 1 - PROGRESS: at 15.90% examples, 401593 words/s, in_qsize 7, out_qsize 0\n",
            "2019-08-26 07:36:33,103 : INFO : EPOCH 1 - PROGRESS: at 19.15% examples, 402419 words/s, in_qsize 7, out_qsize 0\n",
            "2019-08-26 07:36:34,106 : INFO : EPOCH 1 - PROGRESS: at 22.37% examples, 403607 words/s, in_qsize 6, out_qsize 1\n",
            "2019-08-26 07:36:35,119 : INFO : EPOCH 1 - PROGRESS: at 25.69% examples, 405747 words/s, in_qsize 7, out_qsize 0\n",
            "2019-08-26 07:36:36,141 : INFO : EPOCH 1 - PROGRESS: at 28.88% examples, 405351 words/s, in_qsize 7, out_qsize 0\n",
            "2019-08-26 07:36:37,158 : INFO : EPOCH 1 - PROGRESS: at 32.07% examples, 404544 words/s, in_qsize 7, out_qsize 0\n",
            "2019-08-26 07:36:38,167 : INFO : EPOCH 1 - PROGRESS: at 35.21% examples, 404118 words/s, in_qsize 8, out_qsize 0\n",
            "2019-08-26 07:36:39,170 : INFO : EPOCH 1 - PROGRESS: at 38.34% examples, 404021 words/s, in_qsize 6, out_qsize 1\n",
            "2019-08-26 07:36:40,179 : INFO : EPOCH 1 - PROGRESS: at 41.65% examples, 405443 words/s, in_qsize 7, out_qsize 0\n",
            "2019-08-26 07:36:41,207 : INFO : EPOCH 1 - PROGRESS: at 45.00% examples, 406591 words/s, in_qsize 7, out_qsize 0\n",
            "2019-08-26 07:36:42,243 : INFO : EPOCH 1 - PROGRESS: at 48.22% examples, 406375 words/s, in_qsize 7, out_qsize 0\n",
            "2019-08-26 07:36:43,264 : INFO : EPOCH 1 - PROGRESS: at 51.36% examples, 405753 words/s, in_qsize 7, out_qsize 0\n",
            "2019-08-26 07:36:44,273 : INFO : EPOCH 1 - PROGRESS: at 54.59% examples, 406283 words/s, in_qsize 7, out_qsize 0\n",
            "2019-08-26 07:36:45,278 : INFO : EPOCH 1 - PROGRESS: at 57.79% examples, 406827 words/s, in_qsize 8, out_qsize 2\n",
            "2019-08-26 07:36:46,293 : INFO : EPOCH 1 - PROGRESS: at 61.08% examples, 407484 words/s, in_qsize 7, out_qsize 0\n",
            "2019-08-26 07:36:47,318 : INFO : EPOCH 1 - PROGRESS: at 64.38% examples, 407907 words/s, in_qsize 7, out_qsize 0\n",
            "2019-08-26 07:36:48,360 : INFO : EPOCH 1 - PROGRESS: at 67.75% examples, 408279 words/s, in_qsize 7, out_qsize 0\n",
            "2019-08-26 07:36:49,377 : INFO : EPOCH 1 - PROGRESS: at 71.16% examples, 409413 words/s, in_qsize 7, out_qsize 0\n",
            "2019-08-26 07:36:50,404 : INFO : EPOCH 1 - PROGRESS: at 74.63% examples, 410607 words/s, in_qsize 7, out_qsize 0\n",
            "2019-08-26 07:36:51,409 : INFO : EPOCH 1 - PROGRESS: at 77.94% examples, 411158 words/s, in_qsize 7, out_qsize 0\n",
            "2019-08-26 07:36:52,433 : INFO : EPOCH 1 - PROGRESS: at 81.32% examples, 411626 words/s, in_qsize 7, out_qsize 0\n",
            "2019-08-26 07:36:53,434 : INFO : EPOCH 1 - PROGRESS: at 84.51% examples, 411611 words/s, in_qsize 7, out_qsize 0\n",
            "2019-08-26 07:36:54,436 : INFO : EPOCH 1 - PROGRESS: at 87.85% examples, 412382 words/s, in_qsize 7, out_qsize 0\n",
            "2019-08-26 07:36:55,452 : INFO : EPOCH 1 - PROGRESS: at 91.26% examples, 413135 words/s, in_qsize 7, out_qsize 0\n",
            "2019-08-26 07:36:56,460 : INFO : EPOCH 1 - PROGRESS: at 94.65% examples, 413709 words/s, in_qsize 7, out_qsize 0\n",
            "2019-08-26 07:36:57,475 : INFO : EPOCH 1 - PROGRESS: at 98.06% examples, 414388 words/s, in_qsize 7, out_qsize 0\n",
            "2019-08-26 07:36:58,002 : INFO : worker thread finished; awaiting finish of 3 more threads\n",
            "2019-08-26 07:36:58,017 : INFO : worker thread finished; awaiting finish of 2 more threads\n",
            "2019-08-26 07:36:58,030 : INFO : worker thread finished; awaiting finish of 1 more threads\n",
            "2019-08-26 07:36:58,037 : INFO : worker thread finished; awaiting finish of 0 more threads\n",
            "2019-08-26 07:36:58,038 : INFO : EPOCH - 1 : training on 17798269 raw words (12872395 effective words) took 31.0s, 415001 effective words/s\n",
            "2019-08-26 07:36:59,053 : INFO : EPOCH 2 - PROGRESS: at 3.31% examples, 423398 words/s, in_qsize 7, out_qsize 1\n",
            "2019-08-26 07:37:00,054 : INFO : EPOCH 2 - PROGRESS: at 6.79% examples, 434783 words/s, in_qsize 7, out_qsize 0\n",
            "2019-08-26 07:37:01,064 : INFO : EPOCH 2 - PROGRESS: at 10.47% examples, 444872 words/s, in_qsize 8, out_qsize 0\n",
            "2019-08-26 07:37:02,065 : INFO : EPOCH 2 - PROGRESS: at 13.99% examples, 445759 words/s, in_qsize 7, out_qsize 0\n",
            "2019-08-26 07:37:03,068 : INFO : EPOCH 2 - PROGRESS: at 17.30% examples, 440050 words/s, in_qsize 7, out_qsize 0\n",
            "2019-08-26 07:37:04,093 : INFO : EPOCH 2 - PROGRESS: at 20.90% examples, 441876 words/s, in_qsize 7, out_qsize 0\n",
            "2019-08-26 07:37:05,101 : INFO : EPOCH 2 - PROGRESS: at 24.38% examples, 442349 words/s, in_qsize 7, out_qsize 0\n",
            "2019-08-26 07:37:06,111 : INFO : EPOCH 2 - PROGRESS: at 27.86% examples, 442416 words/s, in_qsize 7, out_qsize 0\n",
            "2019-08-26 07:37:07,153 : INFO : EPOCH 2 - PROGRESS: at 31.50% examples, 442559 words/s, in_qsize 7, out_qsize 0\n",
            "2019-08-26 07:37:08,172 : INFO : EPOCH 2 - PROGRESS: at 35.10% examples, 443549 words/s, in_qsize 7, out_qsize 0\n",
            "2019-08-26 07:37:09,183 : INFO : EPOCH 2 - PROGRESS: at 38.57% examples, 443515 words/s, in_qsize 8, out_qsize 0\n",
            "2019-08-26 07:37:10,196 : INFO : EPOCH 2 - PROGRESS: at 42.03% examples, 443352 words/s, in_qsize 7, out_qsize 1\n",
            "2019-08-26 07:37:11,226 : INFO : EPOCH 2 - PROGRESS: at 45.56% examples, 443190 words/s, in_qsize 7, out_qsize 0\n",
            "2019-08-26 07:37:12,255 : INFO : EPOCH 2 - PROGRESS: at 49.15% examples, 444158 words/s, in_qsize 7, out_qsize 0\n",
            "2019-08-26 07:37:13,255 : INFO : EPOCH 2 - PROGRESS: at 52.48% examples, 442922 words/s, in_qsize 7, out_qsize 0\n",
            "2019-08-26 07:37:14,274 : INFO : EPOCH 2 - PROGRESS: at 55.94% examples, 442696 words/s, in_qsize 5, out_qsize 2\n",
            "2019-08-26 07:37:15,287 : INFO : EPOCH 2 - PROGRESS: at 59.39% examples, 443047 words/s, in_qsize 6, out_qsize 1\n",
            "2019-08-26 07:37:16,288 : INFO : EPOCH 2 - PROGRESS: at 62.94% examples, 443677 words/s, in_qsize 7, out_qsize 0\n",
            "2019-08-26 07:37:17,292 : INFO : EPOCH 2 - PROGRESS: at 66.45% examples, 444154 words/s, in_qsize 7, out_qsize 0\n",
            "2019-08-26 07:37:18,335 : INFO : EPOCH 2 - PROGRESS: at 69.99% examples, 443739 words/s, in_qsize 8, out_qsize 1\n",
            "2019-08-26 07:37:19,356 : INFO : EPOCH 2 - PROGRESS: at 73.55% examples, 444201 words/s, in_qsize 7, out_qsize 0\n",
            "2019-08-26 07:37:20,357 : INFO : EPOCH 2 - PROGRESS: at 77.10% examples, 444656 words/s, in_qsize 7, out_qsize 0\n",
            "2019-08-26 07:37:21,373 : INFO : EPOCH 2 - PROGRESS: at 80.58% examples, 444465 words/s, in_qsize 6, out_qsize 1\n",
            "2019-08-26 07:37:22,376 : INFO : EPOCH 2 - PROGRESS: at 84.00% examples, 444236 words/s, in_qsize 7, out_qsize 0\n",
            "2019-08-26 07:37:23,384 : INFO : EPOCH 2 - PROGRESS: at 87.48% examples, 444226 words/s, in_qsize 6, out_qsize 1\n",
            "2019-08-26 07:37:24,420 : INFO : EPOCH 2 - PROGRESS: at 90.98% examples, 444040 words/s, in_qsize 7, out_qsize 0\n",
            "2019-08-26 07:37:25,439 : INFO : EPOCH 2 - PROGRESS: at 94.65% examples, 444632 words/s, in_qsize 7, out_qsize 0\n",
            "2019-08-26 07:37:26,458 : INFO : EPOCH 2 - PROGRESS: at 98.17% examples, 444729 words/s, in_qsize 7, out_qsize 0\n",
            "2019-08-26 07:37:26,936 : INFO : worker thread finished; awaiting finish of 3 more threads\n",
            "2019-08-26 07:37:26,954 : INFO : worker thread finished; awaiting finish of 2 more threads\n",
            "2019-08-26 07:37:26,971 : INFO : worker thread finished; awaiting finish of 1 more threads\n",
            "2019-08-26 07:37:26,972 : INFO : worker thread finished; awaiting finish of 0 more threads\n",
            "2019-08-26 07:37:26,973 : INFO : EPOCH - 2 : training on 17798269 raw words (12872994 effective words) took 28.9s, 445015 effective words/s\n",
            "2019-08-26 07:37:27,984 : INFO : EPOCH 3 - PROGRESS: at 3.42% examples, 440242 words/s, in_qsize 8, out_qsize 0\n",
            "2019-08-26 07:37:28,997 : INFO : EPOCH 3 - PROGRESS: at 6.85% examples, 437163 words/s, in_qsize 7, out_qsize 0\n",
            "2019-08-26 07:37:30,005 : INFO : EPOCH 3 - PROGRESS: at 10.42% examples, 441641 words/s, in_qsize 7, out_qsize 0\n",
            "2019-08-26 07:37:31,020 : INFO : EPOCH 3 - PROGRESS: at 14.05% examples, 445275 words/s, in_qsize 7, out_qsize 0\n",
            "2019-08-26 07:37:32,028 : INFO : EPOCH 3 - PROGRESS: at 17.59% examples, 445055 words/s, in_qsize 7, out_qsize 0\n",
            "2019-08-26 07:37:33,048 : INFO : EPOCH 3 - PROGRESS: at 21.01% examples, 442795 words/s, in_qsize 6, out_qsize 1\n",
            "2019-08-26 07:37:34,068 : INFO : EPOCH 3 - PROGRESS: at 24.44% examples, 441246 words/s, in_qsize 7, out_qsize 0\n",
            "2019-08-26 07:37:35,071 : INFO : EPOCH 3 - PROGRESS: at 27.80% examples, 440025 words/s, in_qsize 7, out_qsize 1\n",
            "2019-08-26 07:37:36,082 : INFO : EPOCH 3 - PROGRESS: at 31.43% examples, 441851 words/s, in_qsize 7, out_qsize 0\n",
            "2019-08-26 07:37:37,106 : INFO : EPOCH 3 - PROGRESS: at 34.99% examples, 442014 words/s, in_qsize 7, out_qsize 0\n",
            "2019-08-26 07:37:38,126 : INFO : EPOCH 3 - PROGRESS: at 38.46% examples, 441766 words/s, in_qsize 7, out_qsize 0\n",
            "2019-08-26 07:37:39,132 : INFO : EPOCH 3 - PROGRESS: at 41.87% examples, 441405 words/s, in_qsize 6, out_qsize 1\n",
            "2019-08-26 07:37:40,143 : INFO : EPOCH 3 - PROGRESS: at 45.29% examples, 441006 words/s, in_qsize 8, out_qsize 1\n",
            "2019-08-26 07:37:41,156 : INFO : EPOCH 3 - PROGRESS: at 48.72% examples, 441022 words/s, in_qsize 7, out_qsize 0\n",
            "2019-08-26 07:37:42,162 : INFO : EPOCH 3 - PROGRESS: at 52.26% examples, 441778 words/s, in_qsize 7, out_qsize 0\n",
            "2019-08-26 07:37:43,180 : INFO : EPOCH 3 - PROGRESS: at 55.72% examples, 441609 words/s, in_qsize 7, out_qsize 0\n",
            "2019-08-26 07:37:44,223 : INFO : EPOCH 3 - PROGRESS: at 59.11% examples, 440832 words/s, in_qsize 5, out_qsize 2\n",
            "2019-08-26 07:37:45,229 : INFO : EPOCH 3 - PROGRESS: at 62.49% examples, 440301 words/s, in_qsize 7, out_qsize 0\n",
            "2019-08-26 07:37:46,254 : INFO : EPOCH 3 - PROGRESS: at 65.95% examples, 440115 words/s, in_qsize 6, out_qsize 1\n",
            "2019-08-26 07:37:47,264 : INFO : EPOCH 3 - PROGRESS: at 69.42% examples, 440300 words/s, in_qsize 7, out_qsize 0\n",
            "2019-08-26 07:37:48,268 : INFO : EPOCH 3 - PROGRESS: at 72.83% examples, 440252 words/s, in_qsize 7, out_qsize 0\n",
            "2019-08-26 07:37:49,303 : INFO : EPOCH 3 - PROGRESS: at 76.38% examples, 440323 words/s, in_qsize 8, out_qsize 2\n",
            "2019-08-26 07:37:50,327 : INFO : EPOCH 3 - PROGRESS: at 79.86% examples, 440063 words/s, in_qsize 7, out_qsize 0\n",
            "2019-08-26 07:37:51,331 : INFO : EPOCH 3 - PROGRESS: at 83.28% examples, 440004 words/s, in_qsize 7, out_qsize 0\n",
            "2019-08-26 07:37:52,353 : INFO : EPOCH 3 - PROGRESS: at 86.76% examples, 439928 words/s, in_qsize 7, out_qsize 0\n",
            "2019-08-26 07:37:53,359 : INFO : EPOCH 3 - PROGRESS: at 90.18% examples, 440133 words/s, in_qsize 7, out_qsize 0\n",
            "2019-08-26 07:37:54,365 : INFO : EPOCH 3 - PROGRESS: at 93.56% examples, 439748 words/s, in_qsize 8, out_qsize 1\n",
            "2019-08-26 07:37:55,373 : INFO : EPOCH 3 - PROGRESS: at 97.01% examples, 439648 words/s, in_qsize 8, out_qsize 0\n",
            "2019-08-26 07:37:56,220 : INFO : worker thread finished; awaiting finish of 3 more threads\n",
            "2019-08-26 07:37:56,238 : INFO : worker thread finished; awaiting finish of 2 more threads\n",
            "2019-08-26 07:37:56,240 : INFO : worker thread finished; awaiting finish of 1 more threads\n",
            "2019-08-26 07:37:56,254 : INFO : worker thread finished; awaiting finish of 0 more threads\n",
            "2019-08-26 07:37:56,254 : INFO : EPOCH - 3 : training on 17798269 raw words (12872020 effective words) took 29.3s, 439722 effective words/s\n",
            "2019-08-26 07:37:57,267 : INFO : EPOCH 4 - PROGRESS: at 3.31% examples, 424425 words/s, in_qsize 7, out_qsize 0\n",
            "2019-08-26 07:37:58,273 : INFO : EPOCH 4 - PROGRESS: at 6.74% examples, 430634 words/s, in_qsize 7, out_qsize 0\n",
            "2019-08-26 07:37:59,298 : INFO : EPOCH 4 - PROGRESS: at 10.26% examples, 432826 words/s, in_qsize 6, out_qsize 1\n",
            "2019-08-26 07:38:00,310 : INFO : EPOCH 4 - PROGRESS: at 13.71% examples, 433567 words/s, in_qsize 7, out_qsize 0\n",
            "2019-08-26 07:38:01,361 : INFO : EPOCH 4 - PROGRESS: at 17.40% examples, 436241 words/s, in_qsize 7, out_qsize 0\n",
            "2019-08-26 07:38:02,370 : INFO : EPOCH 4 - PROGRESS: at 20.90% examples, 437531 words/s, in_qsize 7, out_qsize 0\n",
            "2019-08-26 07:38:03,371 : INFO : EPOCH 4 - PROGRESS: at 24.38% examples, 438862 words/s, in_qsize 7, out_qsize 0\n",
            "2019-08-26 07:38:04,375 : INFO : EPOCH 4 - PROGRESS: at 27.69% examples, 436993 words/s, in_qsize 6, out_qsize 1\n",
            "2019-08-26 07:38:05,392 : INFO : EPOCH 4 - PROGRESS: at 31.14% examples, 436543 words/s, in_qsize 7, out_qsize 0\n",
            "2019-08-26 07:38:06,415 : INFO : EPOCH 4 - PROGRESS: at 34.70% examples, 437248 words/s, in_qsize 7, out_qsize 0\n",
            "2019-08-26 07:38:07,437 : INFO : EPOCH 4 - PROGRESS: at 38.18% examples, 437473 words/s, in_qsize 7, out_qsize 0\n",
            "2019-08-26 07:38:08,448 : INFO : EPOCH 4 - PROGRESS: at 41.76% examples, 438954 words/s, in_qsize 7, out_qsize 0\n",
            "2019-08-26 07:38:09,454 : INFO : EPOCH 4 - PROGRESS: at 45.18% examples, 438877 words/s, in_qsize 7, out_qsize 0\n",
            "2019-08-26 07:38:10,464 : INFO : EPOCH 4 - PROGRESS: at 48.66% examples, 439642 words/s, in_qsize 7, out_qsize 0\n",
            "2019-08-26 07:38:11,470 : INFO : EPOCH 4 - PROGRESS: at 52.10% examples, 439526 words/s, in_qsize 7, out_qsize 0\n",
            "2019-08-26 07:38:12,484 : INFO : EPOCH 4 - PROGRESS: at 55.55% examples, 439618 words/s, in_qsize 7, out_qsize 0\n",
            "2019-08-26 07:38:13,494 : INFO : EPOCH 4 - PROGRESS: at 58.90% examples, 439359 words/s, in_qsize 7, out_qsize 0\n",
            "2019-08-26 07:38:14,501 : INFO : EPOCH 4 - PROGRESS: at 62.43% examples, 440064 words/s, in_qsize 7, out_qsize 0\n",
            "2019-08-26 07:38:15,533 : INFO : EPOCH 4 - PROGRESS: at 65.73% examples, 438617 words/s, in_qsize 7, out_qsize 0\n",
            "2019-08-26 07:38:16,540 : INFO : EPOCH 4 - PROGRESS: at 69.25% examples, 439253 words/s, in_qsize 7, out_qsize 0\n",
            "2019-08-26 07:38:17,559 : INFO : EPOCH 4 - PROGRESS: at 72.66% examples, 438930 words/s, in_qsize 7, out_qsize 0\n",
            "2019-08-26 07:38:18,562 : INFO : EPOCH 4 - PROGRESS: at 76.22% examples, 439580 words/s, in_qsize 7, out_qsize 0\n",
            "2019-08-26 07:38:19,570 : INFO : EPOCH 4 - PROGRESS: at 79.63% examples, 439451 words/s, in_qsize 6, out_qsize 1\n",
            "2019-08-26 07:38:20,594 : INFO : EPOCH 4 - PROGRESS: at 83.23% examples, 439927 words/s, in_qsize 7, out_qsize 0\n",
            "2019-08-26 07:38:21,607 : INFO : EPOCH 4 - PROGRESS: at 86.70% examples, 440005 words/s, in_qsize 7, out_qsize 0\n",
            "2019-08-26 07:38:22,617 : INFO : EPOCH 4 - PROGRESS: at 90.24% examples, 440680 words/s, in_qsize 7, out_qsize 0\n",
            "2019-08-26 07:38:23,619 : INFO : EPOCH 4 - PROGRESS: at 93.57% examples, 440115 words/s, in_qsize 7, out_qsize 0\n",
            "2019-08-26 07:38:24,626 : INFO : EPOCH 4 - PROGRESS: at 97.12% examples, 440534 words/s, in_qsize 7, out_qsize 0\n",
            "2019-08-26 07:38:25,407 : INFO : worker thread finished; awaiting finish of 3 more threads\n",
            "2019-08-26 07:38:25,414 : INFO : worker thread finished; awaiting finish of 2 more threads\n",
            "2019-08-26 07:38:25,442 : INFO : worker thread finished; awaiting finish of 1 more threads\n",
            "2019-08-26 07:38:25,446 : INFO : worker thread finished; awaiting finish of 0 more threads\n",
            "2019-08-26 07:38:25,446 : INFO : EPOCH - 4 : training on 17798269 raw words (12870936 effective words) took 29.2s, 441016 effective words/s\n",
            "2019-08-26 07:38:26,466 : INFO : EPOCH 5 - PROGRESS: at 3.36% examples, 429117 words/s, in_qsize 7, out_qsize 0\n",
            "2019-08-26 07:38:27,494 : INFO : EPOCH 5 - PROGRESS: at 6.91% examples, 435545 words/s, in_qsize 7, out_qsize 0\n",
            "2019-08-26 07:38:28,506 : INFO : EPOCH 5 - PROGRESS: at 10.47% examples, 440075 words/s, in_qsize 7, out_qsize 0\n",
            "2019-08-26 07:38:29,506 : INFO : EPOCH 5 - PROGRESS: at 13.99% examples, 442061 words/s, in_qsize 7, out_qsize 0\n",
            "2019-08-26 07:38:30,506 : INFO : EPOCH 5 - PROGRESS: at 17.40% examples, 440293 words/s, in_qsize 7, out_qsize 0\n",
            "2019-08-26 07:38:31,507 : INFO : EPOCH 5 - PROGRESS: at 20.90% examples, 441448 words/s, in_qsize 7, out_qsize 0\n",
            "2019-08-26 07:38:32,545 : INFO : EPOCH 5 - PROGRESS: at 24.44% examples, 441008 words/s, in_qsize 7, out_qsize 0\n",
            "2019-08-26 07:38:33,571 : INFO : EPOCH 5 - PROGRESS: at 28.08% examples, 442991 words/s, in_qsize 7, out_qsize 0\n",
            "2019-08-26 07:38:34,587 : INFO : EPOCH 5 - PROGRESS: at 31.67% examples, 443489 words/s, in_qsize 7, out_qsize 0\n",
            "2019-08-26 07:38:35,626 : INFO : EPOCH 5 - PROGRESS: at 35.33% examples, 444234 words/s, in_qsize 7, out_qsize 0\n",
            "2019-08-26 07:38:36,631 : INFO : EPOCH 5 - PROGRESS: at 38.74% examples, 443706 words/s, in_qsize 7, out_qsize 0\n",
            "2019-08-26 07:38:37,641 : INFO : EPOCH 5 - PROGRESS: at 42.24% examples, 444251 words/s, in_qsize 7, out_qsize 0\n",
            "2019-08-26 07:38:38,655 : INFO : EPOCH 5 - PROGRESS: at 45.66% examples, 443463 words/s, in_qsize 5, out_qsize 2\n",
            "2019-08-26 07:38:39,656 : INFO : EPOCH 5 - PROGRESS: at 49.21% examples, 444781 words/s, in_qsize 7, out_qsize 0\n",
            "2019-08-26 07:38:40,681 : INFO : EPOCH 5 - PROGRESS: at 52.73% examples, 444223 words/s, in_qsize 7, out_qsize 0\n",
            "2019-08-26 07:38:41,714 : INFO : EPOCH 5 - PROGRESS: at 56.27% examples, 444364 words/s, in_qsize 7, out_qsize 0\n",
            "2019-08-26 07:38:42,734 : INFO : EPOCH 5 - PROGRESS: at 59.78% examples, 444859 words/s, in_qsize 7, out_qsize 0\n",
            "2019-08-26 07:38:43,757 : INFO : EPOCH 5 - PROGRESS: at 63.33% examples, 444866 words/s, in_qsize 7, out_qsize 0\n",
            "2019-08-26 07:38:44,762 : INFO : EPOCH 5 - PROGRESS: at 66.85% examples, 445290 words/s, in_qsize 7, out_qsize 0\n",
            "2019-08-26 07:38:45,779 : INFO : EPOCH 5 - PROGRESS: at 70.28% examples, 444669 words/s, in_qsize 7, out_qsize 2\n",
            "2019-08-26 07:38:46,786 : INFO : EPOCH 5 - PROGRESS: at 73.68% examples, 444386 words/s, in_qsize 6, out_qsize 1\n",
            "2019-08-26 07:38:47,786 : INFO : EPOCH 5 - PROGRESS: at 77.21% examples, 444819 words/s, in_qsize 7, out_qsize 0\n",
            "2019-08-26 07:38:48,789 : INFO : EPOCH 5 - PROGRESS: at 80.64% examples, 444546 words/s, in_qsize 8, out_qsize 2\n",
            "2019-08-26 07:38:49,804 : INFO : EPOCH 5 - PROGRESS: at 84.17% examples, 444719 words/s, in_qsize 8, out_qsize 0\n",
            "2019-08-26 07:38:50,805 : INFO : EPOCH 5 - PROGRESS: at 87.69% examples, 445087 words/s, in_qsize 7, out_qsize 0\n",
            "2019-08-26 07:38:51,820 : INFO : EPOCH 5 - PROGRESS: at 91.15% examples, 444936 words/s, in_qsize 7, out_qsize 0\n",
            "2019-08-26 07:38:52,843 : INFO : EPOCH 5 - PROGRESS: at 94.76% examples, 445177 words/s, in_qsize 7, out_qsize 0\n",
            "2019-08-26 07:38:53,858 : INFO : EPOCH 5 - PROGRESS: at 98.29% examples, 445285 words/s, in_qsize 7, out_qsize 0\n",
            "2019-08-26 07:38:54,293 : INFO : worker thread finished; awaiting finish of 3 more threads\n",
            "2019-08-26 07:38:54,294 : INFO : worker thread finished; awaiting finish of 2 more threads\n",
            "2019-08-26 07:38:54,316 : INFO : worker thread finished; awaiting finish of 1 more threads\n",
            "2019-08-26 07:38:54,324 : INFO : worker thread finished; awaiting finish of 0 more threads\n",
            "2019-08-26 07:38:54,325 : INFO : EPOCH - 5 : training on 17798269 raw words (12870610 effective words) took 28.9s, 445822 effective words/s\n",
            "2019-08-26 07:38:54,327 : INFO : training on a 88991345 raw words (64358955 effective words) took 147.3s, 436885 effective words/s\n"
          ],
          "name": "stderr"
        },
        {
          "output_type": "execute_result",
          "data": {
            "text/plain": [
              "<gensim.models.word2vec.Word2Vec at 0x7fc1dc5c2c50>"
            ]
          },
          "metadata": {
            "tags": []
          },
          "execution_count": 15
        }
      ]
    },
    {
      "cell_type": "code",
      "metadata": {
        "id": "pHBiWYYFODxS",
        "colab_type": "code",
        "outputId": "2a8a77ad-3aca-4fef-b738-9e182c43207e",
        "colab": {
          "base_uri": "https://localhost:8080/",
          "height": 160
        }
      },
      "source": [
        "# 학습이 완료되면 필요없는 메모리를 unload 시킨다.\n",
        "model.init_sims(replace = True)\n",
        "\n",
        "model_name = '300features_40minwords_10text'\n",
        "# model_name = '300features_50mins_20text'\n",
        "\n",
        "model.save(model_name)"
      ],
      "execution_count": 0,
      "outputs": [
        {
          "output_type": "stream",
          "text": [
            "2019-08-26 07:38:54,340 : INFO : precomputing L2-norms of word weight vectors\n",
            "2019-08-26 07:38:54,433 : INFO : saving Word2Vec object under 300features_40minwords_10text, separately None\n",
            "2019-08-26 07:38:54,434 : INFO : not storing attribute vectors_norm\n",
            "2019-08-26 07:38:54,436 : INFO : not storing attribute cum_table\n",
            "/usr/local/lib/python3.6/dist-packages/smart_open/smart_open_lib.py:398: UserWarning: This function is deprecated, use smart_open.open instead. See the migration notes for details: https://github.com/RaRe-Technologies/smart_open/blob/master/README.rst#migrating-to-the-new-open-function\n",
            "  'See the migration notes for details: %s' % _MIGRATION_NOTES_URL\n",
            "2019-08-26 07:38:54,785 : INFO : saved 300features_40minwords_10text\n"
          ],
          "name": "stderr"
        }
      ]
    },
    {
      "cell_type": "markdown",
      "metadata": {
        "id": "Az33IdDtdLfw",
        "colab_type": "text"
      },
      "source": [
        "## 모델 결과 탐색\n",
        "Exploring the Model Results"
      ]
    },
    {
      "cell_type": "code",
      "metadata": {
        "id": "47ekfrUqc_y4",
        "colab_type": "code",
        "outputId": "51c85f74-ee42-4444-ed02-3a0a053f86ba",
        "colab": {
          "base_uri": "https://localhost:8080/",
          "height": 125
        }
      },
      "source": [
        "# 유사도가 없는 단어 추출\n",
        "model.wv.doesnt_match('man woman child kitchen'.split())"
      ],
      "execution_count": 0,
      "outputs": [
        {
          "output_type": "stream",
          "text": [
            "/usr/local/lib/python3.6/dist-packages/gensim/models/keyedvectors.py:895: FutureWarning: arrays to stack must be passed as a \"sequence\" type such as list or tuple. Support for non-sequence iterables such as generators is deprecated as of NumPy 1.16 and will raise an error in the future.\n",
            "  vectors = vstack(self.word_vec(word, use_norm=True) for word in used_words).astype(REAL)\n",
            "/usr/local/lib/python3.6/dist-packages/gensim/matutils.py:737: FutureWarning: Conversion of the second argument of issubdtype from `int` to `np.signedinteger` is deprecated. In future, it will be treated as `np.int64 == np.dtype(int).type`.\n",
            "  if np.issubdtype(vec.dtype, np.int):\n"
          ],
          "name": "stderr"
        },
        {
          "output_type": "execute_result",
          "data": {
            "text/plain": [
              "'kitchen'"
            ]
          },
          "metadata": {
            "tags": []
          },
          "execution_count": 17
        }
      ]
    },
    {
      "cell_type": "code",
      "metadata": {
        "id": "srX4iGiZdioF",
        "colab_type": "code",
        "outputId": "ff30e1c7-9838-49a7-f341-a50271aedb8b",
        "colab": {
          "base_uri": "https://localhost:8080/",
          "height": 142
        }
      },
      "source": [
        "model.wv.doesnt_match('france england germany berlin'.split())"
      ],
      "execution_count": 0,
      "outputs": [
        {
          "output_type": "stream",
          "text": [
            "2019-08-26 07:38:55,355 : WARNING : vectors for words {'germany', 'france'} are not present in the model, ignoring these words\n",
            "/usr/local/lib/python3.6/dist-packages/gensim/models/keyedvectors.py:895: FutureWarning: arrays to stack must be passed as a \"sequence\" type such as list or tuple. Support for non-sequence iterables such as generators is deprecated as of NumPy 1.16 and will raise an error in the future.\n",
            "  vectors = vstack(self.word_vec(word, use_norm=True) for word in used_words).astype(REAL)\n",
            "/usr/local/lib/python3.6/dist-packages/gensim/matutils.py:737: FutureWarning: Conversion of the second argument of issubdtype from `int` to `np.signedinteger` is deprecated. In future, it will be treated as `np.int64 == np.dtype(int).type`.\n",
            "  if np.issubdtype(vec.dtype, np.int):\n"
          ],
          "name": "stderr"
        },
        {
          "output_type": "execute_result",
          "data": {
            "text/plain": [
              "'england'"
            ]
          },
          "metadata": {
            "tags": []
          },
          "execution_count": 18
        }
      ]
    },
    {
      "cell_type": "code",
      "metadata": {
        "id": "cSMNrSBcdnaL",
        "colab_type": "code",
        "outputId": "e3032395-e555-4227-a380-951cd6e4137c",
        "colab": {
          "base_uri": "https://localhost:8080/",
          "height": 248
        }
      },
      "source": [
        "# 가장 유사한 단어를 추출\n",
        "model.wv.most_similar('man')"
      ],
      "execution_count": 0,
      "outputs": [
        {
          "output_type": "stream",
          "text": [
            "/usr/local/lib/python3.6/dist-packages/gensim/matutils.py:737: FutureWarning: Conversion of the second argument of issubdtype from `int` to `np.signedinteger` is deprecated. In future, it will be treated as `np.int64 == np.dtype(int).type`.\n",
            "  if np.issubdtype(vec.dtype, np.int):\n"
          ],
          "name": "stderr"
        },
        {
          "output_type": "execute_result",
          "data": {
            "text/plain": [
              "[('woman', 0.6314194202423096),\n",
              " ('businessman', 0.5142842531204224),\n",
              " ('ladi', 0.5108109712600708),\n",
              " ('lad', 0.5063549280166626),\n",
              " ('farmer', 0.4988977909088135),\n",
              " ('millionair', 0.49155664443969727),\n",
              " ('lawyer', 0.4682796895503998),\n",
              " ('policeman', 0.46666526794433594),\n",
              " ('priest', 0.45452436804771423),\n",
              " ('widow', 0.4518689215183258)]"
            ]
          },
          "metadata": {
            "tags": []
          },
          "execution_count": 19
        }
      ]
    },
    {
      "cell_type": "code",
      "metadata": {
        "id": "e7cIv6Kvdrwl",
        "colab_type": "code",
        "outputId": "98f1cac1-fd98-4af9-ab86-e9bac5be5776",
        "colab": {
          "base_uri": "https://localhost:8080/",
          "height": 248
        }
      },
      "source": [
        "model.wv.most_similar('queen')"
      ],
      "execution_count": 0,
      "outputs": [
        {
          "output_type": "stream",
          "text": [
            "/usr/local/lib/python3.6/dist-packages/gensim/matutils.py:737: FutureWarning: Conversion of the second argument of issubdtype from `int` to `np.signedinteger` is deprecated. In future, it will be treated as `np.int64 == np.dtype(int).type`.\n",
            "  if np.issubdtype(vec.dtype, np.int):\n"
          ],
          "name": "stderr"
        },
        {
          "output_type": "execute_result",
          "data": {
            "text/plain": [
              "[('princess', 0.6098155975341797),\n",
              " ('goddess', 0.5726385116577148),\n",
              " ('maid', 0.5613387823104858),\n",
              " ('madam', 0.5582372546195984),\n",
              " ('countess', 0.5531764030456543),\n",
              " ('latifah', 0.5508273839950562),\n",
              " ('stepmoth', 0.550726056098938),\n",
              " ('mistress', 0.5392297506332397),\n",
              " ('ursula', 0.5347148180007935),\n",
              " ('victoria', 0.5312930941581726)]"
            ]
          },
          "metadata": {
            "tags": []
          },
          "execution_count": 20
        }
      ]
    },
    {
      "cell_type": "code",
      "metadata": {
        "id": "A6uUYvGxdukC",
        "colab_type": "code",
        "colab": {}
      },
      "source": [
        "# model.wv.most_similar('awful')"
      ],
      "execution_count": 0,
      "outputs": []
    },
    {
      "cell_type": "code",
      "metadata": {
        "id": "Kf1rs2jndxGq",
        "colab_type": "code",
        "outputId": "7537327b-f2aa-4e0a-b3ee-867ef88ba63d",
        "colab": {
          "base_uri": "https://localhost:8080/",
          "height": 248
        }
      },
      "source": [
        "model.wv.most_similar('film')"
      ],
      "execution_count": 0,
      "outputs": [
        {
          "output_type": "stream",
          "text": [
            "/usr/local/lib/python3.6/dist-packages/gensim/matutils.py:737: FutureWarning: Conversion of the second argument of issubdtype from `int` to `np.signedinteger` is deprecated. In future, it will be treated as `np.int64 == np.dtype(int).type`.\n",
            "  if np.issubdtype(vec.dtype, np.int):\n"
          ],
          "name": "stderr"
        },
        {
          "output_type": "execute_result",
          "data": {
            "text/plain": [
              "[('movi', 0.8525316715240479),\n",
              " ('flick', 0.6035316586494446),\n",
              " ('documentari', 0.5762263536453247),\n",
              " ('pictur', 0.5360910296440125),\n",
              " ('cinema', 0.5161279439926147),\n",
              " ('masterpiec', 0.4917723536491394),\n",
              " ('it', 0.4866896867752075),\n",
              " ('sequel', 0.4842386841773987),\n",
              " ('thriller', 0.4670736789703369),\n",
              " ('miniseri', 0.46062102913856506)]"
            ]
          },
          "metadata": {
            "tags": []
          },
          "execution_count": 22
        }
      ]
    },
    {
      "cell_type": "code",
      "metadata": {
        "id": "mPvwA7VxdzYe",
        "colab_type": "code",
        "outputId": "b1e0aded-d425-47df-c19c-38c023002402",
        "colab": {
          "base_uri": "https://localhost:8080/",
          "height": 248
        }
      },
      "source": [
        "# model.wv.most_similar('happy')\n",
        "model.wv.most_similar('happi') # Streaming 처리시"
      ],
      "execution_count": 0,
      "outputs": [
        {
          "output_type": "stream",
          "text": [
            "/usr/local/lib/python3.6/dist-packages/gensim/matutils.py:737: FutureWarning: Conversion of the second argument of issubdtype from `int` to `np.signedinteger` is deprecated. In future, it will be treated as `np.int64 == np.dtype(int).type`.\n",
            "  if np.issubdtype(vec.dtype, np.int):\n"
          ],
          "name": "stderr"
        },
        {
          "output_type": "execute_result",
          "data": {
            "text/plain": [
              "[('unhappi', 0.4362345337867737),\n",
              " ('sad', 0.4079532325267792),\n",
              " ('satisfi', 0.4043015241622925),\n",
              " ('bitter', 0.38621291518211365),\n",
              " ('happier', 0.38519564270973206),\n",
              " ('glad', 0.38486647605895996),\n",
              " ('proud', 0.3756437301635742),\n",
              " ('lucki', 0.37421196699142456),\n",
              " ('upset', 0.36591511964797974),\n",
              " ('afraid', 0.3632705807685852)]"
            ]
          },
          "metadata": {
            "tags": []
          },
          "execution_count": 23
        }
      ]
    },
    {
      "cell_type": "markdown",
      "metadata": {
        "id": "oBLg2l8Bep0E",
        "colab_type": "text"
      },
      "source": [
        "## Word2Vec으로 벡터화 한 단어를 t-SNE를 통해 시각화"
      ]
    },
    {
      "cell_type": "code",
      "metadata": {
        "id": "6sQSjg2eepJI",
        "colab_type": "code",
        "outputId": "77017af2-4fd5-4ef7-b4ea-849bc3b50f6e",
        "colab": {
          "base_uri": "https://localhost:8080/",
          "height": 283
        }
      },
      "source": [
        "# 참고 https://stackoverflow.com/questions/43776572/visualise-word2vec-generated-from-gensim\n",
        "from sklearn.manifold import TSNE\n",
        "import matplotlib as mpl\n",
        "import matplotlib.pyplot as plt\n",
        "import gensim\n",
        "import gensim.models as g\n",
        "\n",
        "# 그래프에서 마이너스 폰트 깨지는 문제 대처\n",
        "mpl.rcParams['axes.unicode_minus'] = False\n",
        "\n",
        "model_name = '300features_40minwords_10text'\n",
        "model = g.Doc2Vec.load(model_name)\n",
        "\n",
        "vocab = list(model.wv.vocab)\n",
        "X = model[vocab]\n",
        "\n",
        "print(len(X))\n",
        "print(X[0][:10])\n",
        "tsne = TSNE(n_components = 2)\n",
        "\n",
        "# 100개의 단어에 대해서만 시각화\n",
        "X_tsne = tsne.fit_transform(X[:100, :])\n",
        "# X_tsne = tsne.fit_transform(X)"
      ],
      "execution_count": 0,
      "outputs": [
        {
          "output_type": "stream",
          "text": [
            "2019-08-26 07:38:55,490 : INFO : loading Doc2Vec object from 300features_40minwords_10text\n",
            "/usr/local/lib/python3.6/dist-packages/smart_open/smart_open_lib.py:398: UserWarning: This function is deprecated, use smart_open.open instead. See the migration notes for details: https://github.com/RaRe-Technologies/smart_open/blob/master/README.rst#migrating-to-the-new-open-function\n",
            "  'See the migration notes for details: %s' % _MIGRATION_NOTES_URL\n",
            "2019-08-26 07:38:55,724 : INFO : loading wv recursively from 300features_40minwords_10text.wv.* with mmap=None\n",
            "2019-08-26 07:38:55,725 : INFO : setting ignored attribute vectors_norm to None\n",
            "2019-08-26 07:38:55,726 : INFO : loading vocabulary recursively from 300features_40minwords_10text.vocabulary.* with mmap=None\n",
            "2019-08-26 07:38:55,727 : INFO : loading trainables recursively from 300features_40minwords_10text.trainables.* with mmap=None\n",
            "2019-08-26 07:38:55,728 : INFO : setting ignored attribute cum_table to None\n",
            "2019-08-26 07:38:55,729 : INFO : loaded 300features_40minwords_10text\n",
            "/usr/local/lib/python3.6/dist-packages/ipykernel_launcher.py:14: DeprecationWarning: Call to deprecated `__getitem__` (Method will be removed in 4.0.0, use self.wv.__getitem__() instead).\n",
            "  \n"
          ],
          "name": "stderr"
        },
        {
          "output_type": "stream",
          "text": [
            "11986\n",
            "[-0.08454226 -0.04374335 -0.16514303  0.00995741  0.02657717 -0.09125659\n",
            " -0.02137848 -0.03098948 -0.01892858  0.08896755]\n"
          ],
          "name": "stdout"
        }
      ]
    },
    {
      "cell_type": "code",
      "metadata": {
        "id": "7G07Mhlwf6SU",
        "colab_type": "code",
        "outputId": "c2dbde70-48b1-4909-a5e8-8c193e29f650",
        "colab": {
          "base_uri": "https://localhost:8080/",
          "height": 34
        }
      },
      "source": [
        "df = pd.DataFrame(X_tsne, index = vocab[:100], columns = ['x', 'y'])\n",
        "df.shape"
      ],
      "execution_count": 0,
      "outputs": [
        {
          "output_type": "execute_result",
          "data": {
            "text/plain": [
              "(100, 2)"
            ]
          },
          "metadata": {
            "tags": []
          },
          "execution_count": 25
        }
      ]
    },
    {
      "cell_type": "code",
      "metadata": {
        "id": "KONC6VABgue1",
        "colab_type": "code",
        "outputId": "19669f89-a5e3-49b3-ad51-f70a4bc0d8aa",
        "colab": {
          "base_uri": "https://localhost:8080/",
          "height": 343
        }
      },
      "source": [
        "df.head(10)"
      ],
      "execution_count": 0,
      "outputs": [
        {
          "output_type": "execute_result",
          "data": {
            "text/html": [
              "<div>\n",
              "<style scoped>\n",
              "    .dataframe tbody tr th:only-of-type {\n",
              "        vertical-align: middle;\n",
              "    }\n",
              "\n",
              "    .dataframe tbody tr th {\n",
              "        vertical-align: top;\n",
              "    }\n",
              "\n",
              "    .dataframe thead th {\n",
              "        text-align: right;\n",
              "    }\n",
              "</style>\n",
              "<table border=\"1\" class=\"dataframe\">\n",
              "  <thead>\n",
              "    <tr style=\"text-align: right;\">\n",
              "      <th></th>\n",
              "      <th>x</th>\n",
              "      <th>y</th>\n",
              "    </tr>\n",
              "  </thead>\n",
              "  <tbody>\n",
              "    <tr>\n",
              "      <th>with</th>\n",
              "      <td>5.197927</td>\n",
              "      <td>-8.907499</td>\n",
              "    </tr>\n",
              "    <tr>\n",
              "      <th>all</th>\n",
              "      <td>1.931286</td>\n",
              "      <td>-6.223527</td>\n",
              "    </tr>\n",
              "    <tr>\n",
              "      <th>this</th>\n",
              "      <td>2.343348</td>\n",
              "      <td>-4.819618</td>\n",
              "    </tr>\n",
              "    <tr>\n",
              "      <th>stuff</th>\n",
              "      <td>-0.172652</td>\n",
              "      <td>-7.425767</td>\n",
              "    </tr>\n",
              "    <tr>\n",
              "      <th>go</th>\n",
              "      <td>-3.506354</td>\n",
              "      <td>0.678824</td>\n",
              "    </tr>\n",
              "    <tr>\n",
              "      <th>down</th>\n",
              "      <td>5.272223</td>\n",
              "      <td>-11.272480</td>\n",
              "    </tr>\n",
              "    <tr>\n",
              "      <th>at</th>\n",
              "      <td>6.451928</td>\n",
              "      <td>0.526480</td>\n",
              "    </tr>\n",
              "    <tr>\n",
              "      <th>the</th>\n",
              "      <td>2.908108</td>\n",
              "      <td>-7.877023</td>\n",
              "    </tr>\n",
              "    <tr>\n",
              "      <th>moment</th>\n",
              "      <td>7.961145</td>\n",
              "      <td>-2.266544</td>\n",
              "    </tr>\n",
              "    <tr>\n",
              "      <th>mj</th>\n",
              "      <td>-0.274885</td>\n",
              "      <td>-13.172635</td>\n",
              "    </tr>\n",
              "  </tbody>\n",
              "</table>\n",
              "</div>"
            ],
            "text/plain": [
              "               x          y\n",
              "with    5.197927  -8.907499\n",
              "all     1.931286  -6.223527\n",
              "this    2.343348  -4.819618\n",
              "stuff  -0.172652  -7.425767\n",
              "go     -3.506354   0.678824\n",
              "down    5.272223 -11.272480\n",
              "at      6.451928   0.526480\n",
              "the     2.908108  -7.877023\n",
              "moment  7.961145  -2.266544\n",
              "mj     -0.274885 -13.172635"
            ]
          },
          "metadata": {
            "tags": []
          },
          "execution_count": 26
        }
      ]
    },
    {
      "cell_type": "code",
      "metadata": {
        "id": "ng0o8HkCgwfH",
        "colab_type": "code",
        "outputId": "bacfc0f3-8b30-402a-da83-cc3abfd07bbd",
        "colab": {
          "base_uri": "https://localhost:8080/",
          "height": 615
        }
      },
      "source": [
        "fig = plt.figure()\n",
        "fig.set_size_inches(20, 10)\n",
        "ax = fig.add_subplot(1, 1, 1)\n",
        "\n",
        "ax.scatter(df['x'], df['y'])\n",
        "\n",
        "for word, pos in df.iterrows():\n",
        "  ax.annotate(word, pos, fontsize = 20)\n",
        "plt.show()"
      ],
      "execution_count": 0,
      "outputs": [
        {
          "output_type": "display_data",
          "data": {
            "image/png": "[encoded data removed]",
            "text/plain": [
              "<Figure size 1440x720 with 1 Axes>"
            ]
          },
          "metadata": {
            "tags": []
          }
        }
      ]
    },
    {
      "cell_type": "code",
      "metadata": {
        "id": "EYaWxhlLhDPN",
        "colab_type": "code",
        "colab": {}
      },
      "source": [
        "import numpy as np\n",
        "\n",
        "def makeFeatureVec(words, model, num_features):\n",
        "  \"\"\"\n",
        "  주어진 문장에서 단어 벡터의 평균을 구하는 함수\n",
        "  \"\"\"\n",
        "  # 속도를 위해 0으로 채운 배열을 초기화 한다.\n",
        "  featureVec = np.zeros((num_features,), dtype = 'float32')\n",
        "  \n",
        "  nwords = 0\n",
        "  \n",
        "  # Index2word는 모델의 사전에 있는 단어명을 담은 리스트이다.\n",
        "  # 속도를 위해 set 형태로 초기화 한다.\n",
        "  index2word_set = set(model.wv.index2word)\n",
        "\n",
        "  # 루프를 돌며 모델 사전에 포함이 되는 단어라면 피처에 추가한다.\n",
        "  for word in words:\n",
        "    if word in index2word_set:\n",
        "      nwords = nwords + 1\n",
        "      featureVec = np.add(featureVec, model[word])\n",
        "  # 결과를 단어수로 나누어 평균을 구한다.\n",
        "  featureVec = np.divide(featureVec, nwords)\n",
        "  return featureVec"
      ],
      "execution_count": 0,
      "outputs": []
    },
    {
      "cell_type": "code",
      "metadata": {
        "id": "_XIvmahViYdK",
        "colab_type": "code",
        "colab": {}
      },
      "source": [
        "def getAvgFeatureVecs(reviews, model, num_features):\n",
        "  # 리뷰 단어 목록의 각각에 대한 평균 feature 벡터를 계산하고\n",
        "  # 20 numpy 배열을 반환한다.\n",
        "  \n",
        "  # 카운터를 초기화한다.\n",
        "  counter = 0\n",
        "  # 속도를 위해 20 넘파이 배열을 미리 할당한다.\n",
        "  reviewFeatureVecs = np.zeros(\n",
        "          (len(reviews), num_features), dtype = 'float32')\n",
        "  \n",
        "  for review in reviews:\n",
        "    # 매 1000개 리뷰마다 상태를 출력\n",
        "    if counter % 1000 == 0:\n",
        "      print('Review %d of %d' % (counter, len(reviews)))\n",
        "    # 평균 피처 벡터를 만들기 위해 위에서 정의한 함수를 호출\n",
        "    reviewFeatureVecs[int(counter)] = makeFeatureVec(review, model, num_features)\n",
        "    \n",
        "    # 카운터를 증가시킨다.\n",
        "    counter = counter + 1\n",
        "  return reviewFeatureVecs"
      ],
      "execution_count": 0,
      "outputs": []
    },
    {
      "cell_type": "code",
      "metadata": {
        "id": "2g78N_B6kpjC",
        "colab_type": "code",
        "colab": {}
      },
      "source": [
        "# 멀티스레드로 4개의 워커를 사용해 처리한다.\n",
        "def getCleanReviews(reviews):\n",
        "  clean_reviews = []\n",
        "  clean_reviews = KaggleWord2VecUtility.apply_by_multiprocessing(\\\n",
        "        reviews[\"review\"], KaggleWord2VecUtility.review_to_wordlist,\\\n",
        "        workers=4)\n",
        "  return clean_reviews"
      ],
      "execution_count": 0,
      "outputs": []
    },
    {
      "cell_type": "code",
      "metadata": {
        "id": "CS_sqFWArEEm",
        "colab_type": "code",
        "outputId": "fc4c25e9-d6e4-45a9-a98f-0e2a8e8b50ad",
        "colab": {
          "base_uri": "https://localhost:8080/",
          "height": 530
        }
      },
      "source": [
        "%time trainDataVecs = getAvgFeatureVecs(\\\n",
        "    getCleanReviews(train), model, num_features )"
      ],
      "execution_count": 0,
      "outputs": [
        {
          "output_type": "stream",
          "text": [
            "Review 0 of 25000\n"
          ],
          "name": "stdout"
        },
        {
          "output_type": "stream",
          "text": [
            "/usr/local/lib/python3.6/dist-packages/ipykernel_launcher.py:20: DeprecationWarning: Call to deprecated `__getitem__` (Method will be removed in 4.0.0, use self.wv.__getitem__() instead).\n"
          ],
          "name": "stderr"
        },
        {
          "output_type": "stream",
          "text": [
            "Review 1000 of 25000\n",
            "Review 2000 of 25000\n",
            "Review 3000 of 25000\n",
            "Review 4000 of 25000\n",
            "Review 5000 of 25000\n",
            "Review 6000 of 25000\n",
            "Review 7000 of 25000\n",
            "Review 8000 of 25000\n",
            "Review 9000 of 25000\n",
            "Review 10000 of 25000\n",
            "Review 11000 of 25000\n",
            "Review 12000 of 25000\n",
            "Review 13000 of 25000\n",
            "Review 14000 of 25000\n",
            "Review 15000 of 25000\n",
            "Review 16000 of 25000\n",
            "Review 17000 of 25000\n",
            "Review 18000 of 25000\n",
            "Review 19000 of 25000\n",
            "Review 20000 of 25000\n",
            "Review 21000 of 25000\n",
            "Review 22000 of 25000\n",
            "Review 23000 of 25000\n",
            "Review 24000 of 25000\n",
            "CPU times: user 45.6 s, sys: 1.21 s, total: 46.8 s\n",
            "Wall time: 1min 39s\n"
          ],
          "name": "stdout"
        }
      ]
    },
    {
      "cell_type": "code",
      "metadata": {
        "id": "d82e7ZUj2oQt",
        "colab_type": "code",
        "outputId": "599f59fb-5903-4e3a-fa05-5ff2ebf3d548",
        "colab": {
          "base_uri": "https://localhost:8080/",
          "height": 530
        }
      },
      "source": [
        "%time testDataVecs = getAvgFeatureVecs(\\\n",
        "    getCleanReviews(test), model, num_features )"
      ],
      "execution_count": 0,
      "outputs": [
        {
          "output_type": "stream",
          "text": [
            "Review 0 of 25000\n"
          ],
          "name": "stdout"
        },
        {
          "output_type": "stream",
          "text": [
            "/usr/local/lib/python3.6/dist-packages/ipykernel_launcher.py:20: DeprecationWarning: Call to deprecated `__getitem__` (Method will be removed in 4.0.0, use self.wv.__getitem__() instead).\n"
          ],
          "name": "stderr"
        },
        {
          "output_type": "stream",
          "text": [
            "Review 1000 of 25000\n",
            "Review 2000 of 25000\n",
            "Review 3000 of 25000\n",
            "Review 4000 of 25000\n",
            "Review 5000 of 25000\n",
            "Review 6000 of 25000\n",
            "Review 7000 of 25000\n",
            "Review 8000 of 25000\n",
            "Review 9000 of 25000\n",
            "Review 10000 of 25000\n",
            "Review 11000 of 25000\n",
            "Review 12000 of 25000\n",
            "Review 13000 of 25000\n",
            "Review 14000 of 25000\n",
            "Review 15000 of 25000\n",
            "Review 16000 of 25000\n",
            "Review 17000 of 25000\n",
            "Review 18000 of 25000\n",
            "Review 19000 of 25000\n",
            "Review 20000 of 25000\n",
            "Review 21000 of 25000\n",
            "Review 22000 of 25000\n",
            "Review 23000 of 25000\n",
            "Review 24000 of 25000\n",
            "CPU times: user 42.5 s, sys: 1.37 s, total: 43.9 s\n",
            "Wall time: 1min 37s\n"
          ],
          "name": "stdout"
        }
      ]
    },
    {
      "cell_type": "code",
      "metadata": {
        "id": "V4rYrq4ErbUq",
        "colab_type": "code",
        "colab": {}
      },
      "source": [
        "from sklearn.ensemble import RandomForestClassifier\n",
        "\n",
        "forest = RandomForestClassifier(n_estimators = 100, n_jobs = -1, random_state = 2018)\n"
      ],
      "execution_count": 0,
      "outputs": []
    },
    {
      "cell_type": "code",
      "metadata": {
        "id": "jbPfG2xw28w3",
        "colab_type": "code",
        "outputId": "41962766-2c52-4aad-821c-cb758f9f9484",
        "colab": {
          "base_uri": "https://localhost:8080/",
          "height": 52
        }
      },
      "source": [
        "%time forest = forest.fit(trainDataVecs, train['sentiment'])"
      ],
      "execution_count": 0,
      "outputs": [
        {
          "output_type": "stream",
          "text": [
            "CPU times: user 55 s, sys: 21.9 ms, total: 55 s\n",
            "Wall time: 28 s\n"
          ],
          "name": "stdout"
        }
      ]
    },
    {
      "cell_type": "code",
      "metadata": {
        "id": "CLFGe22D3CWv",
        "colab_type": "code",
        "outputId": "13cf3c29-9a6c-4fd1-a0d7-d46b36f44662",
        "colab": {
          "base_uri": "https://localhost:8080/",
          "height": 52
        }
      },
      "source": [
        "from sklearn.model_selection import cross_val_score\n",
        "%time score = np.mean(cross_val_score(\\\n",
        "                                     forest, trainDataVecs, \\\n",
        "                                     train['sentiment'], cv = 10, scoring = 'roc_auc'))"
      ],
      "execution_count": 0,
      "outputs": [
        {
          "output_type": "stream",
          "text": [
            "CPU times: user 4.67 s, sys: 813 ms, total: 5.48 s\n",
            "Wall time: 4min 15s\n"
          ],
          "name": "stdout"
        }
      ]
    },
    {
      "cell_type": "code",
      "metadata": {
        "id": "xXionnhP3N-f",
        "colab_type": "code",
        "outputId": "f1544222-121d-4edd-8b24-1270b518bba0",
        "colab": {
          "base_uri": "https://localhost:8080/",
          "height": 34
        }
      },
      "source": [
        "score"
      ],
      "execution_count": 0,
      "outputs": [
        {
          "output_type": "execute_result",
          "data": {
            "text/plain": [
              "0.901972128"
            ]
          },
          "metadata": {
            "tags": []
          },
          "execution_count": 40
        }
      ]
    },
    {
      "cell_type": "code",
      "metadata": {
        "id": "TnnB3SkT3OjO",
        "colab_type": "code",
        "colab": {}
      },
      "source": [
        "result = forest.predict(testDataVecs)"
      ],
      "execution_count": 0,
      "outputs": []
    },
    {
      "cell_type": "code",
      "metadata": {
        "id": "p1hVbqNa3RQp",
        "colab_type": "code",
        "colab": {}
      },
      "source": [
        "output = pd.DataFrame(data = {'id':test['id'], 'sentiment':result})\n",
        "output.to_csv('/content/drive/My Drive/ML/word2vec_nlp_tutorial/Word2Vec_AverageVectors_{0:.5f}.csv'.format(score), index = False, quoting = 3)\n"
      ],
      "execution_count": 0,
      "outputs": []
    },
    {
      "cell_type": "code",
      "metadata": {
        "id": "DCVZFh8Q44Nt",
        "colab_type": "code",
        "outputId": "efc44f94-3729-4d02-8656-c007772ea2d2",
        "colab": {
          "base_uri": "https://localhost:8080/",
          "height": 87
        }
      },
      "source": [
        "output_sentiment = output['sentiment'].value_counts()\n",
        "print(output_sentiment[0] - output_sentiment[1])\n",
        "output_sentiment"
      ],
      "execution_count": 0,
      "outputs": [
        {
          "output_type": "stream",
          "text": [
            "36\n"
          ],
          "name": "stdout"
        },
        {
          "output_type": "execute_result",
          "data": {
            "text/plain": [
              "0    12518\n",
              "1    12482\n",
              "Name: sentiment, dtype: int64"
            ]
          },
          "metadata": {
            "tags": []
          },
          "execution_count": 43
        }
      ]
    },
    {
      "cell_type": "code",
      "metadata": {
        "id": "8hmgIsVi5Bhq",
        "colab_type": "code",
        "outputId": "cd74f77a-ab70-4760-c273-a5d66be49502",
        "colab": {
          "base_uri": "https://localhost:8080/",
          "height": 358
        }
      },
      "source": [
        "import seaborn as sns\n",
        "%matplotlib inline\n",
        "\n",
        "fig, axes = plt.subplots(ncols = 2)\n",
        "fig.set_size_inches(12, 5)\n",
        "sns.countplot(train['sentiment'], ax = axes[0])\n",
        "sns.countplot(output['sentiment'], ax = axes[1])"
      ],
      "execution_count": 0,
      "outputs": [
        {
          "output_type": "execute_result",
          "data": {
            "text/plain": [
              "<matplotlib.axes._subplots.AxesSubplot at 0x7fc1b2241748>"
            ]
          },
          "metadata": {
            "tags": []
          },
          "execution_count": 44
        },
        {
          "output_type": "display_data",
          "data": {
            "image/png": "[encoded data removed]",
            "text/plain": [
              "<Figure size 864x360 with 2 Axes>"
            ]
          },
          "metadata": {
            "tags": []
          }
        }
      ]
    },
    {
      "cell_type": "code",
      "metadata": {
        "id": "AFH8jjpu5OrU",
        "colab_type": "code",
        "outputId": "88fad61e-853e-46a4-b641-f4ce359d7470",
        "colab": {
          "base_uri": "https://localhost:8080/",
          "height": 34
        }
      },
      "source": [
        "544/578"
      ],
      "execution_count": 0,
      "outputs": [
        {
          "output_type": "execute_result",
          "data": {
            "text/plain": [
              "0.9411764705882353"
            ]
          },
          "metadata": {
            "tags": []
          },
          "execution_count": 45
        }
      ]
    },
    {
      "cell_type": "code",
      "metadata": {
        "id": "deaCZZcY5Qyk",
        "colab_type": "code",
        "colab": {}
      },
      "source": [
        ""
      ],
      "execution_count": 0,
      "outputs": []
    }
  ]
}