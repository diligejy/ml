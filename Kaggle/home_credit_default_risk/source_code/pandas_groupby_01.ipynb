{
 "metadata": {
  "language_info": {
   "codemirror_mode": {
    "name": "ipython",
    "version": 3
   },
   "file_extension": ".py",
   "mimetype": "text/x-python",
   "name": "python",
   "nbconvert_exporter": "python",
   "pygments_lexer": "ipython3",
   "version": "3.6.10-final"
  },
  "orig_nbformat": 2,
  "kernelspec": {
   "name": "python361064bitanaconda3virtualenva7a41e0e6cd34daaba483d188f3c5223",
   "display_name": "Python 3.6.10 64-bit ('anaconda3': virtualenv)"
  }
 },
 "nbformat": 4,
 "nbformat_minor": 2,
 "cells": [
  {
   "cell_type": "code",
   "execution_count": 1,
   "metadata": {},
   "outputs": [],
   "source": [
    "import pandas as pd"
   ]
  },
  {
   "cell_type": "code",
   "execution_count": 2,
   "metadata": {},
   "outputs": [
    {
     "output_type": "execute_result",
     "data": {
      "text/plain": "   customer_name cust_country gender  grade  age\n0          Alice           US      F      3   25\n1            Tom           GB      M      1   34\n2          James           US      M      2   26\n3          Yerin          KOR      F      5   33\n4            Min          KOR      M      4   67\n5      Katherine           GB      F      3   29\n6           John           US      M      5   54\n7           Park          KOR      M      7   21\n8          Maria           US      F      2   77\n9          Derik           GB      M      4   29\n10           Jin          KOR      F      5   16",
      "text/html": "<div>\n<style scoped>\n    .dataframe tbody tr th:only-of-type {\n        vertical-align: middle;\n    }\n\n    .dataframe tbody tr th {\n        vertical-align: top;\n    }\n\n    .dataframe thead th {\n        text-align: right;\n    }\n</style>\n<table border=\"1\" class=\"dataframe\">\n  <thead>\n    <tr style=\"text-align: right;\">\n      <th></th>\n      <th>customer_name</th>\n      <th>cust_country</th>\n      <th>gender</th>\n      <th>grade</th>\n      <th>age</th>\n    </tr>\n  </thead>\n  <tbody>\n    <tr>\n      <th>0</th>\n      <td>Alice</td>\n      <td>US</td>\n      <td>F</td>\n      <td>3</td>\n      <td>25</td>\n    </tr>\n    <tr>\n      <th>1</th>\n      <td>Tom</td>\n      <td>GB</td>\n      <td>M</td>\n      <td>1</td>\n      <td>34</td>\n    </tr>\n    <tr>\n      <th>2</th>\n      <td>James</td>\n      <td>US</td>\n      <td>M</td>\n      <td>2</td>\n      <td>26</td>\n    </tr>\n    <tr>\n      <th>3</th>\n      <td>Yerin</td>\n      <td>KOR</td>\n      <td>F</td>\n      <td>5</td>\n      <td>33</td>\n    </tr>\n    <tr>\n      <th>4</th>\n      <td>Min</td>\n      <td>KOR</td>\n      <td>M</td>\n      <td>4</td>\n      <td>67</td>\n    </tr>\n    <tr>\n      <th>5</th>\n      <td>Katherine</td>\n      <td>GB</td>\n      <td>F</td>\n      <td>3</td>\n      <td>29</td>\n    </tr>\n    <tr>\n      <th>6</th>\n      <td>John</td>\n      <td>US</td>\n      <td>M</td>\n      <td>5</td>\n      <td>54</td>\n    </tr>\n    <tr>\n      <th>7</th>\n      <td>Park</td>\n      <td>KOR</td>\n      <td>M</td>\n      <td>7</td>\n      <td>21</td>\n    </tr>\n    <tr>\n      <th>8</th>\n      <td>Maria</td>\n      <td>US</td>\n      <td>F</td>\n      <td>2</td>\n      <td>77</td>\n    </tr>\n    <tr>\n      <th>9</th>\n      <td>Derik</td>\n      <td>GB</td>\n      <td>M</td>\n      <td>4</td>\n      <td>29</td>\n    </tr>\n    <tr>\n      <th>10</th>\n      <td>Jin</td>\n      <td>KOR</td>\n      <td>F</td>\n      <td>5</td>\n      <td>16</td>\n    </tr>\n  </tbody>\n</table>\n</div>"
     },
     "metadata": {},
     "execution_count": 2
    }
   ],
   "source": [
    "cust_dict = {\n",
    "    'customer_name' : ['Alice', 'Tom', 'James', 'Yerin', 'Min', 'Katherine', 'John', 'Park', 'Maria', 'Derik', 'Jin'],\n",
    "    'cust_country' : ['US', 'GB', 'US', 'KOR', 'KOR', 'GB', 'US', 'KOR', 'US', 'GB', 'KOR'],\n",
    "    'gender' : ['F', 'M', 'M', 'F', 'M', 'F', 'M', 'M', 'F', 'M', 'F'],\n",
    "    'grade' : [3, 1, 2, 5, 4, 3, 5, 7, 2, 4, 5],\n",
    "    'age' : [25, 34, 26, 33, 67, 29, 54, 21, 77, 29, 16]\n",
    "}\n",
    "\n",
    "customer = pd.DataFrame(cust_dict)\n",
    "\n",
    "customer.head(11)"
   ]
  },
  {
   "cell_type": "code",
   "execution_count": 3,
   "metadata": {},
   "outputs": [
    {
     "output_type": "execute_result",
     "data": {
      "text/plain": "pandas.core.groupby.generic.DataFrameGroupBy"
     },
     "metadata": {},
     "execution_count": 3
    }
   ],
   "source": [
    "cust_group = customer.groupby('cust_country')\n",
    "type(cust_group)"
   ]
  },
  {
   "cell_type": "code",
   "execution_count": 4,
   "metadata": {},
   "outputs": [
    {
     "output_type": "execute_result",
     "data": {
      "text/plain": "   customer_name cust_country gender  grade  age\n0          Alice           US      F      3   25\n1            Tom           GB      M      1   34\n2          James           US      M      2   26\n3          Yerin          KOR      F      5   33\n4            Min          KOR      M      4   67\n5      Katherine           GB      F      3   29\n6           John           US      M      5   54\n7           Park          KOR      M      7   21\n8          Maria           US      F      2   77\n9          Derik           GB      M      4   29\n10           Jin          KOR      F      5   16",
      "text/html": "<div>\n<style scoped>\n    .dataframe tbody tr th:only-of-type {\n        vertical-align: middle;\n    }\n\n    .dataframe tbody tr th {\n        vertical-align: top;\n    }\n\n    .dataframe thead th {\n        text-align: right;\n    }\n</style>\n<table border=\"1\" class=\"dataframe\">\n  <thead>\n    <tr style=\"text-align: right;\">\n      <th></th>\n      <th>customer_name</th>\n      <th>cust_country</th>\n      <th>gender</th>\n      <th>grade</th>\n      <th>age</th>\n    </tr>\n  </thead>\n  <tbody>\n    <tr>\n      <th>0</th>\n      <td>Alice</td>\n      <td>US</td>\n      <td>F</td>\n      <td>3</td>\n      <td>25</td>\n    </tr>\n    <tr>\n      <th>1</th>\n      <td>Tom</td>\n      <td>GB</td>\n      <td>M</td>\n      <td>1</td>\n      <td>34</td>\n    </tr>\n    <tr>\n      <th>2</th>\n      <td>James</td>\n      <td>US</td>\n      <td>M</td>\n      <td>2</td>\n      <td>26</td>\n    </tr>\n    <tr>\n      <th>3</th>\n      <td>Yerin</td>\n      <td>KOR</td>\n      <td>F</td>\n      <td>5</td>\n      <td>33</td>\n    </tr>\n    <tr>\n      <th>4</th>\n      <td>Min</td>\n      <td>KOR</td>\n      <td>M</td>\n      <td>4</td>\n      <td>67</td>\n    </tr>\n    <tr>\n      <th>5</th>\n      <td>Katherine</td>\n      <td>GB</td>\n      <td>F</td>\n      <td>3</td>\n      <td>29</td>\n    </tr>\n    <tr>\n      <th>6</th>\n      <td>John</td>\n      <td>US</td>\n      <td>M</td>\n      <td>5</td>\n      <td>54</td>\n    </tr>\n    <tr>\n      <th>7</th>\n      <td>Park</td>\n      <td>KOR</td>\n      <td>M</td>\n      <td>7</td>\n      <td>21</td>\n    </tr>\n    <tr>\n      <th>8</th>\n      <td>Maria</td>\n      <td>US</td>\n      <td>F</td>\n      <td>2</td>\n      <td>77</td>\n    </tr>\n    <tr>\n      <th>9</th>\n      <td>Derik</td>\n      <td>GB</td>\n      <td>M</td>\n      <td>4</td>\n      <td>29</td>\n    </tr>\n    <tr>\n      <th>10</th>\n      <td>Jin</td>\n      <td>KOR</td>\n      <td>F</td>\n      <td>5</td>\n      <td>16</td>\n    </tr>\n  </tbody>\n</table>\n</div>"
     },
     "metadata": {},
     "execution_count": 4
    }
   ],
   "source": [
    "cust_group.head()"
   ]
  },
  {
   "source": [
    "#### 개별 aggregation 컬럼 및 aggregation 연산별로 API 호출"
   ],
   "cell_type": "markdown",
   "metadata": {}
  },
  {
   "cell_type": "code",
   "execution_count": 5,
   "metadata": {},
   "outputs": [
    {
     "output_type": "execute_result",
     "data": {
      "text/plain": "              sum_grade  max_grade\ncust_country                      \nGB                    8          4\nKOR                  21          7\nUS                   12          5",
      "text/html": "<div>\n<style scoped>\n    .dataframe tbody tr th:only-of-type {\n        vertical-align: middle;\n    }\n\n    .dataframe tbody tr th {\n        vertical-align: top;\n    }\n\n    .dataframe thead th {\n        text-align: right;\n    }\n</style>\n<table border=\"1\" class=\"dataframe\">\n  <thead>\n    <tr style=\"text-align: right;\">\n      <th></th>\n      <th>sum_grade</th>\n      <th>max_grade</th>\n    </tr>\n    <tr>\n      <th>cust_country</th>\n      <th></th>\n      <th></th>\n    </tr>\n  </thead>\n  <tbody>\n    <tr>\n      <th>GB</th>\n      <td>8</td>\n      <td>4</td>\n    </tr>\n    <tr>\n      <th>KOR</th>\n      <td>21</td>\n      <td>7</td>\n    </tr>\n    <tr>\n      <th>US</th>\n      <td>12</td>\n      <td>5</td>\n    </tr>\n  </tbody>\n</table>\n</div>"
     },
     "metadata": {},
     "execution_count": 5
    }
   ],
   "source": [
    "cust_agg = pd.DataFrame()\n",
    "cust_agg['sum_grade'] = cust_group['grade'].sum()\n",
    "cust_agg['max_grade'] = cust_group['grade'].max()\n",
    "cust_agg.head(11)"
   ]
  },
  {
   "cell_type": "code",
   "execution_count": 7,
   "metadata": {},
   "outputs": [
    {
     "output_type": "execute_result",
     "data": {
      "text/plain": "              sum_grade  max_grade    avg_age  max_age\ncust_country                                          \nGB                    8          4  30.666667       34\nKOR                  21          7  34.250000       67\nUS                   12          5  45.500000       77",
      "text/html": "<div>\n<style scoped>\n    .dataframe tbody tr th:only-of-type {\n        vertical-align: middle;\n    }\n\n    .dataframe tbody tr th {\n        vertical-align: top;\n    }\n\n    .dataframe thead th {\n        text-align: right;\n    }\n</style>\n<table border=\"1\" class=\"dataframe\">\n  <thead>\n    <tr style=\"text-align: right;\">\n      <th></th>\n      <th>sum_grade</th>\n      <th>max_grade</th>\n      <th>avg_age</th>\n      <th>max_age</th>\n    </tr>\n    <tr>\n      <th>cust_country</th>\n      <th></th>\n      <th></th>\n      <th></th>\n      <th></th>\n    </tr>\n  </thead>\n  <tbody>\n    <tr>\n      <th>GB</th>\n      <td>8</td>\n      <td>4</td>\n      <td>30.666667</td>\n      <td>34</td>\n    </tr>\n    <tr>\n      <th>KOR</th>\n      <td>21</td>\n      <td>7</td>\n      <td>34.250000</td>\n      <td>67</td>\n    </tr>\n    <tr>\n      <th>US</th>\n      <td>12</td>\n      <td>5</td>\n      <td>45.500000</td>\n      <td>77</td>\n    </tr>\n  </tbody>\n</table>\n</div>"
     },
     "metadata": {},
     "execution_count": 7
    }
   ],
   "source": [
    "cust_agg['avg_age'] = cust_group['age'].mean()\n",
    "cust_agg['max_age'] = cust_group['age'].max()\n",
    "cust_agg.head()"
   ]
  },
  {
   "cell_type": "code",
   "execution_count": 8,
   "metadata": {
    "tags": []
   },
   "outputs": [
    {
     "output_type": "stream",
     "name": "stdout",
     "text": "cust_country\n"
    },
    {
     "output_type": "execute_result",
     "data": {
      "text/plain": "  cust_country  sum_grade  max_grade    avg_age  max_age\n0           GB          8          4  30.666667       34\n1          KOR         21          7  34.250000       67\n2           US         12          5  45.500000       77",
      "text/html": "<div>\n<style scoped>\n    .dataframe tbody tr th:only-of-type {\n        vertical-align: middle;\n    }\n\n    .dataframe tbody tr th {\n        vertical-align: top;\n    }\n\n    .dataframe thead th {\n        text-align: right;\n    }\n</style>\n<table border=\"1\" class=\"dataframe\">\n  <thead>\n    <tr style=\"text-align: right;\">\n      <th></th>\n      <th>cust_country</th>\n      <th>sum_grade</th>\n      <th>max_grade</th>\n      <th>avg_age</th>\n      <th>max_age</th>\n    </tr>\n  </thead>\n  <tbody>\n    <tr>\n      <th>0</th>\n      <td>GB</td>\n      <td>8</td>\n      <td>4</td>\n      <td>30.666667</td>\n      <td>34</td>\n    </tr>\n    <tr>\n      <th>1</th>\n      <td>KOR</td>\n      <td>21</td>\n      <td>7</td>\n      <td>34.250000</td>\n      <td>67</td>\n    </tr>\n    <tr>\n      <th>2</th>\n      <td>US</td>\n      <td>12</td>\n      <td>5</td>\n      <td>45.500000</td>\n      <td>77</td>\n    </tr>\n  </tbody>\n</table>\n</div>"
     },
     "metadata": {},
     "execution_count": 8
    }
   ],
   "source": [
    "# groupby 키 컬럼은 DataFrame의 인덱스로 변환\n",
    "print(cust_agg.index.name)\n",
    "cust_agg = cust_agg.reset_index()\n",
    "cust_agg.head()"
   ]
  },
  {
   "source": [
    "#### agg()함수를 활용. agg()인자로 aggregation 함수 리스트를 입력. 여전히 aggregation 컬럼 별로 API 적용"
   ],
   "cell_type": "markdown",
   "metadata": {}
  },
  {
   "cell_type": "code",
   "execution_count": 9,
   "metadata": {
    "tags": []
   },
   "outputs": [
    {
     "output_type": "stream",
     "name": "stdout",
     "text": "              sum  max\ncust_country          \nGB              8    4\nKOR            21    7\nUS             12    5\n                   mean  max\ncust_country                \nGB            30.666667   34\nKOR           34.250000   67\nUS            45.500000   77\n"
    }
   ],
   "source": [
    "cust_agg1 = cust_group['grade'].agg(['sum', 'max'])\n",
    "cust_agg2 = cust_group['age'].agg(['mean', 'max'])\n",
    "print(cust_agg1.head())\n",
    "print(cust_agg2.head())"
   ]
  },
  {
   "cell_type": "code",
   "execution_count": 10,
   "metadata": {},
   "outputs": [
    {
     "output_type": "execute_result",
     "data": {
      "text/plain": "              sum  max_x       mean  max_y\ncust_country                              \nGB              8      4  30.666667     34\nKOR            21      7  34.250000     67\nUS             12      5  45.500000     77",
      "text/html": "<div>\n<style scoped>\n    .dataframe tbody tr th:only-of-type {\n        vertical-align: middle;\n    }\n\n    .dataframe tbody tr th {\n        vertical-align: top;\n    }\n\n    .dataframe thead th {\n        text-align: right;\n    }\n</style>\n<table border=\"1\" class=\"dataframe\">\n  <thead>\n    <tr style=\"text-align: right;\">\n      <th></th>\n      <th>sum</th>\n      <th>max_x</th>\n      <th>mean</th>\n      <th>max_y</th>\n    </tr>\n    <tr>\n      <th>cust_country</th>\n      <th></th>\n      <th></th>\n      <th></th>\n      <th></th>\n    </tr>\n  </thead>\n  <tbody>\n    <tr>\n      <th>GB</th>\n      <td>8</td>\n      <td>4</td>\n      <td>30.666667</td>\n      <td>34</td>\n    </tr>\n    <tr>\n      <th>KOR</th>\n      <td>21</td>\n      <td>7</td>\n      <td>34.250000</td>\n      <td>67</td>\n    </tr>\n    <tr>\n      <th>US</th>\n      <td>12</td>\n      <td>5</td>\n      <td>45.500000</td>\n      <td>77</td>\n    </tr>\n  </tbody>\n</table>\n</div>"
     },
     "metadata": {},
     "execution_count": 10
    }
   ],
   "source": [
    "cust_agg = cust_agg1.merge(cust_agg2, on='cust_country', how='left')\n",
    "cust_agg.head()"
   ]
  },
  {
   "cell_type": "code",
   "execution_count": 14,
   "metadata": {},
   "outputs": [
    {
     "output_type": "execute_result",
     "data": {
      "text/plain": "              sum_grade  max_grade  avg_grade\ncust_country                                 \nGB                    8         34  30.666667\nKOR                  21         67  34.250000\nUS                   12         77  45.500000",
      "text/html": "<div>\n<style scoped>\n    .dataframe tbody tr th:only-of-type {\n        vertical-align: middle;\n    }\n\n    .dataframe tbody tr th {\n        vertical-align: top;\n    }\n\n    .dataframe thead th {\n        text-align: right;\n    }\n</style>\n<table border=\"1\" class=\"dataframe\">\n  <thead>\n    <tr style=\"text-align: right;\">\n      <th></th>\n      <th>sum_grade</th>\n      <th>max_grade</th>\n      <th>avg_grade</th>\n    </tr>\n    <tr>\n      <th>cust_country</th>\n      <th></th>\n      <th></th>\n      <th></th>\n    </tr>\n  </thead>\n  <tbody>\n    <tr>\n      <th>GB</th>\n      <td>8</td>\n      <td>34</td>\n      <td>30.666667</td>\n    </tr>\n    <tr>\n      <th>KOR</th>\n      <td>21</td>\n      <td>67</td>\n      <td>34.250000</td>\n    </tr>\n    <tr>\n      <th>US</th>\n      <td>12</td>\n      <td>77</td>\n      <td>45.500000</td>\n    </tr>\n  </tbody>\n</table>\n</div>"
     },
     "metadata": {},
     "execution_count": 14
    }
   ],
   "source": [
    "cust_agg = pd.DataFrame()\n",
    "cust_agg[['sum_grade', 'max_grade']] = cust_group['grade'].agg(['sum', 'max'])\n",
    "cust_agg[['avg_grade', 'max_grade']] = cust_group['age'].agg(['mean', 'max'])\n",
    "cust_agg.head()"
   ]
  },
  {
   "source": [
    "#### agg()에 인자로 Aggregation 컬럼값과 Aggregation함수 리스트를 기재한 dictionary 값 입력"
   ],
   "cell_type": "markdown",
   "metadata": {}
  },
  {
   "cell_type": "code",
   "execution_count": 11,
   "metadata": {},
   "outputs": [
    {
     "output_type": "execute_result",
     "data": {
      "text/plain": "             grade            age    \n               sum max       mean max\ncust_country                         \nGB               8   4  30.666667  34\nKOR             21   7  34.250000  67\nUS              12   5  45.500000  77",
      "text/html": "<div>\n<style scoped>\n    .dataframe tbody tr th:only-of-type {\n        vertical-align: middle;\n    }\n\n    .dataframe tbody tr th {\n        vertical-align: top;\n    }\n\n    .dataframe thead tr th {\n        text-align: left;\n    }\n\n    .dataframe thead tr:last-of-type th {\n        text-align: right;\n    }\n</style>\n<table border=\"1\" class=\"dataframe\">\n  <thead>\n    <tr>\n      <th></th>\n      <th colspan=\"2\" halign=\"left\">grade</th>\n      <th colspan=\"2\" halign=\"left\">age</th>\n    </tr>\n    <tr>\n      <th></th>\n      <th>sum</th>\n      <th>max</th>\n      <th>mean</th>\n      <th>max</th>\n    </tr>\n    <tr>\n      <th>cust_country</th>\n      <th></th>\n      <th></th>\n      <th></th>\n      <th></th>\n    </tr>\n  </thead>\n  <tbody>\n    <tr>\n      <th>GB</th>\n      <td>8</td>\n      <td>4</td>\n      <td>30.666667</td>\n      <td>34</td>\n    </tr>\n    <tr>\n      <th>KOR</th>\n      <td>21</td>\n      <td>7</td>\n      <td>34.250000</td>\n      <td>67</td>\n    </tr>\n    <tr>\n      <th>US</th>\n      <td>12</td>\n      <td>5</td>\n      <td>45.500000</td>\n      <td>77</td>\n    </tr>\n  </tbody>\n</table>\n</div>"
     },
     "metadata": {},
     "execution_count": 11
    }
   ],
   "source": [
    "agg_dict = {\n",
    "    'grade' : ['sum', 'max'],\n",
    "    'age' : ['mean', 'max']\n",
    "}\n",
    "cust_agg = cust_group.agg(agg_dict)\n",
    "cust_agg.head()"
   ]
  },
  {
   "source": [
    "#### agg()에 인자로 Aggrgation 컬럼값과 Aggrgation 함수 리스트를 기재한 dictionary 값 입력\n"
   ],
   "cell_type": "markdown",
   "metadata": {}
  },
  {
   "cell_type": "code",
   "execution_count": 20,
   "metadata": {},
   "outputs": [
    {
     "output_type": "execute_result",
     "data": {
      "text/plain": "             grade            age    \n               sum max       mean max\ncust_country                         \nGB               8   4  30.666667  34\nKOR             21   7  34.250000  67\nUS              12   5  45.500000  77",
      "text/html": "<div>\n<style scoped>\n    .dataframe tbody tr th:only-of-type {\n        vertical-align: middle;\n    }\n\n    .dataframe tbody tr th {\n        vertical-align: top;\n    }\n\n    .dataframe thead tr th {\n        text-align: left;\n    }\n\n    .dataframe thead tr:last-of-type th {\n        text-align: right;\n    }\n</style>\n<table border=\"1\" class=\"dataframe\">\n  <thead>\n    <tr>\n      <th></th>\n      <th colspan=\"2\" halign=\"left\">grade</th>\n      <th colspan=\"2\" halign=\"left\">age</th>\n    </tr>\n    <tr>\n      <th></th>\n      <th>sum</th>\n      <th>max</th>\n      <th>mean</th>\n      <th>max</th>\n    </tr>\n    <tr>\n      <th>cust_country</th>\n      <th></th>\n      <th></th>\n      <th></th>\n      <th></th>\n    </tr>\n  </thead>\n  <tbody>\n    <tr>\n      <th>GB</th>\n      <td>8</td>\n      <td>4</td>\n      <td>30.666667</td>\n      <td>34</td>\n    </tr>\n    <tr>\n      <th>KOR</th>\n      <td>21</td>\n      <td>7</td>\n      <td>34.250000</td>\n      <td>67</td>\n    </tr>\n    <tr>\n      <th>US</th>\n      <td>12</td>\n      <td>5</td>\n      <td>45.500000</td>\n      <td>77</td>\n    </tr>\n  </tbody>\n</table>\n</div>"
     },
     "metadata": {},
     "execution_count": 20
    }
   ],
   "source": [
    "agg_dict = {\n",
    "    'grade' : ['sum', 'max'],\n",
    "    'age' : ['mean', 'max']\n",
    "}\n",
    "cust_agg = cust_group.agg(agg_dict)\n",
    "cust_agg.head()"
   ]
  },
  {
   "source": [
    "#### groupby 수행 결과 DataFrame의 컬럼명 변경"
   ],
   "cell_type": "markdown",
   "metadata": {}
  },
  {
   "cell_type": "code",
   "execution_count": 21,
   "metadata": {},
   "outputs": [],
   "source": [
    "cust_agg.columns = [('_').join(column) for column in cust_agg.columns]"
   ]
  },
  {
   "cell_type": "code",
   "execution_count": 22,
   "metadata": {},
   "outputs": [
    {
     "output_type": "execute_result",
     "data": {
      "text/plain": "              grade_sum  grade_max   age_mean  age_max\ncust_country                                          \nGB                    8          4  30.666667       34\nKOR                  21          7  34.250000       67\nUS                   12          5  45.500000       77",
      "text/html": "<div>\n<style scoped>\n    .dataframe tbody tr th:only-of-type {\n        vertical-align: middle;\n    }\n\n    .dataframe tbody tr th {\n        vertical-align: top;\n    }\n\n    .dataframe thead th {\n        text-align: right;\n    }\n</style>\n<table border=\"1\" class=\"dataframe\">\n  <thead>\n    <tr style=\"text-align: right;\">\n      <th></th>\n      <th>grade_sum</th>\n      <th>grade_max</th>\n      <th>age_mean</th>\n      <th>age_max</th>\n    </tr>\n    <tr>\n      <th>cust_country</th>\n      <th></th>\n      <th></th>\n      <th></th>\n      <th></th>\n    </tr>\n  </thead>\n  <tbody>\n    <tr>\n      <th>GB</th>\n      <td>8</td>\n      <td>4</td>\n      <td>30.666667</td>\n      <td>34</td>\n    </tr>\n    <tr>\n      <th>KOR</th>\n      <td>21</td>\n      <td>7</td>\n      <td>34.250000</td>\n      <td>67</td>\n    </tr>\n    <tr>\n      <th>US</th>\n      <td>12</td>\n      <td>5</td>\n      <td>45.500000</td>\n      <td>77</td>\n    </tr>\n  </tbody>\n</table>\n</div>"
     },
     "metadata": {},
     "execution_count": 22
    }
   ],
   "source": [
    "cust_agg.head()"
   ]
  },
  {
   "source": [
    "#### case when 조건으로 각각 filtering 하여 별도의 DataFrame생성"
   ],
   "cell_type": "markdown",
   "metadata": {}
  },
  {
   "cell_type": "code",
   "execution_count": 52,
   "metadata": {},
   "outputs": [],
   "source": [
    "cond_male = customer['gender'] == 'M'\n",
    "cond_female = customer['gender'] == 'F'\n",
    "cust_male = customer[cond_male]\n",
    "cust_female = customer[cond_female]"
   ]
  },
  {
   "cell_type": "code",
   "execution_count": 53,
   "metadata": {},
   "outputs": [
    {
     "output_type": "execute_result",
     "data": {
      "text/plain": "  customer_name cust_country gender  grade  age\n1           Tom           GB      M      1   34\n2         James           US      M      2   26\n4           Min          KOR      M      4   67\n6          John           US      M      5   54\n7          Park          KOR      M      7   21\n9         Derik           GB      M      4   29",
      "text/html": "<div>\n<style scoped>\n    .dataframe tbody tr th:only-of-type {\n        vertical-align: middle;\n    }\n\n    .dataframe tbody tr th {\n        vertical-align: top;\n    }\n\n    .dataframe thead th {\n        text-align: right;\n    }\n</style>\n<table border=\"1\" class=\"dataframe\">\n  <thead>\n    <tr style=\"text-align: right;\">\n      <th></th>\n      <th>customer_name</th>\n      <th>cust_country</th>\n      <th>gender</th>\n      <th>grade</th>\n      <th>age</th>\n    </tr>\n  </thead>\n  <tbody>\n    <tr>\n      <th>1</th>\n      <td>Tom</td>\n      <td>GB</td>\n      <td>M</td>\n      <td>1</td>\n      <td>34</td>\n    </tr>\n    <tr>\n      <th>2</th>\n      <td>James</td>\n      <td>US</td>\n      <td>M</td>\n      <td>2</td>\n      <td>26</td>\n    </tr>\n    <tr>\n      <th>4</th>\n      <td>Min</td>\n      <td>KOR</td>\n      <td>M</td>\n      <td>4</td>\n      <td>67</td>\n    </tr>\n    <tr>\n      <th>6</th>\n      <td>John</td>\n      <td>US</td>\n      <td>M</td>\n      <td>5</td>\n      <td>54</td>\n    </tr>\n    <tr>\n      <th>7</th>\n      <td>Park</td>\n      <td>KOR</td>\n      <td>M</td>\n      <td>7</td>\n      <td>21</td>\n    </tr>\n    <tr>\n      <th>9</th>\n      <td>Derik</td>\n      <td>GB</td>\n      <td>M</td>\n      <td>4</td>\n      <td>29</td>\n    </tr>\n  </tbody>\n</table>\n</div>"
     },
     "metadata": {},
     "execution_count": 53
    }
   ],
   "source": [
    "cust_male"
   ]
  },
  {
   "source": [
    "#### 원본 데이터에 cust_country로 groupby수행"
   ],
   "cell_type": "markdown",
   "metadata": {}
  },
  {
   "cell_type": "code",
   "execution_count": 54,
   "metadata": {},
   "outputs": [],
   "source": [
    "cust_agg = customer.groupby('cust_country')['grade'].sum()\n",
    "cust_agg = cust_agg.reset_index()"
   ]
  },
  {
   "cell_type": "code",
   "execution_count": 55,
   "metadata": {},
   "outputs": [
    {
     "output_type": "execute_result",
     "data": {
      "text/plain": "  cust_country  grade\n0           GB      8\n1          KOR     21\n2           US     12",
      "text/html": "<div>\n<style scoped>\n    .dataframe tbody tr th:only-of-type {\n        vertical-align: middle;\n    }\n\n    .dataframe tbody tr th {\n        vertical-align: top;\n    }\n\n    .dataframe thead th {\n        text-align: right;\n    }\n</style>\n<table border=\"1\" class=\"dataframe\">\n  <thead>\n    <tr style=\"text-align: right;\">\n      <th></th>\n      <th>cust_country</th>\n      <th>grade</th>\n    </tr>\n  </thead>\n  <tbody>\n    <tr>\n      <th>0</th>\n      <td>GB</td>\n      <td>8</td>\n    </tr>\n    <tr>\n      <th>1</th>\n      <td>KOR</td>\n      <td>21</td>\n    </tr>\n    <tr>\n      <th>2</th>\n      <td>US</td>\n      <td>12</td>\n    </tr>\n  </tbody>\n</table>\n</div>"
     },
     "metadata": {},
     "execution_count": 55
    }
   ],
   "source": [
    "cust_agg.head()"
   ]
  },
  {
   "source": [
    "#### filtering된 데이터에 cust_country로 groupby수행"
   ],
   "cell_type": "markdown",
   "metadata": {}
  },
  {
   "cell_type": "code",
   "execution_count": 56,
   "metadata": {},
   "outputs": [],
   "source": [
    "cust_male_agg = cust_male.groupby('cust_country')['grade'].sum()\n",
    "cust_female_agg = cust_female.groupby('cust_country')['grade'].sum()\n",
    "cust_male_agg = cust_male_agg.reset_index()\n",
    "cust_female_agg = cust_female_agg.reset_index()"
   ]
  },
  {
   "cell_type": "code",
   "execution_count": 57,
   "metadata": {},
   "outputs": [
    {
     "output_type": "execute_result",
     "data": {
      "text/plain": "  cust_country  grade\n0           GB      5\n1          KOR     11\n2           US      7",
      "text/html": "<div>\n<style scoped>\n    .dataframe tbody tr th:only-of-type {\n        vertical-align: middle;\n    }\n\n    .dataframe tbody tr th {\n        vertical-align: top;\n    }\n\n    .dataframe thead th {\n        text-align: right;\n    }\n</style>\n<table border=\"1\" class=\"dataframe\">\n  <thead>\n    <tr style=\"text-align: right;\">\n      <th></th>\n      <th>cust_country</th>\n      <th>grade</th>\n    </tr>\n  </thead>\n  <tbody>\n    <tr>\n      <th>0</th>\n      <td>GB</td>\n      <td>5</td>\n    </tr>\n    <tr>\n      <th>1</th>\n      <td>KOR</td>\n      <td>11</td>\n    </tr>\n    <tr>\n      <th>2</th>\n      <td>US</td>\n      <td>7</td>\n    </tr>\n  </tbody>\n</table>\n</div>"
     },
     "metadata": {},
     "execution_count": 57
    }
   ],
   "source": [
    "cust_male_agg"
   ]
  },
  {
   "source": [
    "#### 원본 데이터에 groupby된 데이터 세트와 filtering된 데이터에 groupby된 데이터 세트를 조인"
   ],
   "cell_type": "markdown",
   "metadata": {}
  },
  {
   "cell_type": "code",
   "execution_count": 58,
   "metadata": {},
   "outputs": [
    {
     "output_type": "execute_result",
     "data": {
      "text/plain": "  cust_country  grade_x  grade_y  grade\n0           GB        8        5      3\n1          KOR       21       11     10\n2           US       12        7      5",
      "text/html": "<div>\n<style scoped>\n    .dataframe tbody tr th:only-of-type {\n        vertical-align: middle;\n    }\n\n    .dataframe tbody tr th {\n        vertical-align: top;\n    }\n\n    .dataframe thead th {\n        text-align: right;\n    }\n</style>\n<table border=\"1\" class=\"dataframe\">\n  <thead>\n    <tr style=\"text-align: right;\">\n      <th></th>\n      <th>cust_country</th>\n      <th>grade_x</th>\n      <th>grade_y</th>\n      <th>grade</th>\n    </tr>\n  </thead>\n  <tbody>\n    <tr>\n      <th>0</th>\n      <td>GB</td>\n      <td>8</td>\n      <td>5</td>\n      <td>3</td>\n    </tr>\n    <tr>\n      <th>1</th>\n      <td>KOR</td>\n      <td>21</td>\n      <td>11</td>\n      <td>10</td>\n    </tr>\n    <tr>\n      <th>2</th>\n      <td>US</td>\n      <td>12</td>\n      <td>7</td>\n      <td>5</td>\n    </tr>\n  </tbody>\n</table>\n</div>"
     },
     "metadata": {},
     "execution_count": 58
    }
   ],
   "source": [
    "cust_agg = cust_agg.merge(cust_male_agg, on='cust_country', how='left')\n",
    "cust_agg = cust_agg.merge(cust_female_agg, on='cust_country', how='left')\n",
    "cust_agg.head()"
   ]
  },
  {
   "cell_type": "code",
   "execution_count": 59,
   "metadata": {},
   "outputs": [],
   "source": [
    "cust_agg.colunms = ['cust_country', 'sum_grade', 'sum_male_grade', 'sum_female_grade']\n"
   ]
  },
  {
   "cell_type": "code",
   "execution_count": 60,
   "metadata": {},
   "outputs": [
    {
     "output_type": "execute_result",
     "data": {
      "text/plain": "  cust_country  grade_x  grade_y  grade\n0           GB        8        5      3\n1          KOR       21       11     10\n2           US       12        7      5",
      "text/html": "<div>\n<style scoped>\n    .dataframe tbody tr th:only-of-type {\n        vertical-align: middle;\n    }\n\n    .dataframe tbody tr th {\n        vertical-align: top;\n    }\n\n    .dataframe thead th {\n        text-align: right;\n    }\n</style>\n<table border=\"1\" class=\"dataframe\">\n  <thead>\n    <tr style=\"text-align: right;\">\n      <th></th>\n      <th>cust_country</th>\n      <th>grade_x</th>\n      <th>grade_y</th>\n      <th>grade</th>\n    </tr>\n  </thead>\n  <tbody>\n    <tr>\n      <th>0</th>\n      <td>GB</td>\n      <td>8</td>\n      <td>5</td>\n      <td>3</td>\n    </tr>\n    <tr>\n      <th>1</th>\n      <td>KOR</td>\n      <td>21</td>\n      <td>11</td>\n      <td>10</td>\n    </tr>\n    <tr>\n      <th>2</th>\n      <td>US</td>\n      <td>12</td>\n      <td>7</td>\n      <td>5</td>\n    </tr>\n  </tbody>\n</table>\n</div>"
     },
     "metadata": {},
     "execution_count": 60
    }
   ],
   "source": [
    "cust_agg.head()"
   ]
  },
  {
   "cell_type": "code",
   "execution_count": null,
   "metadata": {},
   "outputs": [],
   "source": []
  },
  {
   "cell_type": "code",
   "execution_count": null,
   "metadata": {},
   "outputs": [],
   "source": []
  },
  {
   "cell_type": "code",
   "execution_count": null,
   "metadata": {},
   "outputs": [],
   "source": []
  },
  {
   "cell_type": "code",
   "execution_count": null,
   "metadata": {},
   "outputs": [],
   "source": []
  },
  {
   "cell_type": "code",
   "execution_count": null,
   "metadata": {},
   "outputs": [],
   "source": []
  }
 ]
}