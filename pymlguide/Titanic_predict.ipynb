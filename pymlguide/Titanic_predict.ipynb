{
  "nbformat": 4,
  "nbformat_minor": 0,
  "metadata": {
    "colab": {
      "name": "Titanic_predict.ipynb",
      "version": "0.3.2",
      "provenance": [],
      "collapsed_sections": []
    },
    "kernelspec": {
      "name": "python3",
      "display_name": "Python 3"
    },
    "accelerator": "GPU"
  },
  "cells": [
    {
      "cell_type": "code",
      "metadata": {
        "id": "44B6Ms6euvKH",
        "colab_type": "code",
        "outputId": "fb6d056d-8a25-4d69-a159-a314c242303c",
        "colab": {
          "base_uri": "https://localhost:8080/",
          "height": 34
        }
      },
      "source": [
        "from google.colab import drive\n",
        "drive.mount('/content/drive')"
      ],
      "execution_count": 31,
      "outputs": [
        {
          "output_type": "stream",
          "text": [
            "Drive already mounted at /content/drive; to attempt to forcibly remount, call drive.mount(\"/content/drive\", force_remount=True).\n"
          ],
          "name": "stdout"
        }
      ]
    },
    {
      "cell_type": "code",
      "metadata": {
        "id": "9b_DEJWzuwXy",
        "colab_type": "code",
        "outputId": "8219813f-696c-40e8-f0b4-02f63bf94fdd",
        "colab": {
          "base_uri": "https://localhost:8080/",
          "height": 136
        }
      },
      "source": [
        "import numpy as np\n",
        "import pandas as pd\n",
        "import matplotlib.pyplot as plt\n",
        "import seaborn as sns\n",
        "%matplotlib inline\n",
        "\n",
        "titanic_df = pd.read_csv(r'/content/drive/My Drive/Python/titanic/titanic_train.csv')\n",
        "titanic_df.head(3)"
      ],
      "execution_count": 32,
      "outputs": [
        {
          "output_type": "execute_result",
          "data": {
            "text/html": [
              "<div>\n",
              "<style scoped>\n",
              "    .dataframe tbody tr th:only-of-type {\n",
              "        vertical-align: middle;\n",
              "    }\n",
              "\n",
              "    .dataframe tbody tr th {\n",
              "        vertical-align: top;\n",
              "    }\n",
              "\n",
              "    .dataframe thead th {\n",
              "        text-align: right;\n",
              "    }\n",
              "</style>\n",
              "<table border=\"1\" class=\"dataframe\">\n",
              "  <thead>\n",
              "    <tr style=\"text-align: right;\">\n",
              "      <th></th>\n",
              "      <th>PassengerId</th>\n",
              "      <th>Survived</th>\n",
              "      <th>Pclass</th>\n",
              "      <th>Name</th>\n",
              "      <th>Sex</th>\n",
              "      <th>Age</th>\n",
              "      <th>SibSp</th>\n",
              "      <th>Parch</th>\n",
              "      <th>Ticket</th>\n",
              "      <th>Fare</th>\n",
              "      <th>Cabin</th>\n",
              "      <th>Embarked</th>\n",
              "    </tr>\n",
              "  </thead>\n",
              "  <tbody>\n",
              "    <tr>\n",
              "      <th>0</th>\n",
              "      <td>1</td>\n",
              "      <td>0</td>\n",
              "      <td>3</td>\n",
              "      <td>Braund, Mr. Owen Harris</td>\n",
              "      <td>male</td>\n",
              "      <td>22.0</td>\n",
              "      <td>1</td>\n",
              "      <td>0</td>\n",
              "      <td>A/5 21171</td>\n",
              "      <td>7.2500</td>\n",
              "      <td>NaN</td>\n",
              "      <td>S</td>\n",
              "    </tr>\n",
              "    <tr>\n",
              "      <th>1</th>\n",
              "      <td>2</td>\n",
              "      <td>1</td>\n",
              "      <td>1</td>\n",
              "      <td>Cumings, Mrs. John Bradley (Florence Briggs Th...</td>\n",
              "      <td>female</td>\n",
              "      <td>38.0</td>\n",
              "      <td>1</td>\n",
              "      <td>0</td>\n",
              "      <td>PC 17599</td>\n",
              "      <td>71.2833</td>\n",
              "      <td>C85</td>\n",
              "      <td>C</td>\n",
              "    </tr>\n",
              "    <tr>\n",
              "      <th>2</th>\n",
              "      <td>3</td>\n",
              "      <td>1</td>\n",
              "      <td>3</td>\n",
              "      <td>Heikkinen, Miss. Laina</td>\n",
              "      <td>female</td>\n",
              "      <td>26.0</td>\n",
              "      <td>0</td>\n",
              "      <td>0</td>\n",
              "      <td>STON/O2. 3101282</td>\n",
              "      <td>7.9250</td>\n",
              "      <td>NaN</td>\n",
              "      <td>S</td>\n",
              "    </tr>\n",
              "  </tbody>\n",
              "</table>\n",
              "</div>"
            ],
            "text/plain": [
              "   PassengerId  Survived  Pclass  ...     Fare Cabin  Embarked\n",
              "0            1         0       3  ...   7.2500   NaN         S\n",
              "1            2         1       1  ...  71.2833   C85         C\n",
              "2            3         1       3  ...   7.9250   NaN         S\n",
              "\n",
              "[3 rows x 12 columns]"
            ]
          },
          "metadata": {
            "tags": []
          },
          "execution_count": 32
        }
      ]
    },
    {
      "cell_type": "code",
      "metadata": {
        "id": "P-zcG6mwuyLa",
        "colab_type": "code",
        "outputId": "044a0fe6-5cb5-4102-e328-f17af9db857f",
        "colab": {
          "base_uri": "https://localhost:8080/",
          "height": 386
        }
      },
      "source": [
        "print('\\n ### 학습 데이터 정보 ### \\n')\n",
        "print(titanic_df.info())"
      ],
      "execution_count": 33,
      "outputs": [
        {
          "output_type": "stream",
          "text": [
            "\n",
            " ### 학습 데이터 정보 ### \n",
            "\n",
            "<class 'pandas.core.frame.DataFrame'>\n",
            "RangeIndex: 891 entries, 0 to 890\n",
            "Data columns (total 12 columns):\n",
            "PassengerId    891 non-null int64\n",
            "Survived       891 non-null int64\n",
            "Pclass         891 non-null int64\n",
            "Name           891 non-null object\n",
            "Sex            891 non-null object\n",
            "Age            714 non-null float64\n",
            "SibSp          891 non-null int64\n",
            "Parch          891 non-null int64\n",
            "Ticket         891 non-null object\n",
            "Fare           891 non-null float64\n",
            "Cabin          204 non-null object\n",
            "Embarked       889 non-null object\n",
            "dtypes: float64(2), int64(5), object(5)\n",
            "memory usage: 83.6+ KB\n",
            "None\n"
          ],
          "name": "stdout"
        }
      ]
    },
    {
      "cell_type": "code",
      "metadata": {
        "id": "nJdbq1hLuyUL",
        "colab_type": "code",
        "outputId": "1b101303-6ec5-41f5-909f-0131b40064c5",
        "colab": {
          "base_uri": "https://localhost:8080/",
          "height": 246
        }
      },
      "source": [
        "titanic_df['Age'].fillna(titanic_df['Age'].mean(), inplace = True)\n",
        "titanic_df['Cabin'].fillna('N', inplace = True)\n",
        "titanic_df['Embarked'].fillna('N', inplace = True)\n",
        "print('데이터 세트 Null 값 개수', titanic_df.isnull().sum())"
      ],
      "execution_count": 34,
      "outputs": [
        {
          "output_type": "stream",
          "text": [
            "데이터 세트 Null 값 개수 PassengerId    0\n",
            "Survived       0\n",
            "Pclass         0\n",
            "Name           0\n",
            "Sex            0\n",
            "Age            0\n",
            "SibSp          0\n",
            "Parch          0\n",
            "Ticket         0\n",
            "Fare           0\n",
            "Cabin          0\n",
            "Embarked       0\n",
            "dtype: int64\n"
          ],
          "name": "stdout"
        }
      ]
    },
    {
      "cell_type": "code",
      "metadata": {
        "id": "a6DDx8pMvuuL",
        "colab_type": "code",
        "outputId": "6b374ded-fc5a-43b6-f38d-e27a6d5facc9",
        "colab": {
          "base_uri": "https://localhost:8080/",
          "height": 1000
        }
      },
      "source": [
        "print('Sex 값 분포 : \\n', titanic_df['Sex'].value_counts())\n",
        "print('\\n Cabin 값 분포 : \\n', titanic_df['Cabin'].value_counts())\n",
        "print('\\n Emarked 값 분포 : \\n', titanic_df['Embarked'].value_counts())"
      ],
      "execution_count": 35,
      "outputs": [
        {
          "output_type": "stream",
          "text": [
            "Sex 값 분포 : \n",
            " male      577\n",
            "female    314\n",
            "Name: Sex, dtype: int64\n",
            "\n",
            " Cabin 값 분포 : \n",
            " N                  687\n",
            "C23 C25 C27          4\n",
            "B96 B98              4\n",
            "G6                   4\n",
            "C22 C26              3\n",
            "F33                  3\n",
            "E101                 3\n",
            "D                    3\n",
            "F2                   3\n",
            "E33                  2\n",
            "B28                  2\n",
            "C93                  2\n",
            "E121                 2\n",
            "D36                  2\n",
            "B57 B59 B63 B66      2\n",
            "B58 B60              2\n",
            "E24                  2\n",
            "E8                   2\n",
            "B77                  2\n",
            "E44                  2\n",
            "C126                 2\n",
            "D33                  2\n",
            "B18                  2\n",
            "C78                  2\n",
            "B22                  2\n",
            "C2                   2\n",
            "C83                  2\n",
            "F G73                2\n",
            "E25                  2\n",
            "C125                 2\n",
            "                  ... \n",
            "C50                  1\n",
            "E77                  1\n",
            "B79                  1\n",
            "D45                  1\n",
            "C99                  1\n",
            "B82 B84              1\n",
            "B41                  1\n",
            "D19                  1\n",
            "A19                  1\n",
            "B94                  1\n",
            "C45                  1\n",
            "C87                  1\n",
            "E46                  1\n",
            "C85                  1\n",
            "B50                  1\n",
            "E49                  1\n",
            "E10                  1\n",
            "A23                  1\n",
            "D6                   1\n",
            "C148                 1\n",
            "C7                   1\n",
            "C54                  1\n",
            "A5                   1\n",
            "A26                  1\n",
            "B3                   1\n",
            "D47                  1\n",
            "C32                  1\n",
            "C110                 1\n",
            "B38                  1\n",
            "A16                  1\n",
            "Name: Cabin, Length: 148, dtype: int64\n",
            "\n",
            " Emarked 값 분포 : \n",
            " S    644\n",
            "C    168\n",
            "Q     77\n",
            "N      2\n",
            "Name: Embarked, dtype: int64\n"
          ],
          "name": "stdout"
        }
      ]
    },
    {
      "cell_type": "code",
      "metadata": {
        "id": "T6IhzCIfwEn3",
        "colab_type": "code",
        "outputId": "e94ab708-7680-41d9-c83b-2bb276b5a2fa",
        "colab": {
          "base_uri": "https://localhost:8080/",
          "height": 386
        }
      },
      "source": [
        "print('\\n ### 학습 데이터 정보 ### \\n')\n",
        "print(titanic_df.info())"
      ],
      "execution_count": 36,
      "outputs": [
        {
          "output_type": "stream",
          "text": [
            "\n",
            " ### 학습 데이터 정보 ### \n",
            "\n",
            "<class 'pandas.core.frame.DataFrame'>\n",
            "RangeIndex: 891 entries, 0 to 890\n",
            "Data columns (total 12 columns):\n",
            "PassengerId    891 non-null int64\n",
            "Survived       891 non-null int64\n",
            "Pclass         891 non-null int64\n",
            "Name           891 non-null object\n",
            "Sex            891 non-null object\n",
            "Age            891 non-null float64\n",
            "SibSp          891 non-null int64\n",
            "Parch          891 non-null int64\n",
            "Ticket         891 non-null object\n",
            "Fare           891 non-null float64\n",
            "Cabin          891 non-null object\n",
            "Embarked       891 non-null object\n",
            "dtypes: float64(2), int64(5), object(5)\n",
            "memory usage: 83.6+ KB\n",
            "None\n"
          ],
          "name": "stdout"
        }
      ]
    },
    {
      "cell_type": "code",
      "metadata": {
        "id": "fT9KPqQtwdqh",
        "colab_type": "code",
        "outputId": "39e23a70-e409-4143-9fc5-bd7688f52e5c",
        "colab": {
          "base_uri": "https://localhost:8080/",
          "height": 1000
        }
      },
      "source": [
        "print('Sex값 분포 :\\n', titanic_df['Sex'].value_counts())\n",
        "print('\\n Cabin 값 분포 : \\n', titanic_df['Cabin'].value_counts())\n",
        "print('\\n Embarked 값 분포 : \\n', titanic_df['Embarked'].value_counts())"
      ],
      "execution_count": 37,
      "outputs": [
        {
          "output_type": "stream",
          "text": [
            "Sex값 분포 :\n",
            " male      577\n",
            "female    314\n",
            "Name: Sex, dtype: int64\n",
            "\n",
            " Cabin 값 분포 : \n",
            " N                  687\n",
            "C23 C25 C27          4\n",
            "B96 B98              4\n",
            "G6                   4\n",
            "C22 C26              3\n",
            "F33                  3\n",
            "E101                 3\n",
            "D                    3\n",
            "F2                   3\n",
            "E33                  2\n",
            "B28                  2\n",
            "C93                  2\n",
            "E121                 2\n",
            "D36                  2\n",
            "B57 B59 B63 B66      2\n",
            "B58 B60              2\n",
            "E24                  2\n",
            "E8                   2\n",
            "B77                  2\n",
            "E44                  2\n",
            "C126                 2\n",
            "D33                  2\n",
            "B18                  2\n",
            "C78                  2\n",
            "B22                  2\n",
            "C2                   2\n",
            "C83                  2\n",
            "F G73                2\n",
            "E25                  2\n",
            "C125                 2\n",
            "                  ... \n",
            "C50                  1\n",
            "E77                  1\n",
            "B79                  1\n",
            "D45                  1\n",
            "C99                  1\n",
            "B82 B84              1\n",
            "B41                  1\n",
            "D19                  1\n",
            "A19                  1\n",
            "B94                  1\n",
            "C45                  1\n",
            "C87                  1\n",
            "E46                  1\n",
            "C85                  1\n",
            "B50                  1\n",
            "E49                  1\n",
            "E10                  1\n",
            "A23                  1\n",
            "D6                   1\n",
            "C148                 1\n",
            "C7                   1\n",
            "C54                  1\n",
            "A5                   1\n",
            "A26                  1\n",
            "B3                   1\n",
            "D47                  1\n",
            "C32                  1\n",
            "C110                 1\n",
            "B38                  1\n",
            "A16                  1\n",
            "Name: Cabin, Length: 148, dtype: int64\n",
            "\n",
            " Embarked 값 분포 : \n",
            " S    644\n",
            "C    168\n",
            "Q     77\n",
            "N      2\n",
            "Name: Embarked, dtype: int64\n"
          ],
          "name": "stdout"
        }
      ]
    },
    {
      "cell_type": "code",
      "metadata": {
        "id": "bivksGsQxTeq",
        "colab_type": "code",
        "outputId": "053ed84b-92ba-4ce8-dcd0-d001ef645fd6",
        "colab": {
          "base_uri": "https://localhost:8080/",
          "height": 87
        }
      },
      "source": [
        "titanic_df['Cabin'] = titanic_df['Cabin'].str[:1]\n",
        "print(titanic_df['Cabin'].head(3))"
      ],
      "execution_count": 38,
      "outputs": [
        {
          "output_type": "stream",
          "text": [
            "0    N\n",
            "1    C\n",
            "2    N\n",
            "Name: Cabin, dtype: object\n"
          ],
          "name": "stdout"
        }
      ]
    },
    {
      "cell_type": "code",
      "metadata": {
        "id": "isdEgX3CxjY3",
        "colab_type": "code",
        "outputId": "34506278-f014-4c4b-9e3e-560bafe6aa20",
        "colab": {
          "base_uri": "https://localhost:8080/",
          "height": 122
        }
      },
      "source": [
        "titanic_df.groupby(['Sex', 'Survived'])['Survived'].count()"
      ],
      "execution_count": 39,
      "outputs": [
        {
          "output_type": "execute_result",
          "data": {
            "text/plain": [
              "Sex     Survived\n",
              "female  0            81\n",
              "        1           233\n",
              "male    0           468\n",
              "        1           109\n",
              "Name: Survived, dtype: int64"
            ]
          },
          "metadata": {
            "tags": []
          },
          "execution_count": 39
        }
      ]
    },
    {
      "cell_type": "code",
      "metadata": {
        "id": "bMFB9DPoxqWe",
        "colab_type": "code",
        "outputId": "71ceff9c-692e-499e-9dc7-91bcb2e11788",
        "colab": {
          "base_uri": "https://localhost:8080/",
          "height": 301
        }
      },
      "source": [
        "sns.barplot(x = 'Sex', y = 'Survived', data = titanic_df)"
      ],
      "execution_count": 40,
      "outputs": [
        {
          "output_type": "execute_result",
          "data": {
            "text/plain": [
              "<matplotlib.axes._subplots.AxesSubplot at 0x7ff030025470>"
            ]
          },
          "metadata": {
            "tags": []
          },
          "execution_count": 40
        },
        {
          "output_type": "display_data",
          "data": {
            "image/png": "[encoded data removed]",
            "text/plain": [
              "<Figure size 432x288 with 1 Axes>"
            ]
          },
          "metadata": {
            "tags": []
          }
        }
      ]
    },
    {
      "cell_type": "code",
      "metadata": {
        "id": "Ep-GsxlAx5gx",
        "colab_type": "code",
        "outputId": "a5ae2e51-0059-46c7-fea7-cf6e9331c30d",
        "colab": {
          "base_uri": "https://localhost:8080/",
          "height": 301
        }
      },
      "source": [
        "sns.barplot(x = 'Pclass', y = 'Survived', hue = 'Sex', data = titanic_df)"
      ],
      "execution_count": 41,
      "outputs": [
        {
          "output_type": "execute_result",
          "data": {
            "text/plain": [
              "<matplotlib.axes._subplots.AxesSubplot at 0x7ff03004f630>"
            ]
          },
          "metadata": {
            "tags": []
          },
          "execution_count": 41
        },
        {
          "output_type": "display_data",
          "data": {
            "image/png": "[encoded data removed]",
            "text/plain": [
              "<Figure size 432x288 with 1 Axes>"
            ]
          },
          "metadata": {
            "tags": []
          }
        }
      ]
    },
    {
      "cell_type": "code",
      "metadata": {
        "id": "gHXah11JyDfY",
        "colab_type": "code",
        "outputId": "0faceee6-b281-455a-c409-b4072a6c06e8",
        "colab": {
          "base_uri": "https://localhost:8080/",
          "height": 392
        }
      },
      "source": [
        "# 입력 age에 따라 구분 값을 반환하는 함수 설정. DataFrame의 apply lambda 식에 사용\n",
        "def get_category(age):\n",
        "  cat = ''\n",
        "  if age <= -1 : cat = 'Unknown'\n",
        "  elif age <= 5 : cat = 'Baby'\n",
        "  elif age <= 12 : cat = 'Child'\n",
        "  elif age <= 18 : cat = 'Teenager'\n",
        "  elif age <= 25 : cat = 'Student'\n",
        "  elif age <= 35 : cat = 'Young Adult'\n",
        "  elif age <= 60 : cat = 'Adult'\n",
        "  else : cat = 'Elderly'\n",
        "  \n",
        "  return cat\n",
        "\n",
        "# 막대그래프 크기 figure를 더 크게 설정\n",
        "plt.figure(figsize = (10, 6))\n",
        "\n",
        "# X축의 값을 순차적으로 표시하기 위한 설정\n",
        "group_names = ['Unknown', 'Baby', 'Child', 'Teenager', 'Student', 'Young Adult', 'Adult', 'Elderly']\n",
        "\n",
        "# lambda 식에 위에서 생성한 get_category()함수를 반환값으로 지정\n",
        "# get_category(X)는 입력값으로 'Age' 칼럼 값을 받아서 해당하는 cat 반환\n",
        "titanic_df['Age_cat'] = titanic_df['Age'].apply(lambda x : get_category(x))\n",
        "sns.barplot(x = 'Age_cat', y = 'Survived', hue = 'Sex', data = titanic_df, order = group_names)\n",
        "titanic_df.drop('Age_cat', axis = 1 , inplace = True)"
      ],
      "execution_count": 42,
      "outputs": [
        {
          "output_type": "display_data",
          "data": {
            "image/png": "[encoded data removed]",
            "text/plain": [
              "<Figure size 720x432 with 1 Axes>"
            ]
          },
          "metadata": {
            "tags": []
          }
        }
      ]
    },
    {
      "cell_type": "code",
      "metadata": {
        "id": "Du1rFLkL6P8a",
        "colab_type": "code",
        "outputId": "541946c5-c708-4c6c-a066-5418b0220493",
        "colab": {
          "base_uri": "https://localhost:8080/",
          "height": 195
        }
      },
      "source": [
        "from sklearn import preprocessing\n",
        "from sklearn.preprocessing import LabelEncoder\n",
        "\n",
        "def encode_features(dataDF):\n",
        "  features = ['Cabin', 'Sex', 'Embarked']\n",
        "  for feature in features:\n",
        "    le = preprocessing.LabelEncoder()\n",
        "    le = le.fit(dataDF[feature])\n",
        "    dataDF[feature] = le.transform(dataDF[feature])\n",
        "    \n",
        "  return dataDF\n",
        "\n",
        "titanic_df = encode_features(titanic_df)\n",
        "titanic_df.head()"
      ],
      "execution_count": 43,
      "outputs": [
        {
          "output_type": "execute_result",
          "data": {
            "text/html": [
              "<div>\n",
              "<style scoped>\n",
              "    .dataframe tbody tr th:only-of-type {\n",
              "        vertical-align: middle;\n",
              "    }\n",
              "\n",
              "    .dataframe tbody tr th {\n",
              "        vertical-align: top;\n",
              "    }\n",
              "\n",
              "    .dataframe thead th {\n",
              "        text-align: right;\n",
              "    }\n",
              "</style>\n",
              "<table border=\"1\" class=\"dataframe\">\n",
              "  <thead>\n",
              "    <tr style=\"text-align: right;\">\n",
              "      <th></th>\n",
              "      <th>PassengerId</th>\n",
              "      <th>Survived</th>\n",
              "      <th>Pclass</th>\n",
              "      <th>Name</th>\n",
              "      <th>Sex</th>\n",
              "      <th>Age</th>\n",
              "      <th>SibSp</th>\n",
              "      <th>Parch</th>\n",
              "      <th>Ticket</th>\n",
              "      <th>Fare</th>\n",
              "      <th>Cabin</th>\n",
              "      <th>Embarked</th>\n",
              "    </tr>\n",
              "  </thead>\n",
              "  <tbody>\n",
              "    <tr>\n",
              "      <th>0</th>\n",
              "      <td>1</td>\n",
              "      <td>0</td>\n",
              "      <td>3</td>\n",
              "      <td>Braund, Mr. Owen Harris</td>\n",
              "      <td>1</td>\n",
              "      <td>22.0</td>\n",
              "      <td>1</td>\n",
              "      <td>0</td>\n",
              "      <td>A/5 21171</td>\n",
              "      <td>7.2500</td>\n",
              "      <td>7</td>\n",
              "      <td>3</td>\n",
              "    </tr>\n",
              "    <tr>\n",
              "      <th>1</th>\n",
              "      <td>2</td>\n",
              "      <td>1</td>\n",
              "      <td>1</td>\n",
              "      <td>Cumings, Mrs. John Bradley (Florence Briggs Th...</td>\n",
              "      <td>0</td>\n",
              "      <td>38.0</td>\n",
              "      <td>1</td>\n",
              "      <td>0</td>\n",
              "      <td>PC 17599</td>\n",
              "      <td>71.2833</td>\n",
              "      <td>2</td>\n",
              "      <td>0</td>\n",
              "    </tr>\n",
              "    <tr>\n",
              "      <th>2</th>\n",
              "      <td>3</td>\n",
              "      <td>1</td>\n",
              "      <td>3</td>\n",
              "      <td>Heikkinen, Miss. Laina</td>\n",
              "      <td>0</td>\n",
              "      <td>26.0</td>\n",
              "      <td>0</td>\n",
              "      <td>0</td>\n",
              "      <td>STON/O2. 3101282</td>\n",
              "      <td>7.9250</td>\n",
              "      <td>7</td>\n",
              "      <td>3</td>\n",
              "    </tr>\n",
              "    <tr>\n",
              "      <th>3</th>\n",
              "      <td>4</td>\n",
              "      <td>1</td>\n",
              "      <td>1</td>\n",
              "      <td>Futrelle, Mrs. Jacques Heath (Lily May Peel)</td>\n",
              "      <td>0</td>\n",
              "      <td>35.0</td>\n",
              "      <td>1</td>\n",
              "      <td>0</td>\n",
              "      <td>113803</td>\n",
              "      <td>53.1000</td>\n",
              "      <td>2</td>\n",
              "      <td>3</td>\n",
              "    </tr>\n",
              "    <tr>\n",
              "      <th>4</th>\n",
              "      <td>5</td>\n",
              "      <td>0</td>\n",
              "      <td>3</td>\n",
              "      <td>Allen, Mr. William Henry</td>\n",
              "      <td>1</td>\n",
              "      <td>35.0</td>\n",
              "      <td>0</td>\n",
              "      <td>0</td>\n",
              "      <td>373450</td>\n",
              "      <td>8.0500</td>\n",
              "      <td>7</td>\n",
              "      <td>3</td>\n",
              "    </tr>\n",
              "  </tbody>\n",
              "</table>\n",
              "</div>"
            ],
            "text/plain": [
              "   PassengerId  Survived  Pclass  ...     Fare  Cabin  Embarked\n",
              "0            1         0       3  ...   7.2500      7         3\n",
              "1            2         1       1  ...  71.2833      2         0\n",
              "2            3         1       3  ...   7.9250      7         3\n",
              "3            4         1       1  ...  53.1000      2         3\n",
              "4            5         0       3  ...   8.0500      7         3\n",
              "\n",
              "[5 rows x 12 columns]"
            ]
          },
          "metadata": {
            "tags": []
          },
          "execution_count": 43
        }
      ]
    },
    {
      "cell_type": "code",
      "metadata": {
        "id": "9WRF4Ygc7T0Q",
        "colab_type": "code",
        "colab": {}
      },
      "source": [
        "\n",
        "\n",
        "# Null 처리 함수\n",
        "def fillna(df):\n",
        "  df['Age'].fillna(df['Age'].mean(), inplace = True)\n",
        "  df['Cabin'].fillna('N', inplace = True)\n",
        "  df['Embarked'].fillna('N', inplace = True)\n",
        "  df['Fare'].fillna(0, inplace = True)\n",
        "  \n",
        "  return df\n",
        "\n",
        "# 머신러닝 알고리즘에 불필요한 속성 제거 \n",
        "def drop_features(df):\n",
        "  df.drop(['PassengerId', 'Name', 'Ticket'], axis = 1, inplace = True)\n",
        "  return df\n",
        "\n",
        "# 레이블 인코딩 수행\n",
        "def format_features(df):\n",
        "  df['Cabin'] = df['Cabin'].str[:1]\n",
        "  features = ['Cabin', 'Sex', 'Embarked']\n",
        "  for feature in features:\n",
        "    le = LabelEncoder()\n",
        "    le = le.fit(df[feature])\n",
        "    df[feature] = le.transform(df[feature])\n",
        "  return df\n",
        "\n",
        "# 앞에서 설정한 데이터 전처리 함수 호출\n",
        "def transform_features(df):\n",
        "  df = fillna(df)\n",
        "  df = drop_features(df)\n",
        "  df = format_features(df)\n",
        "  return df\n",
        "\n"
      ],
      "execution_count": 0,
      "outputs": []
    },
    {
      "cell_type": "code",
      "metadata": {
        "id": "r8wWCFwz8w5J",
        "colab_type": "code",
        "colab": {}
      },
      "source": [
        "# 원본 데이터를 재로딩하고, 피처 데이터 세트와 레이블 데이터 세트 추출\n",
        "titanic_df = pd.read_csv(r'/content/drive/My Drive/Python/titanic/titanic_train.csv')\n",
        "y_titanic_df = titanic_df['Survived']\n",
        "X_titanic_df = titanic_df.drop('Survived', axis = 1)\n",
        "\n",
        "X_titanic_df = transform_features(X_titanic_df)\n",
        "\n",
        "from sklearn.model_selection import train_test_split\n",
        "X_train, X_test, y_train, y_test = train_test_split(X_titanic_df, y_titanic_df, test_size = 0.2, random_state = 11)"
      ],
      "execution_count": 0,
      "outputs": []
    },
    {
      "cell_type": "code",
      "metadata": {
        "id": "gK5DMsDQ9EnG",
        "colab_type": "code",
        "outputId": "fdf7a9fa-2450-4b66-8e37-9abc0a787476",
        "colab": {
          "base_uri": "https://localhost:8080/",
          "height": 140
        }
      },
      "source": [
        "from sklearn.tree import DecisionTreeClassifier\n",
        "from sklearn.ensemble import RandomForestClassifier\n",
        "from sklearn.linear_model import LogisticRegression\n",
        "from sklearn.metrics import accuracy_score\n",
        "\n",
        "# 결정 트리, RandomForest, 로지스틱 회귀를 위한 사이킷런 Classifier 클래스 생성\n",
        "dt_clf = DecisionTreeClassifier(random_state = 11)\n",
        "rf_clf = RandomForestClassifier(random_state = 11)\n",
        "lr_clf = LogisticRegression()\n",
        "\n",
        "# DecisionTreeClassifier 학습/예측/평가\n",
        "dt_clf.fit(X_train, y_train)\n",
        "dt_pred = dt_clf.predict(X_test)\n",
        "print('DecisionTreeClassifier 정확도: {0:.4f}'.format(accuracy_score(y_test, dt_pred)))\n",
        "\n",
        "# RandomForestClassifier 학습/예측/평가\n",
        "rf_clf.fit(X_train, y_train)\n",
        "rf_pred = rf_clf.predict(X_test)\n",
        "print('RandomForestClassifier 정확도 : {0:.4f}'.format(accuracy_score(y_test, rf_pred)))\n",
        "\n",
        "# LogisticRegression 학습/예측/평가\n",
        "lr_clf.fit(X_train, y_train)\n",
        "lr_pred = lr_clf.predict(X_test)\n",
        "print('LogisticRegression 정확도 ; {0:.4f}'.format(accuracy_score(y_test, lr_pred)))\n"
      ],
      "execution_count": 46,
      "outputs": [
        {
          "output_type": "stream",
          "text": [
            "DecisionTreeClassifier 정확도: 0.7877\n",
            "RandomForestClassifier 정확도 : 0.8324\n",
            "LogisticRegression 정확도 ; 0.8659\n"
          ],
          "name": "stdout"
        },
        {
          "output_type": "stream",
          "text": [
            "/usr/local/lib/python3.6/dist-packages/sklearn/ensemble/forest.py:245: FutureWarning: The default value of n_estimators will change from 10 in version 0.20 to 100 in 0.22.\n",
            "  \"10 in version 0.20 to 100 in 0.22.\", FutureWarning)\n",
            "/usr/local/lib/python3.6/dist-packages/sklearn/linear_model/logistic.py:432: FutureWarning: Default solver will be changed to 'lbfgs' in 0.22. Specify a solver to silence this warning.\n",
            "  FutureWarning)\n"
          ],
          "name": "stderr"
        }
      ]
    },
    {
      "cell_type": "code",
      "metadata": {
        "id": "ULXKwfWIOEAO",
        "colab_type": "code",
        "outputId": "46a14440-22ee-4477-d577-90ded9f0b2ff",
        "colab": {
          "base_uri": "https://localhost:8080/",
          "height": 193
        }
      },
      "source": [
        "import numpy as np\n",
        "from sklearn.model_selection import KFold\n",
        "\n",
        "def exec_kfold(clf, folds = 5):\n",
        "  # 폴드 세트를 5개인 KFold객체를 생성, 폴드 수만큼 예측결과 저장을 위한 리스트 객체 생성\n",
        "  kfold = KFold(n_splits=folds)\n",
        "  scores = []\n",
        "  \n",
        "  # KFold 교차 검증 수행.\n",
        "  for iter_count, (train_index, test_index) in enumerate(kfold.split(X_titanic_df)):\n",
        "    # X_titanic_df 데이터에서 교차 검증별로 학습과 검증 데이터를 가리키는 index 생성\n",
        "    X_train, X_test = X_titanic_df.values[train_index], X_titanic_df.values[test_index]\n",
        "    y_train, y_test = y_titanic_df.values[train_index], y_titanic_df.values[test_index]\n",
        "    \n",
        "    # Classifier 학습, 예측, 정확도 계산\n",
        "    clf.fit(X_train, y_train)\n",
        "    predictions = clf.predict(X_test)\n",
        "    accuracy = accuracy_score(y_test, predictions)\n",
        "    scores.append(accuracy)\n",
        "    print('교차 검증 {0} 정확도 : {1:.4f}'.format(iter_count, accuracy))\n",
        "    # 5개 fold에서의 평균 정확도 계산\n",
        "    mean_score = np.mean(scores)\n",
        "    print(\"평균 정확도 : {0:.4f}\".format(mean_score))\n",
        "\n",
        "# exec_kfold 호출\n",
        "exec_kfold(dt_clf, folds = 5)"
      ],
      "execution_count": 47,
      "outputs": [
        {
          "output_type": "stream",
          "text": [
            "교차 검증 0 정확도 : 0.7542\n",
            "평균 정확도 : 0.7542\n",
            "교차 검증 1 정확도 : 0.7809\n",
            "평균 정확도 : 0.7675\n",
            "교차 검증 2 정확도 : 0.7865\n",
            "평균 정확도 : 0.7739\n",
            "교차 검증 3 정확도 : 0.7697\n",
            "평균 정확도 : 0.7728\n",
            "교차 검증 4 정확도 : 0.8202\n",
            "평균 정확도 : 0.7823\n"
          ],
          "name": "stdout"
        }
      ]
    },
    {
      "cell_type": "code",
      "metadata": {
        "id": "nSION9aqP-vU",
        "colab_type": "code",
        "outputId": "123c8688-b1c0-46e3-e22c-050117f84698",
        "colab": {
          "base_uri": "https://localhost:8080/",
          "height": 125
        }
      },
      "source": [
        "from sklearn.model_selection import GridSearchCV\n",
        "\n",
        "parameters = {'max_depth': [2, 3, 5, 10], 'min_samples_split': [2, 3, 5], 'min_samples_leaf': [1, 5, 8]}\n",
        "\n",
        "grid_dclf = GridSearchCV(dt_clf, param_grid = parameters, scoring = 'accuracy', cv = 5)\n",
        "grid_dclf.fit(X_train, y_train)\n",
        "\n",
        "print('GridSearchCV 최적 하이퍼 파라미터:', grid_dclf.best_params_)\n",
        "print('GridSearchCV 최고 정확도 : {0:.4f}'.format(grid_dclf.best_score_))\n",
        "best_dclf = grid_dclf.best_estimator_\n",
        "\n",
        "# GridSearchCV의 최적 하이퍼 파라미터로 학습된 Estimator로 예측 및 평가 수행\n",
        "dpredictions = best_dclf.predict(X_test)\n",
        "accuracy = accuracy_score(y_test, dpredictions)\n",
        "print('테스트 세트에서의 DecisionTreeClassifier 정확도 : {0:.4f}'.format(accuracy))"
      ],
      "execution_count": 48,
      "outputs": [
        {
          "output_type": "stream",
          "text": [
            "GridSearchCV 최적 하이퍼 파라미터: {'max_depth': 3, 'min_samples_leaf': 1, 'min_samples_split': 2}\n",
            "GridSearchCV 최고 정확도 : 0.7992\n",
            "테스트 세트에서의 DecisionTreeClassifier 정확도 : 0.8715\n"
          ],
          "name": "stdout"
        },
        {
          "output_type": "stream",
          "text": [
            "/usr/local/lib/python3.6/dist-packages/sklearn/model_selection/_search.py:814: DeprecationWarning: The default of the `iid` parameter will change from True to False in version 0.22 and will be removed in 0.24. This will change numeric results when test-set sizes are unequal.\n",
            "  DeprecationWarning)\n"
          ],
          "name": "stderr"
        }
      ]
    },
    {
      "cell_type": "markdown",
      "metadata": {
        "id": "0ZnaGqCpLPk2",
        "colab_type": "text"
      },
      "source": [
        "## 평가지표\n",
        "\n",
        "왜 정확도만 믿으면 안 될까요?\n",
        "편향에 빠질 수 있기 때문입니다.\n",
        "\n",
        "예를 들어 ML 알고리즘을 적용한 뒤 예측 정확도의 결과가 보통 80%대였지만\n",
        "탑승객이 남자인 경우보다 여자인 경우에 생존 확률이 높았기 때문에 별다른 알고리즘의 적용 없이 무조건 성별이 여자인 경우 생존으로, 남자인 경우 사망으로 예측 결과를 예측해도 이와 비슷한 수치가 나올 수 있습니다. \n",
        "\n",
        "다음의 코드를 직접 입력해보며 알아봅시다.\n",
        "\n",
        "다음 예제에서는 사이킷런의 BaseEstimator 클래스를 상속받아 아무런 학습을 하지 않고, 성별에 따라 생존자를 예측하는 단순한 Classifier를 생성합니다. 사이킷런은 BaseEstimator를 상속받으면 Customized 형태의 Estimator를 개발자가 생성할 수 있습니다."
      ]
    },
    {
      "cell_type": "code",
      "metadata": {
        "id": "dSEvFPXzRrsu",
        "colab_type": "code",
        "colab": {}
      },
      "source": [
        "from sklearn.base import BaseEstimator\n",
        "\n",
        "class MyDummyClassifier(BaseEstimator):\n",
        "  # fit() 메서드는 아무것도 학습하지 않음.\n",
        "  def fit(self, X, y = None):\n",
        "    pass\n",
        "  \n",
        "  # predict() 메서드는 단순히 sex 피처가 1이면 0, 그렇지 않으면 1로 예측함\n",
        "  def predict(self, X):\n",
        "    pred = np.zeros((X.shape[0], 1))\n",
        "    for i in range(X.shape[0]):\n",
        "      if X['Sex'].iloc[i] == 1:\n",
        "        pred[i] = 0\n",
        "      else :\n",
        "        pred[i] = 1\n",
        "        \n",
        "    return pred"
      ],
      "execution_count": 0,
      "outputs": []
    },
    {
      "cell_type": "code",
      "metadata": {
        "id": "su3XcvNe1FiF",
        "colab_type": "code",
        "outputId": "e1d060a8-938e-4754-bb2a-6127c94dfaf0",
        "colab": {
          "base_uri": "https://localhost:8080/",
          "height": 34
        }
      },
      "source": [
        "import pandas as pd\n",
        "from sklearn.model_selection import train_test_split\n",
        "from sklearn.metrics import accuracy_score\n",
        "\n",
        "# 원본 데이터를 재로딩, 데이터 가공, 학습 데이터/테스트 데이터 분할.\n",
        "titanic_df = pd.read_csv('/content/drive/My Drive/ML/pymlguide/titanic/train.csv')\n",
        "y_titanic_df = titanic_df['Survived']\n",
        "X_titanic_df = titanic_df.drop('Survived', axis = 1)\n",
        "X_titanic_df = transform_features(X_titanic_df)\n",
        "X_train, X_test, y_train, y_test = train_test_split(X_titanic_df, y_titanic_df, test_size = 0.2, random_state = 0)\n",
        "\n",
        "# 위에서 생성한 Dummy Classifier를 이용해 학습/예측/평가 수행\n",
        "myclf = MyDummyClassifier()\n",
        "myclf.fit(X_train, y_train)\n",
        "\n",
        "mypredictions = myclf.predict(X_test)\n",
        "print('Dummy Classifier의 정확도는 : {0:.4f}'.format(accuracy_score(y_test, mypredictions)))"
      ],
      "execution_count": 50,
      "outputs": [
        {
          "output_type": "stream",
          "text": [
            "Dummy Classifier의 정확도는 : 0.7877\n"
          ],
          "name": "stdout"
        }
      ]
    },
    {
      "cell_type": "markdown",
      "metadata": {
        "id": "B594OTDTNE1d",
        "colab_type": "text"
      },
      "source": [
        "이렇게 대충 Classifier를 만들었음에도 정확도가 78%까지 나오므로 \n",
        "단순히 정확도만을 신뢰하기에는 무리가 있습니다. \n",
        "\n",
        "특히 정확도는 imbalanced 레이블 값 분포에서 ML 모델의 성능을 판단할 경우, 적합한 평가지표가 아닙니다. \n",
        "\n",
        "예를 들어, 100개의 데이터가 있다고 치고 20개가 0이고 80개가 1이라고 해봅시다. 그럼 그냥 1이라고만 대충 예측해도 정확도는 80퍼입니다. 머신러닝이 필요 없이 그냥 동전을 던지는게 나은 거죠.\n",
        "\n",
        "\n"
      ]
    },
    {
      "cell_type": "markdown",
      "metadata": {
        "id": "SqirndG_Pr9C",
        "colab_type": "text"
      },
      "source": [
        "## MNIST 데이터 세트 이용 이진분류 실습\n",
        "\n",
        "MNIST는 머신러닝을 시작한 사람이라면 무조건 한 번 쯤은 들어보셨을겁니당.\n",
        "\n",
        "이 MNIST 데이터를 불균형한 데이터 세트로 만들어 실습해보겠습니다.\n",
        "\n",
        "사이킷런은 load_digits() API를 통해 MNIST 데이터 세트를 제공합니당.\n",
        "\n",
        "원래 MNIST 데이터 세트는 레이블 값이 0부터 9까지 있는 멀티 레이블 분류를 위한 것입니다. 이것을 레이블 값이 3인 것만 True, 나머지 값은 모두 False로 변환해 이진 분류로 바꿔보겠습니다. 즉 10%만 True, 나머지 90%는 False인 불균형 데이터 세트로 변형하는 것임니다!\n",
        "\n",
        "이러면 모든 데이터를 False, 즉 0이라고 예측하는 classifier를 이용해 정확도를 측정하면 약 90%에 가까운 예측 정확도를 얻을 수 있겠져? 이제 뭐시 중헌디!\n",
        "\n",
        "![대체 텍스트](http://www.nbnnews.co.kr/news/photo/201702/94316_134576_1417.jpg)\n",
        "\n",
        "\n",
        "예제 코드를 만들어봅시당!\n"
      ]
    },
    {
      "cell_type": "code",
      "metadata": {
        "id": "8Y0VfxQTNEJf",
        "colab_type": "code",
        "colab": {}
      },
      "source": [
        "from sklearn.datasets import load_digits\n",
        "from sklearn.model_selection import train_test_split\n",
        "from sklearn.base import BaseEstimator\n",
        "from sklearn.metrics import accuracy_score\n",
        "import numpy as np\n",
        "import pandas as pd\n",
        "\n",
        "class MyFakeClassifier(BaseEstimator):\n",
        "  def fit(self, X, y):\n",
        "    pass\n",
        "  \n",
        "  # 입력값으로 들어오는 X 데이터 세트의 크기만큼 모두 0값으로 만들어서 변환\n",
        "  def predict(self, X):\n",
        "    return np.zeros((len(X), 1), dtype = bool)\n",
        "  \n",
        "# 사이킷런의 내장 데이터 세트인 load_digits()를 이용해 MNIST 데이터 로딩\n",
        "digits = load_digits()\n",
        "\n",
        "# digits 번호가 3이면 True이고 이를 astype(int)로 1로 변환, 3번이 아니면 False이고 0으로 변환\n",
        "y = (digits.target == 3).astype(int)\n",
        "X_train, X_test, y_train, y_test = train_test_split(digits.data, y, random_state = 11)  "
      ],
      "execution_count": 0,
      "outputs": []
    },
    {
      "cell_type": "markdown",
      "metadata": {
        "id": "AX0RVZSrZ60o",
        "colab_type": "text"
      },
      "source": [
        "#### 확인 ㄱㄱ?\n"
      ]
    },
    {
      "cell_type": "code",
      "metadata": {
        "id": "WA_XmFrh5Wgy",
        "colab_type": "code",
        "outputId": "7022f218-5a83-462f-f11d-e9cd08e917ac",
        "colab": {
          "base_uri": "https://localhost:8080/",
          "height": 140
        }
      },
      "source": [
        "# 불균형한 레이블 데이터 분포도 확인\n",
        "print('레이블 데이터 세트 크기 : ', y_test.shape)\n",
        "print('테스트 세트 레이블 0과 1의 분포도')\n",
        "print(y_test.dtype)\n",
        "print(pd.Series(y_test).value_counts())\n",
        "\n",
        "# Dummy Classifier로 학습/예측/정확도 평가\n",
        "fakeclf = MyFakeClassifier()\n",
        "fakeclf.fit(X_train, y_train)\n",
        "fakepred = fakeclf.predict(X_test)\n",
        "print('모든 예측을 0으로 하여도 정확도는:{:.3f}'.format(accuracy_score(y_test, fakepred)))"
      ],
      "execution_count": 52,
      "outputs": [
        {
          "output_type": "stream",
          "text": [
            "레이블 데이터 세트 크기 :  (450,)\n",
            "테스트 세트 레이블 0과 1의 분포도\n",
            "int64\n",
            "0    406\n",
            "1     44\n",
            "dtype: int64\n",
            "모든 예측을 0으로 하여도 정확도는:0.902\n"
          ],
          "name": "stdout"
        }
      ]
    },
    {
      "cell_type": "markdown",
      "metadata": {
        "id": "6FCGAoWMq19I",
        "colab_type": "text"
      },
      "source": [
        "#### 이를 보면 아실 수 있겠져? \n",
        "\n",
        "#### 왜 불균형한 레이블 데이터 세트에서는 정확도를 성능 수치로 사용해서는 안되는지?\n",
        "\n",
        "\n",
        "![대체 텍스트](http://mblogthumb3.phinf.naver.net/MjAxNjEwMjNfMTUz/MDAxNDc3MjI3MTQzODcw.HRb8raTYXi7WUIcvFuXFUIvACB4Cb5fKllFrR3JSLQMg.DCIIkGk7gr_uBIE3ytGgmfVIZuJzvQJ482XOtgJqlWkg.JPEG.retspe/%EC%B0%B8%EC%89%BD%EC%A3%A0.jpg?type=w800)"
      ]
    },
    {
      "cell_type": "markdown",
      "metadata": {
        "id": "EOZZGYcucfPh",
        "colab_type": "text"
      },
      "source": [
        "## 오차행렬\n",
        "\n",
        "보시면 아시겠져?\n",
        "오차행렬은 이진분류에서 성능지표로 잘 활용되는 지표입니다. \n",
        "\n",
        "쉽게 말해 예측 오류가 얼마인지 그리고 어떤 유형의 예측 오류가 발생하고 있는지 \n",
        "\n",
        "모두 유형과 지수 모두를 확인할 수 있는 지표입니다.\n",
        "\n",
        "x축에 Actual Class(실제 클래스)를 놓는지, Predicted Class(예측 클래스)를 놓는지는 다를 수 있습니다.\n",
        "\n",
        "![대체 텍스트](https://miro.medium.com/max/712/1*Z54JgbS4DUwWSknhDCvNTQ.png)\n",
        "\n",
        "- TN은 예측값을 Negative 값 0으로 예측했고 실제 값 역시 Negative 값 0이라는 의미입니다.\n",
        "- FP은 예측값을 Positive 값 1로 예측했는데 실제 값은 Negative 값 0이라는 의미입니다.\n",
        "- FN은 예측값을 Negative 값 0으로 예측했는데 실제 값은 Positive 값 1이라는 의미입니다.\n",
        "- TP은 예측값을 Positive 값 1로 예측했고 실제 값 역시 Positive 값 1이라는 의미입니다.\n",
        "\n",
        "![대체 텍스트](https://skappal7.files.wordpress.com/2018/08/confusion-matrix.jpg?w=748)\n"
      ]
    },
    {
      "cell_type": "markdown",
      "metadata": {
        "id": "MUEDmMC6fFbP",
        "colab_type": "text"
      },
      "source": [
        "사이킷런은 오차행렬을 구하기 위해 confusion_matrix() API를 제공합니다.\n",
        "이걸 이용해서 예제 코드를 한 번 지표로 만들어보겠습니다."
      ]
    },
    {
      "cell_type": "code",
      "metadata": {
        "id": "Z1dMCB11ce_k",
        "colab_type": "code",
        "outputId": "e0d75fa2-fa23-40a3-bf01-d3ad052c594c",
        "colab": {
          "base_uri": "https://localhost:8080/",
          "height": 52
        }
      },
      "source": [
        "from sklearn.metrics import confusion_matrix\n",
        "\n",
        "confusion_matrix(y_test, fakepred)"
      ],
      "execution_count": 53,
      "outputs": [
        {
          "output_type": "execute_result",
          "data": {
            "text/plain": [
              "array([[406,   0],\n",
              "       [ 44,   0]])"
            ]
          },
          "metadata": {
            "tags": []
          },
          "execution_count": 53
        }
      ]
    },
    {
      "cell_type": "markdown",
      "metadata": {
        "id": "8FfI_6aafiWK",
        "colab_type": "text"
      },
      "source": [
        "TN은 array[0, 0]로 405, FP는 array[0, 1]로 0,\n",
        "\n",
        "FN은 array[1, 0]로 45, TP는 array[1, 1]로 0에 해당합니다.\n",
        "\n",
        "이 Confusion Matrix를 통해 Accuracy, Precision, Recall값을 알 수 있습니다.\n",
        "\n",
        "Accuracy = (TN + TP)/(TN + FP + FN + TP)\n",
        "\n",
        "Precision = TP / (FP + TP) = 예측을 Positive로 한 대상 중에 예측과 실제 값이 Positive로 일치한 데이터의 비율\n",
        "\n",
        "Recall = TP / (FN + TP) = 실제 값이 Positive인 대상 중에 예측과 실제 값이 Positive로 일치한 데이터의 비율\n",
        "\n",
        "## Accuracy vs Recall\n",
        "\n",
        "Recall이 중요지표인 경우는 실제 Positive 양성 데이터를 Negative로 잘못 판단하게 되면 업무상 큰 영향이 발생하는 경우입니다.(ex)암 판단 모델, 금융 사기 적발 모델 )\n",
        "\n",
        "Precision이 중요한 경우 (ex)스팸메일)\n",
        "\n",
        "## 엄훠나!!!\n",
        "![대체 텍스트](https://t1.daumcdn.net/cfile/tistory/25279D405269E66428)\n",
        "\n",
        "사이킷런은 precision_score()와 recall_score()를 API로 제공합니다.\n",
        "\n",
        "하나하나 하는 건 귀찮으니까 get_clf_eval()함수를 만들겠습니당."
      ]
    },
    {
      "cell_type": "code",
      "metadata": {
        "id": "sJ-Ss-XlePYO",
        "colab_type": "code",
        "colab": {}
      },
      "source": [
        "from sklearn.metrics import accuracy_score, precision_score, recall_score, confusion_matrix\n",
        "\n",
        "def get_clf_eval(y_test, pred):\n",
        "  confusion = confusion_matrix(y_test, pred)\n",
        "  accuracy = accuracy_score(y_test, pred)\n",
        "  precision = precision_score(y_test, pred)\n",
        "  recall = recall_score(y_test, pred)\n",
        "  print('오차행렬')\n",
        "  print(confusion)\n",
        "  print('정확도 : {0:.4f}, 정밀도 : {1:.4f}, 재현율 : {2:.4f}'.format(accuracy, precision, recall))"
      ],
      "execution_count": 0,
      "outputs": []
    },
    {
      "cell_type": "code",
      "metadata": {
        "id": "YWi77716je3b",
        "colab_type": "code",
        "outputId": "8a5b818d-f747-475d-bc43-2175bd275b17",
        "colab": {
          "base_uri": "https://localhost:8080/",
          "height": 122
        }
      },
      "source": [
        "import pandas as pd\n",
        "from sklearn.model_selection import train_test_split\n",
        "from sklearn.linear_model import LogisticRegression\n",
        "\n",
        "# 원본 데이터를 재로딩, 데이터 가공, 학습 데이터/테스트 데이터 분할\n",
        "titanic_df = pd.read_csv('/content/drive/My Drive/Python/titanic/titanic_train.csv')\n",
        "y_titanic_df = titanic_df['Survived']\n",
        "X_titanic_df = titanic_df.drop('Survived', axis = 1)\n",
        "X_titanic_df = transform_features(X_titanic_df)\n",
        "\n",
        "X_train, X_test, y_train, y_test = train_test_split(X_titanic_df, y_titanic_df, test_size = 0.2, random_state = 11)\n",
        "\n",
        "lr_clf = LogisticRegression()\n",
        "\n",
        "lr_clf.fit(X_train, y_train)\n",
        "pred = lr_clf.predict(X_test)\n",
        "get_clf_eval(y_test, pred)"
      ],
      "execution_count": 55,
      "outputs": [
        {
          "output_type": "stream",
          "text": [
            "/usr/local/lib/python3.6/dist-packages/sklearn/linear_model/logistic.py:432: FutureWarning: Default solver will be changed to 'lbfgs' in 0.22. Specify a solver to silence this warning.\n",
            "  FutureWarning)\n"
          ],
          "name": "stderr"
        },
        {
          "output_type": "stream",
          "text": [
            "오차행렬\n",
            "[[108  10]\n",
            " [ 14  47]]\n",
            "정확도 : 0.8659, 정밀도 : 0.8246, 재현율 : 0.7705\n"
          ],
          "name": "stdout"
        }
      ]
    },
    {
      "cell_type": "markdown",
      "metadata": {
        "id": "zKdDp1FvkwZ0",
        "colab_type": "text"
      },
      "source": [
        "Precision에 비해서 Recall이 좀 낮게 나왔네요. 어떻게 하면 Recall을 혹은 Precision을 강화시킬 수 있는걸까여?\n",
        "![대체 텍스트](http://mblogthumb1.phinf.naver.net/20160322_80/shine_2me_1458626264892sdmIS_JPEG/%BF%A1%BA%F1%C3%F2%C2%A94_%2845%29.jpg?type=w2)"
      ]
    },
    {
      "cell_type": "markdown",
      "metadata": {
        "id": "TV0I4buklYG-",
        "colab_type": "text"
      },
      "source": [
        "## Precision/Recall Tradeoff\n",
        "\n",
        "Precision과 Recall은 상호 보완적인 평가지표입니다. 이 말은 무엇이냐\n",
        "\n",
        "![대체 텍스트](https://pbs.twimg.com/profile_images/627783482979192832/_jnnHE63_400x400.jpg)\n",
        "\n",
        "어느 한 쪽을 강제로 높이면 다른 하나의 수치는 떨어지기 쉽다는 말이옵니다.\n",
        "\n",
        "![대체 텍스트](http://mblogthumb3.phinf.naver.net/20160324_250/kubuki5_14588088503857zGag_JPEG/998f0c6e04ae3682e05fbb09e5d9d5d0.jpg?type=w800)\n",
        "\n",
        "사이킷런의 분류 알고리즘은 예측 데이터가 특정 레이블(Label, 결정 클래스 값)에 속하는지를 계산하기 위해 먼저 개별 레이블별로 결정확률을 구합니다. 그리고 예측 확률이 큰 레이블값으로 예측하게 됩니다. 가령 이진 분류 모델에서 특정 데이터가 0이 될 확률은 20%, 1이 될 확률이 80%로 예측됐다면 최종 예측은 더 큰 확률을 가진, 즉 80%의 확률을 가진 1로 예측합니다.\n",
        "\n",
        "일반적으로 이진 분류에서는 이 임곗값을 0.5, 즉 50%로 정하고 이 기준값보다 크면 Positive, 작으면 Negative로 결정합니다.\n",
        "\n",
        "사이킷런은 개별 데이터별로 예측 확률을 반환하는 메서드인 predict_proba()를 제공합니다.\n",
        "predict_proba() 메서드는 학습이 완료된 사이킷런 Classifier 객체에서 호출이 가능하며 테스트 피처 데이터 세트를 파라미터로 입력해주면 테스트 피처 레코드의 개별 클래스 예측 확률을 반환합니다.\n",
        "\n",
        "predict() 메서드와 유사하지만 단지 반환 결과가 예측 결과 클래스값이 아닌 예측 확률 결과입니다."
      ]
    },
    {
      "cell_type": "code",
      "metadata": {
        "id": "R2DFnCPVlX4c",
        "colab_type": "code",
        "outputId": "6ddbf078-5c3b-4b1f-e014-21c46673f43b",
        "colab": {
          "base_uri": "https://localhost:8080/",
          "height": 175
        }
      },
      "source": [
        "pred_proba = lr_clf.predict_proba(X_test)\n",
        "pred = lr_clf.predict(X_test)\n",
        "print('pred_proba()결과 Shape : {0}'.format(pred_proba.shape))\n",
        "print('pred_proba array에서 앞 3개만 샘플로 추출 \\n:', pred_proba[:3])\n",
        "\n",
        "# 예측 확률 array와 예측 결과값 array를 병합(concatenate)해 예측 확률과 결괏값을 한 눈에 확인\n",
        "pred_proba_result = np.concatenate([pred_proba, pred.reshape(-1, 1)], axis = 1)\n",
        "print('두 개의 class 중에서 더 큰 확률을 클래스 값으로 예측 \\n', pred_proba_result[:3])"
      ],
      "execution_count": 56,
      "outputs": [
        {
          "output_type": "stream",
          "text": [
            "pred_proba()결과 Shape : (179, 2)\n",
            "pred_proba array에서 앞 3개만 샘플로 추출 \n",
            ": [[0.44935227 0.55064773]\n",
            " [0.86335512 0.13664488]\n",
            " [0.86429645 0.13570355]]\n",
            "두 개의 class 중에서 더 큰 확률을 클래스 값으로 예측 \n",
            " [[0.44935227 0.55064773 1.        ]\n",
            " [0.86335512 0.13664488 0.        ]\n",
            " [0.86429645 0.13570355 0.        ]]\n"
          ],
          "name": "stdout"
        }
      ]
    },
    {
      "cell_type": "code",
      "metadata": {
        "id": "klphnp-2kk0L",
        "colab_type": "code",
        "outputId": "e0cb004f-6e78-4e8c-e907-609e02a283b2",
        "colab": {
          "base_uri": "https://localhost:8080/",
          "height": 70
        }
      },
      "source": [
        "from sklearn.preprocessing import Binarizer\n",
        "\n",
        "X = [[1, -1, 2],\n",
        "     [2, 0, 0],\n",
        "     [0, 1.1, 1.2]]\n",
        "\n",
        "# X의 개별 원소들이 threshold값보다 같거나 작으면 0을, 크면 1을 반환\n",
        "binarizer = Binarizer(threshold=1.1)\n",
        "print(binarizer.fit_transform(X))"
      ],
      "execution_count": 57,
      "outputs": [
        {
          "output_type": "stream",
          "text": [
            "[[0. 0. 1.]\n",
            " [1. 0. 0.]\n",
            " [0. 0. 1.]]\n"
          ],
          "name": "stdout"
        }
      ]
    },
    {
      "cell_type": "code",
      "metadata": {
        "id": "dXlc9v72u9HG",
        "colab_type": "code",
        "outputId": "b34a6639-894c-4256-c4e7-15ec2f0bdf7c",
        "colab": {
          "base_uri": "https://localhost:8080/",
          "height": 87
        }
      },
      "source": [
        "from sklearn.preprocessing import Binarizer\n",
        "\n",
        "# Binarizer의 threshold 설정값. 분류 결정 임곗값임\n",
        "custom_threshold = 0.5\n",
        "\n",
        "# predict_proba() 반환값의 두 번째 칼럼, \n",
        "pred_proba_1 = pred_proba[:, 1].reshape(-1, 1)\n",
        "\n",
        "binarizer = Binarizer(threshold = custom_threshold).fit(pred_proba_1)\n",
        "custom_predict = binarizer.transform(pred_proba_1)\n",
        "\n",
        "get_clf_eval(y_test, custom_predict)"
      ],
      "execution_count": 58,
      "outputs": [
        {
          "output_type": "stream",
          "text": [
            "오차행렬\n",
            "[[108  10]\n",
            " [ 14  47]]\n",
            "정확도 : 0.8659, 정밀도 : 0.8246, 재현율 : 0.7705\n"
          ],
          "name": "stdout"
        }
      ]
    },
    {
      "cell_type": "markdown",
      "metadata": {
        "id": "3MAjM4yVxz2f",
        "colab_type": "text"
      },
      "source": [
        "### 오잉?\n",
        "기존의 로지스틱 회귀 Classifier 객체에서 호출된 predict()로 계산된 지표 값과 정확히 같습니다.\n",
        "predict()가 predict_proba()에 기반함을 알 수 있습니다.\n",
        "\n",
        "이 분류 결정 임곗값을 낮추면 평가지표가 어떻게 변할까요? 임곗값을 0.3로 낮춰보겠습니다.\n"
      ]
    },
    {
      "cell_type": "code",
      "metadata": {
        "id": "4VvD21uQxprw",
        "colab_type": "code",
        "outputId": "b62e7e71-aa3d-40c5-e29a-3a9f6ba6ba6e",
        "colab": {
          "base_uri": "https://localhost:8080/",
          "height": 87
        }
      },
      "source": [
        "# Binarizer의 threshold 설정값을 0.3으로 설정. 즉, 분류 결정 임곗값을 0.5에서 0.3으로 낮춰보겠습니다.\n",
        "custom_threshold = 0.3\n",
        "pred_proba_1 = pred_proba[:, 1].reshape(-1, 1)\n",
        "binarizer = Binarizer(threshold = custom_threshold).fit(pred_proba_1)\n",
        "custom_predict = binarizer.transform(pred_proba_1)\n",
        "\n",
        "get_clf_eval(y_test, custom_predict)"
      ],
      "execution_count": 59,
      "outputs": [
        {
          "output_type": "stream",
          "text": [
            "오차행렬\n",
            "[[92 26]\n",
            " [ 7 54]]\n",
            "정확도 : 0.8156, 정밀도 : 0.6750, 재현율 : 0.8852\n"
          ],
          "name": "stdout"
        }
      ]
    },
    {
      "cell_type": "markdown",
      "metadata": {
        "id": "NUHPe0l9HClo",
        "colab_type": "text"
      },
      "source": [
        "## 이미지로 정리해보겠습니다.\n",
        "\n",
        "\n",
        "![대체 텍스트](https://t1.daumcdn.net/cfile/tistory/9986E03359BD0A8310)\n",
        "\n",
        "threshold가 낮아질수록 Positive로 예측할 확률이 높아지고 Recall이 증가합니다.\n",
        "\n",
        "\n",
        "## 임곗값을 이리저리 바꿔보자!\n"
      ]
    },
    {
      "cell_type": "code",
      "metadata": {
        "id": "TbdPOCPz2ZI5",
        "colab_type": "code",
        "colab": {
          "base_uri": "https://localhost:8080/",
          "height": 457
        },
        "outputId": "c313e8c9-798e-4d9b-cf66-366e9a047f94"
      },
      "source": [
        "# 테스트를 수행할 모든 임곗값을 리스트 객체로 저장합시다요~\n",
        "\n",
        "thresholds = [0.4, 0.45, 0.50, 0.55, 0.60]\n",
        "\n",
        "def get_eval_by_threshold(y_test, pred_proba_c1, thresholds):\n",
        "  \n",
        "  # thresholds list객체 내의 값을 차례로 iteration하면서 Evaluation 수행\n",
        "  for custom_threshold in thresholds:\n",
        "    binarizer = Binarizer(threshold = custom_threshold).fit(pred_proba_c1)\n",
        "    custom_predict = binarizer.transform(pred_proba_c1)\n",
        "    print('임계값:', custom_threshold)\n",
        "    get_clf_eval(y_test, custom_predict)\n",
        "    \n",
        "ㅇget_eval_by_threshold(y_test, pred_proba[:, 1].reshape(-1, 1), thresholds)"
      ],
      "execution_count": 60,
      "outputs": [
        {
          "output_type": "stream",
          "text": [
            "임계값: 0.4\n",
            "오차행렬\n",
            "[[97 21]\n",
            " [11 50]]\n",
            "정확도 : 0.8212, 정밀도 : 0.7042, 재현율 : 0.8197\n",
            "임계값: 0.45\n",
            "오차행렬\n",
            "[[105  13]\n",
            " [ 13  48]]\n",
            "정확도 : 0.8547, 정밀도 : 0.7869, 재현율 : 0.7869\n",
            "임계값: 0.5\n",
            "오차행렬\n",
            "[[108  10]\n",
            " [ 14  47]]\n",
            "정확도 : 0.8659, 정밀도 : 0.8246, 재현율 : 0.7705\n",
            "임계값: 0.55\n",
            "오차행렬\n",
            "[[111   7]\n",
            " [ 16  45]]\n",
            "정확도 : 0.8715, 정밀도 : 0.8654, 재현율 : 0.7377\n",
            "임계값: 0.6\n",
            "오차행렬\n",
            "[[113   5]\n",
            " [ 17  44]]\n",
            "정확도 : 0.8771, 정밀도 : 0.8980, 재현율 : 0.7213\n"
          ],
          "name": "stdout"
        }
      ]
    },
    {
      "cell_type": "markdown",
      "metadata": {
        "id": "4rhkmRr31lQW",
        "colab_type": "text"
      },
      "source": [
        "### 이제 thresholds 변화에 따른 평가지표 값을 알아보는 코드를 작성했습니다.\n",
        "\n",
        "![대체 텍스트](https://encrypted-tbn0.gstatic.com/images?q=tbn:ANd9GcQooioolfui5ZHlqDbSi8tA3HxwDz-vzPwSf5sJkO0CKde_8L1N)\n",
        "\n",
        "### 이러시면 안됩니다....\n",
        "\n",
        "그런데 sklearn에도 precision_recall_curve() API를 제공한다고 하네여.\n",
        "\n",
        "그럼 \n",
        "\n",
        "## 우리가 한건 뭐다?\n",
        "\n",
        "![대체 텍스트](http://jjalbang.today/jjPy.jpg)\n",
        "\n",
        "## API 나오면 개고생이다.\n"
      ]
    },
    {
      "cell_type": "code",
      "metadata": {
        "id": "hlDjg5IDPtsM",
        "colab_type": "code",
        "colab": {
          "base_uri": "https://localhost:8080/",
          "height": 105
        },
        "outputId": "543fad90-8fad-44c7-d87c-f7a1ccf08e85"
      },
      "source": [
        "from sklearn.metrics import precision_recall_curve\n",
        "\n",
        "# 레이블 값이 1일 때의 예측 확률을 추출\n",
        "pred_proba_class1 = lr_clf.predict_proba(X_test)[:,1]\n",
        "\n",
        "# 실제값 데이터 세트와 레이블 값이 1일 때의 예측 확률을 precision_recall_curve 인자로 입력\n",
        "precisions, recalls, thresholds = precision_recall_curve(y_test, pred_proba_class1)\n",
        "print('반환된 분류 결정 임곗값 배열의 Shape:', thresholds.shape)\n",
        "\n",
        "# 반환된 임곗값 배열 로우가 147건이므로 샘플로 10건만 추출하되, 임곗값을 15 Step으로 추출.\n",
        "thr_index = np.arange(0, thresholds.shape[0], 15)\n",
        "print('샘플 추출을 위한 임곗값 배열의 index 10개:', thr_index)\n",
        "print('샘플용 10개의 임곗값:', np.round(thresholds[thr_index], 2))\n",
        "\n",
        "# 15 Step 단위로 추출된 임곗값에 따른 정밀도와 재현율 값\n",
        "print('샘플 임곗값별 정밀도:', np.round(precisions[thr_index], 3))\n",
        "print('샘플 임곗값별 재현율:', np.round(recalls[thr_index], 3))"
      ],
      "execution_count": 61,
      "outputs": [
        {
          "output_type": "stream",
          "text": [
            "반환된 분류 결정 임곗값 배열의 Shape: (147,)\n",
            "샘플 추출을 위한 임곗값 배열의 index 10개: [  0  15  30  45  60  75  90 105 120 135]\n",
            "샘플용 10개의 임곗값: [0.12 0.13 0.15 0.17 0.26 0.38 0.49 0.63 0.76 0.9 ]\n",
            "샘플 임곗값별 정밀도: [0.379 0.424 0.455 0.519 0.618 0.676 0.797 0.93  0.964 1.   ]\n",
            "샘플 임곗값별 재현율: [1.    0.967 0.902 0.902 0.902 0.82  0.77  0.656 0.443 0.213]\n"
          ],
          "name": "stdout"
        }
      ]
    },
    {
      "cell_type": "markdown",
      "metadata": {
        "id": "EPwLtbvU5XAY",
        "colab_type": "text"
      },
      "source": [
        "![대체 텍스트](data:image/jpeg;base64,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)\n",
        "\n"
      ]
    },
    {
      "cell_type": "markdown",
      "metadata": {
        "id": "DKMs7Wyw5fb5",
        "colab_type": "text"
      },
      "source": [
        "### 개허탈 하죠? 우리 인생이 원래 이래여\n",
        "\n",
        "허탈하지만 배운 김에 시각화를 해볼게여!\n",
        "\n"
      ]
    },
    {
      "cell_type": "code",
      "metadata": {
        "id": "VzIo2Qj45UR3",
        "colab_type": "code",
        "colab": {
          "base_uri": "https://localhost:8080/",
          "height": 392
        },
        "outputId": "91404378-55d3-48f1-97c2-26b5e39ebefc"
      },
      "source": [
        "import matplotlib.pyplot as plt\n",
        "import matplotlib.ticker as ticker\n",
        "%matplotlib inline\n",
        "\n",
        "def precision_recall_curve_plot(y_test, pred_proba_c1):\n",
        "  # threshold ndarray와 이 threshold에 따른 정밀도, 재현율 값으로 ndarray 추출\n",
        "  precisions, recalls, thresholds = precision_recall_curve(y_test, pred_proba_c1)\n",
        "  \n",
        "  # X축을 threshold값으로, Y축은 정밀도, 재현율 값으로 각각 Plot 수행. 정밀도는 점선으로 표시\n",
        "  plt.figure(figsize = (8, 6))\n",
        "  threshold_boundary = thresholds.shape[0]\n",
        "  plt.plot(thresholds, precisions[0:threshold_boundary], linestyle = '--', label = 'precision')\n",
        "  plt.plot(thresholds, recalls[0:threshold_boundary], label = 'recall')\n",
        "  \n",
        "  # threshold 값 X 축의 Scale을 0.1 단위로 변경\n",
        "  start, end = plt.xlim()\n",
        "  plt.xticks(np.round(np.arange(start, end, 0.1), 2))\n",
        "  \n",
        "  # x축, y축 label과 legend, 그리고 grid 설정\n",
        "  plt.xlabel('Threshold value')\n",
        "  plt.ylabel('Precision and Recall value')\n",
        "  plt.legend()\n",
        "  plt.grid()\n",
        "  plt.show()\n",
        "  \n",
        "precision_recall_curve_plot(y_test, lr_clf.predict_proba(X_test)[:, 1])"
      ],
      "execution_count": 64,
      "outputs": [
        {
          "output_type": "display_data",
          "data": {
            "image/png": "[encoded data removed]",
            "text/plain": [
              "<Figure size 576x432 with 1 Axes>"
            ]
          },
          "metadata": {
            "tags": []
          }
        }
      ]
    },
    {
      "cell_type": "markdown",
      "metadata": {
        "id": "sSDGoH4R9hvB",
        "colab_type": "text"
      },
      "source": [
        "## 인간의 욕심은 끝이없고\n",
        "\n",
        "우리가 이정도로 만족할 수는 없겠져?\n",
        "\n",
        "precision과 recall을 결합한 지표를 개발했습니다.\n",
        "\n",
        "F1 Score입니다.\n",
        "\n",
        "공식은 이렇게 생겼습니다.\n",
        "\n",
        "![대체 텍스트](https://www.mikulskibartosz.name/assets/images/2019-02-04-f1-score-explained/formula.png)\n",
        "\n",
        "A라는 예측 모델은 precision이 0.9, recall이 0.1이고\n",
        "\n",
        "B라는 예측 모델은 precision이 0.5, recall이 0.5라고 해봅시다.\n",
        "\n",
        "그러면 \n",
        "\n",
        "A의 F1 Score는 0.18이 되겠져?  B의 F1 Score는 0.5가 됩니다.\n",
        "\n",
        "고오오맙게도 sklearn에서는 f1_score()라는 API를 제공합니다.\n",
        "\n",
        "![대체 텍스트](data:image/jpeg;base64,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)"
      ]
    },
    {
      "cell_type": "code",
      "metadata": {
        "id": "mIZPE3vF9HlG",
        "colab_type": "code",
        "colab": {}
      },
      "source": [
        ""
      ],
      "execution_count": 0,
      "outputs": []
    }
  ]
}