{
 "cells": [
  {
   "cell_type": "code",
   "execution_count": null,
   "id": "6869544b-273b-4c96-ad31-b056b36657fc",
   "metadata": {},
   "outputs": [],
   "source": [
    "import numpy as np \n",
    "import pandas as pd\n",
    "import random\n",
    "random.seed(314)\n",
    "\n",
    "# 데이터 차원(열) 축소(dimension reduction)\n",
    "from sklearn.decomposition import PCA # 주성분분석\n",
    "\n",
    "# 시각화 도구 \n",
    "from IPython.core.pylabtools import figsize # ipython 사용 시 그래프 출력 크기 설정\n",
    "import matplotlib.pyplot as plt \n",
    "\n",
    "# matplotlib 기본 설정\n",
    "\n",
    "import matplotlib\n",
    "from matplotlib import rc \n",
    "%matplotlib inline\n",
    "rc('font', family='AppleGothic')\n",
    "plt.rcParams['axes.unicode_minus'] = False\n",
    "\n",
    "# x축 y축 그리드\n",
    "matplotlib.rcParams['grid.color'] = 'gray' # 그리드 색상\n",
    "matplotlib.rcParams['grid.linestyle'] = 'dotted' # 그리드 선 유형\n",
    "matplotlib.rcParams['grid.linewidth'] = 0.5 # 그리드 선 굵기\n",
    "\n",
    "# 좌표 값의 설정\n",
    "matplotlib.rcParams['axes.facecolor'] = '#F0F0F0' # 도표 내 색상\n",
    "matplotlib.rcParams['axes.axisbelow'] = False # 그리드를 차트에서 항상 위로 할 경우 False로 설정\n",
    "matplotlib.rcParams['axes.labelcolor'] = 'k' # x, y 축 글 색상\n",
    "matplotlib.rcParams['axes.grid'] = True # 그리드 사용 여부\n",
    "matplotlib.rcParams['axes.edgecolor'] = '#E6E6E6' # 도표 윤곽선 색상\n",
    "matplotlib.rcParams['axes.unicode_minus'] = False # 도표값에 -를 unicode로 사용할지 여부, 깨지면 False 추천\n",
    "matplotlib.rcParams['xtick.color'] = 'gray' # x축 라벨 색상\n",
    "matplotlib.rcParams['ytick.color'] = 'gray' # y축 라벨 색상\n",
    "matplotlib.rcParams['xtick.alignment'] = 'center' # x축 라벨 위치 정렬"
   ]
  },
  {
   "cell_type": "code",
   "execution_count": null,
   "id": "9752c002-caa7-4511-9bd4-33fd02733437",
   "metadata": {},
   "outputs": [],
   "source": [
    "import tensorflow as tf\n",
    "mnist = tf.keras.datasets.mnist\n",
    "(X_train, y_train), (X_test, y_test) = mnist.load_data()"
   ]
  },
  {
   "cell_type": "code",
   "execution_count": null,
   "id": "f4fe1400-9d31-43d4-9ce7-d8d82695c530",
   "metadata": {},
   "outputs": [],
   "source": []
  }
 ],
 "metadata": {
  "kernelspec": {
   "display_name": "Python 3.8.2 64-bit ('venv': venv)",
   "language": "python",
   "name": "python382jvsc74a57bd03712ccf75f1ffe1d3b431049632f354ecbd67ba96ab41c6a1b46b8f994dea1a4"
  },
  "language_info": {
   "codemirror_mode": {
    "name": "ipython",
    "version": 3
   },
   "file_extension": ".py",
   "mimetype": "text/x-python",
   "name": "python",
   "nbconvert_exporter": "python",
   "pygments_lexer": "ipython3",
   "version": "3.8.8"
  }
 },
 "nbformat": 4,
 "nbformat_minor": 5
}
