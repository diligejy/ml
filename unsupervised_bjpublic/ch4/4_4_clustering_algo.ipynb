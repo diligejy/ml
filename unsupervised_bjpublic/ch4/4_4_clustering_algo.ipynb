{
 "cells": [
  {
   "cell_type": "markdown",
   "metadata": {},
   "source": [
    "## 4.4.1 유사도 전파(Affinity Propagation)\n",
    "\n",
    "- 행 중 최댓값 사용\n",
    "- 손실함수가 없음\n",
    "- 군집 수를 따로 지정할 필요가 없음\n",
    "- 작은 그룹이 많이 생기고 한 명인 그룹도 많이 나오는 특성"
   ]
  },
  {
   "cell_type": "code",
   "execution_count": 2,
   "metadata": {},
   "outputs": [],
   "source": [
    "import numpy as np"
   ]
  },
  {
   "cell_type": "code",
   "execution_count": 3,
   "metadata": {},
   "outputs": [
    {
     "data": {
      "text/plain": [
       "array([[3., 4., 3., 2., 1.],\n",
       "       [4., 3., 5., 1., 1.],\n",
       "       [3., 5., 3., 3., 3.],\n",
       "       [2., 1., 3., 3., 2.],\n",
       "       [1., 1., 3., 2., 3.]])"
      ]
     },
     "execution_count": 3,
     "metadata": {},
     "output_type": "execute_result"
    }
   ],
   "source": [
    "Alice = [3, 4, 3, 2, 1]\n",
    "Bob = [4, 3, 5, 1, 1]\n",
    "Cary = [3, 5, 3, 3, 3]\n",
    "Doug = [2, 1, 3, 3, 2]\n",
    "Edna = [1, 1, 3, 2, 3]\n",
    "sample = np.array([Alice, Bob, Cary, Doug, Edna])\n",
    "sample = np.array(sample, dtype=float)\n",
    "sample"
   ]
  },
  {
   "cell_type": "code",
   "execution_count": 4,
   "metadata": {},
   "outputs": [
    {
     "data": {
      "text/plain": [
       "array([[-22.,  -7.,  -6., -12., -17.],\n",
       "       [ -7., -22., -17., -17., -22.],\n",
       "       [ -6., -17., -22., -18., -21.],\n",
       "       [-12., -17., -18., -22.,  -3.],\n",
       "       [-17., -22., -21.,  -3., -22.]])"
      ]
     },
     "execution_count": 4,
     "metadata": {},
     "output_type": "execute_result"
    }
   ],
   "source": [
    "# 유사도 행렬 계산 \n",
    "x1 = sample[:, np.newaxis, : ]\n",
    "x2 = sample[:, :, np.newaxis]\n",
    "S = np.sum(np.power(x1 - x2, 2), axis=0) * -1 # -1 * SUM(x1-x2)^2\n",
    "# 대각행렬에 최솟값 반영 \n",
    "len_ = len(sample)\n",
    "diag = np.diag_indices(len_)\n",
    "S[diag] = np.min(S)\n",
    "S"
   ]
  },
  {
   "cell_type": "code",
   "execution_count": 12,
   "metadata": {},
   "outputs": [
    {
     "data": {
      "text/plain": [
       "(array([0, 1, 2]), array([0, 1, 2]))"
      ]
     },
     "execution_count": 12,
     "metadata": {},
     "output_type": "execute_result"
    }
   ],
   "source": [
    "np.diag_indices(3)"
   ]
  },
  {
   "cell_type": "code",
   "execution_count": null,
   "metadata": {},
   "outputs": [],
   "source": []
  }
 ],
 "metadata": {
  "kernelspec": {
   "display_name": "Python 3.8.8 ('base')",
   "language": "python",
   "name": "python3"
  },
  "language_info": {
   "codemirror_mode": {
    "name": "ipython",
    "version": 3
   },
   "file_extension": ".py",
   "mimetype": "text/x-python",
   "name": "python",
   "nbconvert_exporter": "python",
   "pygments_lexer": "ipython3",
   "version": "3.8.8"
  },
  "orig_nbformat": 4,
  "vscode": {
   "interpreter": {
    "hash": "b361cef3e0d7e6a7fad3863c59e9362806a3d92080ecebdde4657478143d071b"
   }
  }
 },
 "nbformat": 4,
 "nbformat_minor": 2
}
