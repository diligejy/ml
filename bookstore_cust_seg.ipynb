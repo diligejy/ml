{
  "nbformat": 4,
  "nbformat_minor": 0,
  "metadata": {
    "colab": {
      "name": "bookstore_cust_seg.ipynb",
      "provenance": [],
      "collapsed_sections": []
    },
    "kernelspec": {
      "name": "python3",
      "display_name": "Python 3"
    }
  },
  "cells": [
    {
      "cell_type": "code",
      "metadata": {
        "id": "bMT-wAZeJQ7G",
        "colab_type": "code",
        "colab": {
          "base_uri": "https://localhost:8080/",
          "height": 377
        },
        "outputId": "4a840f48-a544-422b-985b-1e084290490a"
      },
      "source": [
        "!sudo apt-get install -y fonts-nanum\n",
        "!sudo fc-cache -fv\n",
        "!rm ~/.cache/matplotlib -rf"
      ],
      "execution_count": 1,
      "outputs": [
        {
          "output_type": "stream",
          "text": [
            "Reading package lists... Done\n",
            "Building dependency tree       \n",
            "Reading state information... Done\n",
            "fonts-nanum is already the newest version (20170925-1).\n",
            "The following package was automatically installed and is no longer required:\n",
            "  libnvidia-common-440\n",
            "Use 'sudo apt autoremove' to remove it.\n",
            "0 upgraded, 0 newly installed, 0 to remove and 35 not upgraded.\n",
            "/usr/share/fonts: caching, new cache contents: 0 fonts, 1 dirs\n",
            "/usr/share/fonts/truetype: caching, new cache contents: 0 fonts, 3 dirs\n",
            "/usr/share/fonts/truetype/humor-sans: caching, new cache contents: 1 fonts, 0 dirs\n",
            "/usr/share/fonts/truetype/liberation: caching, new cache contents: 16 fonts, 0 dirs\n",
            "/usr/share/fonts/truetype/nanum: caching, new cache contents: 10 fonts, 0 dirs\n",
            "/usr/local/share/fonts: caching, new cache contents: 0 fonts, 0 dirs\n",
            "/root/.local/share/fonts: skipping, no such directory\n",
            "/root/.fonts: skipping, no such directory\n",
            "/var/cache/fontconfig: cleaning cache directory\n",
            "/root/.cache/fontconfig: not cleaning non-existent cache directory\n",
            "/root/.fontconfig: not cleaning non-existent cache directory\n",
            "fc-cache: succeeded\n"
          ],
          "name": "stdout"
        }
      ]
    },
    {
      "cell_type": "code",
      "metadata": {
        "id": "8lwLqs0BIszX",
        "colab_type": "code",
        "colab": {
          "base_uri": "https://localhost:8080/",
          "height": 35
        },
        "outputId": "26dd924d-6832-4481-efa6-42cf7d2abe24"
      },
      "source": [
        "from google.colab import drive\n",
        "drive.mount('/content/drive')"
      ],
      "execution_count": 2,
      "outputs": [
        {
          "output_type": "stream",
          "text": [
            "Drive already mounted at /content/drive; to attempt to forcibly remount, call drive.mount(\"/content/drive\", force_remount=True).\n"
          ],
          "name": "stdout"
        }
      ]
    },
    {
      "cell_type": "code",
      "metadata": {
        "id": "XU0NmW5qIyzq",
        "colab_type": "code",
        "colab": {}
      },
      "source": [
        "import numpy as np\n",
        "import matplotlib.pyplot as plt\n",
        "import pandas as pd\n",
        "from numpy.polynomial.polynomial import polyfit\n",
        "\n",
        "# define random \n",
        "def rjitt(arr):\n",
        "  stdev = .01 *(max(arr)-min(arr))\n",
        "  return arr + np.random.rand(len(arr)) * stdev"
      ],
      "execution_count": 3,
      "outputs": []
    },
    {
      "cell_type": "code",
      "metadata": {
        "id": "T-zEtEyGI0ga",
        "colab_type": "code",
        "colab": {
          "base_uri": "https://localhost:8080/",
          "height": 276
        },
        "outputId": "a84e8f09-89dd-4133-fb69-34b447d57cf5"
      },
      "source": [
        "# loading sample data\n",
        "cs1 = pd.read_csv('/content/drive/My Drive/ML/cust_seg/cust_seg_smpl_280122.csv', encoding = 'cp949', thousands = ',')\n",
        "\n",
        "print(cs1.columns)\n",
        "print(cs1.shape)\n",
        "cs1.head()"
      ],
      "execution_count": 19,
      "outputs": [
        {
          "output_type": "stream",
          "text": [
            "Index(['고객명', '성별', '연령', '지역', '구매일수', '최종구매후기간', '구매서적수', '서적구매액', '기타상품구매액',\n",
            "       '총구매액', '관심쟝르', '구매쟝르수', '가입기간', 'SMS수신여부'],\n",
            "      dtype='object')\n",
            "(20, 14)\n"
          ],
          "name": "stdout"
        },
        {
          "output_type": "execute_result",
          "data": {
            "text/html": [
              "<div>\n",
              "<style scoped>\n",
              "    .dataframe tbody tr th:only-of-type {\n",
              "        vertical-align: middle;\n",
              "    }\n",
              "\n",
              "    .dataframe tbody tr th {\n",
              "        vertical-align: top;\n",
              "    }\n",
              "\n",
              "    .dataframe thead th {\n",
              "        text-align: right;\n",
              "    }\n",
              "</style>\n",
              "<table border=\"1\" class=\"dataframe\">\n",
              "  <thead>\n",
              "    <tr style=\"text-align: right;\">\n",
              "      <th></th>\n",
              "      <th>고객명</th>\n",
              "      <th>성별</th>\n",
              "      <th>연령</th>\n",
              "      <th>지역</th>\n",
              "      <th>구매일수</th>\n",
              "      <th>최종구매후기간</th>\n",
              "      <th>구매서적수</th>\n",
              "      <th>서적구매액</th>\n",
              "      <th>기타상품구매액</th>\n",
              "      <th>총구매액</th>\n",
              "      <th>관심쟝르</th>\n",
              "      <th>구매쟝르수</th>\n",
              "      <th>가입기간</th>\n",
              "      <th>SMS수신여부</th>\n",
              "    </tr>\n",
              "  </thead>\n",
              "  <tbody>\n",
              "    <tr>\n",
              "      <th>0</th>\n",
              "      <td>한지민</td>\n",
              "      <td>여</td>\n",
              "      <td>17</td>\n",
              "      <td>부산</td>\n",
              "      <td>5</td>\n",
              "      <td>2</td>\n",
              "      <td>8</td>\n",
              "      <td>96000</td>\n",
              "      <td>38400</td>\n",
              "      <td>134400</td>\n",
              "      <td>소설</td>\n",
              "      <td>2</td>\n",
              "      <td>12</td>\n",
              "      <td>수신</td>\n",
              "    </tr>\n",
              "    <tr>\n",
              "      <th>1</th>\n",
              "      <td>장이성</td>\n",
              "      <td>남</td>\n",
              "      <td>19</td>\n",
              "      <td>서울</td>\n",
              "      <td>2</td>\n",
              "      <td>2</td>\n",
              "      <td>3</td>\n",
              "      <td>36000</td>\n",
              "      <td>14400</td>\n",
              "      <td>50400</td>\n",
              "      <td>과학</td>\n",
              "      <td>1</td>\n",
              "      <td>24</td>\n",
              "      <td>수신</td>\n",
              "    </tr>\n",
              "    <tr>\n",
              "      <th>2</th>\n",
              "      <td>이수문</td>\n",
              "      <td>남</td>\n",
              "      <td>21</td>\n",
              "      <td>서울</td>\n",
              "      <td>20</td>\n",
              "      <td>1</td>\n",
              "      <td>22</td>\n",
              "      <td>286000</td>\n",
              "      <td>214500</td>\n",
              "      <td>500500</td>\n",
              "      <td>소설</td>\n",
              "      <td>4</td>\n",
              "      <td>15</td>\n",
              "      <td>NaN</td>\n",
              "    </tr>\n",
              "    <tr>\n",
              "      <th>3</th>\n",
              "      <td>오진호</td>\n",
              "      <td>남</td>\n",
              "      <td>25</td>\n",
              "      <td>인천</td>\n",
              "      <td>4</td>\n",
              "      <td>3</td>\n",
              "      <td>5</td>\n",
              "      <td>60000</td>\n",
              "      <td>24000</td>\n",
              "      <td>84000</td>\n",
              "      <td>시</td>\n",
              "      <td>1</td>\n",
              "      <td>16</td>\n",
              "      <td>수신</td>\n",
              "    </tr>\n",
              "    <tr>\n",
              "      <th>4</th>\n",
              "      <td>염시훈</td>\n",
              "      <td>남</td>\n",
              "      <td>26</td>\n",
              "      <td>서울</td>\n",
              "      <td>3</td>\n",
              "      <td>5</td>\n",
              "      <td>4</td>\n",
              "      <td>160000</td>\n",
              "      <td>64000</td>\n",
              "      <td>224000</td>\n",
              "      <td>소설</td>\n",
              "      <td>3</td>\n",
              "      <td>9</td>\n",
              "      <td>수신</td>\n",
              "    </tr>\n",
              "  </tbody>\n",
              "</table>\n",
              "</div>"
            ],
            "text/plain": [
              "   고객명 성별  연령  지역  구매일수  최종구매후기간  ...  기타상품구매액    총구매액  관심쟝르  구매쟝르수 가입기간  SMS수신여부\n",
              "0  한지민  여  17  부산     5        2  ...    38400  134400    소설      2   12       수신\n",
              "1  장이성  남  19  서울     2        2  ...    14400   50400    과학      1   24       수신\n",
              "2  이수문  남  21  서울    20        1  ...   214500  500500    소설      4   15      NaN\n",
              "3  오진호  남  25  인천     4        3  ...    24000   84000     시      1   16       수신\n",
              "4  염시훈  남  26  서울     3        5  ...    64000  224000    소설      3    9       수신\n",
              "\n",
              "[5 rows x 14 columns]"
            ]
          },
          "metadata": {
            "tags": []
          },
          "execution_count": 19
        }
      ]
    },
    {
      "cell_type": "code",
      "metadata": {
        "id": "Q-lJnIqDI5IT",
        "colab_type": "code",
        "colab": {
          "base_uri": "https://localhost:8080/",
          "height": 204
        },
        "outputId": "054e9efa-3422-4172-96bf-61f111cf6f98"
      },
      "source": [
        "# 한글로된 컬럼명이 싫어서 -- 인코딩으로 발생될 수 있는 만의 하나의 문제를 회피\n",
        "cs1.columns = [\"cust_name\", \"sex\", \"age\", \"location\", \"days_purchase\",\n",
        "   \"recency\", \"num_books\", \"amt_books\", \"amt_non_book\",\n",
        "   \"amt_total\", \"interest_genre\", \"num_genre\",\n",
        "   \"membership_period\", \"sms_optin\"]\n",
        "cs1.head()"
      ],
      "execution_count": 20,
      "outputs": [
        {
          "output_type": "execute_result",
          "data": {
            "text/html": [
              "<div>\n",
              "<style scoped>\n",
              "    .dataframe tbody tr th:only-of-type {\n",
              "        vertical-align: middle;\n",
              "    }\n",
              "\n",
              "    .dataframe tbody tr th {\n",
              "        vertical-align: top;\n",
              "    }\n",
              "\n",
              "    .dataframe thead th {\n",
              "        text-align: right;\n",
              "    }\n",
              "</style>\n",
              "<table border=\"1\" class=\"dataframe\">\n",
              "  <thead>\n",
              "    <tr style=\"text-align: right;\">\n",
              "      <th></th>\n",
              "      <th>cust_name</th>\n",
              "      <th>sex</th>\n",
              "      <th>age</th>\n",
              "      <th>location</th>\n",
              "      <th>days_purchase</th>\n",
              "      <th>recency</th>\n",
              "      <th>num_books</th>\n",
              "      <th>amt_books</th>\n",
              "      <th>amt_non_book</th>\n",
              "      <th>amt_total</th>\n",
              "      <th>interest_genre</th>\n",
              "      <th>num_genre</th>\n",
              "      <th>membership_period</th>\n",
              "      <th>sms_optin</th>\n",
              "    </tr>\n",
              "  </thead>\n",
              "  <tbody>\n",
              "    <tr>\n",
              "      <th>0</th>\n",
              "      <td>한지민</td>\n",
              "      <td>여</td>\n",
              "      <td>17</td>\n",
              "      <td>부산</td>\n",
              "      <td>5</td>\n",
              "      <td>2</td>\n",
              "      <td>8</td>\n",
              "      <td>96000</td>\n",
              "      <td>38400</td>\n",
              "      <td>134400</td>\n",
              "      <td>소설</td>\n",
              "      <td>2</td>\n",
              "      <td>12</td>\n",
              "      <td>수신</td>\n",
              "    </tr>\n",
              "    <tr>\n",
              "      <th>1</th>\n",
              "      <td>장이성</td>\n",
              "      <td>남</td>\n",
              "      <td>19</td>\n",
              "      <td>서울</td>\n",
              "      <td>2</td>\n",
              "      <td>2</td>\n",
              "      <td>3</td>\n",
              "      <td>36000</td>\n",
              "      <td>14400</td>\n",
              "      <td>50400</td>\n",
              "      <td>과학</td>\n",
              "      <td>1</td>\n",
              "      <td>24</td>\n",
              "      <td>수신</td>\n",
              "    </tr>\n",
              "    <tr>\n",
              "      <th>2</th>\n",
              "      <td>이수문</td>\n",
              "      <td>남</td>\n",
              "      <td>21</td>\n",
              "      <td>서울</td>\n",
              "      <td>20</td>\n",
              "      <td>1</td>\n",
              "      <td>22</td>\n",
              "      <td>286000</td>\n",
              "      <td>214500</td>\n",
              "      <td>500500</td>\n",
              "      <td>소설</td>\n",
              "      <td>4</td>\n",
              "      <td>15</td>\n",
              "      <td>NaN</td>\n",
              "    </tr>\n",
              "    <tr>\n",
              "      <th>3</th>\n",
              "      <td>오진호</td>\n",
              "      <td>남</td>\n",
              "      <td>25</td>\n",
              "      <td>인천</td>\n",
              "      <td>4</td>\n",
              "      <td>3</td>\n",
              "      <td>5</td>\n",
              "      <td>60000</td>\n",
              "      <td>24000</td>\n",
              "      <td>84000</td>\n",
              "      <td>시</td>\n",
              "      <td>1</td>\n",
              "      <td>16</td>\n",
              "      <td>수신</td>\n",
              "    </tr>\n",
              "    <tr>\n",
              "      <th>4</th>\n",
              "      <td>염시훈</td>\n",
              "      <td>남</td>\n",
              "      <td>26</td>\n",
              "      <td>서울</td>\n",
              "      <td>3</td>\n",
              "      <td>5</td>\n",
              "      <td>4</td>\n",
              "      <td>160000</td>\n",
              "      <td>64000</td>\n",
              "      <td>224000</td>\n",
              "      <td>소설</td>\n",
              "      <td>3</td>\n",
              "      <td>9</td>\n",
              "      <td>수신</td>\n",
              "    </tr>\n",
              "  </tbody>\n",
              "</table>\n",
              "</div>"
            ],
            "text/plain": [
              "  cust_name sex  age  ... num_genre  membership_period  sms_optin\n",
              "0       한지민   여   17  ...         2                 12         수신\n",
              "1       장이성   남   19  ...         1                 24         수신\n",
              "2       이수문   남   21  ...         4                 15        NaN\n",
              "3       오진호   남   25  ...         1                 16         수신\n",
              "4       염시훈   남   26  ...         3                  9         수신\n",
              "\n",
              "[5 rows x 14 columns]"
            ]
          },
          "metadata": {
            "tags": []
          },
          "execution_count": 20
        }
      ]
    },
    {
      "cell_type": "code",
      "metadata": {
        "id": "mEtLKisRI_4R",
        "colab_type": "code",
        "colab": {
          "base_uri": "https://localhost:8080/",
          "height": 556
        },
        "outputId": "45d66d72-8b2d-4385-cca2-dff8d9e7d535"
      },
      "source": [
        "# 최종구매후기간 recency와 구매한 서적의 수 사이의 관계 확인\n",
        "\n",
        "# 한글 폰트 표시 지정\n",
        "import matplotlib.font_manager as fm\n",
        "import matplotlib.pyplot as plt\n",
        "\n",
        "plt.rc('font', family='NanumBarunGothic') \n",
        "# 폰트 위치와 이름 지정\n",
        "# matplotlib 설정\n",
        "\n",
        "plt.scatter(cs1['recency'], cs1['num_books'])\n",
        "plt.xlabel('recency')\n",
        "plt.ylabel('num_books')\n",
        "plt.show()\n",
        "\n",
        "plt.scatter(cs1['recency'], cs1['num_books'], s=40, alpha=0.5)\n",
        "plt.title('X, Y 축에 한글로 축 이름 표시')\n",
        "plt.xlabel('최근성 -- 역순')\n",
        "plt.ylabel('구매서적수')\n",
        "plt.show()"
      ],
      "execution_count": 21,
      "outputs": [
        {
          "output_type": "display_data",
          "data": {
            "image/png": "[encoded data removed]",
            "text/plain": [
              "<Figure size 432x288 with 1 Axes>"
            ]
          },
          "metadata": {
            "tags": [],
            "needs_background": "light"
          }
        },
        {
          "output_type": "display_data",
          "data": {
            "image/png": "[encoded data removed]",
            "text/plain": [
              "<Figure size 432x288 with 1 Axes>"
            ]
          },
          "metadata": {
            "tags": [],
            "needs_background": "light"
          }
        }
      ]
    },
    {
      "cell_type": "code",
      "metadata": {
        "id": "v_WR4YtsLxXw",
        "colab_type": "code",
        "colab": {
          "base_uri": "https://localhost:8080/",
          "height": 279
        },
        "outputId": "e5dffb9b-97fc-44d2-b2a8-118b51c94311"
      },
      "source": [
        "# 동일 좌표에 다수의 고객 존재 가능성이 있으므로 jitter 사용자 정의 함수를 활용\n",
        "\n",
        "plt.scatter(rjitt(cs1['recency']), rjitt(cs1['num_books']),\n",
        "           s=30, alpha=0.3)\n",
        "plt.xlabel('recency')\n",
        "plt.ylabel('num_books')\n",
        "plt.show()"
      ],
      "execution_count": 22,
      "outputs": [
        {
          "output_type": "display_data",
          "data": {
            "image/png": "[encoded data removed]",
            "text/plain": [
              "<Figure size 432x288 with 1 Axes>"
            ]
          },
          "metadata": {
            "tags": [],
            "needs_background": "light"
          }
        }
      ]
    },
    {
      "cell_type": "code",
      "metadata": {
        "id": "ofcYAaviJCBq",
        "colab_type": "code",
        "colab": {
          "base_uri": "https://localhost:8080/",
          "height": 279
        },
        "outputId": "af1f6c50-4ef0-4a96-9f07-e4bc90aa1166"
      },
      "source": [
        "# add regression line\n",
        "# abline(lm(cs1$num_books~cs1$recency), col=\"blue\")\n",
        "\n",
        "from sklearn.preprocessing import PolynomialFeatures\n",
        "from sklearn.linear_model import LinearRegression\n",
        "from sklearn.pipeline import make_pipeline\n",
        "\n",
        "x = cs1['recency']\n",
        "y = cs1['num_books']\n",
        "# 회귀함수의 차수 지정: 차수가 1이면 단순 선형회귀분석\n",
        "nDegree = 1\n",
        "\n",
        "model = make_pipeline(PolynomialFeatures(nDegree), LinearRegression())\n",
        "model.fit(np.array(x).reshape(-1, 1), y)\n",
        "x_reg = np.arange(7)[1:]\n",
        "y_reg = model.predict(x_reg.reshape(-1, 1))\n",
        "\n",
        "plt.scatter(rjitt(cs1['recency']), rjitt(cs1['num_books']),\n",
        "           s=30, alpha=0.3)\n",
        "plt.xlabel('recency')\n",
        "plt.ylabel('num_books')\n",
        "\n",
        "plt.plot(x_reg, y_reg, color='orange', linestyle='--')\n",
        "plt.show()\n",
        "\n",
        "# 보조선인 회귀선을 본다면 최근성이 낮을수록, 즉 구매한지 오래되었을 수록\n",
        "# 구매한 서적의 수가 많음"
      ],
      "execution_count": 23,
      "outputs": [
        {
          "output_type": "display_data",
          "data": {
            "image/png": "[encoded data removed]",
            "text/plain": [
              "<Figure size 432x288 with 1 Axes>"
            ]
          },
          "metadata": {
            "tags": [],
            "needs_background": "light"
          }
        }
      ]
    },
    {
      "cell_type": "code",
      "metadata": {
        "id": "M8ne_3KgJlrO",
        "colab_type": "code",
        "colab": {
          "base_uri": "https://localhost:8080/",
          "height": 351
        },
        "outputId": "bc73914f-9d35-450d-f540-f88668d592d6"
      },
      "source": [
        "# add regression line\n",
        "# abline(lm(cs1$num_books~cs1$recency), col=\"blue\")\n",
        "\n",
        "from sklearn.preprocessing import PolynomialFeatures\n",
        "from sklearn.linear_model import LinearRegression\n",
        "from sklearn.pipeline import make_pipeline\n",
        "\n",
        "x = cs1['recency']\n",
        "y = cs1['num_books']\n",
        "# 회귀함수의 차수 지정\n",
        "nDegree = 3\n",
        "\n",
        "model = make_pipeline(PolynomialFeatures(nDegree), LinearRegression())\n",
        "model.fit(np.array(x).reshape(-1, 1), y)\n",
        "x_reg = np.arange(7)[1:]\n",
        "y_reg = model.predict(x_reg.reshape(-1, 1))\n",
        "\n",
        "plt.scatter(rjitt(cs1['recency']), rjitt(cs1['num_books']),\n",
        "           s=30, alpha=0.3)\n",
        "plt.xlabel('recency')\n",
        "plt.ylabel('num_books')\n",
        "plt.axhline(0, color='grey')\n",
        "plt.plot(x_reg, y_reg, color='orange', linestyle='--')\n",
        "plt.show()\n",
        "\n",
        "# 구매서적의 수가 음수가 되는 것은 허용되지 않는 값임"
      ],
      "execution_count": 24,
      "outputs": [
        {
          "output_type": "stream",
          "text": [
            "/usr/local/lib/python3.6/dist-packages/matplotlib/backends/backend_agg.py:214: RuntimeWarning: Glyph 8722 missing from current font.\n",
            "  font.set_text(s, 0.0, flags=flags)\n",
            "/usr/local/lib/python3.6/dist-packages/matplotlib/backends/backend_agg.py:183: RuntimeWarning: Glyph 8722 missing from current font.\n",
            "  font.set_text(s, 0, flags=flags)\n"
          ],
          "name": "stderr"
        },
        {
          "output_type": "display_data",
          "data": {
            "image/png": "[encoded data removed]",
            "text/plain": [
              "<Figure size 432x288 with 1 Axes>"
            ]
          },
          "metadata": {
            "tags": [],
            "needs_background": "light"
          }
        }
      ]
    },
    {
      "cell_type": "code",
      "metadata": {
        "id": "cDRsuhRdNX6P",
        "colab_type": "code",
        "colab": {
          "base_uri": "https://localhost:8080/",
          "height": 279
        },
        "outputId": "3c4c8c21-8c68-4750-cf17-568937268823"
      },
      "source": [
        "# add regression line\n",
        "# abline(lm(cs1$num_books~cs1$recency), col=\"blue\")\n",
        "\n",
        "from sklearn.preprocessing import PolynomialFeatures\n",
        "from sklearn.linear_model import LinearRegression\n",
        "from sklearn.pipeline import make_pipeline\n",
        "\n",
        "x = cs1['num_books']\n",
        "y = cs1['amt_books']\n",
        "# 회귀함수의 차수 지정: 차수가 1이면 단순 선형회귀분석\n",
        "nDegree = 1\n",
        "\n",
        "model = make_pipeline(PolynomialFeatures(nDegree), LinearRegression())\n",
        "model.fit(np.array(x).reshape(-1, 1), np.array(y))\n",
        "x_reg = np.arange(25)[1:]\n",
        "y_reg = model.predict(x_reg.reshape(-1, 1))\n",
        "rsq = model.score(np.array(x).reshape(-1, 1), y)\n",
        "\n",
        "plt.scatter(rjitt(cs1['num_books']), rjitt(cs1['amt_books']),\n",
        "           s=30, alpha=0.3)\n",
        "plt.xlabel('num_books')\n",
        "plt.ylabel('amt_books')\n",
        "\n",
        "plt.plot(x_reg, y_reg, color='orange', linestyle='--')\n",
        "plt.text(x.quantile(0.9), y.quantile(0.2), 'corr : ' + str(round(np.corrcoef(x, y)[0][1], 3)))\n",
        "plt.text(x.quantile(0.9), y.quantile(0.4), 'r-squared : ' + str(round(rsq, 3)))\n",
        "plt.show()\n",
        "\n",
        "# 보조선인 회귀선을 본다면 최근성이 낮을수록, 즉 구매한지 오래되었을 수록\n",
        "# 구매한 서적의 수가 많음"
      ],
      "execution_count": 29,
      "outputs": [
        {
          "output_type": "display_data",
          "data": {
            "image/png": "[encoded data removed]",
            "text/plain": [
              "<Figure size 432x288 with 1 Axes>"
            ]
          },
          "metadata": {
            "tags": [],
            "needs_background": "light"
          }
        }
      ]
    },
    {
      "cell_type": "code",
      "metadata": {
        "id": "fceOPo_aOzRU",
        "colab_type": "code",
        "colab": {
          "base_uri": "https://localhost:8080/",
          "height": 279
        },
        "outputId": "2098f8e0-573f-4638-e34e-6adf1965f770"
      },
      "source": [
        "# add regression line\n",
        "# abline(lm(cs1$num_books~cs1$recency), col=\"blue\")\n",
        "\n",
        "from sklearn.preprocessing import PolynomialFeatures\n",
        "from sklearn.linear_model import LinearRegression\n",
        "from sklearn.pipeline import make_pipeline\n",
        "\n",
        "x = cs1['num_books']\n",
        "y = cs1['amt_books']\n",
        "# 회귀함수의 차수 지정: 차수가 1이면 단순 선형회귀분석\n",
        "nDegree = 3\n",
        "\n",
        "model = make_pipeline(PolynomialFeatures(nDegree), LinearRegression())\n",
        "model.fit(np.array(x).reshape(-1, 1), y)\n",
        "x_reg = np.arange(25)[1:]\n",
        "y_reg = model.predict(x_reg.reshape(-1, 1))\n",
        "rsq = model.score(np.array(x).reshape(-1, 1), y)\n",
        "\n",
        "plt.scatter(rjitt(cs1['num_books']), rjitt(cs1['amt_books']),\n",
        "           s=30, alpha=0.3)\n",
        "plt.xlabel('num_books')\n",
        "plt.ylabel('amt_books')\n",
        "\n",
        "plt.plot(x_reg, y_reg, color='orange', linestyle='--')\n",
        "plt.text(x.quantile(0.9), y.quantile(0.2), 'corr : ' + str(round(np.corrcoef(x, y)[0][1], 3)))\n",
        "plt.text(x.quantile(0.9), y.quantile(0.4), 'r-squared : ' + str(round(rsq, 3)))\n",
        "plt.show()\n",
        "\n",
        "# 보조선인 회귀선을 본다면 최근성이 낮을수록, 즉 구매한지 오래되었을 수록\n",
        "# 구매한 서적의 수가 많음. 단, 구매수량이 증가한다고 \n",
        "# 금액이 무한정 증가하는지는 확실하지 않음"
      ],
      "execution_count": 30,
      "outputs": [
        {
          "output_type": "display_data",
          "data": {
            "image/png": "[encoded data removed]",
            "text/plain": [
              "<Figure size 432x288 with 1 Axes>"
            ]
          },
          "metadata": {
            "tags": [],
            "needs_background": "light"
          }
        }
      ]
    },
    {
      "cell_type": "code",
      "metadata": {
        "id": "TUaHVY2CO6wT",
        "colab_type": "code",
        "colab": {
          "base_uri": "https://localhost:8080/",
          "height": 279
        },
        "outputId": "8b0eb797-4a9d-4831-e3ce-6a424c8f00ae"
      },
      "source": [
        "# 주로 비싼 책을 샀는지를 파악하기 위해 평균금액을 계산\n",
        "\n",
        "cs1['unitprice_book'] = cs1['amt_books'] / cs1['num_books']\n",
        "\n",
        "x = cs1['num_books']\n",
        "y = cs1['unitprice_book']\n",
        "# 회귀함수의 차수 지정: 차수가 1이면 단순 선형회귀분석\n",
        "nDegree = 3\n",
        "\n",
        "model = make_pipeline(PolynomialFeatures(nDegree), LinearRegression())\n",
        "model.fit(np.array(x).reshape(-1, 1), y)\n",
        "x_reg = np.arange(25)[1:]\n",
        "y_reg = model.predict(x_reg.reshape(-1, 1))\n",
        "rsq = model.score(np.array(x).reshape(-1, 1), y)\n",
        "\n",
        "plt.scatter(rjitt(cs1['num_books']), rjitt(cs1['unitprice_book']),\n",
        "           s=30, alpha=0.3)\n",
        "plt.xlabel('num_books')\n",
        "plt.ylabel('unitprice_book')\n",
        "\n",
        "plt.plot(x_reg, y_reg, color='orange', linestyle='--')\n",
        "plt.text(x.quantile(0.9), y.quantile(0.2), 'corr : ' + str(round(np.corrcoef(x, y)[0][1], 3)))\n",
        "plt.text(x.quantile(0.9), y.quantile(0.4), 'r-squared : ' + str(round(rsq, 3)))\n",
        "plt.show()\n",
        "\n",
        "# 구매수량이 일정 지점을 지나서는 평균단가가 조금 줄어드는 경향 나타남"
      ],
      "execution_count": 32,
      "outputs": [
        {
          "output_type": "display_data",
          "data": {
            "image/png": "[encoded data removed]",
            "text/plain": [
              "<Figure size 432x288 with 1 Axes>"
            ]
          },
          "metadata": {
            "tags": [],
            "needs_background": "light"
          }
        }
      ]
    },
    {
      "cell_type": "code",
      "metadata": {
        "id": "c0ra8mwAO7Ny",
        "colab_type": "code",
        "colab": {
          "base_uri": "https://localhost:8080/",
          "height": 279
        },
        "outputId": "dc64e1ec-6df7-4234-ef49-67477633518e"
      },
      "source": [
        "colors1 = ['red' if x=='여' else 'blue' for x in cs1['sex']]\n",
        "# 주로 비싼 책을 샀는지를 파악하기 위해 평균금액을 계산\n",
        "\n",
        "cs1['unitprice_book'] = cs1['amt_books'] / cs1['num_books']\n",
        "\n",
        "\n",
        "x = cs1['num_books']\n",
        "y = cs1['unitprice_book']\n",
        "# 회귀함수의 차수 지정: 차수가 1이면 단순 선형회귀분석\n",
        "nDegree = 3\n",
        "\n",
        "model = make_pipeline(PolynomialFeatures(nDegree), LinearRegression())\n",
        "model.fit(np.array(x).reshape(-1, 1), y)\n",
        "x_reg = np.arange(25)[1:]\n",
        "y_reg = model.predict(x_reg.reshape(-1, 1))\n",
        "\n",
        "plt.scatter(rjitt(cs1['num_books']), rjitt(cs1['unitprice_book']),\n",
        "           s=30, alpha=0.3, color=colors1)\n",
        "plt.xlabel('num_books')\n",
        "plt.ylabel('unitprice_book')\n",
        "# 0에서 부터 출발하도록 Y축의 구간을 변경\n",
        "# 변동이 크게 보이는 착시를 완화\n",
        "# 표시할 값 중 최대의 105% 까지로 자동 설정 \n",
        "plt.ylim(0,cs1['unitprice_book'].max()*1.05)\n",
        "plt.plot(x_reg, y_reg, color='orange', linestyle='--')\n",
        "plt.show()\n",
        "\n",
        "# 구매수량이 일정 지점을 지나서는 평균단가가 조금 줄어드는 경향 나타남\n",
        "# 여성의 경우 구매금액이 매우 큰 경우가 없었음"
      ],
      "execution_count": 33,
      "outputs": [
        {
          "output_type": "display_data",
          "data": {
            "image/png": "[encoded data removed]",
            "text/plain": [
              "<Figure size 432x288 with 1 Axes>"
            ]
          },
          "metadata": {
            "tags": [],
            "needs_background": "light"
          }
        }
      ]
    },
    {
      "cell_type": "code",
      "metadata": {
        "id": "IgUsRgwZS80v",
        "colab_type": "code",
        "colab": {
          "base_uri": "https://localhost:8080/",
          "height": 279
        },
        "outputId": "8688ea80-7b48-4267-dada-aed37789f10c"
      },
      "source": [
        "colors1 = ['red' if x=='여' else 'blue' for x in cs1['sex']]\n",
        "# 주로 비싼 책을 샀는지를 파악하기 위해 평균금액을 계산\n",
        "\n",
        "cs1['unitprice_book'] = cs1['amt_books'] / cs1['num_books']\n",
        "\n",
        "\n",
        "x = cs1['num_books']\n",
        "y = cs1['unitprice_book']\n",
        "# 회귀함수의 차수 지정: 차수가 1이면 단순 선형회귀분석\n",
        "nDegree = 3\n",
        "\n",
        "model = make_pipeline(PolynomialFeatures(nDegree), LinearRegression())\n",
        "model.fit(np.array(x).reshape(-1, 1), y)\n",
        "x_reg = np.arange(25)[1:]\n",
        "y_reg = model.predict(x_reg.reshape(-1, 1))\n",
        "\n",
        "plt.scatter(rjitt(cs1['num_books']), rjitt(cs1['unitprice_book']),\n",
        "            s=100*cs1['amt_non_book']/cs1['amt_non_book'].max(), \n",
        "            alpha=0.3, color=colors1)\n",
        "plt.xlabel('num_books')\n",
        "plt.ylabel('unitprice_book')\n",
        "\n",
        "plt.plot(x_reg, y_reg, color='orange', linestyle='--')\n",
        "plt.text(12,35000, '* Size: volume index of amt_none_book')\n",
        "# text 함수를 사용해서 주석 달아주기\n",
        "plt.axhline(cs1['unitprice_book'].median(), color='darkgrey')\n",
        "plt.show()\n",
        "\n",
        "# 구매수량이 일정 지점을 지나서는 평균단가가 조금 줄어드는 경향 나타남\n",
        "# 여성의 경우 구매금액이 매우 큰 경우가 없었음"
      ],
      "execution_count": 34,
      "outputs": [
        {
          "output_type": "display_data",
          "data": {
            "image/png": "[encoded data removed]",
            "text/plain": [
              "<Figure size 432x288 with 1 Axes>"
            ]
          },
          "metadata": {
            "tags": [],
            "needs_background": "light"
          }
        }
      ]
    },
    {
      "cell_type": "markdown",
      "metadata": {
        "id": "qyziz-6oUE6T",
        "colab_type": "text"
      },
      "source": [
        "## Grid 방식의 고객 세분화\n"
      ]
    },
    {
      "cell_type": "code",
      "metadata": {
        "id": "5nbBd11JTkjX",
        "colab_type": "code",
        "colab": {
          "base_uri": "https://localhost:8080/",
          "height": 279
        },
        "outputId": "d9d0d1ea-9477-4ee5-83c6-bc765a549408"
      },
      "source": [
        "colors1 = ['red' if x=='여' else 'blue' for x in cs1['sex']]\n",
        "# 주로 비싼 책을 샀는지를 파악하기 위해 평균금액을 계산\n",
        "\n",
        "x = cs1['amt_books']\n",
        "y = cs1['amt_non_book']\n",
        "# 회귀함수의 차수 지정: 차수가 1이면 단순 선형회귀분석\n",
        "nDegree = 3\n",
        "\n",
        "model = make_pipeline(PolynomialFeatures(nDegree), LinearRegression())\n",
        "model.fit(np.array(x).reshape(-1, 1), y)\n",
        "x_reg = np.arange(25)[1:]\n",
        "y_reg = model.predict(x_reg.reshape(-1, 1))\n",
        "\n",
        "plt.scatter(rjitt(cs1['amt_books']), rjitt(cs1['amt_non_book']),\n",
        "            alpha=0.3, color=colors1)\n",
        "plt.xlabel('amt_books')\n",
        "plt.ylabel('amt_non_book')\n",
        "\n",
        "plt.plot(x_reg, y_reg, color='orange', linestyle='--')\n",
        "plt.text(250000,15000, 'cross-sell target', size = 30, color = 'orange')\n",
        "# text 함수를 사용해서 주석 달아주기\n",
        "plt.axvline(cs1['amt_books'].quantile(0.7), color='darkgrey', linestyle='--')\n",
        "plt.axhline(cs1['amt_non_book'].quantile(0.8), color='darkgrey', linestyle='--')\n",
        "plt.show()\n",
        "\n",
        "# 책을 많이 사는 편인데 책쪽만 집중된 경우를 기타 상품군에 대한\n",
        "# 교차판매용 대상으로\n",
        "# == 서적 구매는 많으나 기타 상품 구매가 약한 집단을 선정해\n",
        "# 집중적 cross-selling 노력 기울이는 방안?"
      ],
      "execution_count": 36,
      "outputs": [
        {
          "output_type": "display_data",
          "data": {
            "image/png": "[encoded data removed]",
            "text/plain": [
              "<Figure size 432x288 with 1 Axes>"
            ]
          },
          "metadata": {
            "tags": [],
            "needs_background": "light"
          }
        }
      ]
    },
    {
      "cell_type": "code",
      "metadata": {
        "id": "FQX8cy31Tu8o",
        "colab_type": "code",
        "colab": {
          "base_uri": "https://localhost:8080/",
          "height": 334
        },
        "outputId": "add6dac7-170f-4191-c64c-c500ac82293a"
      },
      "source": [
        "colors1 = ['red' if x=='여' else 'blue' for x in cs1['sex']]\n",
        "# 주로 비싼 책을 샀는지를 파악하기 위해 평균금액을 계산\n",
        "\n",
        "x = (cs1['amt_books'] / cs1['amt_total'])\n",
        "y = (cs1['amt_non_book'] / cs1['amt_total'])\n",
        "# 회귀함수의 차수 지정: 차수가 1이면 단순 선형회귀분석\n",
        "nDegree = 3\n",
        "\n",
        "model = make_pipeline(PolynomialFeatures(nDegree), LinearRegression())\n",
        "model.fit(np.array(x).reshape(-1, 1), y)\n",
        "x_reg = np.arange(25)[1:]\n",
        "y_reg = model.predict(x_reg.reshape(-1, 1))\n",
        "\n",
        "plt.figure(figsize = (10, 5))\n",
        "plt.scatter(rjitt(x), rjitt(y), s= 50,\n",
        "            alpha=0.3, color=colors1)\n",
        "plt.xlabel('ratio_amt_books')\n",
        "plt.ylabel('ratio_amt_non_book')\n",
        "plt.xlim(x.min() * 0.85, y.max() * 1 + 1)\n",
        "plt.ylim(y.min() * 0.85, y.max() * 1 + 1)\n",
        "\n",
        "plt.plot(x_reg, y_reg, color='orange', linestyle='--')\n",
        "plt.text(0.7,0.35, 'cross-sell target')\n",
        "# text 함수를 사용해서 주석 달아주기\n",
        "plt.axvline(x.quantile(0.7), color='darkgrey', linestyle='--')\n",
        "plt.axhline(y.quantile(0.8), color='darkgrey', linestyle='--')\n",
        "plt.show()\n",
        "\n",
        "# 비율로"
      ],
      "execution_count": 41,
      "outputs": [
        {
          "output_type": "display_data",
          "data": {
            "image/png": "[encoded data removed]",
            "text/plain": [
              "<Figure size 720x360 with 1 Axes>"
            ]
          },
          "metadata": {
            "tags": [],
            "needs_background": "light"
          }
        }
      ]
    },
    {
      "cell_type": "code",
      "metadata": {
        "id": "4ZtFB5xOVqjM",
        "colab_type": "code",
        "colab": {
          "base_uri": "https://localhost:8080/",
          "height": 334
        },
        "outputId": "5c8b87bd-5442-4d1c-f7f2-14f682508004"
      },
      "source": [
        "max_x = cs1['age'].max()\n",
        "min_x = cs1['age'].min()\n",
        "color1 = [(1-((x-min_x) / (max_x - min_x)), 0, (x-min_x) / (max_x - min_x)) for x in cs1['age']]\n",
        "\n",
        "x = cs1['amt_books']\n",
        "y = cs1['num_genre']\n",
        "nDegree = 3\n",
        "\n",
        "model = make_pipeline(PolynomialFeatures(nDegree), LinearRegression())\n",
        "model.fit(np.array(x).reshape(-1, 1), y)\n",
        "x_reg = np.arange(25)[1:]\n",
        "y_reg = model.predict(x_reg.reshape(-1, 1))\n",
        "\n",
        "plt.figure(figsize = (10, 5))\n",
        "plt.scatter(rjitt(x), rjitt(y), s = 50, alpha = 0.3, color = colors1)\n",
        "plt.xlabel('amt_books')\n",
        "plt.ylabel('num_genre')\n",
        "plt.xlim(0, x.max() * 1.1)\n",
        "plt.ylim(0, y.max() * 1.1)\n",
        "\n",
        "plt.plot(x_reg, y_reg, color = 'orange', linestyle = '--')\n",
        "plt.text(x.quantile(0.63), y.quantile(0.71), 'up-sell target')\n",
        "\n",
        "plt.axvline(x.quantile(0.6), color = 'darkgrey', linestyle = '--')\n",
        "plt.axvline(x.quantile(0.8), color = 'darkgrey', linestyle = '--')\n",
        "plt.axhline(y.quantile(0.7), color = 'darkgrey', linestyle = '--')\n",
        "\n",
        "plt.show()\n",
        "\n",
        "# 여러 장르를 구매해도 금액이 작은 집단 = upsell target\n",
        "# 연령으로 보면 나이가 많은 고객이 다수"
      ],
      "execution_count": 47,
      "outputs": [
        {
          "output_type": "display_data",
          "data": {
            "image/png": "[encoded data removed]",
            "text/plain": [
              "<Figure size 720x360 with 1 Axes>"
            ]
          },
          "metadata": {
            "tags": [],
            "needs_background": "light"
          }
        }
      ]
    },
    {
      "cell_type": "code",
      "metadata": {
        "id": "Lkfi069oW6mA",
        "colab_type": "code",
        "colab": {
          "base_uri": "https://localhost:8080/",
          "height": 196
        },
        "outputId": "065d96dc-3906-4671-cfad-72aca2e56feb"
      },
      "source": [
        "tgtgridseg = cs1[(cs1['amt_books'] > cs1['amt_books'].quantile(0.7)) & \n",
        "                 (cs1['amt_non_book'] < cs1['amt_non_book'].quantile(0.8)) ]\n",
        "\n",
        "print('number of cross-sell target customers : ', len(tgtgridseg),'\\n')\n",
        "\n",
        "print(\"size of target = \", 100* len(tgtgridseg)/ cs1.shape[0], \" % of customer base\")\n",
        "\n",
        "tgtgridseg"
      ],
      "execution_count": 49,
      "outputs": [
        {
          "output_type": "stream",
          "text": [
            "number of cross-sell target customers :  3 \n",
            "\n",
            "size of target =  15.0  % of customer base\n"
          ],
          "name": "stdout"
        },
        {
          "output_type": "execute_result",
          "data": {
            "text/html": [
              "<div>\n",
              "<style scoped>\n",
              "    .dataframe tbody tr th:only-of-type {\n",
              "        vertical-align: middle;\n",
              "    }\n",
              "\n",
              "    .dataframe tbody tr th {\n",
              "        vertical-align: top;\n",
              "    }\n",
              "\n",
              "    .dataframe thead th {\n",
              "        text-align: right;\n",
              "    }\n",
              "</style>\n",
              "<table border=\"1\" class=\"dataframe\">\n",
              "  <thead>\n",
              "    <tr style=\"text-align: right;\">\n",
              "      <th></th>\n",
              "      <th>cust_name</th>\n",
              "      <th>sex</th>\n",
              "      <th>age</th>\n",
              "      <th>location</th>\n",
              "      <th>days_purchase</th>\n",
              "      <th>recency</th>\n",
              "      <th>num_books</th>\n",
              "      <th>amt_books</th>\n",
              "      <th>amt_non_book</th>\n",
              "      <th>amt_total</th>\n",
              "      <th>interest_genre</th>\n",
              "      <th>num_genre</th>\n",
              "      <th>membership_period</th>\n",
              "      <th>sms_optin</th>\n",
              "      <th>unitprice_book</th>\n",
              "    </tr>\n",
              "  </thead>\n",
              "  <tbody>\n",
              "    <tr>\n",
              "      <th>8</th>\n",
              "      <td>민지화</td>\n",
              "      <td>여</td>\n",
              "      <td>29</td>\n",
              "      <td>서울</td>\n",
              "      <td>7</td>\n",
              "      <td>2</td>\n",
              "      <td>10</td>\n",
              "      <td>200000</td>\n",
              "      <td>40000</td>\n",
              "      <td>240000</td>\n",
              "      <td>NaN</td>\n",
              "      <td>3</td>\n",
              "      <td>21</td>\n",
              "      <td>수신</td>\n",
              "      <td>20000.0</td>\n",
              "    </tr>\n",
              "    <tr>\n",
              "      <th>9</th>\n",
              "      <td>윤신훈</td>\n",
              "      <td>남</td>\n",
              "      <td>32</td>\n",
              "      <td>광주</td>\n",
              "      <td>5</td>\n",
              "      <td>4</td>\n",
              "      <td>10</td>\n",
              "      <td>200000</td>\n",
              "      <td>80000</td>\n",
              "      <td>280000</td>\n",
              "      <td>소설</td>\n",
              "      <td>3</td>\n",
              "      <td>12</td>\n",
              "      <td>수신</td>\n",
              "      <td>20000.0</td>\n",
              "    </tr>\n",
              "    <tr>\n",
              "      <th>12</th>\n",
              "      <td>이정호</td>\n",
              "      <td>남</td>\n",
              "      <td>37</td>\n",
              "      <td>대전</td>\n",
              "      <td>11</td>\n",
              "      <td>3</td>\n",
              "      <td>18</td>\n",
              "      <td>360000</td>\n",
              "      <td>72000</td>\n",
              "      <td>432000</td>\n",
              "      <td>과학</td>\n",
              "      <td>3</td>\n",
              "      <td>18</td>\n",
              "      <td>NaN</td>\n",
              "      <td>20000.0</td>\n",
              "    </tr>\n",
              "  </tbody>\n",
              "</table>\n",
              "</div>"
            ],
            "text/plain": [
              "   cust_name sex  age  ... membership_period  sms_optin  unitprice_book\n",
              "8        민지화   여   29  ...                21         수신         20000.0\n",
              "9        윤신훈   남   32  ...                12         수신         20000.0\n",
              "12       이정호   남   37  ...                18        NaN         20000.0\n",
              "\n",
              "[3 rows x 15 columns]"
            ]
          },
          "metadata": {
            "tags": []
          },
          "execution_count": 49
        }
      ]
    },
    {
      "cell_type": "code",
      "metadata": {
        "id": "UQL5GlyFYj8P",
        "colab_type": "code",
        "colab": {
          "base_uri": "https://localhost:8080/",
          "height": 281
        },
        "outputId": "798aa145-5783-47fe-8a7f-259b1ebf792e"
      },
      "source": [
        "# 선정된 집단의 프로파일 시각적으로 확인\n",
        "\n",
        "# 서적 구매수량과 성별 분포 확인 (여성은 pink)\n",
        "\n",
        "colors2 = ['pink' if x=='여' else'lightblue' for x in tgtgridseg['sex']]\n",
        "plt.bar(tgtgridseg['cust_name'], tgtgridseg['num_books'], \n",
        "        color=colors2)\n",
        "plt.ylabel(\"num_books\")\n",
        "\n",
        "# 전체고객의 평균/중위수 서적구매수량과 비교\n",
        "\n",
        "plt.axhline(cs1['num_books'].mean(), linestyle='--')\n",
        "# font in grey color\n",
        "plt.text(1,cs1['num_books'].mean()+1, 'mean of the entire cust base', color='grey')\n",
        "plt.axhline(cs1['num_books'].median(), linestyle='--')\n",
        "plt.text(1,cs1['num_books'].median()+1, 'median of the entire cust base')\n",
        "plt.title('profile of cross-sell target segment')\n",
        "plt.show()\n",
        "\n",
        "# 전체 집단에 비해서는 서적 구매수량이 많은 집단\n",
        "# 전체 집단에 비해서는 여성 비율이 조금은 더 높은 집단 (i.e. 0.33 > 0.3)    \n",
        "\n",
        "# 기타 상품 중 여성 선호 상품을 찾아 제안하는 방식으로 cross-sell\n",
        "# 테스트 캠페인 시도 가능할 것"
      ],
      "execution_count": 50,
      "outputs": [
        {
          "output_type": "display_data",
          "data": {
            "image/png": "[encoded data removed]",
            "text/plain": [
              "<Figure size 432x288 with 1 Axes>"
            ]
          },
          "metadata": {
            "tags": [],
            "needs_background": "light"
          }
        }
      ]
    },
    {
      "cell_type": "code",
      "metadata": {
        "id": "Y-Iq7BrwZDV7",
        "colab_type": "code",
        "colab": {
          "base_uri": "https://localhost:8080/",
          "height": 111
        },
        "outputId": "28290597-363e-42f1-a16d-df0742d3af69"
      },
      "source": [
        "# 성별 인원수 확인 -- 건수 대신 구성비 산출\n",
        "cs1['sex'].value_counts(normalize=True).reset_index().sort_values(by='sex', ascending=False)"
      ],
      "execution_count": 52,
      "outputs": [
        {
          "output_type": "execute_result",
          "data": {
            "text/html": [
              "<div>\n",
              "<style scoped>\n",
              "    .dataframe tbody tr th:only-of-type {\n",
              "        vertical-align: middle;\n",
              "    }\n",
              "\n",
              "    .dataframe tbody tr th {\n",
              "        vertical-align: top;\n",
              "    }\n",
              "\n",
              "    .dataframe thead th {\n",
              "        text-align: right;\n",
              "    }\n",
              "</style>\n",
              "<table border=\"1\" class=\"dataframe\">\n",
              "  <thead>\n",
              "    <tr style=\"text-align: right;\">\n",
              "      <th></th>\n",
              "      <th>index</th>\n",
              "      <th>sex</th>\n",
              "    </tr>\n",
              "  </thead>\n",
              "  <tbody>\n",
              "    <tr>\n",
              "      <th>0</th>\n",
              "      <td>남</td>\n",
              "      <td>0.7</td>\n",
              "    </tr>\n",
              "    <tr>\n",
              "      <th>1</th>\n",
              "      <td>여</td>\n",
              "      <td>0.3</td>\n",
              "    </tr>\n",
              "  </tbody>\n",
              "</table>\n",
              "</div>"
            ],
            "text/plain": [
              "  index  sex\n",
              "0     남  0.7\n",
              "1     여  0.3"
            ]
          },
          "metadata": {
            "tags": []
          },
          "execution_count": 52
        }
      ]
    },
    {
      "cell_type": "code",
      "metadata": {
        "id": "sd7ipANuZSUS",
        "colab_type": "code",
        "colab": {
          "base_uri": "https://localhost:8080/",
          "height": 315
        },
        "outputId": "8fdcec86-7883-41fe-8ae4-8554b04212a6"
      },
      "source": [
        "# 연령별 고객분포\n",
        "import seaborn as sns\n",
        "\n",
        "dfex = cs1[['amt_books', 'sex']]\n",
        "\n",
        "sns.boxplot(x = 'sex', y = 'amt_books', data = dfex)\n",
        "plt.show()"
      ],
      "execution_count": 53,
      "outputs": [
        {
          "output_type": "stream",
          "text": [
            "/usr/local/lib/python3.6/dist-packages/statsmodels/tools/_testing.py:19: FutureWarning: pandas.util.testing is deprecated. Use the functions in the public API at pandas.testing instead.\n",
            "  import pandas.util.testing as tm\n"
          ],
          "name": "stderr"
        },
        {
          "output_type": "display_data",
          "data": {
            "image/png": "[encoded data removed]",
            "text/plain": [
              "<Figure size 432x288 with 1 Axes>"
            ]
          },
          "metadata": {
            "tags": [],
            "needs_background": "light"
          }
        }
      ]
    },
    {
      "cell_type": "markdown",
      "metadata": {
        "id": "z5l3bqRJZm0V",
        "colab_type": "text"
      },
      "source": [
        "## 군집분석을 이용한 고객 세분화"
      ]
    },
    {
      "cell_type": "code",
      "metadata": {
        "id": "cPLtdrrhZk6z",
        "colab_type": "code",
        "colab": {
          "base_uri": "https://localhost:8080/",
          "height": 366
        },
        "outputId": "88fd2d4b-40da-42be-8096-6410c7e1e5c2"
      },
      "source": [
        "# 군집분석을 활용한 고객세분화\n",
        "\n",
        "# 수치형식의 중요 변수를 클러스터링에 사용하기 위해 지정 \n",
        "vars4clst = [ \"days_purchase\", \"recency\", \"num_books\",\n",
        "             \"amt_books\", \"amt_non_book\", \"amt_total\", \"num_genre\", \"membership_period\" ] \n",
        "\n",
        "cs2 = cs1[vars4clst]\n",
        "\n",
        "# 선정된 변수들의 데이터 타입 확인\n",
        "print(cs2.dtypes)\n",
        "\n",
        "cs2.head()"
      ],
      "execution_count": 54,
      "outputs": [
        {
          "output_type": "stream",
          "text": [
            "days_purchase        int64\n",
            "recency              int64\n",
            "num_books            int64\n",
            "amt_books            int64\n",
            "amt_non_book         int64\n",
            "amt_total            int64\n",
            "num_genre            int64\n",
            "membership_period    int64\n",
            "dtype: object\n"
          ],
          "name": "stdout"
        },
        {
          "output_type": "execute_result",
          "data": {
            "text/html": [
              "<div>\n",
              "<style scoped>\n",
              "    .dataframe tbody tr th:only-of-type {\n",
              "        vertical-align: middle;\n",
              "    }\n",
              "\n",
              "    .dataframe tbody tr th {\n",
              "        vertical-align: top;\n",
              "    }\n",
              "\n",
              "    .dataframe thead th {\n",
              "        text-align: right;\n",
              "    }\n",
              "</style>\n",
              "<table border=\"1\" class=\"dataframe\">\n",
              "  <thead>\n",
              "    <tr style=\"text-align: right;\">\n",
              "      <th></th>\n",
              "      <th>days_purchase</th>\n",
              "      <th>recency</th>\n",
              "      <th>num_books</th>\n",
              "      <th>amt_books</th>\n",
              "      <th>amt_non_book</th>\n",
              "      <th>amt_total</th>\n",
              "      <th>num_genre</th>\n",
              "      <th>membership_period</th>\n",
              "    </tr>\n",
              "  </thead>\n",
              "  <tbody>\n",
              "    <tr>\n",
              "      <th>0</th>\n",
              "      <td>5</td>\n",
              "      <td>2</td>\n",
              "      <td>8</td>\n",
              "      <td>96000</td>\n",
              "      <td>38400</td>\n",
              "      <td>134400</td>\n",
              "      <td>2</td>\n",
              "      <td>12</td>\n",
              "    </tr>\n",
              "    <tr>\n",
              "      <th>1</th>\n",
              "      <td>2</td>\n",
              "      <td>2</td>\n",
              "      <td>3</td>\n",
              "      <td>36000</td>\n",
              "      <td>14400</td>\n",
              "      <td>50400</td>\n",
              "      <td>1</td>\n",
              "      <td>24</td>\n",
              "    </tr>\n",
              "    <tr>\n",
              "      <th>2</th>\n",
              "      <td>20</td>\n",
              "      <td>1</td>\n",
              "      <td>22</td>\n",
              "      <td>286000</td>\n",
              "      <td>214500</td>\n",
              "      <td>500500</td>\n",
              "      <td>4</td>\n",
              "      <td>15</td>\n",
              "    </tr>\n",
              "    <tr>\n",
              "      <th>3</th>\n",
              "      <td>4</td>\n",
              "      <td>3</td>\n",
              "      <td>5</td>\n",
              "      <td>60000</td>\n",
              "      <td>24000</td>\n",
              "      <td>84000</td>\n",
              "      <td>1</td>\n",
              "      <td>16</td>\n",
              "    </tr>\n",
              "    <tr>\n",
              "      <th>4</th>\n",
              "      <td>3</td>\n",
              "      <td>5</td>\n",
              "      <td>4</td>\n",
              "      <td>160000</td>\n",
              "      <td>64000</td>\n",
              "      <td>224000</td>\n",
              "      <td>3</td>\n",
              "      <td>9</td>\n",
              "    </tr>\n",
              "  </tbody>\n",
              "</table>\n",
              "</div>"
            ],
            "text/plain": [
              "   days_purchase  recency  num_books  ...  amt_total  num_genre  membership_period\n",
              "0              5        2          8  ...     134400          2                 12\n",
              "1              2        2          3  ...      50400          1                 24\n",
              "2             20        1         22  ...     500500          4                 15\n",
              "3              4        3          5  ...      84000          1                 16\n",
              "4              3        5          4  ...     224000          3                  9\n",
              "\n",
              "[5 rows x 8 columns]"
            ]
          },
          "metadata": {
            "tags": []
          },
          "execution_count": 54
        }
      ]
    },
    {
      "cell_type": "code",
      "metadata": {
        "id": "cUSbMD8XZqrB",
        "colab_type": "code",
        "colab": {
          "base_uri": "https://localhost:8080/",
          "height": 478
        },
        "outputId": "c0ed29d9-08d4-4c11-bcc7-16635e67c4dd"
      },
      "source": [
        "from sklearn.cluster import KMeans  \n",
        "\n",
        "# df 자체를 할당하는 대신 복제를 생성\n",
        "df4kmm = cs2.copy()\n",
        "\n",
        "# 타입변경은 사실 unnecessary 이미 수치형이라\n",
        "X = np.array(df4kmm.astype(int))\n",
        "\n",
        "# create k-means model\n",
        "kmm1 = KMeans(n_clusters=3, random_state=111)  \n",
        "# set seed using random_state option\n",
        "kmm1.fit(X)  \n",
        "\n",
        "# kmeans.cluster_centers_  \n",
        "\n",
        "# 군집별 고객수 분포 확인\n",
        "clst_label, clst_cust_counts = np.unique(kmm1.labels_, return_counts=True)\n",
        "\n",
        "# 고객집단을 표시할 색상을 임의로 지정\n",
        "# 번호순의 색상 이름 벡터 생성\n",
        "colors3 = ['brown','khaki','silver']\n",
        "\n",
        "plt.bar(clst_label, clst_cust_counts, color=colors3) \n",
        "plt.title('number of cutomer by cluster')\n",
        "plt.show()\n",
        "\n",
        "# 테이블 형태로 화면 출력하기 위해 임시 테이블 생성\n",
        "pd.DataFrame({'clst': clst_label, 'cust_count': clst_cust_counts})"
      ],
      "execution_count": 55,
      "outputs": [
        {
          "output_type": "stream",
          "text": [
            "/usr/local/lib/python3.6/dist-packages/matplotlib/backends/backend_agg.py:214: RuntimeWarning: Glyph 8722 missing from current font.\n",
            "  font.set_text(s, 0.0, flags=flags)\n",
            "/usr/local/lib/python3.6/dist-packages/matplotlib/backends/backend_agg.py:183: RuntimeWarning: Glyph 8722 missing from current font.\n",
            "  font.set_text(s, 0, flags=flags)\n"
          ],
          "name": "stderr"
        },
        {
          "output_type": "display_data",
          "data": {
            "image/png": "[encoded data removed]",
            "text/plain": [
              "<Figure size 432x288 with 1 Axes>"
            ]
          },
          "metadata": {
            "tags": [],
            "needs_background": "light"
          }
        },
        {
          "output_type": "execute_result",
          "data": {
            "text/html": [
              "<div>\n",
              "<style scoped>\n",
              "    .dataframe tbody tr th:only-of-type {\n",
              "        vertical-align: middle;\n",
              "    }\n",
              "\n",
              "    .dataframe tbody tr th {\n",
              "        vertical-align: top;\n",
              "    }\n",
              "\n",
              "    .dataframe thead th {\n",
              "        text-align: right;\n",
              "    }\n",
              "</style>\n",
              "<table border=\"1\" class=\"dataframe\">\n",
              "  <thead>\n",
              "    <tr style=\"text-align: right;\">\n",
              "      <th></th>\n",
              "      <th>clst</th>\n",
              "      <th>cust_count</th>\n",
              "    </tr>\n",
              "  </thead>\n",
              "  <tbody>\n",
              "    <tr>\n",
              "      <th>0</th>\n",
              "      <td>0</td>\n",
              "      <td>12</td>\n",
              "    </tr>\n",
              "    <tr>\n",
              "      <th>1</th>\n",
              "      <td>1</td>\n",
              "      <td>4</td>\n",
              "    </tr>\n",
              "    <tr>\n",
              "      <th>2</th>\n",
              "      <td>2</td>\n",
              "      <td>4</td>\n",
              "    </tr>\n",
              "  </tbody>\n",
              "</table>\n",
              "</div>"
            ],
            "text/plain": [
              "   clst  cust_count\n",
              "0     0          12\n",
              "1     1           4\n",
              "2     2           4"
            ]
          },
          "metadata": {
            "tags": []
          },
          "execution_count": 55
        }
      ]
    },
    {
      "cell_type": "code",
      "metadata": {
        "id": "sX_SjTphZt8b",
        "colab_type": "code",
        "colab": {
          "base_uri": "https://localhost:8080/",
          "height": 308
        },
        "outputId": "9cbd9e7f-0a0b-492a-e71d-c48a149426cd"
      },
      "source": [
        "# 각 고객의 소속 집단이 어디인가에 따라 색상 표시\n",
        "colors4 = [colors3[x] for x in  kmm1.labels_] \n",
        "\n",
        "plt.scatter(rjitt(cs1['days_purchase']), rjitt(cs1['num_genre']),\n",
        "   color = colors4, s=50, alpha=0.4)\n",
        "\n",
        "# subtitle 다는 기능이 직접적으로는 없음. 따라서 우회적 방법 활용\n",
        "plt.suptitle(\"Cust Segment Profile: Frequency X Book Genre Diversity\")\n",
        "# title 대신 suptitle을 title 용도로 활용하고\n",
        "subtitle_text = 'Clusters : ' + str(colors3)\n",
        "# subtitle 용도로 title을 활용하면서 폰트를 작게\n",
        "plt.title(subtitle_text, fontsize=9, color='darkgrey')\n",
        "plt.xlabel('Frequency')\n",
        "plt.ylabel('Book Genre Diversity')\n",
        "plt.axvline(cs1['days_purchase'].median(), color = 'orange', linestyle = '--')\n",
        "plt.axhline(cs1['num_genre'].median(), color = 'orange', linestyle = '--')\n",
        "plt.show()"
      ],
      "execution_count": 57,
      "outputs": [
        {
          "output_type": "display_data",
          "data": {
            "image/png": "[encoded data removed]",
            "text/plain": [
              "<Figure size 432x288 with 1 Axes>"
            ]
          },
          "metadata": {
            "tags": [],
            "needs_background": "light"
          }
        }
      ]
    },
    {
      "cell_type": "code",
      "metadata": {
        "id": "EO4Ood_AbJOh",
        "colab_type": "code",
        "colab": {
          "base_uri": "https://localhost:8080/",
          "height": 142
        },
        "outputId": "90a01529-7f08-4b26-923a-414ce787b1b0"
      },
      "source": [
        "# 군집 프로파일링 - 약식의 일괄 처리\n",
        "cs3 = cs2.copy()\n",
        "cs3['clst'] = kmm1.labels_\n",
        "cs6 = cs3.groupby('clst').mean().reset_index().sort_values('amt_total', ascending=False).round(1)\n",
        "cs601 = cs3['clst'].value_counts().reset_index()\n",
        "cs601.columns = ['clst', 'cust_cnt']\n",
        "cs602 = cs601.merge(cs6, how = 'left', on = 'clst').sort_values('clst')\n",
        "cs602"
      ],
      "execution_count": 61,
      "outputs": [
        {
          "output_type": "execute_result",
          "data": {
            "text/html": [
              "<div>\n",
              "<style scoped>\n",
              "    .dataframe tbody tr th:only-of-type {\n",
              "        vertical-align: middle;\n",
              "    }\n",
              "\n",
              "    .dataframe tbody tr th {\n",
              "        vertical-align: top;\n",
              "    }\n",
              "\n",
              "    .dataframe thead th {\n",
              "        text-align: right;\n",
              "    }\n",
              "</style>\n",
              "<table border=\"1\" class=\"dataframe\">\n",
              "  <thead>\n",
              "    <tr style=\"text-align: right;\">\n",
              "      <th></th>\n",
              "      <th>clst</th>\n",
              "      <th>cust_cnt</th>\n",
              "      <th>days_purchase</th>\n",
              "      <th>recency</th>\n",
              "      <th>num_books</th>\n",
              "      <th>amt_books</th>\n",
              "      <th>amt_non_book</th>\n",
              "      <th>amt_total</th>\n",
              "      <th>num_genre</th>\n",
              "      <th>membership_period</th>\n",
              "    </tr>\n",
              "  </thead>\n",
              "  <tbody>\n",
              "    <tr>\n",
              "      <th>0</th>\n",
              "      <td>0</td>\n",
              "      <td>12</td>\n",
              "      <td>2.4</td>\n",
              "      <td>2.1</td>\n",
              "      <td>3.7</td>\n",
              "      <td>46166.7</td>\n",
              "      <td>20441.7</td>\n",
              "      <td>66608.3</td>\n",
              "      <td>1.5</td>\n",
              "      <td>12.2</td>\n",
              "    </tr>\n",
              "    <tr>\n",
              "      <th>2</th>\n",
              "      <td>1</td>\n",
              "      <td>4</td>\n",
              "      <td>11.0</td>\n",
              "      <td>2.2</td>\n",
              "      <td>19.8</td>\n",
              "      <td>306500.0</td>\n",
              "      <td>174625.0</td>\n",
              "      <td>481125.0</td>\n",
              "      <td>2.5</td>\n",
              "      <td>13.2</td>\n",
              "    </tr>\n",
              "    <tr>\n",
              "      <th>1</th>\n",
              "      <td>2</td>\n",
              "      <td>4</td>\n",
              "      <td>4.8</td>\n",
              "      <td>3.2</td>\n",
              "      <td>9.0</td>\n",
              "      <td>176000.0</td>\n",
              "      <td>96400.0</td>\n",
              "      <td>272400.0</td>\n",
              "      <td>3.2</td>\n",
              "      <td>12.0</td>\n",
              "    </tr>\n",
              "  </tbody>\n",
              "</table>\n",
              "</div>"
            ],
            "text/plain": [
              "   clst  cust_cnt  days_purchase  ...  amt_total  num_genre  membership_period\n",
              "0     0        12            2.4  ...    66608.3        1.5               12.2\n",
              "2     1         4           11.0  ...   481125.0        2.5               13.2\n",
              "1     2         4            4.8  ...   272400.0        3.2               12.0\n",
              "\n",
              "[3 rows x 10 columns]"
            ]
          },
          "metadata": {
            "tags": []
          },
          "execution_count": 61
        }
      ]
    },
    {
      "cell_type": "code",
      "metadata": {
        "id": "kUtdgY0xccIZ",
        "colab_type": "code",
        "colab": {
          "base_uri": "https://localhost:8080/",
          "height": 308
        },
        "outputId": "93c15f1a-5c0b-4060-bf59-1b1838f88a52"
      },
      "source": [
        "# 군집 프로파일링\n",
        "plt.scatter(cs602['amt_total'], cs602['num_genre'],\n",
        "            s = cs602['cust_cnt'] * 45,\n",
        "            alpha = 0.8,\n",
        "            color = colors3)\n",
        "plt.suptitle('Cluster means and size')\n",
        "subtitle_text = 'Clusters : ' + str(colors3)\n",
        "# subtitle 용도로 title활용 폰트 작게\n",
        "plt.title(subtitle_text, fontsize = 9, color = 'darkgrey')\n",
        "plt.xlabel('AMT TOT')\n",
        "plt.ylabel('Book Genre Diversity')\n",
        "plt.xlim(0, cs602['amt_total'].max() * 1.05)\n",
        "plt.ylim(0, cs602['num_genre'].max() * 1.05)\n",
        "plt.axvline(cs602['amt_total'].mean(), color = 'orange', linestyle = '--')\n",
        "plt.axhline(cs602['num_genre'].mean(), color = 'orange', linestyle = '--')\n",
        "plt.show()"
      ],
      "execution_count": 65,
      "outputs": [
        {
          "output_type": "display_data",
          "data": {
            "image/png": "[encoded data removed]",
            "text/plain": [
              "<Figure size 432x288 with 1 Axes>"
            ]
          },
          "metadata": {
            "tags": [],
            "needs_background": "light"
          }
        }
      ]
    },
    {
      "cell_type": "code",
      "metadata": {
        "id": "mmqRAraeduQ0",
        "colab_type": "code",
        "colab": {}
      },
      "source": [
        ""
      ],
      "execution_count": null,
      "outputs": []
    }
  ]
}