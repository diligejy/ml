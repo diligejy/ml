{
 "metadata": {
  "language_info": {
   "codemirror_mode": {
    "name": "ipython",
    "version": 3
   },
   "file_extension": ".py",
   "mimetype": "text/x-python",
   "name": "python",
   "nbconvert_exporter": "python",
   "pygments_lexer": "ipython3",
   "version": "3.7.6"
  },
  "orig_nbformat": 4,
  "kernelspec": {
   "name": "python3",
   "display_name": "Python 3.7.6 64-bit ('py3_7_6': conda)"
  },
  "interpreter": {
   "hash": "0c27090090f508e4883836458afaa8253b2ac5af7b12b60af14ac7c2616a5b0c"
  }
 },
 "nbformat": 4,
 "nbformat_minor": 2,
 "cells": [
  {
   "source": [
    "## 데이터 불러오기"
   ],
   "cell_type": "markdown",
   "metadata": {}
  },
  {
   "cell_type": "code",
   "execution_count": 2,
   "metadata": {},
   "outputs": [],
   "source": [
    "from sklearn import datasets\n",
    "raw_boston = datasets.load_boston()"
   ]
  },
  {
   "source": [
    "## 피처, 타깃 데이터 지정\n"
   ],
   "cell_type": "markdown",
   "metadata": {}
  },
  {
   "cell_type": "code",
   "execution_count": 3,
   "metadata": {},
   "outputs": [],
   "source": [
    "X = raw_boston.data\n",
    "y = raw_boston.target"
   ]
  },
  {
   "source": [
    "## 트레이닝/테스트 데이터 분할"
   ],
   "cell_type": "markdown",
   "metadata": {}
  },
  {
   "cell_type": "code",
   "execution_count": 5,
   "metadata": {},
   "outputs": [],
   "source": [
    "from sklearn.model_selection import train_test_split\n",
    "X_tn, X_te, y_tn, y_te = train_test_split(X, y, random_state=1)"
   ]
  },
  {
   "source": [
    "## 데이터 표준화"
   ],
   "cell_type": "markdown",
   "metadata": {}
  },
  {
   "cell_type": "code",
   "execution_count": 7,
   "metadata": {},
   "outputs": [],
   "source": [
    "from sklearn.preprocessing import StandardScaler\n",
    "std_scale = StandardScaler()\n",
    "std_scale.fit(X_tn)\n",
    "X_tn_std = std_scale.transform(X_tn)\n",
    "X_te_std = std_scale.transform(X_te)"
   ]
  },
  {
   "source": [
    "## 선형회귀 분석"
   ],
   "cell_type": "markdown",
   "metadata": {}
  },
  {
   "cell_type": "code",
   "execution_count": 13,
   "metadata": {},
   "outputs": [
    {
     "output_type": "execute_result",
     "data": {
      "text/plain": [
       "LinearRegression()"
      ]
     },
     "metadata": {},
     "execution_count": 13
    }
   ],
   "source": [
    "from sklearn.linear_model import LinearRegression\n",
    "rg_lr = LinearRegression()\n",
    "rg_lr.fit(X_tn_std, y_tn)"
   ]
  },
  {
   "source": [
    "## 선형회귀분석 계수, 상수항 확인"
   ],
   "cell_type": "markdown",
   "metadata": {}
  },
  {
   "cell_type": "code",
   "execution_count": 14,
   "metadata": {},
   "outputs": [
    {
     "output_type": "stream",
     "name": "stdout",
     "text": [
      "[-1.07145146  1.34036243  0.26298069  0.66554537 -2.49842551  1.97524314\n  0.19516605 -3.14274974  2.66736136 -1.80685572 -2.13034748  0.56172933\n -4.03223518]\n"
     ]
    }
   ],
   "source": [
    "print(rg_lr.coef_)"
   ]
  },
  {
   "cell_type": "code",
   "execution_count": 21,
   "metadata": {},
   "outputs": [
    {
     "output_type": "stream",
     "name": "stdout",
     "text": [
      "22.344591029023768\n"
     ]
    }
   ],
   "source": [
    "print(rg_lr.intercept_)"
   ]
  },
  {
   "source": [
    "## 데이터 학습 (L2 제약식 적용, 릿지 회귀 분석)"
   ],
   "cell_type": "markdown",
   "metadata": {}
  },
  {
   "cell_type": "code",
   "execution_count": 15,
   "metadata": {},
   "outputs": [
    {
     "output_type": "execute_result",
     "data": {
      "text/plain": [
       "Ridge(alpha=1)"
      ]
     },
     "metadata": {},
     "execution_count": 15
    }
   ],
   "source": [
    "from sklearn.linear_model import Ridge\n",
    "rg_ridge = Ridge(alpha=1)\n",
    "rg_ridge.fit(X_tn_std, y_tn)"
   ]
  },
  {
   "source": [
    "## 릿지 회귀 분석 계수, 상수항 확인\n"
   ],
   "cell_type": "markdown",
   "metadata": {}
  },
  {
   "cell_type": "code",
   "execution_count": 16,
   "metadata": {},
   "outputs": [
    {
     "output_type": "stream",
     "name": "stdout",
     "text": [
      "[-1.05933451  1.31050717  0.23022789  0.66955241 -2.45607567  1.99086611\n  0.18119169 -3.09919804  2.56480813 -1.71116799 -2.12002592  0.56264409\n -4.00942448]\n"
     ]
    }
   ],
   "source": [
    "print(rg_ridge.coef_)"
   ]
  },
  {
   "cell_type": "code",
   "execution_count": 20,
   "metadata": {},
   "outputs": [
    {
     "output_type": "stream",
     "name": "stdout",
     "text": [
      "22.344591029023768\n"
     ]
    }
   ],
   "source": [
    "print(rg_ridge.intercept_)"
   ]
  },
  {
   "source": [
    "## 데이터 학습 (L1 제약식 적용, 라쏘 회귀분석)\n"
   ],
   "cell_type": "markdown",
   "metadata": {}
  },
  {
   "cell_type": "code",
   "execution_count": 17,
   "metadata": {},
   "outputs": [
    {
     "output_type": "execute_result",
     "data": {
      "text/plain": [
       "Lasso(alpha=0.01)"
      ]
     },
     "metadata": {},
     "execution_count": 17
    }
   ],
   "source": [
    "from sklearn.linear_model import Lasso\n",
    "rg_lasso = Lasso(alpha=0.01)\n",
    "rg_lasso.fit(X_tn_std, y_tn)"
   ]
  },
  {
   "source": [
    "## 라쏘 회귀분석 계수, 상수항 확인"
   ],
   "cell_type": "markdown",
   "metadata": {}
  },
  {
   "cell_type": "code",
   "execution_count": 18,
   "metadata": {},
   "outputs": [
    {
     "output_type": "stream",
     "name": "stdout",
     "text": [
      "[-1.04326518  1.27752711  0.1674367   0.66758228 -2.41559964  1.99244179\n  0.14733958 -3.09473711  2.46431135 -1.60552274 -2.11046422  0.55200229\n -4.00809905]\n"
     ]
    }
   ],
   "source": [
    "print(rg_lasso.coef_)"
   ]
  },
  {
   "cell_type": "code",
   "execution_count": 19,
   "metadata": {},
   "outputs": [
    {
     "output_type": "stream",
     "name": "stdout",
     "text": [
      "22.344591029023768\n"
     ]
    }
   ],
   "source": [
    "print(rg_lasso.intercept_)"
   ]
  },
  {
   "source": [
    "## 데이터 학습 - Elastic Net"
   ],
   "cell_type": "markdown",
   "metadata": {}
  },
  {
   "cell_type": "code",
   "execution_count": 22,
   "metadata": {},
   "outputs": [
    {
     "output_type": "execute_result",
     "data": {
      "text/plain": [
       "ElasticNet(alpha=0.01, l1_ratio=0.01)"
      ]
     },
     "metadata": {},
     "execution_count": 22
    }
   ],
   "source": [
    "# alpha = L1 제약식 크기 + L2 제약식 크기를 합한 전체 제약식의 크기\n",
    "# l1 ratio - alpha값에서 L1제약이 차지하는 비율\n",
    "from sklearn.linear_model import ElasticNet\n",
    "rg_elastic = ElasticNet(alpha=0.01, l1_ratio=0.01)\n",
    "rg_elastic.fit(X_tn_std, y_tn)"
   ]
  },
  {
   "source": [
    "## 엘라스틱 넷 계수, 상수항 확인"
   ],
   "cell_type": "markdown",
   "metadata": {}
  },
  {
   "cell_type": "code",
   "execution_count": 24,
   "metadata": {},
   "outputs": [
    {
     "output_type": "stream",
     "name": "stdout",
     "text": [
      "[-1.02916603  1.23681955  0.15236504  0.67859622 -2.34646781  2.02965524\n  0.14575132 -2.98592423  2.32013379 -1.48829485 -2.09271972  0.56506801\n -3.9495281 ]\n22.344591029023768\n"
     ]
    }
   ],
   "source": [
    "print(rg_elastic.coef_)\n",
    "print(rg_elastic.intercept_)"
   ]
  },
  {
   "source": [
    "## 데이터 예측"
   ],
   "cell_type": "markdown",
   "metadata": {}
  },
  {
   "cell_type": "code",
   "execution_count": 26,
   "metadata": {},
   "outputs": [],
   "source": [
    "pred_lr = rg_lr.predict(X_te_std)\n",
    "pred_ridge = rg_ridge.predict(X_te_std)\n",
    "pred_lasso = rg_lasso.predict(X_te_std)\n",
    "pred_elastic = rg_elastic.predict(X_te_std)"
   ]
  },
  {
   "source": [
    "## 모형 평가 - R2 Score"
   ],
   "cell_type": "markdown",
   "metadata": {}
  },
  {
   "cell_type": "code",
   "execution_count": 27,
   "metadata": {},
   "outputs": [
    {
     "output_type": "stream",
     "name": "stdout",
     "text": [
      "0.7789410172622858\n0.7789704562726603\n0.7787621490259894\n0.7787876079239252\n"
     ]
    }
   ],
   "source": [
    "from sklearn.metrics import r2_score\n",
    "print(r2_score(y_te, pred_lr))\n",
    "print(r2_score(y_te, pred_ridge))\n",
    "print(r2_score(y_te, pred_lasso))\n",
    "print(r2_score(y_te, pred_elastic))"
   ]
  },
  {
   "source": [
    "## 모형 평가 - MSE"
   ],
   "cell_type": "markdown",
   "metadata": {}
  },
  {
   "cell_type": "code",
   "execution_count": 28,
   "metadata": {},
   "outputs": [
    {
     "output_type": "stream",
     "name": "stdout",
     "text": [
      "21.89776539604949\n21.894849212618773\n21.915483810504835\n21.912961890936874\n"
     ]
    }
   ],
   "source": [
    "from sklearn.metrics import mean_squared_error\n",
    "print(mean_squared_error(y_te, pred_lr))\n",
    "print(mean_squared_error(y_te, pred_ridge))\n",
    "print(mean_squared_error(y_te, pred_lasso))\n",
    "print(mean_squared_error(y_te, pred_elastic))"
   ]
  },
  {
   "cell_type": "code",
   "execution_count": null,
   "metadata": {},
   "outputs": [],
   "source": []
  }
 ]
}