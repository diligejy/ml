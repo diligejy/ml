{
 "metadata": {
  "language_info": {
   "codemirror_mode": {
    "name": "ipython",
    "version": 3
   },
   "file_extension": ".py",
   "mimetype": "text/x-python",
   "name": "python",
   "nbconvert_exporter": "python",
   "pygments_lexer": "ipython3",
   "version": "3.7.6"
  },
  "orig_nbformat": 4,
  "kernelspec": {
   "name": "python3",
   "display_name": "Python 3.7.6 64-bit ('py3_7_6': conda)"
  },
  "interpreter": {
   "hash": "0c27090090f508e4883836458afaa8253b2ac5af7b12b60af14ac7c2616a5b0c"
  }
 },
 "nbformat": 4,
 "nbformat_minor": 2,
 "cells": [
  {
   "source": [
    "### 데이터 불러오기"
   ],
   "cell_type": "markdown",
   "metadata": {}
  },
  {
   "cell_type": "code",
   "execution_count": 2,
   "metadata": {},
   "outputs": [],
   "source": [
    "from sklearn.datasets import load_wine\n",
    "raw_wine = load_wine()"
   ]
  },
  {
   "source": [
    "### 피처, 타깃 데이터 지정"
   ],
   "cell_type": "markdown",
   "metadata": {}
  },
  {
   "cell_type": "code",
   "execution_count": 3,
   "metadata": {},
   "outputs": [],
   "source": [
    "X = raw_wine.data\n",
    "y = raw_wine.target"
   ]
  },
  {
   "source": [
    "### 트레이닝/테스트 데이터 분할"
   ],
   "cell_type": "markdown",
   "metadata": {}
  },
  {
   "cell_type": "code",
   "execution_count": 5,
   "metadata": {},
   "outputs": [],
   "source": [
    "from sklearn.model_selection import train_test_split\n",
    "X_tn, X_te, y_tn, y_te = train_test_split(X, y, random_state=0)"
   ]
  },
  {
   "source": [
    "### 데이터 표준화"
   ],
   "cell_type": "markdown",
   "metadata": {}
  },
  {
   "cell_type": "code",
   "execution_count": 7,
   "metadata": {},
   "outputs": [],
   "source": [
    "from sklearn.preprocessing import StandardScaler\n",
    "std_scale = StandardScaler()\n",
    "std_scale.fit(X_tn)\n",
    "X_tn_std = std_scale.transform(X_tn)\n",
    "X_te_std = std_scale.transform(X_te)"
   ]
  },
  {
   "source": [
    "### 그리드 서치"
   ],
   "cell_type": "markdown",
   "metadata": {}
  },
  {
   "cell_type": "code",
   "execution_count": 9,
   "metadata": {},
   "outputs": [
    {
     "output_type": "execute_result",
     "data": {
      "text/plain": [
       "GridSearchCV(cv=StratifiedKFold(n_splits=5, random_state=0, shuffle=True),\n",
       "             estimator=SVC(random_state=0),\n",
       "             param_grid={'C': [0.5, 1, 10, 100], 'kernel': ('linear', 'rbf')},\n",
       "             scoring='accuracy')"
      ]
     },
     "metadata": {},
     "execution_count": 9
    }
   ],
   "source": [
    "from sklearn.svm import SVC\n",
    "from sklearn.model_selection import StratifiedKFold, GridSearchCV\n",
    "\n",
    "param_grid = {'kernel' : ('linear', 'rbf'),\n",
    "              'C' : [0.5, 1, 10, 100]}\n",
    "kfold = StratifiedKFold(n_splits=5, shuffle=True, random_state=0)\n",
    "svc = SVC(random_state=0)\n",
    "grid_cv = GridSearchCV(svc, param_grid, cv=kfold, scoring='accuracy')\n",
    "grid_cv.fit(X_tn_std, y_tn)"
   ]
  },
  {
   "source": [
    "### 그리드 서치 결과 확인"
   ],
   "cell_type": "markdown",
   "metadata": {}
  },
  {
   "cell_type": "code",
   "execution_count": 11,
   "metadata": {},
   "outputs": [
    {
     "output_type": "execute_result",
     "data": {
      "text/plain": [
       "{'mean_fit_time': array([0.0011991 , 0.00119915, 0.00059786, 0.00100083, 0.00039992,\n",
       "        0.0008019 , 0.00059891, 0.00091014]),\n",
       " 'std_fit_time': array([3.99425417e-04, 3.99764661e-04, 4.88170005e-04, 2.18722247e-06,\n",
       "        4.89805021e-04, 4.00952278e-04, 4.89009769e-04, 1.79103845e-04]),\n",
       " 'mean_score_time': array([0.00040145, 0.0004034 , 0.00019999, 0.00039921, 0.00039997,\n",
       "        0.00039926, 0.0002296 , 0.00060015]),\n",
       " 'std_score_time': array([0.00049167, 0.00049409, 0.00039997, 0.00048893, 0.00048986,\n",
       "        0.00048899, 0.00045919, 0.00049002]),\n",
       " 'param_C': masked_array(data=[0.5, 0.5, 1, 1, 10, 10, 100, 100],\n",
       "              mask=[False, False, False, False, False, False, False, False],\n",
       "        fill_value='?',\n",
       "             dtype=object),\n",
       " 'param_kernel': masked_array(data=['linear', 'rbf', 'linear', 'rbf', 'linear', 'rbf',\n",
       "                    'linear', 'rbf'],\n",
       "              mask=[False, False, False, False, False, False, False, False],\n",
       "        fill_value='?',\n",
       "             dtype=object),\n",
       " 'params': [{'C': 0.5, 'kernel': 'linear'},\n",
       "  {'C': 0.5, 'kernel': 'rbf'},\n",
       "  {'C': 1, 'kernel': 'linear'},\n",
       "  {'C': 1, 'kernel': 'rbf'},\n",
       "  {'C': 10, 'kernel': 'linear'},\n",
       "  {'C': 10, 'kernel': 'rbf'},\n",
       "  {'C': 100, 'kernel': 'linear'},\n",
       "  {'C': 100, 'kernel': 'rbf'}],\n",
       " 'split0_test_score': array([0.88888889, 0.96296296, 0.88888889, 0.92592593, 0.88888889,\n",
       "        0.92592593, 0.88888889, 0.92592593]),\n",
       " 'split1_test_score': array([0.96296296, 1.        , 0.96296296, 0.96296296, 0.96296296,\n",
       "        0.96296296, 0.96296296, 0.96296296]),\n",
       " 'split2_test_score': array([0.92592593, 0.96296296, 0.92592593, 0.96296296, 0.92592593,\n",
       "        0.96296296, 0.92592593, 0.96296296]),\n",
       " 'split3_test_score': array([1.        , 0.96153846, 1.        , 0.96153846, 1.        ,\n",
       "        0.96153846, 1.        , 0.96153846]),\n",
       " 'split4_test_score': array([0.84615385, 1.        , 0.84615385, 1.        , 0.84615385,\n",
       "        1.        , 0.84615385, 1.        ]),\n",
       " 'mean_test_score': array([0.92478632, 0.97749288, 0.92478632, 0.96267806, 0.92478632,\n",
       "        0.96267806, 0.92478632, 0.96267806]),\n",
       " 'std_test_score': array([0.05401397, 0.01838435, 0.05401397, 0.02343121, 0.05401397,\n",
       "        0.02343121, 0.05401397, 0.02343121]),\n",
       " 'rank_test_score': array([5, 1, 5, 2, 5, 2, 5, 2])}"
      ]
     },
     "metadata": {},
     "execution_count": 11
    }
   ],
   "source": [
    "grid_cv.cv_results_"
   ]
  },
  {
   "source": [
    "### 그리드 서치 결과 확인(DataFrame)"
   ],
   "cell_type": "markdown",
   "metadata": {}
  },
  {
   "cell_type": "code",
   "execution_count": 14,
   "metadata": {},
   "outputs": [
    {
     "output_type": "execute_result",
     "data": {
      "text/plain": [
       "                                                0  ...                            7\n",
       "mean_fit_time                            0.001199  ...                      0.00091\n",
       "std_fit_time                             0.000399  ...                     0.000179\n",
       "mean_score_time                          0.000401  ...                       0.0006\n",
       "std_score_time                           0.000492  ...                      0.00049\n",
       "param_C                                       0.5  ...                          100\n",
       "param_kernel                               linear  ...                          rbf\n",
       "params             {'C': 0.5, 'kernel': 'linear'}  ...  {'C': 100, 'kernel': 'rbf'}\n",
       "split0_test_score                        0.888889  ...                     0.925926\n",
       "split1_test_score                        0.962963  ...                     0.962963\n",
       "split2_test_score                        0.925926  ...                     0.962963\n",
       "split3_test_score                             1.0  ...                     0.961538\n",
       "split4_test_score                        0.846154  ...                          1.0\n",
       "mean_test_score                          0.924786  ...                     0.962678\n",
       "std_test_score                           0.054014  ...                     0.023431\n",
       "rank_test_score                                 5  ...                            2\n",
       "\n",
       "[15 rows x 8 columns]"
      ],
      "text/html": "<div>\n<style scoped>\n    .dataframe tbody tr th:only-of-type {\n        vertical-align: middle;\n    }\n\n    .dataframe tbody tr th {\n        vertical-align: top;\n    }\n\n    .dataframe thead th {\n        text-align: right;\n    }\n</style>\n<table border=\"1\" class=\"dataframe\">\n  <thead>\n    <tr style=\"text-align: right;\">\n      <th></th>\n      <th>0</th>\n      <th>1</th>\n      <th>2</th>\n      <th>3</th>\n      <th>4</th>\n      <th>5</th>\n      <th>6</th>\n      <th>7</th>\n    </tr>\n  </thead>\n  <tbody>\n    <tr>\n      <th>mean_fit_time</th>\n      <td>0.001199</td>\n      <td>0.001199</td>\n      <td>0.000598</td>\n      <td>0.001001</td>\n      <td>0.0004</td>\n      <td>0.000802</td>\n      <td>0.000599</td>\n      <td>0.00091</td>\n    </tr>\n    <tr>\n      <th>std_fit_time</th>\n      <td>0.000399</td>\n      <td>0.0004</td>\n      <td>0.000488</td>\n      <td>0.000002</td>\n      <td>0.00049</td>\n      <td>0.000401</td>\n      <td>0.000489</td>\n      <td>0.000179</td>\n    </tr>\n    <tr>\n      <th>mean_score_time</th>\n      <td>0.000401</td>\n      <td>0.000403</td>\n      <td>0.0002</td>\n      <td>0.000399</td>\n      <td>0.0004</td>\n      <td>0.000399</td>\n      <td>0.00023</td>\n      <td>0.0006</td>\n    </tr>\n    <tr>\n      <th>std_score_time</th>\n      <td>0.000492</td>\n      <td>0.000494</td>\n      <td>0.0004</td>\n      <td>0.000489</td>\n      <td>0.00049</td>\n      <td>0.000489</td>\n      <td>0.000459</td>\n      <td>0.00049</td>\n    </tr>\n    <tr>\n      <th>param_C</th>\n      <td>0.5</td>\n      <td>0.5</td>\n      <td>1</td>\n      <td>1</td>\n      <td>10</td>\n      <td>10</td>\n      <td>100</td>\n      <td>100</td>\n    </tr>\n    <tr>\n      <th>param_kernel</th>\n      <td>linear</td>\n      <td>rbf</td>\n      <td>linear</td>\n      <td>rbf</td>\n      <td>linear</td>\n      <td>rbf</td>\n      <td>linear</td>\n      <td>rbf</td>\n    </tr>\n    <tr>\n      <th>params</th>\n      <td>{'C': 0.5, 'kernel': 'linear'}</td>\n      <td>{'C': 0.5, 'kernel': 'rbf'}</td>\n      <td>{'C': 1, 'kernel': 'linear'}</td>\n      <td>{'C': 1, 'kernel': 'rbf'}</td>\n      <td>{'C': 10, 'kernel': 'linear'}</td>\n      <td>{'C': 10, 'kernel': 'rbf'}</td>\n      <td>{'C': 100, 'kernel': 'linear'}</td>\n      <td>{'C': 100, 'kernel': 'rbf'}</td>\n    </tr>\n    <tr>\n      <th>split0_test_score</th>\n      <td>0.888889</td>\n      <td>0.962963</td>\n      <td>0.888889</td>\n      <td>0.925926</td>\n      <td>0.888889</td>\n      <td>0.925926</td>\n      <td>0.888889</td>\n      <td>0.925926</td>\n    </tr>\n    <tr>\n      <th>split1_test_score</th>\n      <td>0.962963</td>\n      <td>1.0</td>\n      <td>0.962963</td>\n      <td>0.962963</td>\n      <td>0.962963</td>\n      <td>0.962963</td>\n      <td>0.962963</td>\n      <td>0.962963</td>\n    </tr>\n    <tr>\n      <th>split2_test_score</th>\n      <td>0.925926</td>\n      <td>0.962963</td>\n      <td>0.925926</td>\n      <td>0.962963</td>\n      <td>0.925926</td>\n      <td>0.962963</td>\n      <td>0.925926</td>\n      <td>0.962963</td>\n    </tr>\n    <tr>\n      <th>split3_test_score</th>\n      <td>1.0</td>\n      <td>0.961538</td>\n      <td>1.0</td>\n      <td>0.961538</td>\n      <td>1.0</td>\n      <td>0.961538</td>\n      <td>1.0</td>\n      <td>0.961538</td>\n    </tr>\n    <tr>\n      <th>split4_test_score</th>\n      <td>0.846154</td>\n      <td>1.0</td>\n      <td>0.846154</td>\n      <td>1.0</td>\n      <td>0.846154</td>\n      <td>1.0</td>\n      <td>0.846154</td>\n      <td>1.0</td>\n    </tr>\n    <tr>\n      <th>mean_test_score</th>\n      <td>0.924786</td>\n      <td>0.977493</td>\n      <td>0.924786</td>\n      <td>0.962678</td>\n      <td>0.924786</td>\n      <td>0.962678</td>\n      <td>0.924786</td>\n      <td>0.962678</td>\n    </tr>\n    <tr>\n      <th>std_test_score</th>\n      <td>0.054014</td>\n      <td>0.018384</td>\n      <td>0.054014</td>\n      <td>0.023431</td>\n      <td>0.054014</td>\n      <td>0.023431</td>\n      <td>0.054014</td>\n      <td>0.023431</td>\n    </tr>\n    <tr>\n      <th>rank_test_score</th>\n      <td>5</td>\n      <td>1</td>\n      <td>5</td>\n      <td>2</td>\n      <td>5</td>\n      <td>2</td>\n      <td>5</td>\n      <td>2</td>\n    </tr>\n  </tbody>\n</table>\n</div>"
     },
     "metadata": {},
     "execution_count": 14
    }
   ],
   "source": [
    "import numpy as np\n",
    "import pandas as pd\n",
    "np.transpose(pd.DataFrame(grid_cv.cv_results_))"
   ]
  },
  {
   "source": [
    "### 베스트 스코어 & 하이퍼파라미터"
   ],
   "cell_type": "markdown",
   "metadata": {}
  },
  {
   "cell_type": "code",
   "execution_count": 21,
   "metadata": {},
   "outputs": [
    {
     "output_type": "execute_result",
     "data": {
      "text/plain": [
       "0.9774928774928775"
      ]
     },
     "metadata": {},
     "execution_count": 21
    }
   ],
   "source": [
    "grid_cv.best_score_"
   ]
  },
  {
   "cell_type": "code",
   "execution_count": 17,
   "metadata": {},
   "outputs": [
    {
     "output_type": "execute_result",
     "data": {
      "text/plain": [
       "{'C': 0.5, 'kernel': 'rbf'}"
      ]
     },
     "metadata": {},
     "execution_count": 17
    }
   ],
   "source": [
    "grid_cv.best_params_"
   ]
  },
  {
   "source": [
    "### 최종 모형"
   ],
   "cell_type": "markdown",
   "metadata": {}
  },
  {
   "cell_type": "code",
   "execution_count": 22,
   "metadata": {},
   "outputs": [],
   "source": [
    "clf = grid_cv.best_estimator_"
   ]
  },
  {
   "cell_type": "code",
   "execution_count": 23,
   "metadata": {},
   "outputs": [
    {
     "output_type": "execute_result",
     "data": {
      "text/plain": [
       "SVC(C=0.5, random_state=0)"
      ]
     },
     "metadata": {},
     "execution_count": 23
    }
   ],
   "source": [
    "clf"
   ]
  },
  {
   "source": [
    "### 크로스 밸리데이션 스코어 확인(1)"
   ],
   "cell_type": "markdown",
   "metadata": {}
  },
  {
   "cell_type": "code",
   "execution_count": 24,
   "metadata": {},
   "outputs": [
    {
     "output_type": "execute_result",
     "data": {
      "text/plain": [
       "{'fit_time': array([0.00200033, 0.00094652, 0.00099635, 0.00099754, 0.00100589]),\n",
       " 'score_time': array([0.00205231, 0.00200367, 0.0019989 , 0.00200248, 0.00100017]),\n",
       " 'test_accuracy': array([0.96296296, 1.        , 0.96296296, 0.96153846, 1.        ]),\n",
       " 'test_precision_macro': array([0.96296296, 1.        , 0.96969697, 0.96969697, 1.        ]),\n",
       " 'test_recall_macro': array([0.96666667, 1.        , 0.96296296, 0.95833333, 1.        ]),\n",
       " 'test_f1_macro': array([0.9628483 , 1.        , 0.96451914, 0.96190476, 1.        ])}"
      ]
     },
     "metadata": {},
     "execution_count": 24
    }
   ],
   "source": [
    "from sklearn.model_selection import cross_validate\n",
    "metrics = ['accuracy', 'precision_macro', 'recall_macro', 'f1_macro']\n",
    "cv_scores = cross_validate(clf, X_tn_std, y_tn, cv=kfold, scoring=metrics)\n",
    "cv_scores"
   ]
  },
  {
   "source": [
    "### 크로스 벨리데이션 스코어 확인(2)"
   ],
   "cell_type": "markdown",
   "metadata": {}
  },
  {
   "cell_type": "code",
   "execution_count": 25,
   "metadata": {},
   "outputs": [
    {
     "output_type": "execute_result",
     "data": {
      "text/plain": [
       "array([0.96296296, 1.        , 0.96296296, 0.96153846, 1.        ])"
      ]
     },
     "metadata": {},
     "execution_count": 25
    }
   ],
   "source": [
    "from sklearn.model_selection import cross_val_score\n",
    "cv_score = cross_val_score(clf, X_tn_std, y_tn, cv=kfold, scoring='accuracy')\n",
    "cv_score"
   ]
  },
  {
   "cell_type": "code",
   "execution_count": 26,
   "metadata": {},
   "outputs": [
    {
     "output_type": "execute_result",
     "data": {
      "text/plain": [
       "0.9774928774928775"
      ]
     },
     "metadata": {},
     "execution_count": 26
    }
   ],
   "source": [
    "cv_score.mean()"
   ]
  },
  {
   "cell_type": "code",
   "execution_count": 27,
   "metadata": {},
   "outputs": [
    {
     "output_type": "execute_result",
     "data": {
      "text/plain": [
       "0.01838434849561446"
      ]
     },
     "metadata": {},
     "execution_count": 27
    }
   ],
   "source": [
    "cv_score.std()"
   ]
  },
  {
   "source": [
    "### 예측"
   ],
   "cell_type": "markdown",
   "metadata": {}
  },
  {
   "cell_type": "code",
   "execution_count": 29,
   "metadata": {},
   "outputs": [
    {
     "output_type": "execute_result",
     "data": {
      "text/plain": [
       "array([0, 2, 1, 0, 1, 1, 0, 2, 1, 1, 2, 2, 0, 1, 2, 1, 0, 0, 1, 0, 1, 0,\n",
       "       0, 1, 1, 1, 1, 1, 1, 2, 0, 0, 1, 0, 0, 0, 2, 1, 1, 2, 0, 0, 1, 1,\n",
       "       1])"
      ]
     },
     "metadata": {},
     "execution_count": 29
    }
   ],
   "source": [
    "pred_svm = clf.predict(X_te_std)\n",
    "pred_svm"
   ]
  },
  {
   "source": [
    "### 정확도"
   ],
   "cell_type": "markdown",
   "metadata": {}
  },
  {
   "cell_type": "code",
   "execution_count": 31,
   "metadata": {},
   "outputs": [
    {
     "output_type": "execute_result",
     "data": {
      "text/plain": [
       "1.0"
      ]
     },
     "metadata": {},
     "execution_count": 31
    }
   ],
   "source": [
    "from sklearn.metrics import accuracy_score\n",
    "accuracy = accuracy_score(y_te, pred_svm)\n",
    "accuracy"
   ]
  },
  {
   "source": [
    "### Confusion Matrix"
   ],
   "cell_type": "markdown",
   "metadata": {}
  },
  {
   "cell_type": "code",
   "execution_count": 33,
   "metadata": {},
   "outputs": [
    {
     "output_type": "execute_result",
     "data": {
      "text/plain": [
       "array([[16,  0,  0],\n",
       "       [ 0, 21,  0],\n",
       "       [ 0,  0,  8]], dtype=int64)"
      ]
     },
     "metadata": {},
     "execution_count": 33
    }
   ],
   "source": [
    "from sklearn.metrics import confusion_matrix\n",
    "conf_mat = confusion_matrix(y_te, pred_svm)\n",
    "conf_mat"
   ]
  },
  {
   "source": [
    "### Classification Report"
   ],
   "cell_type": "markdown",
   "metadata": {}
  },
  {
   "cell_type": "code",
   "execution_count": 35,
   "metadata": {},
   "outputs": [
    {
     "output_type": "stream",
     "name": "stdout",
     "text": [
      "              precision    recall  f1-score   support\n\n           0       1.00      1.00      1.00        16\n           1       1.00      1.00      1.00        21\n           2       1.00      1.00      1.00         8\n\n    accuracy                           1.00        45\n   macro avg       1.00      1.00      1.00        45\nweighted avg       1.00      1.00      1.00        45\n\n"
     ]
    }
   ],
   "source": [
    "from sklearn.metrics import classification_report\n",
    "class_report = classification_report(y_te, pred_svm)\n",
    "print(class_report)"
   ]
  },
  {
   "cell_type": "code",
   "execution_count": null,
   "metadata": {},
   "outputs": [],
   "source": []
  }
 ]
}