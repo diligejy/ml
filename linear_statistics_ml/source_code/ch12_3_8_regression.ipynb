{
 "cells": [
  {
   "cell_type": "code",
   "execution_count": 2,
   "source": [
    "# 랜덤 시드 설정\r\n",
    "import numpy as np\r\n",
    "import tensorflow as tf\r\n",
    "np.random.seed(0)\r\n",
    "tf.random.set_seed(0)"
   ],
   "outputs": [],
   "metadata": {}
  },
  {
   "cell_type": "code",
   "execution_count": 3,
   "source": [
    "from sklearn.datasets import load_boston\r\n",
    "raw_boston = load_boston()"
   ],
   "outputs": [],
   "metadata": {}
  },
  {
   "cell_type": "code",
   "execution_count": 4,
   "source": [
    "X = raw_boston.data\r\n",
    "y = raw_boston.target"
   ],
   "outputs": [],
   "metadata": {}
  },
  {
   "cell_type": "code",
   "execution_count": 5,
   "source": [
    "X.shape"
   ],
   "outputs": [
    {
     "output_type": "execute_result",
     "data": {
      "text/plain": [
       "(506, 13)"
      ]
     },
     "metadata": {},
     "execution_count": 5
    }
   ],
   "metadata": {}
  },
  {
   "cell_type": "code",
   "execution_count": 6,
   "source": [
    "print(set(y))"
   ],
   "outputs": [
    {
     "output_type": "stream",
     "name": "stdout",
     "text": [
      "{5.0, 6.3, 7.2, 8.8, 7.4, 10.2, 11.8, 12.7, 13.6, 14.5, 15.0, 16.5, 17.5, 18.9, 18.2, 20.4, 21.6, 22.9, 21.7, 24.0, 19.9, 26.6, 26.5, 27.5, 23.1, 27.1, 28.7, 24.7, 30.8, 33.4, 34.7, 34.9, 36.2, 35.4, 31.6, 33.0, 38.7, 33.2, 43.8, 41.3, 37.2, 39.8, 42.3, 48.5, 44.8, 50.0, 46.7, 48.3, 44.0, 48.8, 46.0, 10.5, 11.5, 11.0, 12.5, 12.0, 13.5, 13.0, 14.0, 16.6, 16.0, 16.1, 16.4, 17.4, 17.1, 17.0, 17.6, 17.9, 18.4, 18.6, 18.5, 18.0, 18.1, 19.6, 19.4, 19.5, 19.1, 19.0, 20.0, 20.5, 20.9, 20.6, 20.1, 21.0, 21.4, 21.5, 21.9, 21.1, 22.0, 22.5, 22.6, 22.4, 22.1, 23.4, 23.5, 23.9, 23.6, 23.0, 24.1, 24.6, 24.4, 24.5, 25.0, 25.1, 26.4, 27.0, 27.9, 28.0, 28.4, 28.1, 28.5, 28.6, 29.4, 29.9, 29.6, 29.1, 29.0, 30.5, 30.1, 31.1, 31.5, 31.0, 32.5, 32.0, 32.9, 32.4, 32.2, 33.3, 33.8, 33.1, 32.7, 8.4, 34.6, 35.2, 35.1, 10.4, 10.9, 7.0, 36.4, 36.0, 36.5, 36.1, 11.9, 37.9, 37.0, 37.6, 37.3, 13.9, 13.4, 14.4, 14.9, 15.4, 8.5, 41.7, 42.8, 43.1, 43.5, 45.4, 9.5, 8.3, 8.7, 9.7, 10.8, 11.3, 11.7, 12.3, 12.8, 13.2, 13.3, 13.8, 14.8, 14.3, 14.2, 15.2, 15.7, 15.3, 16.2, 16.8, 16.3, 16.7, 17.3, 17.8, 17.2, 17.7, 18.7, 18.8, 18.3, 19.3, 19.7, 19.8, 19.2, 20.2, 20.8, 20.3, 20.7, 21.2, 21.8, 22.2, 22.8, 22.7, 22.3, 23.3, 23.8, 23.2, 23.7, 24.8, 24.2, 24.3, 25.3, 25.2, 26.7, 26.2, 7.5, 28.2, 29.8, 30.3, 30.7, 5.6, 31.7, 31.2, 8.1, 9.6, 12.1, 12.6, 13.1, 14.6, 14.1, 15.6, 15.1}\n"
     ]
    }
   ],
   "metadata": {}
  },
  {
   "cell_type": "code",
   "execution_count": 8,
   "source": [
    "from sklearn.model_selection import train_test_split\r\n",
    "X_tn, X_te, y_tn, y_te = train_test_split(X, y, random_state=0)"
   ],
   "outputs": [],
   "metadata": {}
  },
  {
   "cell_type": "code",
   "execution_count": 10,
   "source": [
    "from tensorflow.keras.models import Sequential\r\n",
    "from tensorflow.keras.layers import Dense\r\n",
    "\r\n",
    "n_feat = X_tn.shape[1]\r\n",
    "epo = 30\r\n",
    "\r\n",
    "model = Sequential()\r\n",
    "model.add(Dense(20, input_dim=n_feat, activation='relu'))\r\n",
    "model.add(Dense(1))\r\n"
   ],
   "outputs": [],
   "metadata": {}
  },
  {
   "cell_type": "code",
   "execution_count": 14,
   "source": [
    "model.compile(loss='mean_squared_error',\r\n",
    "              optimizer='adam',\r\n",
    "              metrics=['mean_squared_error'])"
   ],
   "outputs": [],
   "metadata": {}
  },
  {
   "cell_type": "code",
   "execution_count": 15,
   "source": [
    "hist = model.fit(X_tn, y_tn, epochs=epo, batch_size=5)"
   ],
   "outputs": [
    {
     "output_type": "stream",
     "name": "stdout",
     "text": [
      "Train on 379 samples\n",
      "Epoch 1/30\n",
      "379/379 [==============================] - 0s 1ms/sample - loss: 479.8058 - mean_squared_error: 479.8058\n",
      "Epoch 2/30\n",
      "379/379 [==============================] - 0s 187us/sample - loss: 96.0528 - mean_squared_error: 96.0528\n",
      "Epoch 3/30\n",
      "379/379 [==============================] - 0s 195us/sample - loss: 86.8360 - mean_squared_error: 86.8360\n",
      "Epoch 4/30\n",
      "379/379 [==============================] - 0s 190us/sample - loss: 67.8890 - mean_squared_error: 67.8890\n",
      "Epoch 5/30\n",
      "379/379 [==============================] - 0s 187us/sample - loss: 59.9239 - mean_squared_error: 59.9239\n",
      "Epoch 6/30\n",
      "379/379 [==============================] - 0s 195us/sample - loss: 54.8727 - mean_squared_error: 54.8727\n",
      "Epoch 7/30\n",
      "379/379 [==============================] - 0s 201us/sample - loss: 50.7333 - mean_squared_error: 50.7333\n",
      "Epoch 8/30\n",
      "379/379 [==============================] - 0s 203us/sample - loss: 46.8916 - mean_squared_error: 46.8916\n",
      "Epoch 9/30\n",
      "379/379 [==============================] - 0s 204us/sample - loss: 47.9132 - mean_squared_error: 47.9132\n",
      "Epoch 10/30\n",
      "379/379 [==============================] - 0s 200us/sample - loss: 42.5450 - mean_squared_error: 42.5450\n",
      "Epoch 11/30\n",
      "379/379 [==============================] - 0s 201us/sample - loss: 46.0313 - mean_squared_error: 46.0314\n",
      "Epoch 12/30\n",
      "379/379 [==============================] - 0s 195us/sample - loss: 38.9554 - mean_squared_error: 38.9554\n",
      "Epoch 13/30\n",
      "379/379 [==============================] - 0s 190us/sample - loss: 36.9249 - mean_squared_error: 36.9249\n",
      "Epoch 14/30\n",
      "379/379 [==============================] - 0s 197us/sample - loss: 35.1518 - mean_squared_error: 35.1518\n",
      "Epoch 15/30\n",
      "379/379 [==============================] - 0s 198us/sample - loss: 35.9116 - mean_squared_error: 35.9116\n",
      "Epoch 16/30\n",
      "379/379 [==============================] - 0s 219us/sample - loss: 34.0524 - mean_squared_error: 34.0524\n",
      "Epoch 17/30\n",
      "379/379 [==============================] - 0s 187us/sample - loss: 37.5056 - mean_squared_error: 37.5056\n",
      "Epoch 18/30\n",
      "379/379 [==============================] - 0s 193us/sample - loss: 34.2320 - mean_squared_error: 34.2320\n",
      "Epoch 19/30\n",
      "379/379 [==============================] - 0s 198us/sample - loss: 35.7681 - mean_squared_error: 35.7681\n",
      "Epoch 20/30\n",
      "379/379 [==============================] - 0s 195us/sample - loss: 33.8966 - mean_squared_error: 33.8966\n",
      "Epoch 21/30\n",
      "379/379 [==============================] - 0s 199us/sample - loss: 36.5299 - mean_squared_error: 36.5299\n",
      "Epoch 22/30\n",
      "379/379 [==============================] - 0s 193us/sample - loss: 35.1290 - mean_squared_error: 35.1290\n",
      "Epoch 23/30\n",
      "379/379 [==============================] - 0s 190us/sample - loss: 35.6675 - mean_squared_error: 35.6675\n",
      "Epoch 24/30\n",
      "379/379 [==============================] - 0s 188us/sample - loss: 33.1912 - mean_squared_error: 33.1912\n",
      "Epoch 25/30\n",
      "379/379 [==============================] - 0s 193us/sample - loss: 35.4643 - mean_squared_error: 35.4643\n",
      "Epoch 26/30\n",
      "379/379 [==============================] - 0s 196us/sample - loss: 33.6818 - mean_squared_error: 33.6818\n",
      "Epoch 27/30\n",
      "379/379 [==============================] - 0s 196us/sample - loss: 31.9191 - mean_squared_error: 31.9191\n",
      "Epoch 28/30\n",
      "379/379 [==============================] - 0s 203us/sample - loss: 33.4358 - mean_squared_error: 33.4358\n",
      "Epoch 29/30\n",
      "379/379 [==============================] - 0s 196us/sample - loss: 32.6290 - mean_squared_error: 32.6290\n",
      "Epoch 30/30\n",
      "379/379 [==============================] - 0s 195us/sample - loss: 33.5811 - mean_squared_error: 33.5811\n"
     ]
    }
   ],
   "metadata": {}
  },
  {
   "cell_type": "code",
   "execution_count": 16,
   "source": [
    "print(model.evaluate(X_tn, y_tn)[1])"
   ],
   "outputs": [
    {
     "output_type": "stream",
     "name": "stdout",
     "text": [
      "379/1 [==========================================================================================================================================================================================================================================================================================================================================================================================================================================================================================================================================================================================================================================================================================================================================================================================================================================================================================================================================================================================================================================================================================================================================================================================================================================================================================================================================================================================================================================================================================================================================================================================================================================================================================================================================================================================================================================================================================================================================================================================================================================================================================================================================================================================================================================================================================================================================================================================================================================================================================================================================================================================================================================================================================================================================================================================================================================================================================================================================================================================================================================================================================================================================================================================================================================================================================================================================================================================================================================================================================================================================================================================================================================================================================================================================================================================================================================================================================================================================================================================================================================================================================================================================================================================================================================================================================================================================================================================================================================================================================================================================================================================================================================================================================================================================================================================================================================================================================================================================================================================================================================================================================================================================================================================================================================================================================================================================================================================================================================================================================================================================================================================================================================================================================================================================================================================================================================================================================================================================================================================================================================================================================================================================================================================================================================================================================================================================================================================================================================================================================================================================================================================================================================================================================================================================================================================================================================================================================================================================================================================================================================================================================================================================================================================================================================================================================================================================================================================================================================================================================================================================================================================================================================================================================================================================================================================================================================================================================================================================================================================================================================================================================================================================================================================================================================================================================================================================================================================================================================================================================================================================================================================================================================================================================================================================================================================================================================================================================================================================================================================================================================================================================================================================================================================================================================================================================================================================================================================================================================================================================================================================================================================================================================================================================================================================================================================================================================================================================================================================================================================================================================================================================================================================================================================================================================================================================================================================================================================================================================================================================================================================================================================================================================================================================================================================================================================================================================================================================================================================================================================================================================================================================================================================================================================================================================================================================================================================================================================================================================================================================================================================================================================================================================================================================================================================================================================================================================] - 0s 135us/sample - loss: 27.0572 - mean_squared_error: 31.3567\n",
      "31.35671\n"
     ]
    }
   ],
   "metadata": {}
  },
  {
   "cell_type": "code",
   "execution_count": 17,
   "source": [
    "print(model.evaluate(X_te, y_te)[1])"
   ],
   "outputs": [
    {
     "output_type": "stream",
     "name": "stdout",
     "text": [
      "127/1 [==================================================================================================================================================================================================================================================================================================================================================================================================================================================================================================================================================================================================================================================================================================================================================================================================================================================================================================================================================================================================================================================================================================================================================================================================================================================================================================================================================================================================================================================================================================================================================================================================================================================================================================================================================================================================================================================================================================================================================================================================================================================================================================================================================================================================================================================================================================================================================================================================================================================================================================================================================================================================================================================================================================================================================================================================================================================================================================================================================================================================================================================================================================================================================================================================================================================================================================================================================================================================================================================================================================================================================================================================================================================================================================================================================================================================================================================================================================================================================================] - 0s 39us/sample - loss: 39.3466 - mean_squared_error: 46.8209\n",
      "46.820866\n"
     ]
    }
   ],
   "metadata": {}
  },
  {
   "cell_type": "code",
   "execution_count": 20,
   "source": [
    "import numpy as np\r\n",
    "epoch = np.arange(1, epo+1)\r\n",
    "print(epoch)\r\n",
    "mse = hist.history['mean_squared_error']\r\n",
    "print(mse)\r\n",
    "loss = hist.history['loss']\r\n",
    "print(loss)"
   ],
   "outputs": [
    {
     "output_type": "stream",
     "name": "stdout",
     "text": [
      "[ 1  2  3  4  5  6  7  8  9 10 11 12 13 14 15 16 17 18 19 20 21 22 23 24\n",
      " 25 26 27 28 29 30]\n",
      "[479.80582, 96.05276, 86.83602, 67.889046, 59.923912, 54.87275, 50.733337, 46.891636, 47.91318, 42.545, 46.031353, 38.95539, 36.92491, 35.151775, 35.911552, 34.05241, 37.505554, 34.23204, 35.768074, 33.896633, 36.529926, 35.129044, 35.667465, 33.191166, 35.46431, 33.681778, 31.91907, 33.43578, 32.628975, 33.581142]\n",
      "[479.8057867266572, 96.05276463843272, 86.83602490211226, 67.88903902640129, 59.923903550824896, 54.8727391778951, 50.73334106606355, 46.891627373355675, 47.91318535238583, 42.54499501508899, 46.03134514348174, 38.95539415826269, 36.924916868788586, 35.15176821006634, 35.91155321931461, 34.05241524386846, 37.50555653307872, 34.232041703679634, 35.768075086196056, 33.8966295643658, 36.52993397976918, 35.129041377975945, 35.667474817160254, 33.19116497039795, 35.464309666905365, 33.68178024644273, 31.919067688541865, 33.43578045483, 32.62898172615071, 33.58114480154495]\n"
     ]
    }
   ],
   "metadata": {}
  },
  {
   "cell_type": "code",
   "execution_count": 21,
   "source": [
    "import matplotlib.pyplot as plt\r\n",
    "plt.plot(epoch, mse, label='mse')\r\n",
    "plt.xlabel('epoch')\r\n",
    "plt.ylabel('mean_squared_error')\r\n",
    "plt.legend()\r\n",
    "plt.show()"
   ],
   "outputs": [
    {
     "output_type": "display_data",
     "data": {
      "text/plain": [
       "<Figure size 432x288 with 1 Axes>"
      ],
      "image/png": "[encoded data removed]"
     },
     "metadata": {
      "needs_background": "light"
     }
    }
   ],
   "metadata": {}
  },
  {
   "cell_type": "code",
   "execution_count": 22,
   "source": [
    "plt.plot(epoch, loss, label='loss')\r\n",
    "plt.xlabel('epoch')\r\n",
    "plt.ylabel('loss')\r\n",
    "plt.legend()\r\n",
    "plt.show()"
   ],
   "outputs": [
    {
     "output_type": "display_data",
     "data": {
      "text/plain": [
       "<Figure size 432x288 with 1 Axes>"
      ],
      "image/png": "[encoded data removed]"
     },
     "metadata": {
      "needs_background": "light"
     }
    }
   ],
   "metadata": {}
  },
  {
   "cell_type": "code",
   "execution_count": 23,
   "source": [
    "# 실제값, 예측값 데이터 프레임 생성\r\n",
    "pred_y = model.predict(X_te).flatten()\r\n",
    "print(pred_y)"
   ],
   "outputs": [
    {
     "output_type": "stream",
     "name": "stdout",
     "text": [
      "[18.38285   21.89035   29.210144  12.31471   18.406876  23.43113\n",
      " 15.859553  24.914833  16.14189    9.294703   6.7170844 11.368489\n",
      " 14.627825   6.7244864 36.67672   27.281342  17.973854  34.286503\n",
      " 27.691458  24.287607  25.912422  20.210985  19.433897  30.029926\n",
      " 23.936989  13.367842  20.504671  13.566304  31.311975  18.66539\n",
      " 14.933167  17.152193  21.314713  23.94491   27.90719   17.056578\n",
      "  8.352997  21.032225   8.759735  10.108031  25.13804   21.402205\n",
      " 16.385046  13.820687  20.497759  26.675518  19.269655  17.562706\n",
      " 11.200679  23.877779   9.191823  14.153742  22.068829  26.003195\n",
      " 10.400249  18.739088  21.041767  13.189086  16.5994    21.043015\n",
      " 20.823236  21.80747   28.818846  27.226255  13.310875  28.460655\n",
      " 15.756392  17.360317  11.365138  23.319937  19.143547  20.967897\n",
      " 31.664627  28.251463  21.217918   2.907962  30.178116  23.352232\n",
      " 25.981245  19.857769  26.331217  20.775394  18.789404  31.618547\n",
      " 31.32097   24.926344  23.204046   6.528116  27.674707  13.214605\n",
      " 14.547623   6.7673626 28.346586  30.053265  27.620892  21.26929\n",
      "  1.1215938 29.73937    9.850491  21.474184  23.00072   22.450094\n",
      " 28.501446  19.9528    24.293608  23.644712   1.3887584 15.924352\n",
      " 26.53593   24.522469  29.791765   8.892003  19.250143  13.172609\n",
      "  8.48787   20.094091  -2.0275586 22.528952   9.651937  44.606277\n",
      " 27.970514  11.78172   18.671623  21.055231  25.749622  20.292906\n",
      " 33.706566 ]\n"
     ]
    }
   ],
   "metadata": {}
  },
  {
   "cell_type": "code",
   "execution_count": 25,
   "source": [
    "import pandas as pd\r\n",
    "res_df = pd.DataFrame(pred_y, columns=['predict_val'])\r\n",
    "res_df['real_val'] = y_te\r\n",
    "res_df.head(3)"
   ],
   "outputs": [
    {
     "output_type": "execute_result",
     "data": {
      "text/plain": [
       "   predict_val  real_val\n",
       "0    18.382851      22.6\n",
       "1    21.890350      50.0\n",
       "2    29.210144      23.0"
      ],
      "text/html": [
       "<div>\n",
       "<style scoped>\n",
       "    .dataframe tbody tr th:only-of-type {\n",
       "        vertical-align: middle;\n",
       "    }\n",
       "\n",
       "    .dataframe tbody tr th {\n",
       "        vertical-align: top;\n",
       "    }\n",
       "\n",
       "    .dataframe thead th {\n",
       "        text-align: right;\n",
       "    }\n",
       "</style>\n",
       "<table border=\"1\" class=\"dataframe\">\n",
       "  <thead>\n",
       "    <tr style=\"text-align: right;\">\n",
       "      <th></th>\n",
       "      <th>predict_val</th>\n",
       "      <th>real_val</th>\n",
       "    </tr>\n",
       "  </thead>\n",
       "  <tbody>\n",
       "    <tr>\n",
       "      <th>0</th>\n",
       "      <td>18.382851</td>\n",
       "      <td>22.6</td>\n",
       "    </tr>\n",
       "    <tr>\n",
       "      <th>1</th>\n",
       "      <td>21.890350</td>\n",
       "      <td>50.0</td>\n",
       "    </tr>\n",
       "    <tr>\n",
       "      <th>2</th>\n",
       "      <td>29.210144</td>\n",
       "      <td>23.0</td>\n",
       "    </tr>\n",
       "  </tbody>\n",
       "</table>\n",
       "</div>"
      ]
     },
     "metadata": {},
     "execution_count": 25
    }
   ],
   "metadata": {}
  },
  {
   "cell_type": "code",
   "execution_count": 26,
   "source": [
    "df_sort = res_df.sort_values(by='predict_val', ascending=True)"
   ],
   "outputs": [],
   "metadata": {}
  },
  {
   "cell_type": "code",
   "execution_count": 27,
   "source": [
    "df_sort.head(3)"
   ],
   "outputs": [
    {
     "output_type": "execute_result",
     "data": {
      "text/plain": [
       "     predict_val  real_val\n",
       "116    -2.027559       8.4\n",
       "96      1.121594      13.8\n",
       "106     1.388758      10.4"
      ],
      "text/html": [
       "<div>\n",
       "<style scoped>\n",
       "    .dataframe tbody tr th:only-of-type {\n",
       "        vertical-align: middle;\n",
       "    }\n",
       "\n",
       "    .dataframe tbody tr th {\n",
       "        vertical-align: top;\n",
       "    }\n",
       "\n",
       "    .dataframe thead th {\n",
       "        text-align: right;\n",
       "    }\n",
       "</style>\n",
       "<table border=\"1\" class=\"dataframe\">\n",
       "  <thead>\n",
       "    <tr style=\"text-align: right;\">\n",
       "      <th></th>\n",
       "      <th>predict_val</th>\n",
       "      <th>real_val</th>\n",
       "    </tr>\n",
       "  </thead>\n",
       "  <tbody>\n",
       "    <tr>\n",
       "      <th>116</th>\n",
       "      <td>-2.027559</td>\n",
       "      <td>8.4</td>\n",
       "    </tr>\n",
       "    <tr>\n",
       "      <th>96</th>\n",
       "      <td>1.121594</td>\n",
       "      <td>13.8</td>\n",
       "    </tr>\n",
       "    <tr>\n",
       "      <th>106</th>\n",
       "      <td>1.388758</td>\n",
       "      <td>10.4</td>\n",
       "    </tr>\n",
       "  </tbody>\n",
       "</table>\n",
       "</div>"
      ]
     },
     "metadata": {},
     "execution_count": 27
    }
   ],
   "metadata": {}
  },
  {
   "cell_type": "code",
   "execution_count": 28,
   "source": [
    "# 예측값, 실제값 그래프\r\n",
    "idx = np.arange(1, len(df_sort)+1)\r\n",
    "plt.scatter(idx, df_sort['real_val'], marker='o', label='real_val')\r\n",
    "plt.plot(idx, df_sort['predict_val'], color='r', label='predict_val')\r\n",
    "plt.xlabel('index')\r\n",
    "plt.ylabel('value')\r\n",
    "plt.legend()\r\n",
    "plt.show()"
   ],
   "outputs": [
    {
     "output_type": "display_data",
     "data": {
      "text/plain": [
       "<Figure size 432x288 with 1 Axes>"
      ],
      "image/png": "[encoded data removed]"
     },
     "metadata": {
      "needs_background": "light"
     }
    }
   ],
   "metadata": {}
  },
  {
   "cell_type": "code",
   "execution_count": null,
   "source": [],
   "outputs": [],
   "metadata": {}
  }
 ],
 "metadata": {
  "orig_nbformat": 4,
  "language_info": {
   "name": "python",
   "version": "3.7.6",
   "mimetype": "text/x-python",
   "codemirror_mode": {
    "name": "ipython",
    "version": 3
   },
   "pygments_lexer": "ipython3",
   "nbconvert_exporter": "python",
   "file_extension": ".py"
  },
  "kernelspec": {
   "name": "python3",
   "display_name": "Python 3.7.6 64-bit ('py3_7_6': conda)"
  },
  "interpreter": {
   "hash": "0c27090090f508e4883836458afaa8253b2ac5af7b12b60af14ac7c2616a5b0c"
  }
 },
 "nbformat": 4,
 "nbformat_minor": 2
}