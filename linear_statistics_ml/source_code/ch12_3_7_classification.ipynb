{
 "cells": [
  {
   "cell_type": "code",
   "execution_count": 38,
   "source": [
    "# 랜덤 시드 설정\r\n",
    "import numpy as np\r\n",
    "import tensorflow as tf\r\n",
    "np.random.seed(0)\r\n",
    "tf.random.set_seed(0)"
   ],
   "outputs": [],
   "metadata": {}
  },
  {
   "cell_type": "code",
   "execution_count": 39,
   "source": [
    "from sklearn.datasets import load_wine\r\n",
    "raw_wine = load_wine()"
   ],
   "outputs": [],
   "metadata": {}
  },
  {
   "cell_type": "code",
   "execution_count": 40,
   "source": [
    "X = raw_wine.data\r\n",
    "y = raw_wine.target"
   ],
   "outputs": [],
   "metadata": {}
  },
  {
   "cell_type": "code",
   "execution_count": 41,
   "source": [
    "X.shape"
   ],
   "outputs": [
    {
     "output_type": "execute_result",
     "data": {
      "text/plain": [
       "(178, 13)"
      ]
     },
     "metadata": {},
     "execution_count": 41
    }
   ],
   "metadata": {}
  },
  {
   "cell_type": "code",
   "execution_count": 20,
   "source": [
    "set(y)"
   ],
   "outputs": [
    {
     "output_type": "execute_result",
     "data": {
      "text/plain": [
       "{0, 1, 2}"
      ]
     },
     "metadata": {},
     "execution_count": 20
    }
   ],
   "metadata": {}
  },
  {
   "cell_type": "markdown",
   "source": [
    "## 타깃 데이터 원 핫 인코딩"
   ],
   "metadata": {}
  },
  {
   "cell_type": "code",
   "execution_count": 21,
   "source": [
    "from tensorflow.keras.utils import to_categorical\r\n",
    "y_hot = to_categorical(y)"
   ],
   "outputs": [],
   "metadata": {}
  },
  {
   "cell_type": "code",
   "execution_count": 22,
   "source": [
    "from sklearn.model_selection import train_test_split\r\n",
    "X_tn, X_te, y_tn, y_te = train_test_split(X, y_hot, random_state=0)"
   ],
   "outputs": [],
   "metadata": {}
  },
  {
   "cell_type": "code",
   "execution_count": 25,
   "source": [
    "from tensorflow.keras.models import Sequential\r\n",
    "from tensorflow.keras.layers import Dense, BatchNormalization, Activation\r\n",
    "\r\n",
    "n_feat = X_tn.shape[1]\r\n",
    "n_class = len(set(y))\r\n",
    "epo = 30\r\n",
    "\r\n",
    "model = Sequential()\r\n",
    "model.add(Dense(20, input_dim=n_feat))\r\n",
    "model.add(BatchNormalization())\r\n",
    "model.add(Activation('relu'))\r\n",
    "model.add(Dense(n_class))\r\n",
    "model.add(Activation('softmax'))\r\n"
   ],
   "outputs": [],
   "metadata": {}
  },
  {
   "cell_type": "code",
   "execution_count": 26,
   "source": [
    "# 신경망 모형 구조 확인\r\n",
    "model.summary()"
   ],
   "outputs": [
    {
     "output_type": "stream",
     "name": "stdout",
     "text": [
      "Model: \"sequential_2\"\n",
      "_________________________________________________________________\n",
      "Layer (type)                 Output Shape              Param #   \n",
      "=================================================================\n",
      "dense_2 (Dense)              (None, 20)                280       \n",
      "_________________________________________________________________\n",
      "batch_normalization_2 (Batch (None, 20)                80        \n",
      "_________________________________________________________________\n",
      "activation_4 (Activation)    (None, 20)                0         \n",
      "_________________________________________________________________\n",
      "dense_3 (Dense)              (None, 3)                 63        \n",
      "_________________________________________________________________\n",
      "activation_5 (Activation)    (None, 3)                 0         \n",
      "=================================================================\n",
      "Total params: 423\n",
      "Trainable params: 383\n",
      "Non-trainable params: 40\n",
      "_________________________________________________________________\n"
     ]
    }
   ],
   "metadata": {}
  },
  {
   "cell_type": "code",
   "execution_count": 28,
   "source": [
    "# 모형 컴파일\r\n",
    "model.compile(loss='categorical_crossentropy', \r\n",
    "              optimizer='adam', \r\n",
    "              metrics=['accuracy'])"
   ],
   "outputs": [],
   "metadata": {}
  },
  {
   "cell_type": "code",
   "execution_count": 30,
   "source": [
    "hist = model.fit(X_tn, y_tn, epochs=epo, batch_size=5)"
   ],
   "outputs": [
    {
     "output_type": "stream",
     "name": "stdout",
     "text": [
      "Train on 133 samples\n",
      "Epoch 1/30\n",
      "133/133 [==============================] - 0s 324us/sample - loss: 0.4570 - accuracy: 0.8120\n",
      "Epoch 2/30\n",
      "133/133 [==============================] - 0s 257us/sample - loss: 0.3712 - accuracy: 0.8571\n",
      "Epoch 3/30\n",
      "133/133 [==============================] - 0s 279us/sample - loss: 0.4248 - accuracy: 0.8571\n",
      "Epoch 4/30\n",
      "133/133 [==============================] - 0s 309us/sample - loss: 0.4184 - accuracy: 0.8346\n",
      "Epoch 5/30\n",
      "133/133 [==============================] - 0s 270us/sample - loss: 0.3859 - accuracy: 0.8797\n",
      "Epoch 6/30\n",
      "133/133 [==============================] - 0s 301us/sample - loss: 0.3821 - accuracy: 0.9023\n",
      "Epoch 7/30\n",
      "133/133 [==============================] - 0s 293us/sample - loss: 0.4172 - accuracy: 0.8797\n",
      "Epoch 8/30\n",
      "133/133 [==============================] - 0s 263us/sample - loss: 0.3183 - accuracy: 0.8797\n",
      "Epoch 9/30\n",
      "133/133 [==============================] - 0s 241us/sample - loss: 0.3324 - accuracy: 0.8647\n",
      "Epoch 10/30\n",
      "133/133 [==============================] - 0s 248us/sample - loss: 0.3932 - accuracy: 0.8496\n",
      "Epoch 11/30\n",
      "133/133 [==============================] - 0s 233us/sample - loss: 0.4888 - accuracy: 0.8346\n",
      "Epoch 12/30\n",
      "133/133 [==============================] - 0s 248us/sample - loss: 0.3467 - accuracy: 0.8797\n",
      "Epoch 13/30\n",
      "133/133 [==============================] - 0s 248us/sample - loss: 0.4425 - accuracy: 0.8722\n",
      "Epoch 14/30\n",
      "133/133 [==============================] - 0s 263us/sample - loss: 0.4072 - accuracy: 0.8571\n",
      "Epoch 15/30\n",
      "133/133 [==============================] - 0s 234us/sample - loss: 0.4768 - accuracy: 0.8421\n",
      "Epoch 16/30\n",
      "133/133 [==============================] - 0s 233us/sample - loss: 0.3585 - accuracy: 0.8947\n",
      "Epoch 17/30\n",
      "133/133 [==============================] - 0s 248us/sample - loss: 0.3926 - accuracy: 0.8797\n",
      "Epoch 18/30\n",
      "133/133 [==============================] - 0s 241us/sample - loss: 0.3458 - accuracy: 0.8797\n",
      "Epoch 19/30\n",
      "133/133 [==============================] - 0s 248us/sample - loss: 0.3694 - accuracy: 0.8797\n",
      "Epoch 20/30\n",
      "133/133 [==============================] - 0s 241us/sample - loss: 0.3669 - accuracy: 0.8271\n",
      "Epoch 21/30\n",
      "133/133 [==============================] - 0s 248us/sample - loss: 0.4100 - accuracy: 0.8496\n",
      "Epoch 22/30\n",
      "133/133 [==============================] - 0s 249us/sample - loss: 0.3827 - accuracy: 0.8797\n",
      "Epoch 23/30\n",
      "133/133 [==============================] - 0s 248us/sample - loss: 0.3950 - accuracy: 0.8797\n",
      "Epoch 24/30\n",
      "133/133 [==============================] - 0s 271us/sample - loss: 0.4224 - accuracy: 0.8421\n",
      "Epoch 25/30\n",
      "133/133 [==============================] - 0s 278us/sample - loss: 0.3018 - accuracy: 0.8797\n",
      "Epoch 26/30\n",
      "133/133 [==============================] - 0s 271us/sample - loss: 0.4425 - accuracy: 0.8271\n",
      "Epoch 27/30\n",
      "133/133 [==============================] - 0s 255us/sample - loss: 0.2789 - accuracy: 0.9173\n",
      "Epoch 28/30\n",
      "133/133 [==============================] - 0s 248us/sample - loss: 0.4549 - accuracy: 0.8496\n",
      "Epoch 29/30\n",
      "133/133 [==============================] - 0s 241us/sample - loss: 0.3488 - accuracy: 0.8947\n",
      "Epoch 30/30\n",
      "133/133 [==============================] - 0s 233us/sample - loss: 0.3370 - accuracy: 0.9023\n"
     ]
    }
   ],
   "metadata": {}
  },
  {
   "cell_type": "code",
   "execution_count": 31,
   "source": [
    "print(model.evaluate(X_tn, y_tn)[1])\r\n",
    "print(model.evaluate(X_te, y_te)[1])"
   ],
   "outputs": [
    {
     "output_type": "stream",
     "name": "stdout",
     "text": [
      "133/1 [======================================================================================================================================================================================================================================================================================================================================================================================================================================================================================================================================================================================================================================================================================================================================================================================================================================================================================================================================================================================================================================================================================================================================================================================================================================================================================================================================================================================================================================================================================================================================================================================================================================================================================================================================================================================================================================================================================================================================================================================================================================================================================================================================================================================================================================================================================================================================================================================================================================================================================================================================================================================================================================================================================================================================================================================================================================================================================================================================================================================================================================================================================================================================================================================================================================================================================================================================================================================================================================================================================================================================================================================================================================================================================================================================================================================================================================================================================================================================================================================================================================================================================================================================================] - 0s 586us/sample - loss: 0.1233 - accuracy: 0.9474\n",
      "0.94736844\n",
      "45/1 [======================================================================================================================================================================================================================================================================================================================================================================================================================================================================================================================================================================================================================================================================================================================================================================================================================================================================================================================================================================================================================================================================================================================================================================================================================================================================================================================================================================================================] - 0s 89us/sample - loss: 0.2140 - accuracy: 0.9111\n",
      "0.9111111\n"
     ]
    }
   ],
   "metadata": {}
  },
  {
   "cell_type": "code",
   "execution_count": 32,
   "source": [
    "import numpy as np\r\n",
    "epoch = np.arange(1,epo+1)\r\n",
    "print(epoch)"
   ],
   "outputs": [
    {
     "output_type": "stream",
     "name": "stdout",
     "text": [
      "[ 1  2  3  4  5  6  7  8  9 10 11 12 13 14 15 16 17 18 19 20 21 22 23 24\n",
      " 25 26 27 28 29 30]\n"
     ]
    }
   ],
   "metadata": {}
  },
  {
   "cell_type": "code",
   "execution_count": 33,
   "source": [
    "accuracy = hist.history['accuracy']\r\n",
    "print(accuracy)"
   ],
   "outputs": [
    {
     "output_type": "stream",
     "name": "stdout",
     "text": [
      "[0.8120301, 0.85714287, 0.85714287, 0.83458644, 0.87969923, 0.90225565, 0.87969923, 0.87969923, 0.86466163, 0.84962404, 0.83458644, 0.87969923, 0.87218046, 0.85714287, 0.84210527, 0.8947368, 0.87969923, 0.87969923, 0.87969923, 0.8270677, 0.84962404, 0.87969923, 0.87969923, 0.84210527, 0.87969923, 0.8270677, 0.91729325, 0.84962404, 0.8947368, 0.90225565]\n"
     ]
    }
   ],
   "metadata": {}
  },
  {
   "cell_type": "code",
   "execution_count": 35,
   "source": [
    "loss = hist.history['loss']\r\n",
    "print(loss)"
   ],
   "outputs": [
    {
     "output_type": "stream",
     "name": "stdout",
     "text": [
      "[0.45698476414707373, 0.3711805210861945, 0.4247902704584867, 0.41841212413588863, 0.38593225343559023, 0.3820974953416595, 0.4172213974976002, 0.31831573022711546, 0.332350909653911, 0.39324652846146346, 0.4887622427335359, 0.3467030454342975, 0.4424947115935777, 0.40718244525947067, 0.4768432863896951, 0.3584521709752262, 0.39263297404561726, 0.3457662169086306, 0.36940443095632064, 0.36687443780719786, 0.4100465475952715, 0.3827207221236444, 0.3950215321790455, 0.42237521915283416, 0.3017784261837938, 0.442486074297948, 0.2789015433561981, 0.4548566404141878, 0.3487536773869866, 0.33701861694567187]\n"
     ]
    }
   ],
   "metadata": {}
  },
  {
   "cell_type": "code",
   "execution_count": 36,
   "source": [
    "# 정확도 학습 그래프\r\n",
    "import matplotlib.pyplot as plt\r\n",
    "plt.plot(epoch, accuracy, label='accuracy')\r\n",
    "plt.xlabel('epoch')\r\n",
    "plt.ylabel('accuracy')\r\n",
    "plt.legend()\r\n",
    "plt.show()"
   ],
   "outputs": [
    {
     "output_type": "display_data",
     "data": {
      "text/plain": [
       "<Figure size 432x288 with 1 Axes>"
      ],
      "image/png": "[encoded data removed]"
     },
     "metadata": {
      "needs_background": "light"
     }
    }
   ],
   "metadata": {}
  },
  {
   "cell_type": "code",
   "execution_count": 37,
   "source": [
    "# 손실 그래프\r\n",
    "import matplotlib.pyplot as plt\r\n",
    "plt.plot(epoch, loss, 'r', label='loss')\r\n",
    "plt.xlabel('epoch')\r\n",
    "plt.ylabel('loss')\r\n",
    "plt.legend()\r\n",
    "plt.show()"
   ],
   "outputs": [
    {
     "output_type": "display_data",
     "data": {
      "text/plain": [
       "<Figure size 432x288 with 1 Axes>"
      ],
      "image/png": "[encoded data removed]"
     },
     "metadata": {
      "needs_background": "light"
     }
    }
   ],
   "metadata": {}
  },
  {
   "cell_type": "code",
   "execution_count": null,
   "source": [],
   "outputs": [],
   "metadata": {}
  }
 ],
 "metadata": {
  "orig_nbformat": 4,
  "language_info": {
   "name": "python",
   "version": "3.7.6",
   "mimetype": "text/x-python",
   "codemirror_mode": {
    "name": "ipython",
    "version": 3
   },
   "pygments_lexer": "ipython3",
   "nbconvert_exporter": "python",
   "file_extension": ".py"
  },
  "kernelspec": {
   "name": "python3",
   "display_name": "Python 3.7.6 64-bit ('py3_7_6': conda)"
  },
  "interpreter": {
   "hash": "0c27090090f508e4883836458afaa8253b2ac5af7b12b60af14ac7c2616a5b0c"
  }
 },
 "nbformat": 4,
 "nbformat_minor": 2
}