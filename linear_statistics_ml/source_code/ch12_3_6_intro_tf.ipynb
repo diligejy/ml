{
 "cells": [
  {
   "cell_type": "markdown",
   "source": [
    "## Sequential API"
   ],
   "metadata": {}
  },
  {
   "cell_type": "code",
   "execution_count": 1,
   "source": [
    "from tensorflow.keras.models import Sequential\r\n",
    "from tensorflow.keras.layers import Dense\r\n",
    "\r\n",
    "model = Sequential()\r\n",
    "model.add(Dense(100, activation='relu', input_shape=(32, 32, 1)))\r\n",
    "model.add(Dense(50, activation='relu'))\r\n",
    "model.add(Dense(5, activation='softmax'))\r\n",
    "model.summary()"
   ],
   "outputs": [
    {
     "output_type": "stream",
     "name": "stdout",
     "text": [
      "Model: \"sequential\"\n",
      "_________________________________________________________________\n",
      "Layer (type)                 Output Shape              Param #   \n",
      "=================================================================\n",
      "dense (Dense)                (None, 32, 32, 100)       200       \n",
      "_________________________________________________________________\n",
      "dense_1 (Dense)              (None, 32, 32, 50)        5050      \n",
      "_________________________________________________________________\n",
      "dense_2 (Dense)              (None, 32, 32, 5)         255       \n",
      "=================================================================\n",
      "Total params: 5,505\n",
      "Trainable params: 5,505\n",
      "Non-trainable params: 0\n",
      "_________________________________________________________________\n"
     ]
    }
   ],
   "metadata": {}
  },
  {
   "cell_type": "markdown",
   "source": [
    "---"
   ],
   "metadata": {}
  },
  {
   "cell_type": "markdown",
   "source": [
    "## 함수형 API"
   ],
   "metadata": {}
  },
  {
   "cell_type": "code",
   "execution_count": 3,
   "source": [
    "from tensorflow.keras.layers import Input, Dense\r\n",
    "from tensorflow.keras.models import Model\r\n",
    "\r\n",
    "input_layer = Input(shape=(32, 32, 1))\r\n",
    "x = Dense(units=100, activation='relu')(input_layer)\r\n",
    "x = Dense(units=50, activation='relu')(x)\r\n",
    "output_layer = Dense(units=5, activation='softmax')(x)\r\n",
    "model2 = Model(input_layer, output_layer)\r\n",
    "model2.summary()"
   ],
   "outputs": [
    {
     "output_type": "stream",
     "name": "stdout",
     "text": [
      "Model: \"model\"\n",
      "_________________________________________________________________\n",
      "Layer (type)                 Output Shape              Param #   \n",
      "=================================================================\n",
      "input_1 (InputLayer)         [(None, 32, 32, 1)]       0         \n",
      "_________________________________________________________________\n",
      "dense_3 (Dense)              (None, 32, 32, 100)       200       \n",
      "_________________________________________________________________\n",
      "dense_4 (Dense)              (None, 32, 32, 50)        5050      \n",
      "_________________________________________________________________\n",
      "dense_5 (Dense)              (None, 32, 32, 5)         255       \n",
      "=================================================================\n",
      "Total params: 5,505\n",
      "Trainable params: 5,505\n",
      "Non-trainable params: 0\n",
      "_________________________________________________________________\n"
     ]
    }
   ],
   "metadata": {}
  },
  {
   "cell_type": "code",
   "execution_count": null,
   "source": [],
   "outputs": [],
   "metadata": {}
  }
 ],
 "metadata": {
  "orig_nbformat": 4,
  "language_info": {
   "name": "python",
   "version": "3.7.6",
   "mimetype": "text/x-python",
   "codemirror_mode": {
    "name": "ipython",
    "version": 3
   },
   "pygments_lexer": "ipython3",
   "nbconvert_exporter": "python",
   "file_extension": ".py"
  },
  "kernelspec": {
   "name": "python3",
   "display_name": "Python 3.7.6 64-bit ('py3_7_6': conda)"
  },
  "interpreter": {
   "hash": "0c27090090f508e4883836458afaa8253b2ac5af7b12b60af14ac7c2616a5b0c"
  }
 },
 "nbformat": 4,
 "nbformat_minor": 2
}